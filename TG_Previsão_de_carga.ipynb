{
  "nbformat": 4,
  "nbformat_minor": 0,
  "metadata": {
    "colab": {
      "name": "TG - Previsão de carga.ipynb",
      "provenance": [],
      "collapsed_sections": [],
      "mount_file_id": "1tKdnCBr9Sb-FvQo5-uQIYk_agexd7ngo",
      "authorship_tag": "ABX9TyP98uOpaOwpEyGNY4siMnKh",
      "include_colab_link": true
    },
    "kernelspec": {
      "name": "python3",
      "display_name": "Python 3"
    }
  },
  "cells": [
    {
      "cell_type": "markdown",
      "metadata": {
        "id": "view-in-github",
        "colab_type": "text"
      },
      "source": [
        "<a href=\"https://colab.research.google.com/github/Abonvicine/ESTUDOS---Gerais/blob/main/TG_Previs%C3%A3o_de_carga.ipynb\" target=\"_parent\"><img src=\"https://colab.research.google.com/assets/colab-badge.svg\" alt=\"Open In Colab\"/></a>"
      ]
    },
    {
      "cell_type": "code",
      "metadata": {
        "id": "q-fX4gB8cJuR"
      },
      "source": [
        "from tensorflow import keras\r\n",
        "from keras.models import Sequential \r\n",
        "from keras.layers import Dense, Dropout, LSTM\r\n",
        "from keras.callbacks import EarlyStopping, ReduceLROnPlateau, ModelCheckpoint\r\n",
        "from sklearn.preprocessing import MinMaxScaler, StandardScaler, OneHotEncoder\r\n",
        "from datetime import date\r\n",
        "\r\n",
        "import tensorflow as tf\r\n",
        "import pandas as pd\r\n",
        "import time\r\n",
        "import numpy as np\r\n",
        "import matplotlib.pyplot as plt\r\n",
        "import os"
      ],
      "execution_count": 2,
      "outputs": []
    },
    {
      "cell_type": "code",
      "metadata": {
        "id": "a4USAxSSBxlH"
      },
      "source": [
        "%tensorflow_version 2.x\r\n",
        "import tensorflow as tf\r\n",
        "print(\"Tensorflow version \" + tf.__version__)\r\n",
        "\r\n",
        "try:\r\n",
        "  tpu = tf.distribute.cluster_resolver.TPUClusterResolver()  # TPU detection\r\n",
        "  print('Running on TPU ', tpu.cluster_spec().as_dict()['worker'])\r\n",
        "except ValueError:\r\n",
        "  raise BaseException('ERROR: Not connected to a TPU runtime; please see the previous cell in this notebook for instructions!')\r\n",
        "\r\n",
        "tf.config.experimental_connect_to_cluster(tpu)\r\n",
        "tf.tpu.experimental.initialize_tpu_system(tpu)\r\n",
        "tpu_strategy = tf.distribute.experimental.TPUStrategy(tpu)"
      ],
      "execution_count": null,
      "outputs": []
    },
    {
      "cell_type": "code",
      "metadata": {
        "id": "RG3u80XzNQ4s"
      },
      "source": [
        "hoje = date.today()\r\n",
        "diaSemana = hoje.weekday()\r\n",
        "hoje = str(hoje)"
      ],
      "execution_count": 3,
      "outputs": []
    },
    {
      "cell_type": "code",
      "metadata": {
        "id": "usANetWmbY9Q",
        "colab": {
          "base_uri": "https://localhost:8080/"
        },
        "outputId": "16ae78e4-4518-4f76-d07e-1f210ccdc115"
      },
      "source": [
        "baseDIR = \"/content/drive/MyDrive/TG/DADOS SUDESTE\"\r\n",
        "os.listdir(baseDIR)"
      ],
      "execution_count": 4,
      "outputs": [
        {
          "output_type": "execute_result",
          "data": {
            "text/plain": [
              "['SECO_2021-01-27_CARGAHIST.csv',\n",
              " 'SECO_2021-01-27_TEMPHIST.csv',\n",
              " 'SECO_2021-01-27_FERIADOS.csv',\n",
              " 'SECO_2021-01-27_SEPARADOR.csv',\n",
              " 'SECO_2021-01-27_HORAVERAO.csv',\n",
              " 'SECO_2021-01-27_PATAMARES.csv',\n",
              " 'SECO_2021-01-27_HORIZONTE.csv',\n",
              " 'SECO_2021-01-27_TEMPPREV.csv',\n",
              " 'SECO_2021-01-27_COMBINA.csv']"
            ]
          },
          "metadata": {
            "tags": []
          },
          "execution_count": 4
        }
      ]
    },
    {
      "cell_type": "code",
      "metadata": {
        "id": "ML08mQFoccSS"
      },
      "source": [
        "historicoCarga = pd.read_csv(os.path.join(baseDIR,'SECO_2021-01-27_CARGAHIST.csv'),sep=\";\",decimal=\",\")\r\n",
        "historicoTemperatura = pd.read_csv(os.path.join(baseDIR,'SECO_2021-01-27_TEMPHIST.csv'),sep=\";\",decimal=\",\")"
      ],
      "execution_count": 5,
      "outputs": []
    },
    {
      "cell_type": "code",
      "metadata": {
        "id": "l9BIfwnyzIbs"
      },
      "source": [
        "def basePreprocessing(carga,temperatura):\r\n",
        "    dataset = carga.merge(temperatura)\r\n",
        "    dataset = dataset.drop([\"Min\"], axis = 1 )\r\n",
        "    dataset = dataset.rename({'Ano': 'Year', 'Mes': 'Month',\"Dia\":\"Day\"}, axis=1)\r\n",
        "    dataset[\"Date\"] = pd.to_datetime(dataset[[\"Year\",\"Month\",\"Day\"]])\r\n",
        "    dataset[\"Weekday\"] = dataset[\"Date\"].dt.dayofweek\r\n",
        "\r\n",
        "    dataset[\"Carga_Var\"] = dataset[\"Carga\"].pct_change()\r\n",
        "    dataset[\"Temp_Var\"] = dataset[\"Temperatura\"].pct_change()\r\n",
        "\r\n",
        "    dataset[\"Carga D-1\"] = dataset[\"Carga\"].shift(1, axis = 0)\r\n",
        "    dataset = dataset.iloc[1:]\r\n",
        "\r\n",
        "    correlation = dataset[\"Carga\"].corr(dataset[\"Temperatura\"])\r\n",
        "\r\n",
        "    return dataset, correlation\r\n",
        "\r\n",
        "def baseNormalizer(dataset, normalizer, normalize_fit = True):\r\n",
        "    \r\n",
        "    normalizadorCarga = normalizer\r\n",
        "    normalizadorTemp = normalizer\r\n",
        "\r\n",
        "    if normalize_fit:\r\n",
        "        dataset[[\"Carga\"]] = normalizadorCarga.fit_transform(dataset[[\"Carga\"]])\r\n",
        "        dataset[[\"Carga D-1\"]] = normalizadorCarga.transform(dataset[[\"Carga D-1\"]])\r\n",
        "        dataset[[\"Temperatura\"]] = normalizadorTemp.fit_transform(dataset[[\"Temperatura\"]])\r\n",
        "\r\n",
        "    dummies = pd.get_dummies(dataset[\"Weekday\"],prefix=\"Dia\")\r\n",
        "    dataset = dataset.join(dummies)\r\n",
        "    dataset = dataset.drop([\"Date\",\"Weekday\"], axis = 1 )\r\n",
        "    dataset = dataset.dropna()\r\n",
        "\r\n",
        "    return dataset , normalizadorCarga, normalizadorTemp"
      ],
      "execution_count": 6,
      "outputs": []
    },
    {
      "cell_type": "code",
      "metadata": {
        "id": "JnGBf-Qh14KK"
      },
      "source": [
        "historico, correlation = basePreprocessing(historicoCarga,historicoTemperatura)\r\n",
        "historico, normalizadorCarga, normalizadorTemp = baseNormalizer(historico,StandardScaler())\r\n",
        "historico = historico.dropna()\r\n",
        "\r\n",
        "cols = [  \r\n",
        "    'Year',\r\n",
        "    'Month',\r\n",
        "    'Day',\r\n",
        "    'Hora',\r\n",
        "    'Carga',\r\n",
        "    'Carga D-1',\r\n",
        "    'Temperatura',\r\n",
        "    'Carga_Var',\r\n",
        "    'Temp_Var',\r\n",
        "    'Dia_0',\r\n",
        "    'Dia_1',\r\n",
        "    'Dia_2',\r\n",
        "    'Dia_3',\r\n",
        "    'Dia_4',\r\n",
        "    'Dia_5',\r\n",
        "    'Dia_6']\r\n",
        "\r\n",
        "historico = historico[cols]\r\n",
        "base = historico.values\r\n",
        "historico.describe().transpose()"
      ],
      "execution_count": null,
      "outputs": []
    },
    {
      "cell_type": "code",
      "metadata": {
        "id": "02J-S4PfyWeI"
      },
      "source": [
        "plt.hist2d(historico['Carga'], historico['Temperatura'], bins=(50, 50), vmax=400)\r\n",
        "\r\n",
        "plt.colorbar()\r\n",
        "plt.xlabel('Carga [MWm]')\r\n",
        "plt.ylabel('Temperatura [°C]')"
      ],
      "execution_count": null,
      "outputs": []
    },
    {
      "cell_type": "code",
      "metadata": {
        "colab": {
          "base_uri": "https://localhost:8080/",
          "height": 283
        },
        "id": "TNvqiJKY0D7b",
        "outputId": "0fe203a5-9994-4f5c-ebc3-e1d15ff7f784"
      },
      "source": [
        "fft = tf.signal.rfft(historico['Temperatura'])\r\n",
        "f_per_dataset = np.arange(0, len(fft))\r\n",
        "n_samples_h = len(historico['Temperatura'])\r\n",
        "hours_per_year = 24*365.2524\r\n",
        "years_per_dataset = n_samples_h/(hours_per_year)\r\n",
        "\r\n",
        "f_per_year = f_per_dataset/years_per_dataset\r\n",
        "plt.step(f_per_year, np.abs(fft))\r\n",
        "\r\n",
        "plt.xscale('log')\r\n",
        "plt.ylim(0, 40000)\r\n",
        "plt.xlim([0.1, max(plt.xlim())])\r\n",
        "plt.xticks([1, 365.2524], labels=['1/Year', '1/day'])\r\n",
        "_ = plt.xlabel('Frequency (log scale)')"
      ],
      "execution_count": 29,
      "outputs": [
        {
          "output_type": "display_data",
          "data": {
            "image/png": "[encoded data removed]",
            "text/plain": [
              "<Figure size 432x288 with 1 Axes>"
            ]
          },
          "metadata": {
            "tags": [],
            "needs_background": "light"
          }
        }
      ]
    },
    {
      "cell_type": "code",
      "metadata": {
        "colab": {
          "base_uri": "https://localhost:8080/"
        },
        "id": "4KDHds0xh3JO",
        "outputId": "b3b5909d-9f9f-4db0-c570-f3d5208ae6a7"
      },
      "source": [
        "print(f\"A correlação é {round(correlation,4)}\")"
      ],
      "execution_count": null,
      "outputs": [
        {
          "output_type": "stream",
          "text": [
            "A correlação é 0.6494\n"
          ],
          "name": "stdout"
        }
      ]
    },
    {
      "cell_type": "code",
      "metadata": {
        "id": "EeL1PthTzb1m"
      },
      "source": [
        "plt.figure(figsize=(15, 8))\r\n",
        "axes = plt.gca()\r\n",
        "axes.set_xlim(0,720)\r\n",
        "\r\n",
        "plt.plot(historico[\"Temperatura\"])\r\n",
        "plt.plot(historico[\"Carga\"])"
      ],
      "execution_count": null,
      "outputs": []
    },
    {
      "cell_type": "code",
      "metadata": {
        "colab": {
          "base_uri": "https://localhost:8080/"
        },
        "id": "z9cNqq6wTNxw",
        "outputId": "b2939414-b652-4977-cdb2-e4357ce15f4a"
      },
      "source": [
        "Xdataset = historico[['Carga','Carga D-1','Temperatura','Dia_1','Dia_2','Dia_3','Dia_4','Dia_5','Dia_6']]\r\n",
        "Ydataset = historico[['Carga']]\r\n",
        "\r\n",
        "n = len(historico)\r\n",
        "\r\n",
        "base_X = Xdataset\r\n",
        "base_Y = Ydataset\r\n",
        "\r\n",
        "dias= 30\r\n",
        "\r\n",
        "print(f'Tamanho original da base X = {base_X.shape}, Y = {base_Y.shape}')\r\n",
        "\r\n",
        "x_train = Xdataset[0:int(n*0.7)]\r\n",
        "y_train = Ydataset[0:int(n*0.7)]\r\n",
        "\r\n",
        "x_valid = Xdataset[int(n*0.7):int(n*0.9)]\r\n",
        "y_valid = Ydataset[int(n*0.7):int(n*0.9)]\r\n",
        "\r\n",
        "x_test = Xdataset[int(n*0.9):]\r\n",
        "y_test = Ydataset[int(n*0.9):]\r\n",
        "\r\n",
        "num_features = historico.shape[1]\r\n",
        "\r\n",
        "print(f'    formato dados de treino X = {x_train.shape}, Y = {y_train.shape}')\r\n",
        "print(f'    formato dados de validação X = {x_valid.shape}, Y = {y_valid.shape}')\r\n",
        "print(f'    formato dados de teste X = {x_test.shape}, Y = {y_test.shape}')"
      ],
      "execution_count": 74,
      "outputs": [
        {
          "output_type": "stream",
          "text": [
            "Tamanho original da base X = (61983, 9), Y = (61983, 1)\n",
            "    formato dados de treino X = (43388, 9), Y = (43388, 1)\n",
            "    formato dados de validação X = (12396, 9), Y = (12396, 1)\n",
            "    formato dados de teste X = (6199, 9), Y = (6199, 1)\n"
          ],
          "name": "stdout"
        }
      ]
    },
    {
      "cell_type": "code",
      "metadata": {
        "id": "Z_vTe8m_96mX"
      },
      "source": [
        "class WindowGenerator():\r\n",
        "  def __init__(self, input_width, label_width, shift,\r\n",
        "               train_df = x_train, val_df=x_valid , test_df=x_test,\r\n",
        "               label_columns=None):\r\n",
        "    # Store the raw data.\r\n",
        "    self.train_df = train_df\r\n",
        "    self.val_df = val_df\r\n",
        "    self.test_df = test_df\r\n",
        "\r\n",
        "    # Work out the label column indices.\r\n",
        "    self.label_columns = label_columns\r\n",
        "    if label_columns is not None:\r\n",
        "      self.label_columns_indices = {name: i for i, name in\r\n",
        "                                    enumerate(label_columns)}\r\n",
        "    self.column_indices = {name: i for i, name in\r\n",
        "                           enumerate(train_df.columns)}\r\n",
        "\r\n",
        "    # Work out the window parameters.\r\n",
        "    self.input_width = input_width\r\n",
        "    self.label_width = label_width\r\n",
        "    self.shift = shift\r\n",
        "\r\n",
        "    self.total_window_size = input_width + shift\r\n",
        "\r\n",
        "    self.input_slice = slice(0, input_width)\r\n",
        "    self.input_indices = np.arange(self.total_window_size)[self.input_slice]\r\n",
        "\r\n",
        "    self.label_start = self.total_window_size - self.label_width\r\n",
        "    self.labels_slice = slice(self.label_start, None)\r\n",
        "    self.label_indices = np.arange(self.total_window_size)[self.labels_slice]\r\n",
        "\r\n",
        "  def __repr__(self):\r\n",
        "    return '\\n'.join([\r\n",
        "        f'Total window size: {self.total_window_size}',\r\n",
        "        f'Input indices: {self.input_indices}',\r\n",
        "        f'Label indices: {self.label_indices}',\r\n",
        "        f'Label column name(s): {self.label_columns}'])"
      ],
      "execution_count": 75,
      "outputs": []
    },
    {
      "cell_type": "code",
      "metadata": {
        "id": "BtUjijzy-7Cs"
      },
      "source": [
        "w2 = WindowGenerator(input_width=6, label_width=1, shift=1,\r\n",
        "                     label_columns=['Carga'])\r\n"
      ],
      "execution_count": 76,
      "outputs": []
    },
    {
      "cell_type": "code",
      "metadata": {
        "id": "7RPxqXZRBDvo"
      },
      "source": [
        "def split_window(self, features):\r\n",
        "  inputs = features[:, self.input_slice, :]\r\n",
        "  labels = features[:, self.labels_slice, :]\r\n",
        "  if self.label_columns is not None:\r\n",
        "    labels = tf.stack(\r\n",
        "        [labels[:, :, self.column_indices[name]] for name in self.label_columns],\r\n",
        "        axis=-1)\r\n",
        "\r\n",
        "  # Slicing doesn't preserve static shape information, so set the shapes\r\n",
        "  # manually. This way the `tf.data.Datasets` are easier to inspect.\r\n",
        "  inputs.set_shape([None, self.input_width, None])\r\n",
        "  labels.set_shape([None, self.label_width, None])\r\n",
        "\r\n",
        "  return inputs, labels\r\n",
        "\r\n",
        "WindowGenerator.split_window = split_window"
      ],
      "execution_count": 77,
      "outputs": []
    },
    {
      "cell_type": "code",
      "metadata": {
        "id": "J9lVKlrtDV9U"
      },
      "source": [
        "dir(WindowGenerator)"
      ],
      "execution_count": null,
      "outputs": []
    },
    {
      "cell_type": "code",
      "metadata": {
        "colab": {
          "base_uri": "https://localhost:8080/"
        },
        "id": "v_liK21yBbQA",
        "outputId": "9119baab-9d4b-4ac1-c668-3bd49d31833b"
      },
      "source": [
        "# Stack three slices, the length of the total window:\r\n",
        "example_window = tf.stack([np.array(x_train[:w2.total_window_size]),\r\n",
        "                           np.array(x_train[100:100+w2.total_window_size]),\r\n",
        "                           np.array(x_train[200:200+w2.total_window_size])])\r\n",
        "\r\n",
        "\r\n",
        "example_inputs, example_labels = w2.split_window(example_window)\r\n",
        "\r\n",
        "print('All shapes are: (batch, time, features)')\r\n",
        "print(f'Window shape: {example_window.shape}')\r\n",
        "print(f'Inputs shape: {example_inputs.shape}')\r\n",
        "print(f'labels shape: {example_labels.shape}')"
      ],
      "execution_count": 78,
      "outputs": [
        {
          "output_type": "stream",
          "text": [
            "All shapes are: (batch, time, features)\n",
            "Window shape: (3, 7, 9)\n",
            "Inputs shape: (3, 6, 9)\n",
            "labels shape: (3, 1, 1)\n"
          ],
          "name": "stdout"
        }
      ]
    },
    {
      "cell_type": "code",
      "metadata": {
        "id": "W_9U9EVHSPic"
      },
      "source": [
        "def windowed_dataset(series, window_size, batch_size, shuffle_buffer):\r\n",
        "    series = tf.expand_dims(series, axis=-1)\r\n",
        "    ds = tf.data.Dataset.from_tensor_slices(series)\r\n",
        "    ds = ds.window(window_size + 1, shift=1, drop_remainder=True)\r\n",
        "    ds = ds.flat_map(lambda w: w.batch(window_size + 1))\r\n",
        "    ds = ds.shuffle(shuffle_buffer)\r\n",
        "    ds = ds.map(lambda w: (w[:-1], w[1:]))\r\n",
        "    return ds.batch(batch_size).prefetch(1)"
      ],
      "execution_count": null,
      "outputs": []
    },
    {
      "cell_type": "code",
      "metadata": {
        "id": "RIQQ55brSSOT"
      },
      "source": [
        "def model_forecast(model, series, window_size):\r\n",
        "    ds = tf.data.Dataset.from_tensor_slices(series)\r\n",
        "    ds = ds.window(window_size, shift=1, drop_remainder=True)\r\n",
        "    ds = ds.flat_map(lambda w: w.batch(window_size))\r\n",
        "    ds = ds.batch(32).prefetch(1)\r\n",
        "    forecast = model.predict(ds)\r\n",
        "    return forecast"
      ],
      "execution_count": null,
      "outputs": []
    },
    {
      "cell_type": "code",
      "metadata": {
        "id": "9Yc_SYC2GaJd"
      },
      "source": [
        "w2.example = example_inputs, example_labels"
      ],
      "execution_count": 79,
      "outputs": []
    },
    {
      "cell_type": "code",
      "metadata": {
        "id": "XuHqccbOGboI"
      },
      "source": [
        "def plot(self, model=None, plot_col='Carga', max_subplots=3):\r\n",
        "  inputs, labels = self.example\r\n",
        "  plt.figure(figsize=(12, 8))\r\n",
        "  plot_col_index = self.column_indices[plot_col]\r\n",
        "  max_n = min(max_subplots, len(inputs))\r\n",
        "  for n in range(max_n):\r\n",
        "    plt.subplot(3, 1, n+1)\r\n",
        "    plt.ylabel(f'{plot_col} [normed]')\r\n",
        "    plt.plot(self.input_indices, inputs[n, :, plot_col_index],\r\n",
        "             label='Inputs', marker='.', zorder=-10)\r\n",
        "\r\n",
        "    if self.label_columns:\r\n",
        "      label_col_index = self.label_columns_indices.get(plot_col, None)\r\n",
        "    else:\r\n",
        "      label_col_index = plot_col_index\r\n",
        "\r\n",
        "    if label_col_index is None:\r\n",
        "      continue\r\n",
        "\r\n",
        "    plt.scatter(self.label_indices, labels[n, :, label_col_index],\r\n",
        "                edgecolors='k', label='Labels', c='#2ca02c', s=64)\r\n",
        "    if model is not None:\r\n",
        "      predictions = model(inputs)\r\n",
        "      plt.scatter(self.label_indices, predictions[n, :, label_col_index],\r\n",
        "                  marker='X', edgecolors='k', label='Predictions',\r\n",
        "                  c='#ff7f0e', s=64)\r\n",
        "\r\n",
        "    if n == 0:\r\n",
        "      plt.legend()\r\n",
        "\r\n",
        "  plt.xlabel('Carga')\r\n",
        "\r\n",
        "WindowGenerator.plot = plot"
      ],
      "execution_count": 84,
      "outputs": []
    },
    {
      "cell_type": "code",
      "metadata": {
        "colab": {
          "base_uri": "https://localhost:8080/",
          "height": 497
        },
        "id": "Fsxur5wAGhyt",
        "outputId": "c6deb77e-8b1c-48f3-ea65-45b070f65d29"
      },
      "source": [
        "w2.plot()"
      ],
      "execution_count": 85,
      "outputs": [
        {
          "output_type": "display_data",
          "data": {
            "image/png": "[encoded data removed]",
            "text/plain": [
              "<Figure size 864x576 with 3 Axes>"
            ]
          },
          "metadata": {
            "tags": [],
            "needs_background": "light"
          }
        }
      ]
    },
    {
      "cell_type": "code",
      "metadata": {
        "id": "-dHx0Ld7G90z"
      },
      "source": [
        "def make_dataset(self, data):\r\n",
        "  data = np.array(data, dtype=np.float32)\r\n",
        "  ds = tf.keras.preprocessing.timeseries_dataset_from_array(\r\n",
        "      data=data,\r\n",
        "      targets=None,\r\n",
        "      sequence_length=self.total_window_size,\r\n",
        "      sequence_stride=1,\r\n",
        "      shuffle=True,\r\n",
        "      batch_size=32,)\r\n",
        "\r\n",
        "  ds = ds.map(self.split_window)\r\n",
        "\r\n",
        "  return ds\r\n",
        "\r\n",
        "WindowGenerator.make_dataset = make_dataset"
      ],
      "execution_count": 86,
      "outputs": []
    },
    {
      "cell_type": "code",
      "metadata": {
        "id": "kqmlzWLvkcbG"
      },
      "source": [
        "window_size = 24*diasAnteriores\r\n",
        "batch_size = 32\r\n",
        "shuffle_buffer_size = 1000"
      ],
      "execution_count": null,
      "outputs": []
    },
    {
      "cell_type": "code",
      "metadata": {
        "colab": {
          "base_uri": "https://localhost:8080/"
        },
        "id": "GEMuOA5GYzvd",
        "outputId": "9a23736c-938f-44c0-b063-309473525282"
      },
      "source": [
        "train_set = windowed_dataset(x_train, diasAnteriores,batch_size,shuffle_buffer_size)\r\n",
        "print(train_set)"
      ],
      "execution_count": null,
      "outputs": [
        {
          "output_type": "stream",
          "text": [
            "<PrefetchDataset shapes: ((None, None, 8, 1), (None, None, 8, 1)), types: (tf.float64, tf.float64)>\n"
          ],
          "name": "stdout"
        }
      ]
    },
    {
      "cell_type": "code",
      "metadata": {
        "id": "flVyssR0tUbx"
      },
      "source": [
        "def createModel():\r\n",
        "    model = Sequential()\r\n",
        "\r\n",
        "    model.add(LSTM(units = 100, return_sequences = True,input_shape = (previsores.shape[1],9)))\r\n",
        "    model.add(Dropout(0.5))\r\n",
        "\r\n",
        "    # model.add(LSTM(units = 50, return_sequences = True))\r\n",
        "    # model.add(Dropout(0.3))\r\n",
        "\r\n",
        "    model.add(LSTM(units = 30))\r\n",
        "    model.add(Dropout(0.5))\r\n",
        "\r\n",
        "    model.add(Dense(units = 1, activation= \"linear\"))\r\n",
        "\r\n",
        "    model.compile(optimizer = \"adam\", loss = \"mean_squared_error\", metrics = [\"mean_absolute_error\"])\r\n",
        "\r\n",
        "    return model"
      ],
      "execution_count": null,
      "outputs": []
    },
    {
      "cell_type": "code",
      "metadata": {
        "id": "pvfTKM54tu9L"
      },
      "source": [
        "es = EarlyStopping(monitor = \"loss\", min_delta = 1e-10, patience = 10, verbose = 1)\r\n",
        "rlr = ReduceLROnPlateau(monitor = \"loss\", factor = 0.2, patience = 5, verbose = 1)\r\n",
        "mcp = ModelCheckpoint(filepath=f\"pesos-{hoje}.h5\", monitor = \"loss\", save_best_only = True, verbose=1)"
      ],
      "execution_count": null,
      "outputs": []
    },
    {
      "cell_type": "code",
      "metadata": {
        "id": "hsCegQcZIaXA",
        "colab": {
          "base_uri": "https://localhost:8080/"
        },
        "outputId": "be77d6bf-f920-4e9a-ee7f-cad90927efd1"
      },
      "source": [
        "with tpu_strategy.scope(): # creating the model in the TPUStrategy scope means we will train the model on the TPU\r\n",
        "  model = createModel()\r\n",
        "model.summary()"
      ],
      "execution_count": null,
      "outputs": [
        {
          "output_type": "stream",
          "text": [
            "Model: \"sequential\"\n",
            "_________________________________________________________________\n",
            "Layer (type)                 Output Shape              Param #   \n",
            "=================================================================\n",
            "lstm (LSTM)                  (None, 720, 100)          44000     \n",
            "_________________________________________________________________\n",
            "dropout (Dropout)            (None, 720, 100)          0         \n",
            "_________________________________________________________________\n",
            "lstm_1 (LSTM)                (None, 30)                15720     \n",
            "_________________________________________________________________\n",
            "dropout_1 (Dropout)          (None, 30)                0         \n",
            "_________________________________________________________________\n",
            "dense (Dense)                (None, 1)                 31        \n",
            "=================================================================\n",
            "Total params: 59,751\n",
            "Trainable params: 59,751\n",
            "Non-trainable params: 0\n",
            "_________________________________________________________________\n"
          ],
          "name": "stdout"
        }
      ]
    },
    {
      "cell_type": "code",
      "metadata": {
        "id": "Wln0vX91uweT"
      },
      "source": [
        "model.fit(previsores, valorReal, epochs = 100, batch_size = 32, callbacks=[es,rlr,mcp])"
      ],
      "execution_count": null,
      "outputs": []
    },
    {
      "cell_type": "markdown",
      "metadata": {
        "id": "mIvuOGY_3WNX"
      },
      "source": [
        "# Teste e Validação\r\n"
      ]
    },
    {
      "cell_type": "code",
      "metadata": {
        "id": "yOKfB_bHQqBC"
      },
      "source": [
        "model = keras.models.load_model('/content/pesos-2021-02-10.h5') # carrega modelo pré-treinado (OPCIONAL)"
      ],
      "execution_count": null,
      "outputs": []
    },
    {
      "cell_type": "code",
      "metadata": {
        "id": "7Ug-vt9FR4Jd",
        "colab": {
          "base_uri": "https://localhost:8080/"
        },
        "outputId": "386c82cb-a673-4ea2-a7ed-3d7972d52d3e"
      },
      "source": [
        "model.summary()"
      ],
      "execution_count": null,
      "outputs": [
        {
          "output_type": "stream",
          "text": [
            "Model: \"sequential\"\n",
            "_________________________________________________________________\n",
            "Layer (type)                 Output Shape              Param #   \n",
            "=================================================================\n",
            "lstm (LSTM)                  (None, 720, 100)          44000     \n",
            "_________________________________________________________________\n",
            "dropout (Dropout)            (None, 720, 100)          0         \n",
            "_________________________________________________________________\n",
            "lstm_1 (LSTM)                (None, 30)                15720     \n",
            "_________________________________________________________________\n",
            "dropout_1 (Dropout)          (None, 30)                0         \n",
            "_________________________________________________________________\n",
            "dense (Dense)                (None, 1)                 31        \n",
            "=================================================================\n",
            "Total params: 59,751\n",
            "Trainable params: 59,751\n",
            "Non-trainable params: 0\n",
            "_________________________________________________________________\n"
          ],
          "name": "stdout"
        }
      ]
    },
    {
      "cell_type": "code",
      "metadata": {
        "id": "zKD7RDzrNfl0"
      },
      "source": [
        "testeDIR = \"/content/drive/MyDrive/TG/TESTE\" "
      ],
      "execution_count": null,
      "outputs": []
    },
    {
      "cell_type": "code",
      "metadata": {
        "id": "S9rOzJmNNdpZ"
      },
      "source": [
        "historicoCargaTeste = pd.read_csv(os.path.join(testeDIR,'SECO_2021-02-28_CARGAHIST.csv'),sep=\";\",decimal=\",\")\r\n",
        "historicoTemperaturaTeste = pd.read_csv(os.path.join(testeDIR,'SECO_2021-02-28_TEMPHIST.csv'),sep=\";\",decimal=\",\")"
      ],
      "execution_count": null,
      "outputs": []
    },
    {
      "cell_type": "code",
      "metadata": {
        "id": "fDtpzDwR2gWa"
      },
      "source": [
        "historicoTeste = basePreprocessing(historicoCargaTeste, historicoTemperaturaTeste)\r\n",
        "\r\n",
        "historicoTeste, _ , _ = baseNormalizer(historicoTeste,\r\n",
        "                                        StandardScaler(),\r\n",
        "                                        normalize_fit=True)\r\n",
        "\r\n",
        "valorRealTeste = historicoTeste.iloc[:, 4].values\r\n",
        "valorRealTeste"
      ],
      "execution_count": null,
      "outputs": []
    },
    {
      "cell_type": "code",
      "metadata": {
        "id": "sC_fdDol_XEs"
      },
      "source": [
        "historicoTeste[[\"Carga\"]] = normalizadorCarga.fit_transform(historicoTeste[[\"Carga\"]])\r\n",
        "historicoTeste[[\"Temperatura\"]] = normalizadorTemp.fit_transform(historicoTeste[[\"Temperatura\"]])\r\n",
        "historicoTeste"
      ],
      "execution_count": null,
      "outputs": []
    },
    {
      "cell_type": "code",
      "metadata": {
        "id": "ZYtF1SKjOSq0",
        "colab": {
          "base_uri": "https://localhost:8080/"
        },
        "outputId": "19b16f3a-0094-45ff-e969-5730b77a288f"
      },
      "source": [
        "entradas = historicoTeste.values\r\n",
        "entradas.shape"
      ],
      "execution_count": null,
      "outputs": [
        {
          "output_type": "execute_result",
          "data": {
            "text/plain": [
              "(62753, 13)"
            ]
          },
          "metadata": {
            "tags": []
          },
          "execution_count": 20
        }
      ]
    },
    {
      "cell_type": "code",
      "metadata": {
        "id": "-RgNTn9YQ2VS"
      },
      "source": [
        "X_teste = []\r\n",
        "Y_teste = []\r\n",
        "for i in range(len(entradas) - diasAnteriores,len(entradas)):\r\n",
        "    cargaTeste = entradas[(i - diasAnteriores):i,4]\r\n",
        "    cargaVerificada = entradas[i,4]\r\n",
        "    tempTeste = entradas[(i+1 - diasAnteriores):i+1,5]\r\n",
        "    vetorDiaSemana = entradas[(i+1 - diasAnteriores):i+1,6:]\r\n",
        "    \r\n",
        "    batchTeste = np.column_stack((cargaTeste,tempTeste,vetorDiaSemana))\r\n",
        "\r\n",
        "    X_teste.append(batchTeste)\r\n",
        "    Y_teste.append(cargaVerificada)\r\n",
        "    \r\n",
        "X_teste = np.array(X_teste)\r\n",
        "Y_teste = np.array(Y_teste)\r\n",
        "print(X_teste.shape)\r\n",
        "print(Y_teste.shape)"
      ],
      "execution_count": null,
      "outputs": []
    },
    {
      "cell_type": "code",
      "metadata": {
        "id": "eSwc4cBnUHeS"
      },
      "source": [
        "previsoes = model.predict(X_teste)"
      ],
      "execution_count": null,
      "outputs": []
    },
    {
      "cell_type": "code",
      "metadata": {
        "id": "fw4mPYf3VH9N"
      },
      "source": [
        "previsoes = normalizadorCarga.inverse_transform(previsoes)\r\n",
        "previsores"
      ],
      "execution_count": null,
      "outputs": []
    },
    {
      "cell_type": "code",
      "metadata": {
        "id": "OR_iuZWcV5ou",
        "colab": {
          "base_uri": "https://localhost:8080/"
        },
        "outputId": "ead6292f-353d-42cc-e2d4-87b7b77b9069"
      },
      "source": [
        "loss = tf.keras.losses.mean_absolute_percentage_error(Y_teste, previsoes[:,0]).numpy()\r\n",
        "loss"
      ],
      "execution_count": null,
      "outputs": [
        {
          "output_type": "execute_result",
          "data": {
            "text/plain": [
              "156.34515"
            ]
          },
          "metadata": {
            "tags": []
          },
          "execution_count": 47
        }
      ]
    },
    {
      "cell_type": "code",
      "metadata": {
        "id": "9fYj7Gdyvnpd"
      },
      "source": [
        "previsoes"
      ],
      "execution_count": null,
      "outputs": []
    },
    {
      "cell_type": "code",
      "metadata": {
        "id": "5Hh84rNUVMHI",
        "colab": {
          "base_uri": "https://localhost:8080/",
          "height": 295
        },
        "outputId": "9b205dc2-1a83-4709-fda6-1ba7bf83fc9f"
      },
      "source": [
        "axes = plt.gca()\r\n",
        "axes.set_xlim(696,720)\r\n",
        "plt.plot(Y_teste[:], color = \"black\", label = \"Carga Real Verificada\")\r\n",
        "plt.plot(previsoes[:], color = \"red\", label = \"Previsão Modelo Rede Neural\")\r\n",
        "plt.title(\"Carga semanal - SUDESTE\")\r\n",
        "plt.xlabel(\"Tempo [Horas]\")\r\n",
        "plt.ylabel(\"\")\r\n",
        "plt.legend()\r\n",
        "plt.show()"
      ],
      "execution_count": null,
      "outputs": [
        {
          "output_type": "display_data",
          "data": {
            "image/png": "[encoded data removed]",
            "text/plain": [
              "<Figure size 432x288 with 1 Axes>"
            ]
          },
          "metadata": {
            "tags": [],
            "needs_background": "light"
          }
        }
      ]
    }
  ]
}