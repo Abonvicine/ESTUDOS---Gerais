{
  "nbformat": 4,
  "nbformat_minor": 0,
  "metadata": {
    "colab": {
      "name": "TG - Previsão de carga.ipynb",
      "provenance": [],
      "mount_file_id": "1tKdnCBr9Sb-FvQo5-uQIYk_agexd7ngo",
      "authorship_tag": "ABX9TyOjXr7tSbA3W22NxjBmZ11V",
      "include_colab_link": true
    },
    "kernelspec": {
      "name": "python3",
      "display_name": "Python 3"
    },
    "accelerator": "GPU"
  },
  "cells": [
    {
      "cell_type": "markdown",
      "metadata": {
        "id": "view-in-github",
        "colab_type": "text"
      },
      "source": [
        "<a href=\"https://colab.research.google.com/github/Abonvicine/ESTUDOS---Gerais/blob/main/TG_Previs%C3%A3o_de_carga.ipynb\" target=\"_parent\"><img src=\"https://colab.research.google.com/assets/colab-badge.svg\" alt=\"Open In Colab\"/></a>"
      ]
    },
    {
      "cell_type": "code",
      "metadata": {
        "id": "q-fX4gB8cJuR"
      },
      "source": [
        "from keras.models import Sequential \r\n",
        "from keras.layers import Dense, Dropout, LSTM\r\n",
        "from keras.callbacks import EarlyStopping, ReduceLROnPlateau, ModelCheckpoint\r\n",
        "from sklearn.preprocessing import MinMaxScaler, StandardScaler\r\n",
        "\r\n",
        "import pandas as pd\r\n",
        "import numpy as np\r\n",
        "import matplotlib.pyplot as plt\r\n",
        "import os"
      ],
      "execution_count": 1,
      "outputs": []
    },
    {
      "cell_type": "code",
      "metadata": {
        "id": "usANetWmbY9Q"
      },
      "source": [
        "baseDIR = \"/content/drive/MyDrive/TG/DADOS SUDESTE\""
      ],
      "execution_count": 2,
      "outputs": []
    },
    {
      "cell_type": "code",
      "metadata": {
        "colab": {
          "base_uri": "https://localhost:8080/"
        },
        "id": "x4muxjYjeS35",
        "outputId": "4641334d-0a11-4bbb-e859-fb3dd649034d"
      },
      "source": [
        "os.listdir(baseDIR)"
      ],
      "execution_count": 3,
      "outputs": [
        {
          "output_type": "execute_result",
          "data": {
            "text/plain": [
              "['SECO_2021-01-27_CARGAHIST.csv',\n",
              " 'SECO_2021-01-27_TEMPHIST.csv',\n",
              " 'SECO_2021-01-27_FERIADOS.csv',\n",
              " 'SECO_2021-01-27_SEPARADOR.csv',\n",
              " 'SECO_2021-01-27_HORAVERAO.csv',\n",
              " 'SECO_2021-01-27_PATAMARES.csv',\n",
              " 'SECO_2021-01-27_HORIZONTE.csv',\n",
              " 'SECO_2021-01-27_TEMPPREV.csv',\n",
              " 'SECO_2021-01-27_COMBINA.csv']"
            ]
          },
          "metadata": {
            "tags": []
          },
          "execution_count": 3
        }
      ]
    },
    {
      "cell_type": "code",
      "metadata": {
        "id": "ML08mQFoccSS"
      },
      "source": [
        "historicoCarga = pd.read_csv(os.path.join(baseDIR,'SECO_2021-01-27_CARGAHIST.csv'),sep=\";\",decimal=\",\")\r\n",
        "historicoTemperatura = pd.read_csv(os.path.join(baseDIR,'SECO_2021-01-27_TEMPHIST.csv'),sep=\";\",decimal=\",\")"
      ],
      "execution_count": 4,
      "outputs": []
    },
    {
      "cell_type": "code",
      "metadata": {
        "colab": {
          "base_uri": "https://localhost:8080/",
          "height": 419
        },
        "id": "zehrevfIlPIx",
        "outputId": "a45188b9-6b16-4b16-fa26-a7ba20ecd5d2"
      },
      "source": [
        "historico = historicoCarga.merge(historicoTemperatura)\r\n",
        "historico = historico.drop([\"Min\"], axis = 1 )\r\n",
        "historico"
      ],
      "execution_count": 5,
      "outputs": [
        {
          "output_type": "execute_result",
          "data": {
            "text/html": [
              "<div>\n",
              "<style scoped>\n",
              "    .dataframe tbody tr th:only-of-type {\n",
              "        vertical-align: middle;\n",
              "    }\n",
              "\n",
              "    .dataframe tbody tr th {\n",
              "        vertical-align: top;\n",
              "    }\n",
              "\n",
              "    .dataframe thead th {\n",
              "        text-align: right;\n",
              "    }\n",
              "</style>\n",
              "<table border=\"1\" class=\"dataframe\">\n",
              "  <thead>\n",
              "    <tr style=\"text-align: right;\">\n",
              "      <th></th>\n",
              "      <th>Ano</th>\n",
              "      <th>Mes</th>\n",
              "      <th>Dia</th>\n",
              "      <th>Hora</th>\n",
              "      <th>Carga</th>\n",
              "      <th>Temperatura</th>\n",
              "    </tr>\n",
              "  </thead>\n",
              "  <tbody>\n",
              "    <tr>\n",
              "      <th>0</th>\n",
              "      <td>2014</td>\n",
              "      <td>1</td>\n",
              "      <td>1</td>\n",
              "      <td>1</td>\n",
              "      <td>31681.2</td>\n",
              "      <td>24.648</td>\n",
              "    </tr>\n",
              "    <tr>\n",
              "      <th>1</th>\n",
              "      <td>2014</td>\n",
              "      <td>1</td>\n",
              "      <td>1</td>\n",
              "      <td>2</td>\n",
              "      <td>31475.9</td>\n",
              "      <td>24.530</td>\n",
              "    </tr>\n",
              "    <tr>\n",
              "      <th>2</th>\n",
              "      <td>2014</td>\n",
              "      <td>1</td>\n",
              "      <td>1</td>\n",
              "      <td>3</td>\n",
              "      <td>30848.3</td>\n",
              "      <td>23.857</td>\n",
              "    </tr>\n",
              "    <tr>\n",
              "      <th>3</th>\n",
              "      <td>2014</td>\n",
              "      <td>1</td>\n",
              "      <td>1</td>\n",
              "      <td>4</td>\n",
              "      <td>29885.6</td>\n",
              "      <td>23.857</td>\n",
              "    </tr>\n",
              "    <tr>\n",
              "      <th>4</th>\n",
              "      <td>2014</td>\n",
              "      <td>1</td>\n",
              "      <td>1</td>\n",
              "      <td>5</td>\n",
              "      <td>29157.3</td>\n",
              "      <td>23.759</td>\n",
              "    </tr>\n",
              "    <tr>\n",
              "      <th>...</th>\n",
              "      <td>...</td>\n",
              "      <td>...</td>\n",
              "      <td>...</td>\n",
              "      <td>...</td>\n",
              "      <td>...</td>\n",
              "      <td>...</td>\n",
              "    </tr>\n",
              "    <tr>\n",
              "      <th>61986</th>\n",
              "      <td>2021</td>\n",
              "      <td>1</td>\n",
              "      <td>26</td>\n",
              "      <td>19</td>\n",
              "      <td>44932.8</td>\n",
              "      <td>27.639</td>\n",
              "    </tr>\n",
              "    <tr>\n",
              "      <th>61987</th>\n",
              "      <td>2021</td>\n",
              "      <td>1</td>\n",
              "      <td>26</td>\n",
              "      <td>20</td>\n",
              "      <td>47868.2</td>\n",
              "      <td>26.278</td>\n",
              "    </tr>\n",
              "    <tr>\n",
              "      <th>61988</th>\n",
              "      <td>2021</td>\n",
              "      <td>1</td>\n",
              "      <td>26</td>\n",
              "      <td>21</td>\n",
              "      <td>48407.8</td>\n",
              "      <td>25.949</td>\n",
              "    </tr>\n",
              "    <tr>\n",
              "      <th>61989</th>\n",
              "      <td>2021</td>\n",
              "      <td>1</td>\n",
              "      <td>26</td>\n",
              "      <td>22</td>\n",
              "      <td>48234.6</td>\n",
              "      <td>25.507</td>\n",
              "    </tr>\n",
              "    <tr>\n",
              "      <th>61990</th>\n",
              "      <td>2021</td>\n",
              "      <td>1</td>\n",
              "      <td>26</td>\n",
              "      <td>23</td>\n",
              "      <td>46777.5</td>\n",
              "      <td>24.945</td>\n",
              "    </tr>\n",
              "  </tbody>\n",
              "</table>\n",
              "<p>61991 rows × 6 columns</p>\n",
              "</div>"
            ],
            "text/plain": [
              "        Ano  Mes  Dia  Hora    Carga  Temperatura\n",
              "0      2014    1    1     1  31681.2       24.648\n",
              "1      2014    1    1     2  31475.9       24.530\n",
              "2      2014    1    1     3  30848.3       23.857\n",
              "3      2014    1    1     4  29885.6       23.857\n",
              "4      2014    1    1     5  29157.3       23.759\n",
              "...     ...  ...  ...   ...      ...          ...\n",
              "61986  2021    1   26    19  44932.8       27.639\n",
              "61987  2021    1   26    20  47868.2       26.278\n",
              "61988  2021    1   26    21  48407.8       25.949\n",
              "61989  2021    1   26    22  48234.6       25.507\n",
              "61990  2021    1   26    23  46777.5       24.945\n",
              "\n",
              "[61991 rows x 6 columns]"
            ]
          },
          "metadata": {
            "tags": []
          },
          "execution_count": 5
        }
      ]
    },
    {
      "cell_type": "code",
      "metadata": {
        "id": "7UkAj4qGn8zq"
      },
      "source": [
        "normalizador = MinMaxScaler( feature_range=(0,1))\r\n",
        "# normalizador = StandardScaler()\r\n",
        "historico[[\"Carga\", \"Temperatura\"]] = normalizador.fit_transform(historico[[\"Carga\", \"Temperatura\"]])\r\n",
        "historico = historico.dropna()"
      ],
      "execution_count": 24,
      "outputs": []
    },
    {
      "cell_type": "code",
      "metadata": {
        "colab": {
          "base_uri": "https://localhost:8080/",
          "height": 282
        },
        "id": "EeL1PthTzb1m",
        "outputId": "862ac9aa-deb1-4516-fb05-0b50cb7a3e73"
      },
      "source": [
        "plt.plot(historico[\"Carga\"])"
      ],
      "execution_count": 41,
      "outputs": [
        {
          "output_type": "execute_result",
          "data": {
            "text/plain": [
              "[<matplotlib.lines.Line2D at 0x7fb5e3627828>]"
            ]
          },
          "metadata": {
            "tags": []
          },
          "execution_count": 41
        },
        {
          "output_type": "display_data",
          "data": {
            "image/png": "[encoded data removed]",
            "text/plain": [
              "<Figure size 432x288 with 1 Axes>"
            ]
          },
          "metadata": {
            "tags": [],
            "needs_background": "light"
          }
        }
      ]
    },
    {
      "cell_type": "code",
      "metadata": {
        "id": "wkMOvAoAsz-q"
      },
      "source": [
        "base = historico.values"
      ],
      "execution_count": 26,
      "outputs": []
    },
    {
      "cell_type": "code",
      "metadata": {
        "id": "pfyI3gG8m4T5"
      },
      "source": [
        "diasAnteriores = 30*24"
      ],
      "execution_count": 43,
      "outputs": []
    },
    {
      "cell_type": "code",
      "metadata": {
        "colab": {
          "base_uri": "https://localhost:8080/"
        },
        "id": "hYD5p1OAnDpS",
        "outputId": "0ce5e92f-c50b-4420-a924-5beacd019932"
      },
      "source": [
        "previsores = []\r\n",
        "valorReal = []\r\n",
        "\r\n",
        "for i in range(diasAnteriores,len(base)):\r\n",
        "    previsores.append(base[i - diasAnteriores:i, 4:6])\r\n",
        "    valorReal.append(base[i, 4:6])\r\n",
        "\r\n",
        "previsores, valorReal = np.array(previsores), np.array(valorReal)\r\n",
        "previsores.shape"
      ],
      "execution_count": 45,
      "outputs": [
        {
          "output_type": "execute_result",
          "data": {
            "text/plain": [
              "(61265, 720, 2)"
            ]
          },
          "metadata": {
            "tags": []
          },
          "execution_count": 45
        }
      ]
    },
    {
      "cell_type": "code",
      "metadata": {
        "id": "flVyssR0tUbx"
      },
      "source": [
        "model = Sequential()\r\n",
        "\r\n",
        "model.add(LSTM(units=100, return_sequences = True,input_shape = (previsores.shape[1],2)))\r\n",
        "model.add(Dropout(0.3))\r\n",
        "\r\n",
        "# model.add(LSTM(units = 50, return_sequences = True))\r\n",
        "# model.add(Dropout(0.3))\r\n",
        "\r\n",
        "# model.add(LSTM(units = 50, return_sequences = True))\r\n",
        "# model.add(Dropout(0.3))\r\n",
        "\r\n",
        "model.add(LSTM(units = 50))\r\n",
        "model.add(Dropout(0.3))\r\n",
        "\r\n",
        "model.add(Dense(units = 2, activation= \"sigmoid\"))\r\n",
        "\r\n",
        "model.compile(optimizer = \"adam\", loss = \"mean_squared_error\", metrics = [\"mean_absolute_error\"])\r\n",
        "\r\n",
        "es = EarlyStopping(monitor = \"loss\", min_delta = 1e-10, patience = 10, verbose = 1)\r\n",
        "rlr = ReduceLROnPlateau(monitor = \"loss\", factor = 0.2, patience = 5, verbose = 1)\r\n",
        "mcp = ModelCheckpoint(filepath=\"pesos.h5\", monitor = \"loss\", save_best_only = True, verbose=1)"
      ],
      "execution_count": 48,
      "outputs": []
    },
    {
      "cell_type": "code",
      "metadata": {
        "id": "Wln0vX91uweT"
      },
      "source": [
        "model.fit(previsores, valorReal, epochs = 100, batch_size = 32, callbacks=[es,rlr,mcp])"
      ],
      "execution_count": null,
      "outputs": []
    },
    {
      "cell_type": "code",
      "metadata": {
        "id": "zKD7RDzrNfl0"
      },
      "source": [
        "testeDIR = \"/content/drive/MyDrive/TG/TESTE\" "
      ],
      "execution_count": 50,
      "outputs": []
    },
    {
      "cell_type": "code",
      "metadata": {
        "id": "S9rOzJmNNdpZ"
      },
      "source": [
        "historicoCargaTeste = pd.read_csv(os.path.join(testeDIR,'SECO_2021-01-31_CARGAHIST.csv'),sep=\";\",decimal=\",\")\r\n",
        "historicoTemperaturaTeste = pd.read_csv(os.path.join(testeDIR,'SECO_2021-01-31_TEMPHIST.csv'),sep=\";\",decimal=\",\")"
      ],
      "execution_count": 52,
      "outputs": []
    },
    {
      "cell_type": "code",
      "metadata": {
        "colab": {
          "base_uri": "https://localhost:8080/",
          "height": 419
        },
        "id": "ziQpUzUcNWI7",
        "outputId": "0245423c-8ae8-405c-e0a9-ad789c00d77d"
      },
      "source": [
        "historicoTeste = historicoCargaTeste.merge(historicoTemperaturaTeste)\r\n",
        "historicoTeste = historicoTeste.drop([\"Min\"], axis = 1 )\r\n",
        "historicoTeste"
      ],
      "execution_count": 59,
      "outputs": [
        {
          "output_type": "execute_result",
          "data": {
            "text/html": [
              "<div>\n",
              "<style scoped>\n",
              "    .dataframe tbody tr th:only-of-type {\n",
              "        vertical-align: middle;\n",
              "    }\n",
              "\n",
              "    .dataframe tbody tr th {\n",
              "        vertical-align: top;\n",
              "    }\n",
              "\n",
              "    .dataframe thead th {\n",
              "        text-align: right;\n",
              "    }\n",
              "</style>\n",
              "<table border=\"1\" class=\"dataframe\">\n",
              "  <thead>\n",
              "    <tr style=\"text-align: right;\">\n",
              "      <th></th>\n",
              "      <th>Ano</th>\n",
              "      <th>Mes</th>\n",
              "      <th>Dia</th>\n",
              "      <th>Hora</th>\n",
              "      <th>Carga</th>\n",
              "      <th>Temperatura</th>\n",
              "    </tr>\n",
              "  </thead>\n",
              "  <tbody>\n",
              "    <tr>\n",
              "      <th>0</th>\n",
              "      <td>2014</td>\n",
              "      <td>1</td>\n",
              "      <td>1</td>\n",
              "      <td>1</td>\n",
              "      <td>31681.2</td>\n",
              "      <td>24.648</td>\n",
              "    </tr>\n",
              "    <tr>\n",
              "      <th>1</th>\n",
              "      <td>2014</td>\n",
              "      <td>1</td>\n",
              "      <td>1</td>\n",
              "      <td>2</td>\n",
              "      <td>31475.9</td>\n",
              "      <td>24.530</td>\n",
              "    </tr>\n",
              "    <tr>\n",
              "      <th>2</th>\n",
              "      <td>2014</td>\n",
              "      <td>1</td>\n",
              "      <td>1</td>\n",
              "      <td>3</td>\n",
              "      <td>30848.3</td>\n",
              "      <td>23.857</td>\n",
              "    </tr>\n",
              "    <tr>\n",
              "      <th>3</th>\n",
              "      <td>2014</td>\n",
              "      <td>1</td>\n",
              "      <td>1</td>\n",
              "      <td>4</td>\n",
              "      <td>29885.6</td>\n",
              "      <td>23.857</td>\n",
              "    </tr>\n",
              "    <tr>\n",
              "      <th>4</th>\n",
              "      <td>2014</td>\n",
              "      <td>1</td>\n",
              "      <td>1</td>\n",
              "      <td>5</td>\n",
              "      <td>29157.3</td>\n",
              "      <td>23.759</td>\n",
              "    </tr>\n",
              "    <tr>\n",
              "      <th>...</th>\n",
              "      <td>...</td>\n",
              "      <td>...</td>\n",
              "      <td>...</td>\n",
              "      <td>...</td>\n",
              "      <td>...</td>\n",
              "      <td>...</td>\n",
              "    </tr>\n",
              "    <tr>\n",
              "      <th>62082</th>\n",
              "      <td>2021</td>\n",
              "      <td>1</td>\n",
              "      <td>30</td>\n",
              "      <td>19</td>\n",
              "      <td>44577.2</td>\n",
              "      <td>29.184</td>\n",
              "    </tr>\n",
              "    <tr>\n",
              "      <th>62083</th>\n",
              "      <td>2021</td>\n",
              "      <td>1</td>\n",
              "      <td>30</td>\n",
              "      <td>20</td>\n",
              "      <td>48057.6</td>\n",
              "      <td>28.052</td>\n",
              "    </tr>\n",
              "    <tr>\n",
              "      <th>62084</th>\n",
              "      <td>2021</td>\n",
              "      <td>1</td>\n",
              "      <td>30</td>\n",
              "      <td>21</td>\n",
              "      <td>47910.1</td>\n",
              "      <td>26.647</td>\n",
              "    </tr>\n",
              "    <tr>\n",
              "      <th>62085</th>\n",
              "      <td>2021</td>\n",
              "      <td>1</td>\n",
              "      <td>30</td>\n",
              "      <td>22</td>\n",
              "      <td>46934.1</td>\n",
              "      <td>25.682</td>\n",
              "    </tr>\n",
              "    <tr>\n",
              "      <th>62086</th>\n",
              "      <td>2021</td>\n",
              "      <td>1</td>\n",
              "      <td>30</td>\n",
              "      <td>23</td>\n",
              "      <td>45655.1</td>\n",
              "      <td>25.466</td>\n",
              "    </tr>\n",
              "  </tbody>\n",
              "</table>\n",
              "<p>62087 rows × 6 columns</p>\n",
              "</div>"
            ],
            "text/plain": [
              "        Ano  Mes  Dia  Hora    Carga  Temperatura\n",
              "0      2014    1    1     1  31681.2       24.648\n",
              "1      2014    1    1     2  31475.9       24.530\n",
              "2      2014    1    1     3  30848.3       23.857\n",
              "3      2014    1    1     4  29885.6       23.857\n",
              "4      2014    1    1     5  29157.3       23.759\n",
              "...     ...  ...  ...   ...      ...          ...\n",
              "62082  2021    1   30    19  44577.2       29.184\n",
              "62083  2021    1   30    20  48057.6       28.052\n",
              "62084  2021    1   30    21  47910.1       26.647\n",
              "62085  2021    1   30    22  46934.1       25.682\n",
              "62086  2021    1   30    23  45655.1       25.466\n",
              "\n",
              "[62087 rows x 6 columns]"
            ]
          },
          "metadata": {
            "tags": []
          },
          "execution_count": 59
        }
      ]
    },
    {
      "cell_type": "code",
      "metadata": {
        "id": "EGz5XOkVP310"
      },
      "source": [
        "historicoTeste[[\"Carga\", \"Temperatura\"]] = normalizador.fit_transform(historicoTeste[[\"Carga\", \"Temperatura\"]])"
      ],
      "execution_count": 67,
      "outputs": []
    },
    {
      "cell_type": "code",
      "metadata": {
        "colab": {
          "base_uri": "https://localhost:8080/",
          "height": 419
        },
        "id": "eQ99DgmrQImz",
        "outputId": "5545e01c-fc0a-48e6-ce43-c56b7793bbb3"
      },
      "source": [
        "historicoTeste"
      ],
      "execution_count": 68,
      "outputs": [
        {
          "output_type": "execute_result",
          "data": {
            "text/html": [
              "<div>\n",
              "<style scoped>\n",
              "    .dataframe tbody tr th:only-of-type {\n",
              "        vertical-align: middle;\n",
              "    }\n",
              "\n",
              "    .dataframe tbody tr th {\n",
              "        vertical-align: top;\n",
              "    }\n",
              "\n",
              "    .dataframe thead th {\n",
              "        text-align: right;\n",
              "    }\n",
              "</style>\n",
              "<table border=\"1\" class=\"dataframe\">\n",
              "  <thead>\n",
              "    <tr style=\"text-align: right;\">\n",
              "      <th></th>\n",
              "      <th>Ano</th>\n",
              "      <th>Mes</th>\n",
              "      <th>Dia</th>\n",
              "      <th>Hora</th>\n",
              "      <th>Carga</th>\n",
              "      <th>Temperatura</th>\n",
              "    </tr>\n",
              "  </thead>\n",
              "  <tbody>\n",
              "    <tr>\n",
              "      <th>0</th>\n",
              "      <td>2014</td>\n",
              "      <td>1</td>\n",
              "      <td>1</td>\n",
              "      <td>1</td>\n",
              "      <td>0.329023</td>\n",
              "      <td>0.623677</td>\n",
              "    </tr>\n",
              "    <tr>\n",
              "      <th>1</th>\n",
              "      <td>2014</td>\n",
              "      <td>1</td>\n",
              "      <td>1</td>\n",
              "      <td>2</td>\n",
              "      <td>0.322514</td>\n",
              "      <td>0.619916</td>\n",
              "    </tr>\n",
              "    <tr>\n",
              "      <th>2</th>\n",
              "      <td>2014</td>\n",
              "      <td>1</td>\n",
              "      <td>1</td>\n",
              "      <td>3</td>\n",
              "      <td>0.302616</td>\n",
              "      <td>0.598464</td>\n",
              "    </tr>\n",
              "    <tr>\n",
              "      <th>3</th>\n",
              "      <td>2014</td>\n",
              "      <td>1</td>\n",
              "      <td>1</td>\n",
              "      <td>4</td>\n",
              "      <td>0.272095</td>\n",
              "      <td>0.598464</td>\n",
              "    </tr>\n",
              "    <tr>\n",
              "      <th>4</th>\n",
              "      <td>2014</td>\n",
              "      <td>1</td>\n",
              "      <td>1</td>\n",
              "      <td>5</td>\n",
              "      <td>0.249004</td>\n",
              "      <td>0.595340</td>\n",
              "    </tr>\n",
              "    <tr>\n",
              "      <th>...</th>\n",
              "      <td>...</td>\n",
              "      <td>...</td>\n",
              "      <td>...</td>\n",
              "      <td>...</td>\n",
              "      <td>...</td>\n",
              "      <td>...</td>\n",
              "    </tr>\n",
              "    <tr>\n",
              "      <th>62082</th>\n",
              "      <td>2021</td>\n",
              "      <td>1</td>\n",
              "      <td>30</td>\n",
              "      <td>19</td>\n",
              "      <td>0.737879</td>\n",
              "      <td>0.768265</td>\n",
              "    </tr>\n",
              "    <tr>\n",
              "      <th>62083</th>\n",
              "      <td>2021</td>\n",
              "      <td>1</td>\n",
              "      <td>30</td>\n",
              "      <td>20</td>\n",
              "      <td>0.848223</td>\n",
              "      <td>0.732182</td>\n",
              "    </tr>\n",
              "    <tr>\n",
              "      <th>62084</th>\n",
              "      <td>2021</td>\n",
              "      <td>1</td>\n",
              "      <td>30</td>\n",
              "      <td>21</td>\n",
              "      <td>0.843546</td>\n",
              "      <td>0.687396</td>\n",
              "    </tr>\n",
              "    <tr>\n",
              "      <th>62085</th>\n",
              "      <td>2021</td>\n",
              "      <td>1</td>\n",
              "      <td>30</td>\n",
              "      <td>22</td>\n",
              "      <td>0.812603</td>\n",
              "      <td>0.656636</td>\n",
              "    </tr>\n",
              "    <tr>\n",
              "      <th>62086</th>\n",
              "      <td>2021</td>\n",
              "      <td>1</td>\n",
              "      <td>30</td>\n",
              "      <td>23</td>\n",
              "      <td>0.772053</td>\n",
              "      <td>0.649751</td>\n",
              "    </tr>\n",
              "  </tbody>\n",
              "</table>\n",
              "<p>62087 rows × 6 columns</p>\n",
              "</div>"
            ],
            "text/plain": [
              "        Ano  Mes  Dia  Hora     Carga  Temperatura\n",
              "0      2014    1    1     1  0.329023     0.623677\n",
              "1      2014    1    1     2  0.322514     0.619916\n",
              "2      2014    1    1     3  0.302616     0.598464\n",
              "3      2014    1    1     4  0.272095     0.598464\n",
              "4      2014    1    1     5  0.249004     0.595340\n",
              "...     ...  ...  ...   ...       ...          ...\n",
              "62082  2021    1   30    19  0.737879     0.768265\n",
              "62083  2021    1   30    20  0.848223     0.732182\n",
              "62084  2021    1   30    21  0.843546     0.687396\n",
              "62085  2021    1   30    22  0.812603     0.656636\n",
              "62086  2021    1   30    23  0.772053     0.649751\n",
              "\n",
              "[62087 rows x 6 columns]"
            ]
          },
          "metadata": {
            "tags": []
          },
          "execution_count": 68
        }
      ]
    },
    {
      "cell_type": "code",
      "metadata": {
        "colab": {
          "base_uri": "https://localhost:8080/"
        },
        "id": "ZYtF1SKjOSq0",
        "outputId": "9c29cf05-0126-428f-f3fb-31d19e16296d"
      },
      "source": [
        "entradas = historicoTeste[len(historicoTeste) - diasAnteriores:].values\r\n",
        "entradas.shape"
      ],
      "execution_count": 80,
      "outputs": [
        {
          "output_type": "execute_result",
          "data": {
            "text/plain": [
              "(720, 6)"
            ]
          },
          "metadata": {
            "tags": []
          },
          "execution_count": 80
        }
      ]
    },
    {
      "cell_type": "code",
      "metadata": {
        "colab": {
          "base_uri": "https://localhost:8080/"
        },
        "id": "-RgNTn9YQ2VS",
        "outputId": "ce33ae5c-e711-450a-fe81-482960e91947"
      },
      "source": [
        "X_teste = []\r\n",
        "\r\n",
        "for i in range(diasAnteriores,len(entradas)):\r\n",
        "    X_teste.append(entradas[i-diasAnteriores:i, 4:6])\r\n",
        "X_teste = np.array(X_teste)\r\n",
        "X_teste.shape"
      ],
      "execution_count": 79,
      "outputs": [
        {
          "output_type": "execute_result",
          "data": {
            "text/plain": [
              "(0,)"
            ]
          },
          "metadata": {
            "tags": []
          },
          "execution_count": 79
        }
      ]
    }
  ]
}