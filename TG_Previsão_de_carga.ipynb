{
  "nbformat": 4,
  "nbformat_minor": 0,
  "metadata": {
    "colab": {
      "name": "TG - Previsão de carga.ipynb",
      "provenance": [],
      "collapsed_sections": [],
      "mount_file_id": "1tKdnCBr9Sb-FvQo5-uQIYk_agexd7ngo",
      "authorship_tag": "ABX9TyMMypRuUMTfIqZrJlAc74pt",
      "include_colab_link": true
    },
    "kernelspec": {
      "name": "python3",
      "display_name": "Python 3"
    },
    "accelerator": "TPU"
  },
  "cells": [
    {
      "cell_type": "markdown",
      "metadata": {
        "id": "view-in-github",
        "colab_type": "text"
      },
      "source": [
        "<a href=\"https://colab.research.google.com/github/Abonvicine/ESTUDOS---Gerais/blob/main/TG_Previs%C3%A3o_de_carga.ipynb\" target=\"_parent\"><img src=\"https://colab.research.google.com/assets/colab-badge.svg\" alt=\"Open In Colab\"/></a>"
      ]
    },
    {
      "cell_type": "code",
      "metadata": {
        "id": "q-fX4gB8cJuR"
      },
      "source": [
        "from tensorflow import keras\r\n",
        "from keras.models import Sequential \r\n",
        "from keras.layers import Dense, Dropout, LSTM\r\n",
        "from keras.callbacks import EarlyStopping, ReduceLROnPlateau, ModelCheckpoint\r\n",
        "from sklearn.preprocessing import MinMaxScaler, StandardScaler, OneHotEncoder\r\n",
        "\r\n",
        "import datetime\r\n",
        "import IPython\r\n",
        "import tensorflow as tf\r\n",
        "import pandas as pd\r\n",
        "import time\r\n",
        "import numpy as np\r\n",
        "import matplotlib.pyplot as plt\r\n",
        "import seaborn as sns\r\n",
        "import os"
      ],
      "execution_count": null,
      "outputs": []
    },
    {
      "cell_type": "code",
      "metadata": {
        "id": "a4USAxSSBxlH",
        "colab": {
          "base_uri": "https://localhost:8080/"
        },
        "outputId": "403885b7-da80-4d73-8c11-fce2f81c10e3"
      },
      "source": [
        "%tensorflow_version 2.x\r\n",
        "import tensorflow as tf\r\n",
        "print(\"Tensorflow version \" + tf.__version__)\r\n",
        "\r\n",
        "try:\r\n",
        "  tpu = tf.distribute.cluster_resolver.TPUClusterResolver()  # TPU detection\r\n",
        "  print('Running on TPU ', tpu.cluster_spec().as_dict()['worker'])\r\n",
        "except ValueError:\r\n",
        "  raise BaseException('ERROR: Not connected to a TPU runtime; please see the previous cell in this notebook for instructions!')\r\n",
        "\r\n",
        "tf.config.experimental_connect_to_cluster(tpu)\r\n",
        "tf.tpu.experimental.initialize_tpu_system(tpu)\r\n",
        "tpu_strategy = tf.distribute.TPUStrategy(tpu)"
      ],
      "execution_count": null,
      "outputs": [
        {
          "output_type": "stream",
          "text": [
            "Tensorflow version 2.4.1\n",
            "Running on TPU  ['10.103.232.170:8470']\n",
            "WARNING:tensorflow:TPU system grpc://10.103.232.170:8470 has already been initialized. Reinitializing the TPU can cause previously created variables on TPU to be lost.\n"
          ],
          "name": "stdout"
        },
        {
          "output_type": "stream",
          "text": [
            "WARNING:tensorflow:TPU system grpc://10.103.232.170:8470 has already been initialized. Reinitializing the TPU can cause previously created variables on TPU to be lost.\n"
          ],
          "name": "stderr"
        },
        {
          "output_type": "stream",
          "text": [
            "INFO:tensorflow:Initializing the TPU system: grpc://10.103.232.170:8470\n"
          ],
          "name": "stdout"
        },
        {
          "output_type": "stream",
          "text": [
            "INFO:tensorflow:Initializing the TPU system: grpc://10.103.232.170:8470\n"
          ],
          "name": "stderr"
        },
        {
          "output_type": "stream",
          "text": [
            "INFO:tensorflow:Clearing out eager caches\n"
          ],
          "name": "stdout"
        },
        {
          "output_type": "stream",
          "text": [
            "INFO:tensorflow:Clearing out eager caches\n"
          ],
          "name": "stderr"
        },
        {
          "output_type": "stream",
          "text": [
            "INFO:tensorflow:Finished initializing TPU system.\n"
          ],
          "name": "stdout"
        },
        {
          "output_type": "stream",
          "text": [
            "INFO:tensorflow:Finished initializing TPU system.\n"
          ],
          "name": "stderr"
        },
        {
          "output_type": "stream",
          "text": [
            "INFO:tensorflow:Found TPU system:\n"
          ],
          "name": "stdout"
        },
        {
          "output_type": "stream",
          "text": [
            "INFO:tensorflow:Found TPU system:\n"
          ],
          "name": "stderr"
        },
        {
          "output_type": "stream",
          "text": [
            "INFO:tensorflow:*** Num TPU Cores: 8\n"
          ],
          "name": "stdout"
        },
        {
          "output_type": "stream",
          "text": [
            "INFO:tensorflow:*** Num TPU Cores: 8\n"
          ],
          "name": "stderr"
        },
        {
          "output_type": "stream",
          "text": [
            "INFO:tensorflow:*** Num TPU Workers: 1\n"
          ],
          "name": "stdout"
        },
        {
          "output_type": "stream",
          "text": [
            "INFO:tensorflow:*** Num TPU Workers: 1\n"
          ],
          "name": "stderr"
        },
        {
          "output_type": "stream",
          "text": [
            "INFO:tensorflow:*** Num TPU Cores Per Worker: 8\n"
          ],
          "name": "stdout"
        },
        {
          "output_type": "stream",
          "text": [
            "INFO:tensorflow:*** Num TPU Cores Per Worker: 8\n"
          ],
          "name": "stderr"
        },
        {
          "output_type": "stream",
          "text": [
            "INFO:tensorflow:*** Available Device: _DeviceAttributes(/job:localhost/replica:0/task:0/device:CPU:0, CPU, 0, 0)\n"
          ],
          "name": "stdout"
        },
        {
          "output_type": "stream",
          "text": [
            "INFO:tensorflow:*** Available Device: _DeviceAttributes(/job:localhost/replica:0/task:0/device:CPU:0, CPU, 0, 0)\n"
          ],
          "name": "stderr"
        },
        {
          "output_type": "stream",
          "text": [
            "INFO:tensorflow:*** Available Device: _DeviceAttributes(/job:worker/replica:0/task:0/device:CPU:0, CPU, 0, 0)\n"
          ],
          "name": "stdout"
        },
        {
          "output_type": "stream",
          "text": [
            "INFO:tensorflow:*** Available Device: _DeviceAttributes(/job:worker/replica:0/task:0/device:CPU:0, CPU, 0, 0)\n"
          ],
          "name": "stderr"
        },
        {
          "output_type": "stream",
          "text": [
            "INFO:tensorflow:*** Available Device: _DeviceAttributes(/job:worker/replica:0/task:0/device:TPU:0, TPU, 0, 0)\n"
          ],
          "name": "stdout"
        },
        {
          "output_type": "stream",
          "text": [
            "INFO:tensorflow:*** Available Device: _DeviceAttributes(/job:worker/replica:0/task:0/device:TPU:0, TPU, 0, 0)\n"
          ],
          "name": "stderr"
        },
        {
          "output_type": "stream",
          "text": [
            "INFO:tensorflow:*** Available Device: _DeviceAttributes(/job:worker/replica:0/task:0/device:TPU:1, TPU, 0, 0)\n"
          ],
          "name": "stdout"
        },
        {
          "output_type": "stream",
          "text": [
            "INFO:tensorflow:*** Available Device: _DeviceAttributes(/job:worker/replica:0/task:0/device:TPU:1, TPU, 0, 0)\n"
          ],
          "name": "stderr"
        },
        {
          "output_type": "stream",
          "text": [
            "INFO:tensorflow:*** Available Device: _DeviceAttributes(/job:worker/replica:0/task:0/device:TPU:2, TPU, 0, 0)\n"
          ],
          "name": "stdout"
        },
        {
          "output_type": "stream",
          "text": [
            "INFO:tensorflow:*** Available Device: _DeviceAttributes(/job:worker/replica:0/task:0/device:TPU:2, TPU, 0, 0)\n"
          ],
          "name": "stderr"
        },
        {
          "output_type": "stream",
          "text": [
            "INFO:tensorflow:*** Available Device: _DeviceAttributes(/job:worker/replica:0/task:0/device:TPU:3, TPU, 0, 0)\n"
          ],
          "name": "stdout"
        },
        {
          "output_type": "stream",
          "text": [
            "INFO:tensorflow:*** Available Device: _DeviceAttributes(/job:worker/replica:0/task:0/device:TPU:3, TPU, 0, 0)\n"
          ],
          "name": "stderr"
        },
        {
          "output_type": "stream",
          "text": [
            "INFO:tensorflow:*** Available Device: _DeviceAttributes(/job:worker/replica:0/task:0/device:TPU:4, TPU, 0, 0)\n"
          ],
          "name": "stdout"
        },
        {
          "output_type": "stream",
          "text": [
            "INFO:tensorflow:*** Available Device: _DeviceAttributes(/job:worker/replica:0/task:0/device:TPU:4, TPU, 0, 0)\n"
          ],
          "name": "stderr"
        },
        {
          "output_type": "stream",
          "text": [
            "INFO:tensorflow:*** Available Device: _DeviceAttributes(/job:worker/replica:0/task:0/device:TPU:5, TPU, 0, 0)\n"
          ],
          "name": "stdout"
        },
        {
          "output_type": "stream",
          "text": [
            "INFO:tensorflow:*** Available Device: _DeviceAttributes(/job:worker/replica:0/task:0/device:TPU:5, TPU, 0, 0)\n"
          ],
          "name": "stderr"
        },
        {
          "output_type": "stream",
          "text": [
            "INFO:tensorflow:*** Available Device: _DeviceAttributes(/job:worker/replica:0/task:0/device:TPU:6, TPU, 0, 0)\n"
          ],
          "name": "stdout"
        },
        {
          "output_type": "stream",
          "text": [
            "INFO:tensorflow:*** Available Device: _DeviceAttributes(/job:worker/replica:0/task:0/device:TPU:6, TPU, 0, 0)\n"
          ],
          "name": "stderr"
        },
        {
          "output_type": "stream",
          "text": [
            "INFO:tensorflow:*** Available Device: _DeviceAttributes(/job:worker/replica:0/task:0/device:TPU:7, TPU, 0, 0)\n"
          ],
          "name": "stdout"
        },
        {
          "output_type": "stream",
          "text": [
            "INFO:tensorflow:*** Available Device: _DeviceAttributes(/job:worker/replica:0/task:0/device:TPU:7, TPU, 0, 0)\n"
          ],
          "name": "stderr"
        },
        {
          "output_type": "stream",
          "text": [
            "INFO:tensorflow:*** Available Device: _DeviceAttributes(/job:worker/replica:0/task:0/device:TPU_SYSTEM:0, TPU_SYSTEM, 0, 0)\n"
          ],
          "name": "stdout"
        },
        {
          "output_type": "stream",
          "text": [
            "INFO:tensorflow:*** Available Device: _DeviceAttributes(/job:worker/replica:0/task:0/device:TPU_SYSTEM:0, TPU_SYSTEM, 0, 0)\n"
          ],
          "name": "stderr"
        },
        {
          "output_type": "stream",
          "text": [
            "INFO:tensorflow:*** Available Device: _DeviceAttributes(/job:worker/replica:0/task:0/device:XLA_CPU:0, XLA_CPU, 0, 0)\n"
          ],
          "name": "stdout"
        },
        {
          "output_type": "stream",
          "text": [
            "INFO:tensorflow:*** Available Device: _DeviceAttributes(/job:worker/replica:0/task:0/device:XLA_CPU:0, XLA_CPU, 0, 0)\n"
          ],
          "name": "stderr"
        }
      ]
    },
    {
      "cell_type": "code",
      "metadata": {
        "id": "RG3u80XzNQ4s"
      },
      "source": [
        "hoje = datetime.date.today()\r\n",
        "diaSemana = hoje.weekday()\r\n",
        "hoje = str(hoje)"
      ],
      "execution_count": null,
      "outputs": []
    },
    {
      "cell_type": "code",
      "metadata": {
        "id": "ML08mQFoccSS"
      },
      "source": [
        "baseDIR = \"/content/drive/MyDrive/TG/DADOS SUDESTE\"\r\n",
        "historicoCarga = pd.read_csv(os.path.join(baseDIR,'SECO_2021-01-27_CARGAHIST.csv'),sep=\";\",decimal=\",\")\r\n",
        "historicoTemperatura = pd.read_csv(os.path.join(baseDIR,'SECO_2021-01-27_TEMPHIST.csv'),sep=\";\",decimal=\",\")"
      ],
      "execution_count": null,
      "outputs": []
    },
    {
      "cell_type": "code",
      "metadata": {
        "colab": {
          "base_uri": "https://localhost:8080/",
          "height": 419
        },
        "id": "EaYQXQ3NxgzT",
        "outputId": "3b1c403b-95ce-449a-f336-1e5d3a67f24d"
      },
      "source": [
        "historicoCarga"
      ],
      "execution_count": null,
      "outputs": [
        {
          "output_type": "execute_result",
          "data": {
            "text/html": [
              "<div>\n",
              "<style scoped>\n",
              "    .dataframe tbody tr th:only-of-type {\n",
              "        vertical-align: middle;\n",
              "    }\n",
              "\n",
              "    .dataframe tbody tr th {\n",
              "        vertical-align: top;\n",
              "    }\n",
              "\n",
              "    .dataframe thead th {\n",
              "        text-align: right;\n",
              "    }\n",
              "</style>\n",
              "<table border=\"1\" class=\"dataframe\">\n",
              "  <thead>\n",
              "    <tr style=\"text-align: right;\">\n",
              "      <th></th>\n",
              "      <th>Ano</th>\n",
              "      <th>Mes</th>\n",
              "      <th>Dia</th>\n",
              "      <th>Hora</th>\n",
              "      <th>Min</th>\n",
              "      <th>Carga</th>\n",
              "    </tr>\n",
              "  </thead>\n",
              "  <tbody>\n",
              "    <tr>\n",
              "      <th>0</th>\n",
              "      <td>2014</td>\n",
              "      <td>1</td>\n",
              "      <td>1</td>\n",
              "      <td>1</td>\n",
              "      <td>0</td>\n",
              "      <td>31681.2</td>\n",
              "    </tr>\n",
              "    <tr>\n",
              "      <th>1</th>\n",
              "      <td>2014</td>\n",
              "      <td>1</td>\n",
              "      <td>1</td>\n",
              "      <td>2</td>\n",
              "      <td>0</td>\n",
              "      <td>31475.9</td>\n",
              "    </tr>\n",
              "    <tr>\n",
              "      <th>2</th>\n",
              "      <td>2014</td>\n",
              "      <td>1</td>\n",
              "      <td>1</td>\n",
              "      <td>3</td>\n",
              "      <td>0</td>\n",
              "      <td>30848.3</td>\n",
              "    </tr>\n",
              "    <tr>\n",
              "      <th>3</th>\n",
              "      <td>2014</td>\n",
              "      <td>1</td>\n",
              "      <td>1</td>\n",
              "      <td>4</td>\n",
              "      <td>0</td>\n",
              "      <td>29885.6</td>\n",
              "    </tr>\n",
              "    <tr>\n",
              "      <th>4</th>\n",
              "      <td>2014</td>\n",
              "      <td>1</td>\n",
              "      <td>1</td>\n",
              "      <td>5</td>\n",
              "      <td>0</td>\n",
              "      <td>29157.3</td>\n",
              "    </tr>\n",
              "    <tr>\n",
              "      <th>...</th>\n",
              "      <td>...</td>\n",
              "      <td>...</td>\n",
              "      <td>...</td>\n",
              "      <td>...</td>\n",
              "      <td>...</td>\n",
              "      <td>...</td>\n",
              "    </tr>\n",
              "    <tr>\n",
              "      <th>61987</th>\n",
              "      <td>2021</td>\n",
              "      <td>1</td>\n",
              "      <td>26</td>\n",
              "      <td>20</td>\n",
              "      <td>0</td>\n",
              "      <td>47868.2</td>\n",
              "    </tr>\n",
              "    <tr>\n",
              "      <th>61988</th>\n",
              "      <td>2021</td>\n",
              "      <td>1</td>\n",
              "      <td>26</td>\n",
              "      <td>21</td>\n",
              "      <td>0</td>\n",
              "      <td>48407.8</td>\n",
              "    </tr>\n",
              "    <tr>\n",
              "      <th>61989</th>\n",
              "      <td>2021</td>\n",
              "      <td>1</td>\n",
              "      <td>26</td>\n",
              "      <td>22</td>\n",
              "      <td>0</td>\n",
              "      <td>48234.6</td>\n",
              "    </tr>\n",
              "    <tr>\n",
              "      <th>61990</th>\n",
              "      <td>2021</td>\n",
              "      <td>1</td>\n",
              "      <td>26</td>\n",
              "      <td>23</td>\n",
              "      <td>0</td>\n",
              "      <td>46777.5</td>\n",
              "    </tr>\n",
              "    <tr>\n",
              "      <th>61991</th>\n",
              "      <td>2021</td>\n",
              "      <td>1</td>\n",
              "      <td>27</td>\n",
              "      <td>0</td>\n",
              "      <td>0</td>\n",
              "      <td>44233.0</td>\n",
              "    </tr>\n",
              "  </tbody>\n",
              "</table>\n",
              "<p>61992 rows × 6 columns</p>\n",
              "</div>"
            ],
            "text/plain": [
              "        Ano  Mes  Dia  Hora  Min    Carga\n",
              "0      2014    1    1     1    0  31681.2\n",
              "1      2014    1    1     2    0  31475.9\n",
              "2      2014    1    1     3    0  30848.3\n",
              "3      2014    1    1     4    0  29885.6\n",
              "4      2014    1    1     5    0  29157.3\n",
              "...     ...  ...  ...   ...  ...      ...\n",
              "61987  2021    1   26    20    0  47868.2\n",
              "61988  2021    1   26    21    0  48407.8\n",
              "61989  2021    1   26    22    0  48234.6\n",
              "61990  2021    1   26    23    0  46777.5\n",
              "61991  2021    1   27     0    0  44233.0\n",
              "\n",
              "[61992 rows x 6 columns]"
            ]
          },
          "metadata": {
            "tags": []
          },
          "execution_count": 7
        }
      ]
    },
    {
      "cell_type": "code",
      "metadata": {
        "id": "l9BIfwnyzIbs"
      },
      "source": [
        "def basePreprocessing(carga,temperatura):\r\n",
        "    dataset = carga.merge(temperatura)\r\n",
        "    dataset = dataset.drop([\"Min\"], axis = 1 )\r\n",
        "    dataset = dataset.rename({'Ano': 'Year', 'Mes': 'Month',\"Dia\":\"Day\",\"Hora\":\"Hour\"}, axis=1)\r\n",
        "    dataset[\"Date\"] = pd.to_datetime(dataset[[\"Year\",\"Month\",\"Day\",\"Hour\"]])\r\n",
        "    dataset[\"Weekday\"] = dataset[\"Date\"].dt.dayofweek\r\n",
        "\r\n",
        "    dataset[\"Carga_Var\"] = dataset[\"Carga\"].pct_change()\r\n",
        "    dataset[\"Temp_Var\"] = dataset[\"Temperatura\"].pct_change()\r\n",
        "\r\n",
        "    day = 24*60*60\r\n",
        "    week = (7)*day\r\n",
        "    year = (365.2425)*day\r\n",
        "    \r\n",
        "    timestamp_s = dataset[\"Date\"].map(datetime.datetime.timestamp)\r\n",
        "    \r\n",
        "    dataset['Day sin'] = np.sin(timestamp_s * (2 * np.pi / day))\r\n",
        "    dataset['Day cos'] = np.cos(timestamp_s * (2 * np.pi / day))\r\n",
        "\r\n",
        "    dataset['Week sin'] = np.sin(timestamp_s * (2 * np.pi / week))\r\n",
        "    dataset['Week cos'] = np.cos(timestamp_s * (2 * np.pi / week))\r\n",
        "\r\n",
        "    dataset['Year sin'] = np.sin(timestamp_s * (2 * np.pi / year))\r\n",
        "    dataset['Year cos'] = np.cos(timestamp_s * (2 * np.pi / year))\r\n",
        "\r\n",
        "    return dataset, timestamp_s"
      ],
      "execution_count": null,
      "outputs": []
    },
    {
      "cell_type": "code",
      "metadata": {
        "id": "JnGBf-Qh14KK"
      },
      "source": [
        "historico, timestamp = basePreprocessing(historicoCarga,historicoTemperatura)\r\n",
        "historico = historico.dropna()\r\n",
        "\r\n",
        "cols = [  \r\n",
        "    'Date',\r\n",
        "    'Day sin',\r\n",
        "    'Day cos',\r\n",
        "    'Week sin',\r\n",
        "    'Week cos',\r\n",
        "    'Year sin',\r\n",
        "    'Year cos',\r\n",
        "    'Carga',\r\n",
        "    'Temperatura',\r\n",
        "    ]\r\n",
        "\r\n",
        "historico = historico[cols]\r\n",
        "base = historico.values\r\n",
        "historico"
      ],
      "execution_count": null,
      "outputs": []
    },
    {
      "cell_type": "code",
      "metadata": {
        "id": "oYOrtA5mzHdM",
        "colab": {
          "base_uri": "https://localhost:8080/",
          "height": 535
        },
        "outputId": "824b8ee9-a1ec-46d3-b83b-3d6e8ac748ba"
      },
      "source": [
        "plot_cols = ['Carga', 'Temperatura']\r\n",
        "plot_features = historico[plot_cols]\r\n",
        "plot_features.index = historico[\"Date\"]\r\n",
        "_ = plot_features.plot(subplots=True)\r\n",
        "\r\n",
        "plot_features = historico[plot_cols][:24]\r\n",
        "plot_features.index = historico[\"Date\"][:24]\r\n",
        "_ = plot_features.plot(subplots=True)"
      ],
      "execution_count": null,
      "outputs": [
        {
          "output_type": "display_data",
          "data": {
            "image/png": "[encoded data removed]",
            "text/plain": [
              "<Figure size 432x288 with 2 Axes>"
            ]
          },
          "metadata": {
            "tags": [],
            "needs_background": "light"
          }
        },
        {
          "output_type": "display_data",
          "data": {
            "image/png": "[encoded data removed]",
            "text/plain": [
              "<Figure size 432x288 with 2 Axes>"
            ]
          },
          "metadata": {
            "tags": [],
            "needs_background": "light"
          }
        }
      ]
    },
    {
      "cell_type": "code",
      "metadata": {
        "colab": {
          "base_uri": "https://localhost:8080/",
          "height": 312
        },
        "id": "yxX_6oUX1etb",
        "outputId": "6157221f-3714-4b0b-9a84-9b10f0f262e2"
      },
      "source": [
        "plt.plot(np.array(historico['Day sin'])[:24*7])\r\n",
        "plt.plot(np.array(historico['Day cos'])[:24*7])\r\n",
        "\r\n",
        "plt.plot(np.array(historico['Week sin'])[:24*7])\r\n",
        "plt.plot(np.array(historico['Week cos'])[:24*7])\r\n",
        "\r\n",
        "plt.xlabel('Time [h]')\r\n",
        "plt.title('Time of day signal')"
      ],
      "execution_count": null,
      "outputs": [
        {
          "output_type": "execute_result",
          "data": {
            "text/plain": [
              "Text(0.5, 1.0, 'Time of day signal')"
            ]
          },
          "metadata": {
            "tags": []
          },
          "execution_count": 13
        },
        {
          "output_type": "display_data",
          "data": {
            "image/png": "[encoded data removed]",
            "text/plain": [
              "<Figure size 432x288 with 1 Axes>"
            ]
          },
          "metadata": {
            "tags": [],
            "needs_background": "light"
          }
        }
      ]
    },
    {
      "cell_type": "code",
      "metadata": {
        "id": "02J-S4PfyWeI",
        "colab": {
          "base_uri": "https://localhost:8080/",
          "height": 300
        },
        "outputId": "b056f563-2b51-4bcf-f1fe-5c5aeadaa947"
      },
      "source": [
        "plt.hist2d(historico['Carga'], historico['Temperatura'], bins=(50, 50), vmax=400)\r\n",
        "\r\n",
        "plt.colorbar()\r\n",
        "plt.xlabel('Carga [MWm]')\r\n",
        "plt.ylabel('Temperatura [°C]')"
      ],
      "execution_count": null,
      "outputs": [
        {
          "output_type": "execute_result",
          "data": {
            "text/plain": [
              "Text(0, 0.5, 'Temperatura [°C]')"
            ]
          },
          "metadata": {
            "tags": []
          },
          "execution_count": 14
        },
        {
          "output_type": "display_data",
          "data": {
            "image/png": "[encoded data removed]",
            "text/plain": [
              "<Figure size 432x288 with 2 Axes>"
            ]
          },
          "metadata": {
            "tags": [],
            "needs_background": "light"
          }
        }
      ]
    },
    {
      "cell_type": "code",
      "metadata": {
        "colab": {
          "base_uri": "https://localhost:8080/",
          "height": 290
        },
        "id": "TNvqiJKY0D7b",
        "outputId": "fbb37eec-5e18-4670-f627-bd2f35af3e83"
      },
      "source": [
        "fft = tf.signal.rfft(historico['Carga'])\r\n",
        "f_per_dataset = np.arange(0, len(fft))\r\n",
        "\r\n",
        "n_samples_h = len(historico['Carga'])\r\n",
        "\r\n",
        "hours_per_year = 24*365.2524\r\n",
        "\r\n",
        "years_per_dataset = n_samples_h/(hours_per_year)\r\n",
        "\r\n",
        "f_per_year = f_per_dataset/years_per_dataset\r\n",
        "plt.step(f_per_year, np.abs(fft))\r\n",
        "\r\n",
        "plt.xscale('log')\r\n",
        "plt.ylim(0, 10e7)\r\n",
        "plt.xlim([0.1, max(plt.xlim())])\r\n",
        "plt.xticks([1, 365.2524], labels=['1/Year','1/week', '1/day'])\r\n",
        "_ = plt.xlabel('Frequency (log scale)')"
      ],
      "execution_count": null,
      "outputs": [
        {
          "output_type": "display_data",
          "data": {
            "image/png": "[encoded data removed]",
            "text/plain": [
              "<Figure size 432x288 with 1 Axes>"
            ]
          },
          "metadata": {
            "tags": [],
            "needs_background": "light"
          }
        }
      ]
    },
    {
      "cell_type": "code",
      "metadata": {
        "colab": {
          "base_uri": "https://localhost:8080/"
        },
        "id": "z9cNqq6wTNxw",
        "outputId": "b86ee52d-660d-4e95-db4a-212fc5900775"
      },
      "source": [
        "Xdataset = historico[[\r\n",
        "    'Day sin',\r\n",
        "    'Day cos',\r\n",
        "    'Week sin',\r\n",
        "    'Week cos',\r\n",
        "    'Year sin',\r\n",
        "    'Year cos',\r\n",
        "    'Carga',\r\n",
        "    'Temperatura',]]\r\n",
        "\r\n",
        "column_indices = {name: i for i, name in enumerate(Xdataset.columns)}\r\n",
        "\r\n",
        "n = len(historico)\r\n",
        "\r\n",
        "dias= 30\r\n",
        "\r\n",
        "print(f'Tamanho original da base X = {Xdataset.shape}')\r\n",
        "\r\n",
        "x_train = Xdataset[0:int(n*0.7)]\r\n",
        "\r\n",
        "x_valid = Xdataset[int(n*0.7):int(n*0.9)]\r\n",
        "\r\n",
        "x_test = Xdataset[int(n*0.9):]\r\n",
        "\r\n",
        "num_features = historico.shape[1]\r\n",
        "\r\n",
        "print(f'    formato dados de treino X = {x_train.shape}')\r\n",
        "print(f'    formato dados de validação X = {x_valid.shape}')\r\n",
        "print(f'    formato dados de teste X = {x_test.shape}')"
      ],
      "execution_count": null,
      "outputs": [
        {
          "output_type": "stream",
          "text": [
            "Tamanho original da base X = (61984, 8)\n",
            "    formato dados de treino X = (43388, 8)\n",
            "    formato dados de validação X = (12397, 8)\n",
            "    formato dados de teste X = (6199, 8)\n"
          ],
          "name": "stdout"
        }
      ]
    },
    {
      "cell_type": "code",
      "metadata": {
        "id": "uWgauGi06M6S"
      },
      "source": [
        "train_mean = x_train.mean()\r\n",
        "train_std = x_train.std()\r\n",
        "\r\n",
        "x_train = (x_train - train_mean) / train_std\r\n",
        "x_valid = (x_valid - train_mean) / train_std\r\n",
        "x_test = (x_test - train_mean) / train_std"
      ],
      "execution_count": null,
      "outputs": []
    },
    {
      "cell_type": "code",
      "metadata": {
        "colab": {
          "base_uri": "https://localhost:8080/",
          "height": 419
        },
        "id": "fYhvlm2v9d2O",
        "outputId": "0b8796bb-f663-44dc-ce2a-1889e62b96de"
      },
      "source": [
        "x_train"
      ],
      "execution_count": null,
      "outputs": [
        {
          "output_type": "execute_result",
          "data": {
            "text/html": [
              "<div>\n",
              "<style scoped>\n",
              "    .dataframe tbody tr th:only-of-type {\n",
              "        vertical-align: middle;\n",
              "    }\n",
              "\n",
              "    .dataframe tbody tr th {\n",
              "        vertical-align: top;\n",
              "    }\n",
              "\n",
              "    .dataframe thead th {\n",
              "        text-align: right;\n",
              "    }\n",
              "</style>\n",
              "<table border=\"1\" class=\"dataframe\">\n",
              "  <thead>\n",
              "    <tr style=\"text-align: right;\">\n",
              "      <th></th>\n",
              "      <th>Day sin</th>\n",
              "      <th>Day cos</th>\n",
              "      <th>Week sin</th>\n",
              "      <th>Week cos</th>\n",
              "      <th>Year sin</th>\n",
              "      <th>Year cos</th>\n",
              "      <th>Carga</th>\n",
              "      <th>Temperatura</th>\n",
              "    </tr>\n",
              "  </thead>\n",
              "  <tbody>\n",
              "    <tr>\n",
              "      <th>1</th>\n",
              "      <td>0.707024</td>\n",
              "      <td>1.224950</td>\n",
              "      <td>-1.036982</td>\n",
              "      <td>0.960091</td>\n",
              "      <td>0.007736</td>\n",
              "      <td>1.435038</td>\n",
              "      <td>-0.840788</td>\n",
              "      <td>0.126606</td>\n",
              "    </tr>\n",
              "    <tr>\n",
              "      <th>2</th>\n",
              "      <td>0.999896</td>\n",
              "      <td>1.000194</td>\n",
              "      <td>-1.000281</td>\n",
              "      <td>0.998171</td>\n",
              "      <td>0.008745</td>\n",
              "      <td>1.435030</td>\n",
              "      <td>-0.951739</td>\n",
              "      <td>-0.044900</td>\n",
              "    </tr>\n",
              "    <tr>\n",
              "      <th>3</th>\n",
              "      <td>1.224624</td>\n",
              "      <td>0.707286</td>\n",
              "      <td>-0.962182</td>\n",
              "      <td>1.034854</td>\n",
              "      <td>0.009754</td>\n",
              "      <td>1.435022</td>\n",
              "      <td>-1.121931</td>\n",
              "      <td>-0.044900</td>\n",
              "    </tr>\n",
              "    <tr>\n",
              "      <th>4</th>\n",
              "      <td>1.365894</td>\n",
              "      <td>0.366187</td>\n",
              "      <td>-0.922737</td>\n",
              "      <td>1.070087</td>\n",
              "      <td>0.010763</td>\n",
              "      <td>1.435013</td>\n",
              "      <td>-1.250685</td>\n",
              "      <td>-0.069875</td>\n",
              "    </tr>\n",
              "    <tr>\n",
              "      <th>5</th>\n",
              "      <td>1.414079</td>\n",
              "      <td>0.000143</td>\n",
              "      <td>-0.882001</td>\n",
              "      <td>1.103821</td>\n",
              "      <td>0.011772</td>\n",
              "      <td>1.435003</td>\n",
              "      <td>-1.330557</td>\n",
              "      <td>-0.148875</td>\n",
              "    </tr>\n",
              "    <tr>\n",
              "      <th>...</th>\n",
              "      <td>...</td>\n",
              "      <td>...</td>\n",
              "      <td>...</td>\n",
              "      <td>...</td>\n",
              "      <td>...</td>\n",
              "      <td>...</td>\n",
              "      <td>...</td>\n",
              "      <td>...</td>\n",
              "    </tr>\n",
              "    <tr>\n",
              "      <th>43390</th>\n",
              "      <td>-0.366029</td>\n",
              "      <td>1.366237</td>\n",
              "      <td>1.072138</td>\n",
              "      <td>0.920665</td>\n",
              "      <td>-0.429472</td>\n",
              "      <td>1.368056</td>\n",
              "      <td>1.494521</td>\n",
              "      <td>0.216819</td>\n",
              "    </tr>\n",
              "    <tr>\n",
              "      <th>43391</th>\n",
              "      <td>-0.000031</td>\n",
              "      <td>1.414428</td>\n",
              "      <td>1.105888</td>\n",
              "      <td>0.879949</td>\n",
              "      <td>-0.428510</td>\n",
              "      <td>1.368365</td>\n",
              "      <td>1.114236</td>\n",
              "      <td>0.083029</td>\n",
              "    </tr>\n",
              "    <tr>\n",
              "      <th>43392</th>\n",
              "      <td>0.365968</td>\n",
              "      <td>1.366237</td>\n",
              "      <td>1.138092</td>\n",
              "      <td>0.838001</td>\n",
              "      <td>-0.427548</td>\n",
              "      <td>1.368673</td>\n",
              "      <td>0.644109</td>\n",
              "      <td>-0.071149</td>\n",
              "    </tr>\n",
              "    <tr>\n",
              "      <th>43393</th>\n",
              "      <td>0.707024</td>\n",
              "      <td>1.224950</td>\n",
              "      <td>1.168704</td>\n",
              "      <td>0.794878</td>\n",
              "      <td>-0.426586</td>\n",
              "      <td>1.368980</td>\n",
              "      <td>0.226575</td>\n",
              "      <td>-0.071149</td>\n",
              "    </tr>\n",
              "    <tr>\n",
              "      <th>43394</th>\n",
              "      <td>0.999896</td>\n",
              "      <td>1.000194</td>\n",
              "      <td>1.197682</td>\n",
              "      <td>0.750642</td>\n",
              "      <td>-0.425624</td>\n",
              "      <td>1.369287</td>\n",
              "      <td>-0.034997</td>\n",
              "      <td>-0.180475</td>\n",
              "    </tr>\n",
              "  </tbody>\n",
              "</table>\n",
              "<p>43388 rows × 8 columns</p>\n",
              "</div>"
            ],
            "text/plain": [
              "        Day sin   Day cos  Week sin  ...  Year cos     Carga  Temperatura\n",
              "1      0.707024  1.224950 -1.036982  ...  1.435038 -0.840788     0.126606\n",
              "2      0.999896  1.000194 -1.000281  ...  1.435030 -0.951739    -0.044900\n",
              "3      1.224624  0.707286 -0.962182  ...  1.435022 -1.121931    -0.044900\n",
              "4      1.365894  0.366187 -0.922737  ...  1.435013 -1.250685    -0.069875\n",
              "5      1.414079  0.000143 -0.882001  ...  1.435003 -1.330557    -0.148875\n",
              "...         ...       ...       ...  ...       ...       ...          ...\n",
              "43390 -0.366029  1.366237  1.072138  ...  1.368056  1.494521     0.216819\n",
              "43391 -0.000031  1.414428  1.105888  ...  1.368365  1.114236     0.083029\n",
              "43392  0.365968  1.366237  1.138092  ...  1.368673  0.644109    -0.071149\n",
              "43393  0.707024  1.224950  1.168704  ...  1.368980  0.226575    -0.071149\n",
              "43394  0.999896  1.000194  1.197682  ...  1.369287 -0.034997    -0.180475\n",
              "\n",
              "[43388 rows x 8 columns]"
            ]
          },
          "metadata": {
            "tags": []
          },
          "execution_count": 19
        }
      ]
    },
    {
      "cell_type": "code",
      "metadata": {
        "colab": {
          "base_uri": "https://localhost:8080/",
          "height": 441
        },
        "id": "xRIVu_he74ma",
        "outputId": "b6f2e19d-d811-42a6-81bb-ee2400d5c9f8"
      },
      "source": [
        "df_std = (Xdataset - train_mean) / train_std\r\n",
        "df_std = df_std.melt(var_name='Column', value_name='Normalized')\r\n",
        "plt.figure(figsize=(12, 6))\r\n",
        "ax = sns.violinplot(x='Column', y='Normalized', data=df_std)\r\n",
        "_ = ax.set_xticklabels(Xdataset.keys(), rotation=90)"
      ],
      "execution_count": null,
      "outputs": [
        {
          "output_type": "display_data",
          "data": {
            "image/png": "[encoded data removed]",
            "text/plain": [
              "<Figure size 864x432 with 1 Axes>"
            ]
          },
          "metadata": {
            "tags": [],
            "needs_background": "light"
          }
        }
      ]
    },
    {
      "cell_type": "code",
      "metadata": {
        "id": "Z_vTe8m_96mX"
      },
      "source": [
        "class WindowGenerator():\r\n",
        "  def __init__(self, input_width, label_width, shift,\r\n",
        "               train_df = x_train, val_df=x_valid , test_df=x_test,\r\n",
        "               label_columns=None):\r\n",
        "    # Store the raw data.\r\n",
        "    self.train_df = train_df\r\n",
        "    self.val_df = val_df\r\n",
        "    self.test_df = test_df\r\n",
        "\r\n",
        "    # Work out the label column indices.\r\n",
        "    self.label_columns = label_columns\r\n",
        "    if label_columns is not None:\r\n",
        "      self.label_columns_indices = {name: i for i, name in\r\n",
        "                                    enumerate(label_columns)}\r\n",
        "    self.column_indices = {name: i for i, name in\r\n",
        "                           enumerate(train_df.columns)}\r\n",
        "\r\n",
        "    # Work out the window parameters.\r\n",
        "    self.input_width = input_width\r\n",
        "    self.label_width = label_width\r\n",
        "    self.shift = shift\r\n",
        "\r\n",
        "    self.total_window_size = input_width + shift\r\n",
        "\r\n",
        "    self.input_slice = slice(0, input_width)\r\n",
        "    self.input_indices = np.arange(self.total_window_size)[self.input_slice]\r\n",
        "\r\n",
        "    self.label_start = self.total_window_size - self.label_width\r\n",
        "    self.labels_slice = slice(self.label_start, None)\r\n",
        "    self.label_indices = np.arange(self.total_window_size)[self.labels_slice]\r\n",
        "\r\n",
        "  def __repr__(self):\r\n",
        "    return '\\n'.join([\r\n",
        "        f'Total window size: {self.total_window_size}',\r\n",
        "        f'Input indices: {self.input_indices}',\r\n",
        "        f'Label indices: {self.label_indices}',\r\n",
        "        f'Label column name(s): {self.label_columns}'])"
      ],
      "execution_count": null,
      "outputs": []
    },
    {
      "cell_type": "code",
      "metadata": {
        "id": "BtUjijzy-7Cs"
      },
      "source": [
        "standard_window = WindowGenerator(input_width=720, label_width=24, shift=24,\r\n",
        "                     label_columns=['Carga'])"
      ],
      "execution_count": null,
      "outputs": []
    },
    {
      "cell_type": "code",
      "metadata": {
        "id": "7RPxqXZRBDvo"
      },
      "source": [
        "def split_window(self, features):\r\n",
        "  inputs = features[:, self.input_slice, :]\r\n",
        "  labels = features[:, self.labels_slice, :]\r\n",
        "  if self.label_columns is not None:\r\n",
        "    labels = tf.stack(\r\n",
        "        [labels[:, :, self.column_indices[name]] for name in self.label_columns],\r\n",
        "        axis=-1)\r\n",
        "\r\n",
        "  # Slicing doesn't preserve static shape information, so set the shapes\r\n",
        "  # manually. This way the `tf.data.Datasets` are easier to inspect.\r\n",
        "  inputs.set_shape([None, self.input_width, None])\r\n",
        "  labels.set_shape([None, self.label_width, None])\r\n",
        "\r\n",
        "  return inputs, labels\r\n",
        "\r\n",
        "WindowGenerator.split_window = split_window"
      ],
      "execution_count": null,
      "outputs": []
    },
    {
      "cell_type": "code",
      "metadata": {
        "id": "v_liK21yBbQA",
        "colab": {
          "base_uri": "https://localhost:8080/"
        },
        "outputId": "d76727a1-4c3a-44f9-878e-c5498dc3fd3c"
      },
      "source": [
        "# Stack three slices, the length of the total window:\r\n",
        "example_window = tf.stack([np.array(x_train[:standard_window.total_window_size]),\r\n",
        "                           np.array(x_train[100:100+standard_window.total_window_size]),\r\n",
        "                           np.array(x_train[200:200+standard_window.total_window_size])])\r\n",
        "\r\n",
        "\r\n",
        "example_inputs, example_labels = standard_window.split_window(example_window)\r\n",
        "\r\n",
        "print('All shapes are: (batch, time, features)')\r\n",
        "print(f'Window shape: {example_window.shape}')\r\n",
        "print(f'Inputs shape: {example_inputs.shape}')\r\n",
        "print(f'labels shape: {example_labels.shape}')"
      ],
      "execution_count": null,
      "outputs": [
        {
          "output_type": "stream",
          "text": [
            "All shapes are: (batch, time, features)\n",
            "Window shape: (3, 744, 8)\n",
            "Inputs shape: (3, 720, 8)\n",
            "labels shape: (3, 24, 1)\n"
          ],
          "name": "stdout"
        }
      ]
    },
    {
      "cell_type": "code",
      "metadata": {
        "id": "9Yc_SYC2GaJd"
      },
      "source": [
        "standard_window.example = example_inputs, example_labels"
      ],
      "execution_count": null,
      "outputs": []
    },
    {
      "cell_type": "code",
      "metadata": {
        "id": "XuHqccbOGboI"
      },
      "source": [
        "def plot(self, model=None, plot_col='Carga', max_subplots=3):\r\n",
        "  inputs, labels = self.example\r\n",
        "  plt.figure(figsize=(12, 8))\r\n",
        "  plot_col_index = self.column_indices[plot_col]\r\n",
        "  max_n = min(max_subplots, len(inputs))\r\n",
        "  for n in range(max_n):\r\n",
        "    plt.subplot(3, 1, n+1)\r\n",
        "    plt.ylabel(f'{plot_col} [normed]')\r\n",
        "    plt.plot(self.input_indices, inputs[n, :, plot_col_index],\r\n",
        "             label='Inputs', marker='.', zorder=-10)\r\n",
        "\r\n",
        "    if self.label_columns:\r\n",
        "      label_col_index = self.label_columns_indices.get(plot_col, None)\r\n",
        "    else:\r\n",
        "      label_col_index = plot_col_index\r\n",
        "\r\n",
        "    if label_col_index is None:\r\n",
        "      continue\r\n",
        "\r\n",
        "    plt.scatter(self.label_indices, labels[n, :, label_col_index],\r\n",
        "                edgecolors='k', label='Labels', c='#2ca02c', s=64)\r\n",
        "    if model is not None:\r\n",
        "      predictions = model(inputs)\r\n",
        "      plt.scatter(self.label_indices, predictions[n, :, label_col_index],\r\n",
        "                  marker='X', edgecolors='k', label='Predictions',\r\n",
        "                  c='#ff7f0e', s=64)\r\n",
        "\r\n",
        "    if n == 0:\r\n",
        "      plt.legend()\r\n",
        "\r\n",
        "  plt.xlabel('Carga')\r\n",
        "\r\n",
        "WindowGenerator.plot = plot"
      ],
      "execution_count": null,
      "outputs": []
    },
    {
      "cell_type": "code",
      "metadata": {
        "id": "-dHx0Ld7G90z"
      },
      "source": [
        "def make_dataset(self, data):\r\n",
        "  data = np.array(data, dtype=np.float32)\r\n",
        "  ds = tf.keras.preprocessing.timeseries_dataset_from_array(\r\n",
        "      data=data,\r\n",
        "      targets=None,\r\n",
        "      sequence_length=self.total_window_size,\r\n",
        "      sequence_stride=1,\r\n",
        "      shuffle=True,\r\n",
        "      batch_size=32,)\r\n",
        "\r\n",
        "  ds = ds.map(self.split_window)\r\n",
        "\r\n",
        "  return ds\r\n",
        "\r\n",
        "WindowGenerator.make_dataset = make_dataset"
      ],
      "execution_count": null,
      "outputs": []
    },
    {
      "cell_type": "code",
      "metadata": {
        "id": "-LAJiyVVMiCu"
      },
      "source": [
        "@property\r\n",
        "def train(self):\r\n",
        "  return self.make_dataset(self.train_df)\r\n",
        "\r\n",
        "@property\r\n",
        "def val(self):\r\n",
        "  return self.make_dataset(self.val_df)\r\n",
        "\r\n",
        "@property\r\n",
        "def test(self):\r\n",
        "  return self.make_dataset(self.test_df)\r\n",
        "\r\n",
        "@property\r\n",
        "def example(self):\r\n",
        "  \"\"\"Get and cache an example batch of `inputs, labels` for plotting.\"\"\"\r\n",
        "  result = getattr(self, '_example', None)\r\n",
        "  if result is None:\r\n",
        "    # No example batch was found, so get one from the `.train` dataset\r\n",
        "    result = next(iter(self.train))\r\n",
        "    # And cache it for next time\r\n",
        "    self._example = result\r\n",
        "  return result\r\n",
        "\r\n",
        "WindowGenerator.train = train\r\n",
        "WindowGenerator.val = val\r\n",
        "WindowGenerator.test = test\r\n",
        "WindowGenerator.example = example"
      ],
      "execution_count": null,
      "outputs": []
    },
    {
      "cell_type": "code",
      "metadata": {
        "colab": {
          "base_uri": "https://localhost:8080/"
        },
        "id": "P9PKCO00Mq4f",
        "outputId": "edda18c4-e1a6-453f-bb1a-2db29b0f6be4"
      },
      "source": [
        "# Each element is an (inputs, label) pair\r\n",
        "standard_window.train.element_spec"
      ],
      "execution_count": null,
      "outputs": [
        {
          "output_type": "execute_result",
          "data": {
            "text/plain": [
              "(TensorSpec(shape=(None, 720, 8), dtype=tf.float32, name=None),\n",
              " TensorSpec(shape=(None, 720, 1), dtype=tf.float32, name=None))"
            ]
          },
          "metadata": {
            "tags": []
          },
          "execution_count": 30
        }
      ]
    },
    {
      "cell_type": "code",
      "metadata": {
        "colab": {
          "base_uri": "https://localhost:8080/"
        },
        "id": "gVh13EaJM6Nj",
        "outputId": "882c8599-bffb-439e-bc78-9753b9f38eb3"
      },
      "source": [
        "for example_inputs, example_labels in standard_window.train.take(1):\r\n",
        "  print(f'Inputs shape (batch, time, features): {example_inputs.shape}')\r\n",
        "  print(f'Labels shape (batch, time, features): {example_labels.shape}')"
      ],
      "execution_count": null,
      "outputs": [
        {
          "output_type": "stream",
          "text": [
            "Inputs shape (batch, time, features): (32, 720, 8)\n",
            "Labels shape (batch, time, features): (32, 720, 1)\n"
          ],
          "name": "stdout"
        }
      ]
    },
    {
      "cell_type": "code",
      "metadata": {
        "id": "RAi9qVCEP3BE"
      },
      "source": [
        "MAX_EPOCHS = 200\r\n",
        "\r\n",
        "def compile_and_fit(model, window, patience = 2):\r\n",
        "  \r\n",
        "    es = EarlyStopping(monitor = \"loss\", min_delta = 1e-10, patience = patience, verbose = 1)\r\n",
        "    rlr = ReduceLROnPlateau(monitor = \"loss\", factor = 0.2, patience = patience, verbose = 1)\r\n",
        "    mcp = ModelCheckpoint(filepath=f\"pesos-{datetime.date.today()}.h5\", monitor = \"loss\", save_best_only = True, verbose=1)\r\n",
        "  \r\n",
        "    model.compile(\r\n",
        "        optimizer = tf.optimizers.Adam(), \r\n",
        "        loss = tf.losses.MeanSquaredError(), \r\n",
        "        metrics = [tf.metrics.MeanAbsoluteError()])\r\n",
        "  \r\n",
        "    history = model.fit(window.train, epochs = MAX_EPOCHS,\r\n",
        "                      validation_data=window.val,\r\n",
        "                      callbacks=[es,rlr,mcp])\r\n",
        "    return history"
      ],
      "execution_count": null,
      "outputs": []
    },
    {
      "cell_type": "code",
      "metadata": {
        "id": "w5ZLaFdLAI78"
      },
      "source": [
        "lstm_model = Sequential([\r\n",
        "    LSTM(units = 100, return_sequences = True),\r\n",
        "    Dropout(0.5),\r\n",
        "    LSTM(units = 32),\r\n",
        "    Dense(units = 1)\r\n",
        "])"
      ],
      "execution_count": null,
      "outputs": []
    },
    {
      "cell_type": "code",
      "metadata": {
        "id": "hsCegQcZIaXA",
        "colab": {
          "base_uri": "https://localhost:8080/"
        },
        "outputId": "ce9925e0-2a38-465c-b56e-3334bb064b3b"
      },
      "source": [
        "with tpu_strategy.scope(): # creating the model in the TPUStrategy scope means we will train the model on the TPU\r\n",
        "  lstm_model = Sequential([\r\n",
        "    LSTM(units = 96, return_sequences = True),\r\n",
        "    Dropout(0.5),\r\n",
        "    LSTM(units = 32),\r\n",
        "    Dropout(0.5),\r\n",
        "    Dense(units = 1)\r\n",
        "    ])\r\n",
        "model.summary()"
      ],
      "execution_count": null,
      "outputs": [
        {
          "output_type": "stream",
          "text": [
            "Model: \"sequential_1\"\n",
            "_________________________________________________________________\n",
            "Layer (type)                 Output Shape              Param #   \n",
            "=================================================================\n",
            "lstm_2 (LSTM)                (None, 720, 32)           5248      \n",
            "_________________________________________________________________\n",
            "dropout_1 (Dropout)          (None, 720, 32)           0         \n",
            "_________________________________________________________________\n",
            "lstm_3 (LSTM)                (None, 32)                8320      \n",
            "_________________________________________________________________\n",
            "dense_1 (Dense)              (None, 1)                 33        \n",
            "=================================================================\n",
            "Total params: 13,601\n",
            "Trainable params: 13,601\n",
            "Non-trainable params: 0\n",
            "_________________________________________________________________\n"
          ],
          "name": "stdout"
        }
      ]
    },
    {
      "cell_type": "code",
      "metadata": {
        "colab": {
          "base_uri": "https://localhost:8080/"
        },
        "id": "fZSUBDRJV_jX",
        "outputId": "775819ef-82ce-4d70-e356-90cf7a95b6af"
      },
      "source": [
        "print('Input shape:', standard_window.example[0].shape)\r\n",
        "print('Output shape:', lstm_model(standard_window.example[0]).shape)"
      ],
      "execution_count": null,
      "outputs": [
        {
          "output_type": "stream",
          "text": [
            "Input shape: (32, 720, 8)\n",
            "Output shape: (32, 1)\n"
          ],
          "name": "stdout"
        }
      ]
    },
    {
      "cell_type": "code",
      "metadata": {
        "id": "tUsqRx9Otx7i",
        "colab": {
          "base_uri": "https://localhost:8080/",
          "height": 1000
        },
        "outputId": "5e85146a-7e6f-457e-9bd1-4ae813f688e6"
      },
      "source": [
        "history = compile_and_fit(model, standard_window)\r\n",
        "\r\n",
        "IPython.display.clear_output()\r\n",
        "val_performance['LSTM'] = lstm_model.evaluate(standard_window.val)\r\n",
        "performance['LSTM'] = lstm_model.evaluate(standard_window.test, verbose=0)\r\n",
        "\r\n",
        "from google.colab import files\r\n",
        "files.download(f\"pesos-{datetime.date.today()}.h5\")"
      ],
      "execution_count": null,
      "outputs": [
        {
          "output_type": "stream",
          "text": [
            "Epoch 1/200\n",
            "1333/1333 [==============================] - 451s 336ms/step - loss: 0.6399 - mean_absolute_error: 0.6915 - val_loss: 0.6145 - val_mean_absolute_error: 0.6719\n",
            "\n",
            "Epoch 00001: loss improved from inf to 0.63597, saving model to pesos-2021-03-14.h5\n",
            "Epoch 2/200\n",
            "1333/1333 [==============================] - 448s 336ms/step - loss: 0.6301 - mean_absolute_error: 0.6858 - val_loss: 0.6072 - val_mean_absolute_error: 0.6696\n",
            "\n",
            "Epoch 00002: loss improved from 0.63597 to 0.62937, saving model to pesos-2021-03-14.h5\n",
            "Epoch 3/200\n",
            "1333/1333 [==============================] - 451s 339ms/step - loss: 0.6264 - mean_absolute_error: 0.6834 - val_loss: 0.6108 - val_mean_absolute_error: 0.6700\n",
            "\n",
            "Epoch 00003: loss improved from 0.62937 to 0.62594, saving model to pesos-2021-03-14.h5\n",
            "Epoch 4/200\n",
            "1333/1333 [==============================] - 454s 340ms/step - loss: 0.6244 - mean_absolute_error: 0.6820 - val_loss: 0.6138 - val_mean_absolute_error: 0.6720\n",
            "\n",
            "Epoch 00004: loss improved from 0.62594 to 0.62384, saving model to pesos-2021-03-14.h5\n",
            "Epoch 5/200\n",
            "1333/1333 [==============================] - 458s 344ms/step - loss: 0.6222 - mean_absolute_error: 0.6808 - val_loss: 0.6127 - val_mean_absolute_error: 0.6687\n",
            "\n",
            "Epoch 00005: loss improved from 0.62384 to 0.62217, saving model to pesos-2021-03-14.h5\n",
            "Epoch 6/200\n",
            "1333/1333 [==============================] - 458s 343ms/step - loss: 0.6211 - mean_absolute_error: 0.6800 - val_loss: 0.6222 - val_mean_absolute_error: 0.6735\n",
            "\n",
            "Epoch 00006: loss improved from 0.62217 to 0.62132, saving model to pesos-2021-03-14.h5\n",
            "Epoch 7/200\n",
            "1333/1333 [==============================] - 453s 340ms/step - loss: 0.6196 - mean_absolute_error: 0.6789 - val_loss: 0.6144 - val_mean_absolute_error: 0.6719\n",
            "\n",
            "Epoch 00007: loss improved from 0.62132 to 0.61935, saving model to pesos-2021-03-14.h5\n",
            "Epoch 8/200\n",
            "1333/1333 [==============================] - 454s 341ms/step - loss: 0.6181 - mean_absolute_error: 0.6780 - val_loss: 0.6188 - val_mean_absolute_error: 0.6744\n",
            "\n",
            "Epoch 00008: loss improved from 0.61935 to 0.61839, saving model to pesos-2021-03-14.h5\n",
            "Epoch 9/200\n",
            "1333/1333 [==============================] - 452s 339ms/step - loss: 0.6168 - mean_absolute_error: 0.6771 - val_loss: 0.6179 - val_mean_absolute_error: 0.6744\n",
            "\n",
            "Epoch 00009: loss improved from 0.61839 to 0.61707, saving model to pesos-2021-03-14.h5\n",
            "Epoch 10/200\n",
            "1333/1333 [==============================] - 459s 344ms/step - loss: 0.6163 - mean_absolute_error: 0.6767 - val_loss: 0.6179 - val_mean_absolute_error: 0.6735\n",
            "\n",
            "Epoch 00010: loss improved from 0.61707 to 0.61619, saving model to pesos-2021-03-14.h5\n",
            "Epoch 11/200\n",
            "1333/1333 [==============================] - 462s 347ms/step - loss: 0.6147 - mean_absolute_error: 0.6758 - val_loss: 0.6187 - val_mean_absolute_error: 0.6737\n",
            "\n",
            "Epoch 00011: loss improved from 0.61619 to 0.61511, saving model to pesos-2021-03-14.h5\n",
            "Epoch 12/200\n",
            "1333/1333 [==============================] - 461s 346ms/step - loss: 0.6143 - mean_absolute_error: 0.6755 - val_loss: 0.6172 - val_mean_absolute_error: 0.6743\n",
            "\n",
            "Epoch 00012: loss improved from 0.61511 to 0.61465, saving model to pesos-2021-03-14.h5\n",
            "Epoch 13/200\n",
            "1333/1333 [==============================] - 458s 344ms/step - loss: 0.6129 - mean_absolute_error: 0.6746 - val_loss: 0.6192 - val_mean_absolute_error: 0.6746\n",
            "\n",
            "Epoch 00013: loss improved from 0.61465 to 0.61353, saving model to pesos-2021-03-14.h5\n",
            "Epoch 14/200\n",
            "1333/1333 [==============================] - 460s 345ms/step - loss: 0.6130 - mean_absolute_error: 0.6748 - val_loss: 0.6239 - val_mean_absolute_error: 0.6789\n",
            "\n",
            "Epoch 00014: loss improved from 0.61353 to 0.61313, saving model to pesos-2021-03-14.h5\n",
            "Epoch 15/200\n",
            "1333/1333 [==============================] - 463s 347ms/step - loss: 0.6125 - mean_absolute_error: 0.6744 - val_loss: 0.6296 - val_mean_absolute_error: 0.6798\n",
            "\n",
            "Epoch 00015: loss improved from 0.61313 to 0.61263, saving model to pesos-2021-03-14.h5\n",
            "Epoch 16/200\n",
            "1333/1333 [==============================] - 459s 345ms/step - loss: 0.6118 - mean_absolute_error: 0.6740 - val_loss: 0.6342 - val_mean_absolute_error: 0.6818\n",
            "\n",
            "Epoch 00016: loss improved from 0.61263 to 0.61183, saving model to pesos-2021-03-14.h5\n",
            "Epoch 17/200\n",
            "1333/1333 [==============================] - 460s 345ms/step - loss: 0.6107 - mean_absolute_error: 0.6733 - val_loss: 0.6244 - val_mean_absolute_error: 0.6781\n",
            "\n",
            "Epoch 00017: loss improved from 0.61183 to 0.61109, saving model to pesos-2021-03-14.h5\n",
            "Epoch 18/200\n",
            "1333/1333 [==============================] - 461s 345ms/step - loss: 0.6114 - mean_absolute_error: 0.6738 - val_loss: 0.6292 - val_mean_absolute_error: 0.6810\n",
            "\n",
            "Epoch 00018: loss did not improve from 0.61109\n",
            "Epoch 19/200\n",
            "1333/1333 [==============================] - 451s 338ms/step - loss: 0.6101 - mean_absolute_error: 0.6730 - val_loss: 0.6287 - val_mean_absolute_error: 0.6787\n",
            "\n",
            "Epoch 00019: loss improved from 0.61109 to 0.61031, saving model to pesos-2021-03-14.h5\n",
            "Epoch 20/200\n",
            "1333/1333 [==============================] - 458s 343ms/step - loss: 0.6124 - mean_absolute_error: 0.6745 - val_loss: 0.6306 - val_mean_absolute_error: 0.6812\n",
            "\n",
            "Epoch 00020: loss did not improve from 0.61031\n",
            "Epoch 21/200\n",
            "1333/1333 [==============================] - 459s 344ms/step - loss: 0.6095 - mean_absolute_error: 0.6729 - val_loss: 0.6336 - val_mean_absolute_error: 0.6832\n",
            "\n",
            "Epoch 00021: loss improved from 0.61031 to 0.60953, saving model to pesos-2021-03-14.h5\n",
            "Epoch 22/200\n",
            "1333/1333 [==============================] - 455s 341ms/step - loss: 0.6092 - mean_absolute_error: 0.6727 - val_loss: 0.6340 - val_mean_absolute_error: 0.6814\n",
            "\n",
            "Epoch 00022: loss improved from 0.60953 to 0.60944, saving model to pesos-2021-03-14.h5\n",
            "Epoch 23/200\n",
            "1333/1333 [==============================] - 453s 340ms/step - loss: 0.6096 - mean_absolute_error: 0.6730 - val_loss: 0.6272 - val_mean_absolute_error: 0.6783\n",
            "\n",
            "Epoch 00023: ReduceLROnPlateau reducing learning rate to 0.00020000000949949026.\n",
            "\n",
            "Epoch 00023: loss did not improve from 0.60944\n",
            "Epoch 24/200\n",
            "1333/1333 [==============================] - 453s 340ms/step - loss: 0.6103 - mean_absolute_error: 0.6735 - val_loss: 0.6334 - val_mean_absolute_error: 0.6837\n",
            "\n",
            "Epoch 00024: loss did not improve from 0.60944\n",
            "Epoch 00024: early stopping\n"
          ],
          "name": "stdout"
        },
        {
          "output_type": "error",
          "ename": "NameError",
          "evalue": "ignored",
          "traceback": [
            "\u001b[0;31m---------------------------------------------------------------------------\u001b[0m",
            "\u001b[0;31mNameError\u001b[0m                                 Traceback (most recent call last)",
            "\u001b[0;32m<ipython-input-62-5f2a0c8c058f>\u001b[0m in \u001b[0;36m<module>\u001b[0;34m()\u001b[0m\n\u001b[1;32m      1\u001b[0m \u001b[0mhistory\u001b[0m \u001b[0;34m=\u001b[0m \u001b[0mcompile_and_fit\u001b[0m\u001b[0;34m(\u001b[0m\u001b[0mmodel\u001b[0m\u001b[0;34m,\u001b[0m \u001b[0mstandard_window\u001b[0m\u001b[0;34m)\u001b[0m\u001b[0;34m\u001b[0m\u001b[0;34m\u001b[0m\u001b[0m\n\u001b[1;32m      2\u001b[0m \u001b[0;34m\u001b[0m\u001b[0m\n\u001b[0;32m----> 3\u001b[0;31m \u001b[0mIPython\u001b[0m\u001b[0;34m.\u001b[0m\u001b[0mdisplay\u001b[0m\u001b[0;34m.\u001b[0m\u001b[0mclear_output\u001b[0m\u001b[0;34m(\u001b[0m\u001b[0;34m)\u001b[0m\u001b[0;34m\u001b[0m\u001b[0;34m\u001b[0m\u001b[0m\n\u001b[0m\u001b[1;32m      4\u001b[0m \u001b[0mval_performance\u001b[0m\u001b[0;34m[\u001b[0m\u001b[0;34m'LSTM'\u001b[0m\u001b[0;34m]\u001b[0m \u001b[0;34m=\u001b[0m \u001b[0mlstm_model\u001b[0m\u001b[0;34m.\u001b[0m\u001b[0mevaluate\u001b[0m\u001b[0;34m(\u001b[0m\u001b[0mstandard_window\u001b[0m\u001b[0;34m.\u001b[0m\u001b[0mval\u001b[0m\u001b[0;34m)\u001b[0m\u001b[0;34m\u001b[0m\u001b[0;34m\u001b[0m\u001b[0m\n\u001b[1;32m      5\u001b[0m \u001b[0mperformance\u001b[0m\u001b[0;34m[\u001b[0m\u001b[0;34m'LSTM'\u001b[0m\u001b[0;34m]\u001b[0m \u001b[0;34m=\u001b[0m \u001b[0mlstm_model\u001b[0m\u001b[0;34m.\u001b[0m\u001b[0mevaluate\u001b[0m\u001b[0;34m(\u001b[0m\u001b[0mstandard_window\u001b[0m\u001b[0;34m.\u001b[0m\u001b[0mtest\u001b[0m\u001b[0;34m,\u001b[0m \u001b[0mverbose\u001b[0m\u001b[0;34m=\u001b[0m\u001b[0;36m0\u001b[0m\u001b[0;34m)\u001b[0m\u001b[0;34m\u001b[0m\u001b[0;34m\u001b[0m\u001b[0m\n",
            "\u001b[0;31mNameError\u001b[0m: name 'IPython' is not defined"
          ]
        }
      ]
    },
    {
      "cell_type": "code",
      "metadata": {
        "id": "XkhnlHkrtSTs"
      },
      "source": [
        "performance['LSTM'] = model.evaluate(window.test, verbose=0)"
      ],
      "execution_count": null,
      "outputs": []
    },
    {
      "cell_type": "code",
      "metadata": {
        "id": "dfHZiZZUuaEy"
      },
      "source": [
        "x = np.arange(len(performance))\r\n",
        "width = 0.3\r\n",
        "metric_name = 'mean_absolute_error'\r\n",
        "metric_index = model.metrics_names.index('mape')\r\n",
        "val_mae = [v[metric_index] for v in val_performance.values()]\r\n",
        "test_mae = [v[metric_index] for v in performance.values()]\r\n",
        "\r\n",
        "plt.ylabel('mean_absolute_error [T (degC), normalized]')\r\n",
        "plt.bar(x - 0.17, val_mae, width, label='Validation')\r\n",
        "plt.bar(x + 0.17, test_mae, width, label='Test')\r\n",
        "plt.xticks(ticks=x, labels=performance.keys(),\r\n",
        "           rotation=45)\r\n",
        "_ = plt.legend()"
      ],
      "execution_count": null,
      "outputs": []
    },
    {
      "cell_type": "code",
      "metadata": {
        "colab": {
          "base_uri": "https://localhost:8080/"
        },
        "id": "eaB8XvJLugOb",
        "outputId": "c2f65900-ebf7-40d0-b07b-cc9211ecec1b"
      },
      "source": [
        "for name, value in performance.items():\r\n",
        "  print(f'{name:12s}: {value[1]:0.4f}')"
      ],
      "execution_count": null,
      "outputs": [
        {
          "output_type": "stream",
          "text": [
            "LSTM        : 523.5589\n"
          ],
          "name": "stdout"
        }
      ]
    },
    {
      "cell_type": "code",
      "metadata": {
        "id": "1qNzQMvft6Ai"
      },
      "source": [
        "w2.plot(model)"
      ],
      "execution_count": null,
      "outputs": []
    },
    {
      "cell_type": "markdown",
      "metadata": {
        "id": "mIvuOGY_3WNX"
      },
      "source": [
        "# Teste e Validação\r\n"
      ]
    },
    {
      "cell_type": "code",
      "metadata": {
        "id": "yOKfB_bHQqBC"
      },
      "source": [
        "model = keras.models.load_model('/content/pesos-2021-02-10.h5') # carrega modelo pré-treinado (OPCIONAL)"
      ],
      "execution_count": null,
      "outputs": []
    },
    {
      "cell_type": "code",
      "metadata": {
        "id": "7Ug-vt9FR4Jd",
        "colab": {
          "base_uri": "https://localhost:8080/"
        },
        "outputId": "386c82cb-a673-4ea2-a7ed-3d7972d52d3e"
      },
      "source": [
        "model.summary()"
      ],
      "execution_count": null,
      "outputs": [
        {
          "output_type": "stream",
          "text": [
            "Model: \"sequential\"\n",
            "_________________________________________________________________\n",
            "Layer (type)                 Output Shape              Param #   \n",
            "=================================================================\n",
            "lstm (LSTM)                  (None, 720, 100)          44000     \n",
            "_________________________________________________________________\n",
            "dropout (Dropout)            (None, 720, 100)          0         \n",
            "_________________________________________________________________\n",
            "lstm_1 (LSTM)                (None, 30)                15720     \n",
            "_________________________________________________________________\n",
            "dropout_1 (Dropout)          (None, 30)                0         \n",
            "_________________________________________________________________\n",
            "dense (Dense)                (None, 1)                 31        \n",
            "=================================================================\n",
            "Total params: 59,751\n",
            "Trainable params: 59,751\n",
            "Non-trainable params: 0\n",
            "_________________________________________________________________\n"
          ],
          "name": "stdout"
        }
      ]
    },
    {
      "cell_type": "code",
      "metadata": {
        "id": "zKD7RDzrNfl0"
      },
      "source": [
        "testeDIR = \"/content/drive/MyDrive/TG/TESTE\" "
      ],
      "execution_count": null,
      "outputs": []
    },
    {
      "cell_type": "code",
      "metadata": {
        "id": "S9rOzJmNNdpZ"
      },
      "source": [
        "historicoCargaTeste = pd.read_csv(os.path.join(testeDIR,'SECO_2021-02-28_CARGAHIST.csv'),sep=\";\",decimal=\",\")\r\n",
        "historicoTemperaturaTeste = pd.read_csv(os.path.join(testeDIR,'SECO_2021-02-28_TEMPHIST.csv'),sep=\";\",decimal=\",\")"
      ],
      "execution_count": null,
      "outputs": []
    },
    {
      "cell_type": "code",
      "metadata": {
        "id": "fDtpzDwR2gWa"
      },
      "source": [
        "historicoTeste = basePreprocessing(historicoCargaTeste, historicoTemperaturaTeste)\r\n",
        "\r\n",
        "historicoTeste, _ , _ = baseNormalizer(historicoTeste,\r\n",
        "                                        StandardScaler(),\r\n",
        "                                        normalize_fit=True)\r\n",
        "\r\n",
        "valorRealTeste = historicoTeste.iloc[:, 4].values\r\n",
        "valorRealTeste"
      ],
      "execution_count": null,
      "outputs": []
    },
    {
      "cell_type": "code",
      "metadata": {
        "id": "sC_fdDol_XEs"
      },
      "source": [
        "historicoTeste[[\"Carga\"]] = normalizadorCarga.fit_transform(historicoTeste[[\"Carga\"]])\r\n",
        "historicoTeste[[\"Temperatura\"]] = normalizadorTemp.fit_transform(historicoTeste[[\"Temperatura\"]])\r\n",
        "historicoTeste"
      ],
      "execution_count": null,
      "outputs": []
    },
    {
      "cell_type": "code",
      "metadata": {
        "id": "ZYtF1SKjOSq0",
        "colab": {
          "base_uri": "https://localhost:8080/"
        },
        "outputId": "19b16f3a-0094-45ff-e969-5730b77a288f"
      },
      "source": [
        "entradas = historicoTeste.values\r\n",
        "entradas.shape"
      ],
      "execution_count": null,
      "outputs": [
        {
          "output_type": "execute_result",
          "data": {
            "text/plain": [
              "(62753, 13)"
            ]
          },
          "metadata": {
            "tags": []
          },
          "execution_count": 20
        }
      ]
    },
    {
      "cell_type": "code",
      "metadata": {
        "id": "-RgNTn9YQ2VS"
      },
      "source": [
        "X_teste = []\r\n",
        "Y_teste = []\r\n",
        "for i in range(len(entradas) - diasAnteriores,len(entradas)):\r\n",
        "    cargaTeste = entradas[(i - diasAnteriores):i,4]\r\n",
        "    cargaVerificada = entradas[i,4]\r\n",
        "    tempTeste = entradas[(i+1 - diasAnteriores):i+1,5]\r\n",
        "    vetorDiaSemana = entradas[(i+1 - diasAnteriores):i+1,6:]\r\n",
        "    \r\n",
        "    batchTeste = np.column_stack((cargaTeste,tempTeste,vetorDiaSemana))\r\n",
        "\r\n",
        "    X_teste.append(batchTeste)\r\n",
        "    Y_teste.append(cargaVerificada)\r\n",
        "    \r\n",
        "X_teste = np.array(X_teste)\r\n",
        "Y_teste = np.array(Y_teste)\r\n",
        "print(X_teste.shape)\r\n",
        "print(Y_teste.shape)"
      ],
      "execution_count": null,
      "outputs": []
    },
    {
      "cell_type": "code",
      "metadata": {
        "id": "eSwc4cBnUHeS"
      },
      "source": [
        "previsoes = model.predict(X_teste)"
      ],
      "execution_count": null,
      "outputs": []
    },
    {
      "cell_type": "code",
      "metadata": {
        "id": "fw4mPYf3VH9N"
      },
      "source": [
        "previsoes = normalizadorCarga.inverse_transform(previsoes)\r\n",
        "previsores"
      ],
      "execution_count": null,
      "outputs": []
    },
    {
      "cell_type": "code",
      "metadata": {
        "id": "OR_iuZWcV5ou",
        "colab": {
          "base_uri": "https://localhost:8080/"
        },
        "outputId": "ead6292f-353d-42cc-e2d4-87b7b77b9069"
      },
      "source": [
        "loss = tf.keras.losses.mean_absolute_percentage_error(Y_teste, previsoes[:,0]).numpy()\r\n",
        "loss"
      ],
      "execution_count": null,
      "outputs": [
        {
          "output_type": "execute_result",
          "data": {
            "text/plain": [
              "156.34515"
            ]
          },
          "metadata": {
            "tags": []
          },
          "execution_count": 47
        }
      ]
    },
    {
      "cell_type": "code",
      "metadata": {
        "id": "9fYj7Gdyvnpd"
      },
      "source": [
        "previsoes"
      ],
      "execution_count": null,
      "outputs": []
    },
    {
      "cell_type": "code",
      "metadata": {
        "id": "5Hh84rNUVMHI",
        "colab": {
          "base_uri": "https://localhost:8080/",
          "height": 295
        },
        "outputId": "9b205dc2-1a83-4709-fda6-1ba7bf83fc9f"
      },
      "source": [
        "axes = plt.gca()\r\n",
        "axes.set_xlim(696,720)\r\n",
        "plt.plot(Y_teste[:], color = \"black\", label = \"Carga Real Verificada\")\r\n",
        "plt.plot(previsoes[:], color = \"red\", label = \"Previsão Modelo Rede Neural\")\r\n",
        "plt.title(\"Carga semanal - SUDESTE\")\r\n",
        "plt.xlabel(\"Tempo [Horas]\")\r\n",
        "plt.ylabel(\"\")\r\n",
        "plt.legend()\r\n",
        "plt.show()"
      ],
      "execution_count": null,
      "outputs": [
        {
          "output_type": "display_data",
          "data": {
            "image/png": "[encoded data removed]",
            "text/plain": [
              "<Figure size 432x288 with 1 Axes>"
            ]
          },
          "metadata": {
            "tags": [],
            "needs_background": "light"
          }
        }
      ]
    }
  ]
}