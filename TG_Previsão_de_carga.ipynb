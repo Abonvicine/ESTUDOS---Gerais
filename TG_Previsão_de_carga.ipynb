{
  "nbformat": 4,
  "nbformat_minor": 0,
  "metadata": {
    "colab": {
      "name": "TG - Previsão de carga.ipynb",
      "provenance": [],
      "mount_file_id": "1tKdnCBr9Sb-FvQo5-uQIYk_agexd7ngo",
      "authorship_tag": "ABX9TyNDMqzbSNxHp97yJmtYQJms",
      "include_colab_link": true
    },
    "kernelspec": {
      "name": "python3",
      "display_name": "Python 3"
    }
  },
  "cells": [
    {
      "cell_type": "markdown",
      "metadata": {
        "id": "view-in-github",
        "colab_type": "text"
      },
      "source": [
        "<a href=\"https://colab.research.google.com/github/Abonvicine/ESTUDOS---Gerais/blob/main/TG_Previs%C3%A3o_de_carga.ipynb\" target=\"_parent\"><img src=\"https://colab.research.google.com/assets/colab-badge.svg\" alt=\"Open In Colab\"/></a>"
      ]
    },
    {
      "cell_type": "code",
      "metadata": {
        "id": "q-fX4gB8cJuR"
      },
      "source": [
        "from tensorflow import keras\r\n",
        "from keras.models import Sequential \r\n",
        "from keras.layers import Dense, Dropout, LSTM\r\n",
        "from keras.callbacks import EarlyStopping, ReduceLROnPlateau, ModelCheckpoint\r\n",
        "from sklearn.preprocessing import MinMaxScaler, StandardScaler\r\n",
        "from datetime import date\r\n",
        "\r\n",
        "import tensorflow as tf\r\n",
        "import pandas as pd\r\n",
        "import time\r\n",
        "import numpy as np\r\n",
        "import matplotlib.pyplot as plt\r\n",
        "import os"
      ],
      "execution_count": null,
      "outputs": []
    },
    {
      "cell_type": "code",
      "metadata": {
        "id": "a4USAxSSBxlH"
      },
      "source": [
        "%tensorflow_version 2.x\r\n",
        "import tensorflow as tf\r\n",
        "print(\"Tensorflow version \" + tf.__version__)\r\n",
        "\r\n",
        "try:\r\n",
        "  tpu = tf.distribute.cluster_resolver.TPUClusterResolver()  # TPU detection\r\n",
        "  print('Running on TPU ', tpu.cluster_spec().as_dict()['worker'])\r\n",
        "except ValueError:\r\n",
        "  raise BaseException('ERROR: Not connected to a TPU runtime; please see the previous cell in this notebook for instructions!')\r\n",
        "\r\n",
        "tf.config.experimental_connect_to_cluster(tpu)\r\n",
        "tf.tpu.experimental.initialize_tpu_system(tpu)\r\n",
        "tpu_strategy = tf.distribute.experimental.TPUStrategy(tpu)"
      ],
      "execution_count": null,
      "outputs": []
    },
    {
      "cell_type": "code",
      "metadata": {
        "id": "RG3u80XzNQ4s"
      },
      "source": [
        "hoje = date.today()\r\n",
        "hoje = str(hoje)"
      ],
      "execution_count": null,
      "outputs": []
    },
    {
      "cell_type": "code",
      "metadata": {
        "id": "usANetWmbY9Q"
      },
      "source": [
        "baseDIR = \"/content/drive/MyDrive/TG/DADOS SUDESTE\""
      ],
      "execution_count": null,
      "outputs": []
    },
    {
      "cell_type": "code",
      "metadata": {
        "id": "ML08mQFoccSS"
      },
      "source": [
        "historicoCarga = pd.read_csv(os.path.join(baseDIR,'SECO_2021-01-27_CARGAHIST.csv'),sep=\";\",decimal=\",\")\r\n",
        "historicoTemperatura = pd.read_csv(os.path.join(baseDIR,'SECO_2021-01-27_TEMPHIST.csv'),sep=\";\",decimal=\",\")"
      ],
      "execution_count": null,
      "outputs": []
    },
    {
      "cell_type": "code",
      "metadata": {
        "id": "zehrevfIlPIx",
        "colab": {
          "base_uri": "https://localhost:8080/",
          "height": 419
        },
        "outputId": "de8f304a-62fa-49e9-ec71-8b8156ee83ed"
      },
      "source": [
        "historico = historicoCarga.merge(historicoTemperatura)\r\n",
        "historico = historico.drop([\"Min\"], axis = 1 )\r\n",
        "historico"
      ],
      "execution_count": null,
      "outputs": [
        {
          "output_type": "execute_result",
          "data": {
            "text/html": [
              "<div>\n",
              "<style scoped>\n",
              "    .dataframe tbody tr th:only-of-type {\n",
              "        vertical-align: middle;\n",
              "    }\n",
              "\n",
              "    .dataframe tbody tr th {\n",
              "        vertical-align: top;\n",
              "    }\n",
              "\n",
              "    .dataframe thead th {\n",
              "        text-align: right;\n",
              "    }\n",
              "</style>\n",
              "<table border=\"1\" class=\"dataframe\">\n",
              "  <thead>\n",
              "    <tr style=\"text-align: right;\">\n",
              "      <th></th>\n",
              "      <th>Ano</th>\n",
              "      <th>Mes</th>\n",
              "      <th>Dia</th>\n",
              "      <th>Hora</th>\n",
              "      <th>Carga</th>\n",
              "      <th>Temperatura</th>\n",
              "    </tr>\n",
              "  </thead>\n",
              "  <tbody>\n",
              "    <tr>\n",
              "      <th>0</th>\n",
              "      <td>2014</td>\n",
              "      <td>1</td>\n",
              "      <td>1</td>\n",
              "      <td>1</td>\n",
              "      <td>31681.2</td>\n",
              "      <td>24.648</td>\n",
              "    </tr>\n",
              "    <tr>\n",
              "      <th>1</th>\n",
              "      <td>2014</td>\n",
              "      <td>1</td>\n",
              "      <td>1</td>\n",
              "      <td>2</td>\n",
              "      <td>31475.9</td>\n",
              "      <td>24.530</td>\n",
              "    </tr>\n",
              "    <tr>\n",
              "      <th>2</th>\n",
              "      <td>2014</td>\n",
              "      <td>1</td>\n",
              "      <td>1</td>\n",
              "      <td>3</td>\n",
              "      <td>30848.3</td>\n",
              "      <td>23.857</td>\n",
              "    </tr>\n",
              "    <tr>\n",
              "      <th>3</th>\n",
              "      <td>2014</td>\n",
              "      <td>1</td>\n",
              "      <td>1</td>\n",
              "      <td>4</td>\n",
              "      <td>29885.6</td>\n",
              "      <td>23.857</td>\n",
              "    </tr>\n",
              "    <tr>\n",
              "      <th>4</th>\n",
              "      <td>2014</td>\n",
              "      <td>1</td>\n",
              "      <td>1</td>\n",
              "      <td>5</td>\n",
              "      <td>29157.3</td>\n",
              "      <td>23.759</td>\n",
              "    </tr>\n",
              "    <tr>\n",
              "      <th>...</th>\n",
              "      <td>...</td>\n",
              "      <td>...</td>\n",
              "      <td>...</td>\n",
              "      <td>...</td>\n",
              "      <td>...</td>\n",
              "      <td>...</td>\n",
              "    </tr>\n",
              "    <tr>\n",
              "      <th>61986</th>\n",
              "      <td>2021</td>\n",
              "      <td>1</td>\n",
              "      <td>26</td>\n",
              "      <td>19</td>\n",
              "      <td>44932.8</td>\n",
              "      <td>27.639</td>\n",
              "    </tr>\n",
              "    <tr>\n",
              "      <th>61987</th>\n",
              "      <td>2021</td>\n",
              "      <td>1</td>\n",
              "      <td>26</td>\n",
              "      <td>20</td>\n",
              "      <td>47868.2</td>\n",
              "      <td>26.278</td>\n",
              "    </tr>\n",
              "    <tr>\n",
              "      <th>61988</th>\n",
              "      <td>2021</td>\n",
              "      <td>1</td>\n",
              "      <td>26</td>\n",
              "      <td>21</td>\n",
              "      <td>48407.8</td>\n",
              "      <td>25.949</td>\n",
              "    </tr>\n",
              "    <tr>\n",
              "      <th>61989</th>\n",
              "      <td>2021</td>\n",
              "      <td>1</td>\n",
              "      <td>26</td>\n",
              "      <td>22</td>\n",
              "      <td>48234.6</td>\n",
              "      <td>25.507</td>\n",
              "    </tr>\n",
              "    <tr>\n",
              "      <th>61990</th>\n",
              "      <td>2021</td>\n",
              "      <td>1</td>\n",
              "      <td>26</td>\n",
              "      <td>23</td>\n",
              "      <td>46777.5</td>\n",
              "      <td>24.945</td>\n",
              "    </tr>\n",
              "  </tbody>\n",
              "</table>\n",
              "<p>61991 rows × 6 columns</p>\n",
              "</div>"
            ],
            "text/plain": [
              "        Ano  Mes  Dia  Hora    Carga  Temperatura\n",
              "0      2014    1    1     1  31681.2       24.648\n",
              "1      2014    1    1     2  31475.9       24.530\n",
              "2      2014    1    1     3  30848.3       23.857\n",
              "3      2014    1    1     4  29885.6       23.857\n",
              "4      2014    1    1     5  29157.3       23.759\n",
              "...     ...  ...  ...   ...      ...          ...\n",
              "61986  2021    1   26    19  44932.8       27.639\n",
              "61987  2021    1   26    20  47868.2       26.278\n",
              "61988  2021    1   26    21  48407.8       25.949\n",
              "61989  2021    1   26    22  48234.6       25.507\n",
              "61990  2021    1   26    23  46777.5       24.945\n",
              "\n",
              "[61991 rows x 6 columns]"
            ]
          },
          "metadata": {
            "tags": []
          },
          "execution_count": 5
        }
      ]
    },
    {
      "cell_type": "code",
      "metadata": {
        "id": "7UkAj4qGn8zq",
        "colab": {
          "base_uri": "https://localhost:8080/",
          "height": 419
        },
        "outputId": "33746f13-9bf3-4a25-e538-b7fe540529bb"
      },
      "source": [
        "normalizadorCarga = MinMaxScaler( feature_range=(0,1))\r\n",
        "normalizadorTemp= MinMaxScaler( feature_range=(0,1))\r\n",
        "# normalizador = StandardScaler()\r\n",
        "historico[[\"Carga\"]] = normalizadorCarga.fit_transform(historico[[\"Carga\"]])\r\n",
        "historico[[\"Temperatura\"]] = normalizadorTemp.fit_transform(historico[[\"Temperatura\"]])\r\n",
        "historico = historico.dropna()\r\n",
        "historico"
      ],
      "execution_count": null,
      "outputs": [
        {
          "output_type": "execute_result",
          "data": {
            "text/html": [
              "<div>\n",
              "<style scoped>\n",
              "    .dataframe tbody tr th:only-of-type {\n",
              "        vertical-align: middle;\n",
              "    }\n",
              "\n",
              "    .dataframe tbody tr th {\n",
              "        vertical-align: top;\n",
              "    }\n",
              "\n",
              "    .dataframe thead th {\n",
              "        text-align: right;\n",
              "    }\n",
              "</style>\n",
              "<table border=\"1\" class=\"dataframe\">\n",
              "  <thead>\n",
              "    <tr style=\"text-align: right;\">\n",
              "      <th></th>\n",
              "      <th>Ano</th>\n",
              "      <th>Mes</th>\n",
              "      <th>Dia</th>\n",
              "      <th>Hora</th>\n",
              "      <th>Carga</th>\n",
              "      <th>Temperatura</th>\n",
              "    </tr>\n",
              "  </thead>\n",
              "  <tbody>\n",
              "    <tr>\n",
              "      <th>0</th>\n",
              "      <td>2014</td>\n",
              "      <td>1</td>\n",
              "      <td>1</td>\n",
              "      <td>1</td>\n",
              "      <td>0.329023</td>\n",
              "      <td>0.623677</td>\n",
              "    </tr>\n",
              "    <tr>\n",
              "      <th>1</th>\n",
              "      <td>2014</td>\n",
              "      <td>1</td>\n",
              "      <td>1</td>\n",
              "      <td>2</td>\n",
              "      <td>0.322514</td>\n",
              "      <td>0.619916</td>\n",
              "    </tr>\n",
              "    <tr>\n",
              "      <th>2</th>\n",
              "      <td>2014</td>\n",
              "      <td>1</td>\n",
              "      <td>1</td>\n",
              "      <td>3</td>\n",
              "      <td>0.302616</td>\n",
              "      <td>0.598464</td>\n",
              "    </tr>\n",
              "    <tr>\n",
              "      <th>3</th>\n",
              "      <td>2014</td>\n",
              "      <td>1</td>\n",
              "      <td>1</td>\n",
              "      <td>4</td>\n",
              "      <td>0.272095</td>\n",
              "      <td>0.598464</td>\n",
              "    </tr>\n",
              "    <tr>\n",
              "      <th>4</th>\n",
              "      <td>2014</td>\n",
              "      <td>1</td>\n",
              "      <td>1</td>\n",
              "      <td>5</td>\n",
              "      <td>0.249004</td>\n",
              "      <td>0.595340</td>\n",
              "    </tr>\n",
              "    <tr>\n",
              "      <th>...</th>\n",
              "      <td>...</td>\n",
              "      <td>...</td>\n",
              "      <td>...</td>\n",
              "      <td>...</td>\n",
              "      <td>...</td>\n",
              "      <td>...</td>\n",
              "    </tr>\n",
              "    <tr>\n",
              "      <th>61986</th>\n",
              "      <td>2021</td>\n",
              "      <td>1</td>\n",
              "      <td>26</td>\n",
              "      <td>19</td>\n",
              "      <td>0.749153</td>\n",
              "      <td>0.719017</td>\n",
              "    </tr>\n",
              "    <tr>\n",
              "      <th>61987</th>\n",
              "      <td>2021</td>\n",
              "      <td>1</td>\n",
              "      <td>26</td>\n",
              "      <td>20</td>\n",
              "      <td>0.842218</td>\n",
              "      <td>0.675634</td>\n",
              "    </tr>\n",
              "    <tr>\n",
              "      <th>61988</th>\n",
              "      <td>2021</td>\n",
              "      <td>1</td>\n",
              "      <td>26</td>\n",
              "      <td>21</td>\n",
              "      <td>0.859325</td>\n",
              "      <td>0.665147</td>\n",
              "    </tr>\n",
              "    <tr>\n",
              "      <th>61989</th>\n",
              "      <td>2021</td>\n",
              "      <td>1</td>\n",
              "      <td>26</td>\n",
              "      <td>22</td>\n",
              "      <td>0.853834</td>\n",
              "      <td>0.651058</td>\n",
              "    </tr>\n",
              "    <tr>\n",
              "      <th>61990</th>\n",
              "      <td>2021</td>\n",
              "      <td>1</td>\n",
              "      <td>26</td>\n",
              "      <td>23</td>\n",
              "      <td>0.807638</td>\n",
              "      <td>0.633144</td>\n",
              "    </tr>\n",
              "  </tbody>\n",
              "</table>\n",
              "<p>61985 rows × 6 columns</p>\n",
              "</div>"
            ],
            "text/plain": [
              "        Ano  Mes  Dia  Hora     Carga  Temperatura\n",
              "0      2014    1    1     1  0.329023     0.623677\n",
              "1      2014    1    1     2  0.322514     0.619916\n",
              "2      2014    1    1     3  0.302616     0.598464\n",
              "3      2014    1    1     4  0.272095     0.598464\n",
              "4      2014    1    1     5  0.249004     0.595340\n",
              "...     ...  ...  ...   ...       ...          ...\n",
              "61986  2021    1   26    19  0.749153     0.719017\n",
              "61987  2021    1   26    20  0.842218     0.675634\n",
              "61988  2021    1   26    21  0.859325     0.665147\n",
              "61989  2021    1   26    22  0.853834     0.651058\n",
              "61990  2021    1   26    23  0.807638     0.633144\n",
              "\n",
              "[61985 rows x 6 columns]"
            ]
          },
          "metadata": {
            "tags": []
          },
          "execution_count": 25
        }
      ]
    },
    {
      "cell_type": "code",
      "metadata": {
        "id": "EeL1PthTzb1m",
        "colab": {
          "base_uri": "https://localhost:8080/",
          "height": 282
        },
        "outputId": "1c934072-568b-470c-aedd-ecf165424600"
      },
      "source": [
        "plt.plot(historico[\"Temperatura\"])"
      ],
      "execution_count": null,
      "outputs": [
        {
          "output_type": "execute_result",
          "data": {
            "text/plain": [
              "[<matplotlib.lines.Line2D at 0x7f3062613b38>]"
            ]
          },
          "metadata": {
            "tags": []
          },
          "execution_count": 8
        },
        {
          "output_type": "display_data",
          "data": {
            "image/png": "[encoded data removed]",
            "text/plain": [
              "<Figure size 432x288 with 1 Axes>"
            ]
          },
          "metadata": {
            "tags": [],
            "needs_background": "light"
          }
        }
      ]
    },
    {
      "cell_type": "code",
      "metadata": {
        "id": "wkMOvAoAsz-q"
      },
      "source": [
        "base = historico.values\r\n",
        "base"
      ],
      "execution_count": null,
      "outputs": []
    },
    {
      "cell_type": "code",
      "metadata": {
        "id": "pfyI3gG8m4T5"
      },
      "source": [
        "diasAnteriores = 30*24"
      ],
      "execution_count": null,
      "outputs": []
    },
    {
      "cell_type": "code",
      "metadata": {
        "id": "hYD5p1OAnDpS"
      },
      "source": [
        "carga = []\r\n",
        "temp = []\r\n",
        "previsores = []\r\n",
        "valorReal = []\r\n",
        "batch = []\r\n",
        "\r\n",
        "for i in range(diasAnteriores,len(base)):\r\n",
        "    carga = base[(i - diasAnteriores):i,5]\r\n",
        "    temp = base[(i+1 - diasAnteriores):i+1,4]\r\n",
        "\r\n",
        "    batch = np.column_stack((carga,temp))\r\n",
        "\r\n",
        "    previsores.append(batch)    \r\n",
        "    valorReal.append(base[i, 5])\r\n",
        "\r\n",
        "previsores, valorReal = np.array(previsores), np.array(valorReal)\r\n",
        "print(previsores)\r\n",
        "print(previsores.shape)\r\n",
        "valorReal"
      ],
      "execution_count": null,
      "outputs": []
    },
    {
      "cell_type": "code",
      "metadata": {
        "id": "flVyssR0tUbx"
      },
      "source": [
        "def createModel():\r\n",
        "    model = Sequential()\r\n",
        "\r\n",
        "    model.add(LSTM(units=100, return_sequences = True,input_shape = (previsores.shape[1],2)))\r\n",
        "    model.add(Dropout(0.3))\r\n",
        "\r\n",
        "    # model.add(LSTM(units = 50, return_sequences = True))\r\n",
        "    # model.add(Dropout(0.3))\r\n",
        "\r\n",
        "    # model.add(LSTM(units = 50, return_sequences = True))\r\n",
        "    # model.add(Dropout(0.3))\r\n",
        "\r\n",
        "    model.add(LSTM(units = 50))\r\n",
        "    model.add(Dropout(0.3))\r\n",
        "\r\n",
        "    model.add(Dense(units = 1, activation= \"sigmoid\"))\r\n",
        "\r\n",
        "\r\n",
        "\r\n",
        "    model.compile(optimizer = \"adam\", loss = \"mean_squared_error\", metrics = [\"mean_absolute_error\"])\r\n",
        "\r\n",
        "    es = EarlyStopping(monitor = \"loss\", min_delta = 1e-10, patience = 10, verbose = 1)\r\n",
        "    rlr = ReduceLROnPlateau(monitor = \"loss\", factor = 0.2, patience = 5, verbose = 1)\r\n",
        "    mcp = ModelCheckpoint(filepath=f\"pesos-{hoje}.h5\", monitor = \"loss\", save_best_only = True, verbose=1)\r\n",
        "\r\n",
        "    return model"
      ],
      "execution_count": null,
      "outputs": []
    },
    {
      "cell_type": "code",
      "metadata": {
        "id": "hsCegQcZIaXA"
      },
      "source": [
        "with tpu_strategy.scope(): # creating the model in the TPUStrategy scope means we will train the model on the TPU\r\n",
        "  model = createModel()\r\n",
        "model.summary()"
      ],
      "execution_count": null,
      "outputs": []
    },
    {
      "cell_type": "code",
      "metadata": {
        "id": "Wln0vX91uweT"
      },
      "source": [
        "model.fit(previsores, valorReal, epochs = 100, batch_size = 32, callbacks=[es,rlr,mcp])"
      ],
      "execution_count": null,
      "outputs": []
    },
    {
      "cell_type": "code",
      "metadata": {
        "id": "yOKfB_bHQqBC"
      },
      "source": [
        "model = keras.models.load_model('/content/pesos-2021-02-02.h5')"
      ],
      "execution_count": null,
      "outputs": []
    },
    {
      "cell_type": "code",
      "metadata": {
        "id": "7Ug-vt9FR4Jd",
        "colab": {
          "base_uri": "https://localhost:8080/"
        },
        "outputId": "b1dbbf97-2152-4bfb-a0c9-743a2d82f70c"
      },
      "source": [
        "model.summary()"
      ],
      "execution_count": null,
      "outputs": [
        {
          "output_type": "stream",
          "text": [
            "Model: \"sequential_5\"\n",
            "_________________________________________________________________\n",
            "Layer (type)                 Output Shape              Param #   \n",
            "=================================================================\n",
            "lstm_9 (LSTM)                (None, 720, 100)          41200     \n",
            "_________________________________________________________________\n",
            "dropout_9 (Dropout)          (None, 720, 100)          0         \n",
            "_________________________________________________________________\n",
            "lstm_10 (LSTM)               (None, 50)                30200     \n",
            "_________________________________________________________________\n",
            "dropout_10 (Dropout)         (None, 50)                0         \n",
            "_________________________________________________________________\n",
            "dense_5 (Dense)              (None, 1)                 51        \n",
            "=================================================================\n",
            "Total params: 71,451\n",
            "Trainable params: 71,451\n",
            "Non-trainable params: 0\n",
            "_________________________________________________________________\n"
          ],
          "name": "stdout"
        }
      ]
    },
    {
      "cell_type": "code",
      "metadata": {
        "id": "zKD7RDzrNfl0"
      },
      "source": [
        "testeDIR = \"/content/drive/MyDrive/TG/TESTE\" "
      ],
      "execution_count": null,
      "outputs": []
    },
    {
      "cell_type": "code",
      "metadata": {
        "id": "S9rOzJmNNdpZ"
      },
      "source": [
        "historicoCargaTeste = pd.read_csv(os.path.join(testeDIR,'SECO_2021-01-31_CARGAHIST.csv'),sep=\";\",decimal=\",\")\r\n",
        "historicoTemperaturaTeste = pd.read_csv(os.path.join(testeDIR,'SECO_2021-01-31_TEMPHIST.csv'),sep=\";\",decimal=\",\")"
      ],
      "execution_count": null,
      "outputs": []
    },
    {
      "cell_type": "code",
      "metadata": {
        "id": "ziQpUzUcNWI7"
      },
      "source": [
        "historicoTeste = historicoCargaTeste.merge(historicoTemperaturaTeste)\r\n",
        "historicoTeste = historicoTeste.drop([\"Min\"], axis = 1 )\r\n",
        "valorRealTeste = historicoTeste.iloc[:, 4].values\r\n",
        "valorRealTeste\r\n",
        "\r\n",
        "Y_teste = []\r\n",
        "\r\n",
        "for i in range(1,len(valorRealTeste)):\r\n",
        "    Y_teste.append(valorRealTeste[i])\r\n",
        "\r\n",
        "Y_teste = np.array(Y_teste)\r\n",
        "Y_teste.shape"
      ],
      "execution_count": null,
      "outputs": []
    },
    {
      "cell_type": "code",
      "metadata": {
        "colab": {
          "base_uri": "https://localhost:8080/"
        },
        "id": "XoC0rplCwXN5",
        "outputId": "7a7edfc3-21a4-4094-8075-813923ca54ea"
      },
      "source": [
        "Y_teste"
      ],
      "execution_count": null,
      "outputs": [
        {
          "output_type": "execute_result",
          "data": {
            "text/plain": [
              "array([31475.9, 30848.3, 29885.6, ..., 47910.1, 46934.1, 45655.1])"
            ]
          },
          "metadata": {
            "tags": []
          },
          "execution_count": 75
        }
      ]
    },
    {
      "cell_type": "code",
      "metadata": {
        "id": "EGz5XOkVP310"
      },
      "source": [
        "historicoTeste[[\"Carga\"]] = normalizadorCarga.fit_transform(historicoTeste[[\"Carga\"]])\r\n",
        "historicoTeste[[\"Temperatura\"]] = normalizadorTemp.fit_transform(historicoTeste[[\"Temperatura\"]])"
      ],
      "execution_count": null,
      "outputs": []
    },
    {
      "cell_type": "code",
      "metadata": {
        "id": "eQ99DgmrQImz",
        "colab": {
          "base_uri": "https://localhost:8080/",
          "height": 419
        },
        "outputId": "cde5e6e8-020d-48dd-cf23-4572e3e639b9"
      },
      "source": [
        "historicoTeste"
      ],
      "execution_count": null,
      "outputs": [
        {
          "output_type": "execute_result",
          "data": {
            "text/html": [
              "<div>\n",
              "<style scoped>\n",
              "    .dataframe tbody tr th:only-of-type {\n",
              "        vertical-align: middle;\n",
              "    }\n",
              "\n",
              "    .dataframe tbody tr th {\n",
              "        vertical-align: top;\n",
              "    }\n",
              "\n",
              "    .dataframe thead th {\n",
              "        text-align: right;\n",
              "    }\n",
              "</style>\n",
              "<table border=\"1\" class=\"dataframe\">\n",
              "  <thead>\n",
              "    <tr style=\"text-align: right;\">\n",
              "      <th></th>\n",
              "      <th>Ano</th>\n",
              "      <th>Mes</th>\n",
              "      <th>Dia</th>\n",
              "      <th>Hora</th>\n",
              "      <th>Carga</th>\n",
              "      <th>Temperatura</th>\n",
              "    </tr>\n",
              "  </thead>\n",
              "  <tbody>\n",
              "    <tr>\n",
              "      <th>0</th>\n",
              "      <td>2014</td>\n",
              "      <td>1</td>\n",
              "      <td>1</td>\n",
              "      <td>1</td>\n",
              "      <td>0.329023</td>\n",
              "      <td>0.623677</td>\n",
              "    </tr>\n",
              "    <tr>\n",
              "      <th>1</th>\n",
              "      <td>2014</td>\n",
              "      <td>1</td>\n",
              "      <td>1</td>\n",
              "      <td>2</td>\n",
              "      <td>0.322514</td>\n",
              "      <td>0.619916</td>\n",
              "    </tr>\n",
              "    <tr>\n",
              "      <th>2</th>\n",
              "      <td>2014</td>\n",
              "      <td>1</td>\n",
              "      <td>1</td>\n",
              "      <td>3</td>\n",
              "      <td>0.302616</td>\n",
              "      <td>0.598464</td>\n",
              "    </tr>\n",
              "    <tr>\n",
              "      <th>3</th>\n",
              "      <td>2014</td>\n",
              "      <td>1</td>\n",
              "      <td>1</td>\n",
              "      <td>4</td>\n",
              "      <td>0.272095</td>\n",
              "      <td>0.598464</td>\n",
              "    </tr>\n",
              "    <tr>\n",
              "      <th>4</th>\n",
              "      <td>2014</td>\n",
              "      <td>1</td>\n",
              "      <td>1</td>\n",
              "      <td>5</td>\n",
              "      <td>0.249004</td>\n",
              "      <td>0.595340</td>\n",
              "    </tr>\n",
              "    <tr>\n",
              "      <th>...</th>\n",
              "      <td>...</td>\n",
              "      <td>...</td>\n",
              "      <td>...</td>\n",
              "      <td>...</td>\n",
              "      <td>...</td>\n",
              "      <td>...</td>\n",
              "    </tr>\n",
              "    <tr>\n",
              "      <th>62082</th>\n",
              "      <td>2021</td>\n",
              "      <td>1</td>\n",
              "      <td>30</td>\n",
              "      <td>19</td>\n",
              "      <td>0.737879</td>\n",
              "      <td>0.768265</td>\n",
              "    </tr>\n",
              "    <tr>\n",
              "      <th>62083</th>\n",
              "      <td>2021</td>\n",
              "      <td>1</td>\n",
              "      <td>30</td>\n",
              "      <td>20</td>\n",
              "      <td>0.848223</td>\n",
              "      <td>0.732182</td>\n",
              "    </tr>\n",
              "    <tr>\n",
              "      <th>62084</th>\n",
              "      <td>2021</td>\n",
              "      <td>1</td>\n",
              "      <td>30</td>\n",
              "      <td>21</td>\n",
              "      <td>0.843546</td>\n",
              "      <td>0.687396</td>\n",
              "    </tr>\n",
              "    <tr>\n",
              "      <th>62085</th>\n",
              "      <td>2021</td>\n",
              "      <td>1</td>\n",
              "      <td>30</td>\n",
              "      <td>22</td>\n",
              "      <td>0.812603</td>\n",
              "      <td>0.656636</td>\n",
              "    </tr>\n",
              "    <tr>\n",
              "      <th>62086</th>\n",
              "      <td>2021</td>\n",
              "      <td>1</td>\n",
              "      <td>30</td>\n",
              "      <td>23</td>\n",
              "      <td>0.772053</td>\n",
              "      <td>0.649751</td>\n",
              "    </tr>\n",
              "  </tbody>\n",
              "</table>\n",
              "<p>62087 rows × 6 columns</p>\n",
              "</div>"
            ],
            "text/plain": [
              "        Ano  Mes  Dia  Hora     Carga  Temperatura\n",
              "0      2014    1    1     1  0.329023     0.623677\n",
              "1      2014    1    1     2  0.322514     0.619916\n",
              "2      2014    1    1     3  0.302616     0.598464\n",
              "3      2014    1    1     4  0.272095     0.598464\n",
              "4      2014    1    1     5  0.249004     0.595340\n",
              "...     ...  ...  ...   ...       ...          ...\n",
              "62082  2021    1   30    19  0.737879     0.768265\n",
              "62083  2021    1   30    20  0.848223     0.732182\n",
              "62084  2021    1   30    21  0.843546     0.687396\n",
              "62085  2021    1   30    22  0.812603     0.656636\n",
              "62086  2021    1   30    23  0.772053     0.649751\n",
              "\n",
              "[62087 rows x 6 columns]"
            ]
          },
          "metadata": {
            "tags": []
          },
          "execution_count": 65
        }
      ]
    },
    {
      "cell_type": "code",
      "metadata": {
        "id": "ZYtF1SKjOSq0",
        "colab": {
          "base_uri": "https://localhost:8080/"
        },
        "outputId": "2f39204c-9b90-459f-d88e-d8b3a8024eab"
      },
      "source": [
        "entradas = historicoTeste.values\r\n",
        "entradas.shape"
      ],
      "execution_count": null,
      "outputs": [
        {
          "output_type": "execute_result",
          "data": {
            "text/plain": [
              "(62087, 6)"
            ]
          },
          "metadata": {
            "tags": []
          },
          "execution_count": 66
        }
      ]
    },
    {
      "cell_type": "code",
      "metadata": {
        "id": "-RgNTn9YQ2VS",
        "colab": {
          "base_uri": "https://localhost:8080/"
        },
        "outputId": "3d61daeb-6081-4e76-b7eb-e68c09e8331a"
      },
      "source": [
        "X_teste = []\r\n",
        "\r\n",
        "for i in range(len(entradas) - diasAnteriores,len(entradas)):\r\n",
        "    cargaTeste = entradas[(i - diasAnteriores):i,5]\r\n",
        "    tempTeste = entradas[(i+1 - diasAnteriores):i+1,4]\r\n",
        "    \r\n",
        "    batchTeste = np.column_stack((cargaTeste,tempTeste))\r\n",
        "\r\n",
        "    X_teste.append(batchTeste)\r\n",
        "    \r\n",
        "X_teste = np.array(X_teste)\r\n",
        "X_teste.shape"
      ],
      "execution_count": null,
      "outputs": [
        {
          "output_type": "execute_result",
          "data": {
            "text/plain": [
              "(720, 720, 2)"
            ]
          },
          "metadata": {
            "tags": []
          },
          "execution_count": 67
        }
      ]
    },
    {
      "cell_type": "code",
      "metadata": {
        "id": "eSwc4cBnUHeS"
      },
      "source": [
        "previsoes = model.predict(X_teste)"
      ],
      "execution_count": null,
      "outputs": []
    },
    {
      "cell_type": "code",
      "metadata": {
        "id": "fw4mPYf3VH9N"
      },
      "source": [
        "previsoes = normalizadorCarga.inverse_transform(previsoes)"
      ],
      "execution_count": null,
      "outputs": []
    },
    {
      "cell_type": "code",
      "metadata": {
        "id": "9fYj7Gdyvnpd"
      },
      "source": [
        "previsoes"
      ],
      "execution_count": null,
      "outputs": []
    },
    {
      "cell_type": "code",
      "metadata": {
        "id": "5Hh84rNUVMHI",
        "colab": {
          "base_uri": "https://localhost:8080/"
        },
        "outputId": "cfbe4eab-a9f8-4478-956d-ab80162df01a"
      },
      "source": [
        "axes = plt.gca()\r\n",
        "axes.set_xlim([0,720])\r\n",
        "plt.plot(Y_teste[:], color = \"black\", label = \"Carga Real\")\r\n",
        "plt.plot(previsoes[:], color = \"red\", label = \"Previsão RNN\")\r\n",
        "plt.xlabel(\"Tempo [Horas]\")\r\n",
        "plt.ylabel(\"\")\r\n",
        "plt.legend()\r\n",
        "plt.show()"
      ],
      "execution_count": null,
      "outputs": [
        {
          "output_type": "display_data",
          "data": {
            "image/png": "[encoded data removed]",
            "text/plain": [
              "<Figure size 432x288 with 1 Axes>"
            ]
          },
          "metadata": {
            "tags": [],
            "needs_background": "light"
          }
        }
      ]
    }
  ]
}