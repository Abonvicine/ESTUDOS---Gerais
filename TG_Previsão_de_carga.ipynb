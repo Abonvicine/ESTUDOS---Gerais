{
  "nbformat": 4,
  "nbformat_minor": 0,
  "metadata": {
    "colab": {
      "name": "TG - Previsão de carga.ipynb",
      "provenance": [],
      "collapsed_sections": [],
      "mount_file_id": "1tKdnCBr9Sb-FvQo5-uQIYk_agexd7ngo",
      "authorship_tag": "ABX9TyOh3uawK7XKsPSNa8s0ESKd",
      "include_colab_link": true
    },
    "kernelspec": {
      "name": "python3",
      "display_name": "Python 3"
    },
    "accelerator": "TPU"
  },
  "cells": [
    {
      "cell_type": "markdown",
      "metadata": {
        "id": "view-in-github",
        "colab_type": "text"
      },
      "source": [
        "<a href=\"https://colab.research.google.com/github/Abonvicine/ESTUDOS---Gerais/blob/main/TG_Previs%C3%A3o_de_carga.ipynb\" target=\"_parent\"><img src=\"https://colab.research.google.com/assets/colab-badge.svg\" alt=\"Open In Colab\"/></a>"
      ]
    },
    {
      "cell_type": "code",
      "metadata": {
        "id": "q-fX4gB8cJuR"
      },
      "source": [
        "from tensorflow import keras\r\n",
        "from keras.models import Sequential \r\n",
        "from keras.layers import Dense, Dropout, LSTM\r\n",
        "from keras.callbacks import EarlyStopping, ReduceLROnPlateau, ModelCheckpoint\r\n",
        "from sklearn.preprocessing import MinMaxScaler, StandardScaler, OneHotEncoder\r\n",
        "from datetime import date\r\n",
        "\r\n",
        "import tensorflow as tf\r\n",
        "import pandas as pd\r\n",
        "import time\r\n",
        "import numpy as np\r\n",
        "import matplotlib.pyplot as plt\r\n",
        "import os"
      ],
      "execution_count": 2,
      "outputs": []
    },
    {
      "cell_type": "code",
      "metadata": {
        "id": "a4USAxSSBxlH",
        "colab": {
          "base_uri": "https://localhost:8080/"
        },
        "outputId": "65388c3f-c37b-4264-8ee6-075b5e970096"
      },
      "source": [
        "%tensorflow_version 2.x\r\n",
        "import tensorflow as tf\r\n",
        "print(\"Tensorflow version \" + tf.__version__)\r\n",
        "\r\n",
        "try:\r\n",
        "  tpu = tf.distribute.cluster_resolver.TPUClusterResolver()  # TPU detection\r\n",
        "  print('Running on TPU ', tpu.cluster_spec().as_dict()['worker'])\r\n",
        "except ValueError:\r\n",
        "  raise BaseException('ERROR: Not connected to a TPU runtime; please see the previous cell in this notebook for instructions!')\r\n",
        "\r\n",
        "tf.config.experimental_connect_to_cluster(tpu)\r\n",
        "tf.tpu.experimental.initialize_tpu_system(tpu)\r\n",
        "tpu_strategy = tf.distribute.experimental.TPUStrategy(tpu)"
      ],
      "execution_count": 3,
      "outputs": [
        {
          "output_type": "stream",
          "text": [
            "Tensorflow version 2.4.1\n",
            "Running on TPU  ['10.60.183.50:8470']\n",
            "INFO:tensorflow:Initializing the TPU system: grpc://10.60.183.50:8470\n"
          ],
          "name": "stdout"
        },
        {
          "output_type": "stream",
          "text": [
            "INFO:tensorflow:Initializing the TPU system: grpc://10.60.183.50:8470\n"
          ],
          "name": "stderr"
        },
        {
          "output_type": "stream",
          "text": [
            "INFO:tensorflow:Clearing out eager caches\n"
          ],
          "name": "stdout"
        },
        {
          "output_type": "stream",
          "text": [
            "INFO:tensorflow:Clearing out eager caches\n"
          ],
          "name": "stderr"
        },
        {
          "output_type": "stream",
          "text": [
            "INFO:tensorflow:Finished initializing TPU system.\n"
          ],
          "name": "stdout"
        },
        {
          "output_type": "stream",
          "text": [
            "INFO:tensorflow:Finished initializing TPU system.\n",
            "WARNING:absl:`tf.distribute.experimental.TPUStrategy` is deprecated, please use  the non experimental symbol `tf.distribute.TPUStrategy` instead.\n"
          ],
          "name": "stderr"
        },
        {
          "output_type": "stream",
          "text": [
            "INFO:tensorflow:Found TPU system:\n"
          ],
          "name": "stdout"
        },
        {
          "output_type": "stream",
          "text": [
            "INFO:tensorflow:Found TPU system:\n"
          ],
          "name": "stderr"
        },
        {
          "output_type": "stream",
          "text": [
            "INFO:tensorflow:*** Num TPU Cores: 8\n"
          ],
          "name": "stdout"
        },
        {
          "output_type": "stream",
          "text": [
            "INFO:tensorflow:*** Num TPU Cores: 8\n"
          ],
          "name": "stderr"
        },
        {
          "output_type": "stream",
          "text": [
            "INFO:tensorflow:*** Num TPU Workers: 1\n"
          ],
          "name": "stdout"
        },
        {
          "output_type": "stream",
          "text": [
            "INFO:tensorflow:*** Num TPU Workers: 1\n"
          ],
          "name": "stderr"
        },
        {
          "output_type": "stream",
          "text": [
            "INFO:tensorflow:*** Num TPU Cores Per Worker: 8\n"
          ],
          "name": "stdout"
        },
        {
          "output_type": "stream",
          "text": [
            "INFO:tensorflow:*** Num TPU Cores Per Worker: 8\n"
          ],
          "name": "stderr"
        },
        {
          "output_type": "stream",
          "text": [
            "INFO:tensorflow:*** Available Device: _DeviceAttributes(/job:localhost/replica:0/task:0/device:CPU:0, CPU, 0, 0)\n"
          ],
          "name": "stdout"
        },
        {
          "output_type": "stream",
          "text": [
            "INFO:tensorflow:*** Available Device: _DeviceAttributes(/job:localhost/replica:0/task:0/device:CPU:0, CPU, 0, 0)\n"
          ],
          "name": "stderr"
        },
        {
          "output_type": "stream",
          "text": [
            "INFO:tensorflow:*** Available Device: _DeviceAttributes(/job:worker/replica:0/task:0/device:CPU:0, CPU, 0, 0)\n"
          ],
          "name": "stdout"
        },
        {
          "output_type": "stream",
          "text": [
            "INFO:tensorflow:*** Available Device: _DeviceAttributes(/job:worker/replica:0/task:0/device:CPU:0, CPU, 0, 0)\n"
          ],
          "name": "stderr"
        },
        {
          "output_type": "stream",
          "text": [
            "INFO:tensorflow:*** Available Device: _DeviceAttributes(/job:worker/replica:0/task:0/device:TPU:0, TPU, 0, 0)\n"
          ],
          "name": "stdout"
        },
        {
          "output_type": "stream",
          "text": [
            "INFO:tensorflow:*** Available Device: _DeviceAttributes(/job:worker/replica:0/task:0/device:TPU:0, TPU, 0, 0)\n"
          ],
          "name": "stderr"
        },
        {
          "output_type": "stream",
          "text": [
            "INFO:tensorflow:*** Available Device: _DeviceAttributes(/job:worker/replica:0/task:0/device:TPU:1, TPU, 0, 0)\n"
          ],
          "name": "stdout"
        },
        {
          "output_type": "stream",
          "text": [
            "INFO:tensorflow:*** Available Device: _DeviceAttributes(/job:worker/replica:0/task:0/device:TPU:1, TPU, 0, 0)\n"
          ],
          "name": "stderr"
        },
        {
          "output_type": "stream",
          "text": [
            "INFO:tensorflow:*** Available Device: _DeviceAttributes(/job:worker/replica:0/task:0/device:TPU:2, TPU, 0, 0)\n"
          ],
          "name": "stdout"
        },
        {
          "output_type": "stream",
          "text": [
            "INFO:tensorflow:*** Available Device: _DeviceAttributes(/job:worker/replica:0/task:0/device:TPU:2, TPU, 0, 0)\n"
          ],
          "name": "stderr"
        },
        {
          "output_type": "stream",
          "text": [
            "INFO:tensorflow:*** Available Device: _DeviceAttributes(/job:worker/replica:0/task:0/device:TPU:3, TPU, 0, 0)\n"
          ],
          "name": "stdout"
        },
        {
          "output_type": "stream",
          "text": [
            "INFO:tensorflow:*** Available Device: _DeviceAttributes(/job:worker/replica:0/task:0/device:TPU:3, TPU, 0, 0)\n"
          ],
          "name": "stderr"
        },
        {
          "output_type": "stream",
          "text": [
            "INFO:tensorflow:*** Available Device: _DeviceAttributes(/job:worker/replica:0/task:0/device:TPU:4, TPU, 0, 0)\n"
          ],
          "name": "stdout"
        },
        {
          "output_type": "stream",
          "text": [
            "INFO:tensorflow:*** Available Device: _DeviceAttributes(/job:worker/replica:0/task:0/device:TPU:4, TPU, 0, 0)\n"
          ],
          "name": "stderr"
        },
        {
          "output_type": "stream",
          "text": [
            "INFO:tensorflow:*** Available Device: _DeviceAttributes(/job:worker/replica:0/task:0/device:TPU:5, TPU, 0, 0)\n"
          ],
          "name": "stdout"
        },
        {
          "output_type": "stream",
          "text": [
            "INFO:tensorflow:*** Available Device: _DeviceAttributes(/job:worker/replica:0/task:0/device:TPU:5, TPU, 0, 0)\n"
          ],
          "name": "stderr"
        },
        {
          "output_type": "stream",
          "text": [
            "INFO:tensorflow:*** Available Device: _DeviceAttributes(/job:worker/replica:0/task:0/device:TPU:6, TPU, 0, 0)\n"
          ],
          "name": "stdout"
        },
        {
          "output_type": "stream",
          "text": [
            "INFO:tensorflow:*** Available Device: _DeviceAttributes(/job:worker/replica:0/task:0/device:TPU:6, TPU, 0, 0)\n"
          ],
          "name": "stderr"
        },
        {
          "output_type": "stream",
          "text": [
            "INFO:tensorflow:*** Available Device: _DeviceAttributes(/job:worker/replica:0/task:0/device:TPU:7, TPU, 0, 0)\n"
          ],
          "name": "stdout"
        },
        {
          "output_type": "stream",
          "text": [
            "INFO:tensorflow:*** Available Device: _DeviceAttributes(/job:worker/replica:0/task:0/device:TPU:7, TPU, 0, 0)\n"
          ],
          "name": "stderr"
        },
        {
          "output_type": "stream",
          "text": [
            "INFO:tensorflow:*** Available Device: _DeviceAttributes(/job:worker/replica:0/task:0/device:TPU_SYSTEM:0, TPU_SYSTEM, 0, 0)\n"
          ],
          "name": "stdout"
        },
        {
          "output_type": "stream",
          "text": [
            "INFO:tensorflow:*** Available Device: _DeviceAttributes(/job:worker/replica:0/task:0/device:TPU_SYSTEM:0, TPU_SYSTEM, 0, 0)\n"
          ],
          "name": "stderr"
        },
        {
          "output_type": "stream",
          "text": [
            "INFO:tensorflow:*** Available Device: _DeviceAttributes(/job:worker/replica:0/task:0/device:XLA_CPU:0, XLA_CPU, 0, 0)\n"
          ],
          "name": "stdout"
        },
        {
          "output_type": "stream",
          "text": [
            "INFO:tensorflow:*** Available Device: _DeviceAttributes(/job:worker/replica:0/task:0/device:XLA_CPU:0, XLA_CPU, 0, 0)\n"
          ],
          "name": "stderr"
        }
      ]
    },
    {
      "cell_type": "code",
      "metadata": {
        "id": "RG3u80XzNQ4s"
      },
      "source": [
        "hoje = date.today()\r\n",
        "diaSemana = hoje.weekday()\r\n",
        "hoje = str(hoje)"
      ],
      "execution_count": 4,
      "outputs": []
    },
    {
      "cell_type": "code",
      "metadata": {
        "id": "usANetWmbY9Q",
        "colab": {
          "base_uri": "https://localhost:8080/"
        },
        "outputId": "c41f1ade-ba81-426a-8eb2-9381f1cd9b87"
      },
      "source": [
        "baseDIR = \"/content/drive/MyDrive/TG/DADOS SUDESTE\"\r\n",
        "os.listdir(baseDIR)"
      ],
      "execution_count": 5,
      "outputs": [
        {
          "output_type": "execute_result",
          "data": {
            "text/plain": [
              "['SECO_2021-01-27_CARGAHIST.csv',\n",
              " 'SECO_2021-01-27_TEMPHIST.csv',\n",
              " 'SECO_2021-01-27_FERIADOS.csv',\n",
              " 'SECO_2021-01-27_SEPARADOR.csv',\n",
              " 'SECO_2021-01-27_HORAVERAO.csv',\n",
              " 'SECO_2021-01-27_PATAMARES.csv',\n",
              " 'SECO_2021-01-27_HORIZONTE.csv',\n",
              " 'SECO_2021-01-27_TEMPPREV.csv',\n",
              " 'SECO_2021-01-27_COMBINA.csv']"
            ]
          },
          "metadata": {
            "tags": []
          },
          "execution_count": 5
        }
      ]
    },
    {
      "cell_type": "code",
      "metadata": {
        "id": "ML08mQFoccSS"
      },
      "source": [
        "historicoCarga = pd.read_csv(os.path.join(baseDIR,'SECO_2021-01-27_CARGAHIST.csv'),sep=\";\",decimal=\",\")\r\n",
        "historicoTemperatura = pd.read_csv(os.path.join(baseDIR,'SECO_2021-01-27_TEMPHIST.csv'),sep=\";\",decimal=\",\")"
      ],
      "execution_count": 6,
      "outputs": []
    },
    {
      "cell_type": "code",
      "metadata": {
        "id": "l9BIfwnyzIbs"
      },
      "source": [
        "def basePreprocessing(carga,temperatura):\r\n",
        "    dataset = carga.merge(temperatura)\r\n",
        "    dataset = dataset.drop([\"Min\"], axis = 1 )\r\n",
        "    dataset = dataset.rename({'Ano': 'Year', 'Mes': 'Month',\"Dia\":\"Day\"}, axis=1)\r\n",
        "    dataset[\"Date\"] = pd.to_datetime(dataset[[\"Year\",\"Month\",\"Day\"]])\r\n",
        "    dataset[\"Weekday\"] = dataset[\"Date\"].dt.dayofweek\r\n",
        "    \r\n",
        "    return dataset\r\n",
        "\r\n",
        "def baseNormalizer(dataset, normalizer, normalize_fit = True):\r\n",
        "    \r\n",
        "    normalizadorCarga = normalizer\r\n",
        "    normalizadorTemp = normalizer\r\n",
        "\r\n",
        "    if normalize_fit:\r\n",
        "        dataset[[\"Carga\"]] = normalizadorCarga.fit_transform(dataset[[\"Carga\"]])\r\n",
        "        dataset[[\"Temperatura\"]] = normalizadorTemp.fit_transform(dataset[[\"Temperatura\"]])\r\n",
        "\r\n",
        "    dummies = pd.get_dummies(dataset[\"Weekday\"],prefix=\"Dia\")\r\n",
        "    dataset = dataset.join(dummies)\r\n",
        "    dataset = dataset.drop([\"Date\",\"Weekday\"], axis = 1 )\r\n",
        "    dataset = dataset.dropna()\r\n",
        "\r\n",
        "    return dataset , normalizadorCarga, normalizadorTemp"
      ],
      "execution_count": 7,
      "outputs": []
    },
    {
      "cell_type": "code",
      "metadata": {
        "colab": {
          "base_uri": "https://localhost:8080/",
          "height": 419
        },
        "id": "JnGBf-Qh14KK",
        "outputId": "8d81e5da-37f7-43d0-a0d4-f354afda5a41"
      },
      "source": [
        "historico = basePreprocessing(historicoCarga,historicoTemperatura)\r\n",
        "historico, normalizadorCarga, normalizadorTemp = baseNormalizer(historico,StandardScaler())\r\n",
        "historico"
      ],
      "execution_count": 10,
      "outputs": [
        {
          "output_type": "execute_result",
          "data": {
            "text/html": [
              "<div>\n",
              "<style scoped>\n",
              "    .dataframe tbody tr th:only-of-type {\n",
              "        vertical-align: middle;\n",
              "    }\n",
              "\n",
              "    .dataframe tbody tr th {\n",
              "        vertical-align: top;\n",
              "    }\n",
              "\n",
              "    .dataframe thead th {\n",
              "        text-align: right;\n",
              "    }\n",
              "</style>\n",
              "<table border=\"1\" class=\"dataframe\">\n",
              "  <thead>\n",
              "    <tr style=\"text-align: right;\">\n",
              "      <th></th>\n",
              "      <th>Year</th>\n",
              "      <th>Month</th>\n",
              "      <th>Day</th>\n",
              "      <th>Hora</th>\n",
              "      <th>Carga</th>\n",
              "      <th>Temperatura</th>\n",
              "      <th>Dia_0</th>\n",
              "      <th>Dia_1</th>\n",
              "      <th>Dia_2</th>\n",
              "      <th>Dia_3</th>\n",
              "      <th>Dia_4</th>\n",
              "      <th>Dia_5</th>\n",
              "      <th>Dia_6</th>\n",
              "    </tr>\n",
              "  </thead>\n",
              "  <tbody>\n",
              "    <tr>\n",
              "      <th>0</th>\n",
              "      <td>2014</td>\n",
              "      <td>1</td>\n",
              "      <td>1</td>\n",
              "      <td>1</td>\n",
              "      <td>-0.822048</td>\n",
              "      <td>0.148582</td>\n",
              "      <td>0</td>\n",
              "      <td>0</td>\n",
              "      <td>1</td>\n",
              "      <td>0</td>\n",
              "      <td>0</td>\n",
              "      <td>0</td>\n",
              "      <td>0</td>\n",
              "    </tr>\n",
              "    <tr>\n",
              "      <th>1</th>\n",
              "      <td>2014</td>\n",
              "      <td>1</td>\n",
              "      <td>1</td>\n",
              "      <td>2</td>\n",
              "      <td>-0.857905</td>\n",
              "      <td>0.118756</td>\n",
              "      <td>0</td>\n",
              "      <td>0</td>\n",
              "      <td>1</td>\n",
              "      <td>0</td>\n",
              "      <td>0</td>\n",
              "      <td>0</td>\n",
              "      <td>0</td>\n",
              "    </tr>\n",
              "    <tr>\n",
              "      <th>2</th>\n",
              "      <td>2014</td>\n",
              "      <td>1</td>\n",
              "      <td>1</td>\n",
              "      <td>3</td>\n",
              "      <td>-0.967523</td>\n",
              "      <td>-0.051353</td>\n",
              "      <td>0</td>\n",
              "      <td>0</td>\n",
              "      <td>1</td>\n",
              "      <td>0</td>\n",
              "      <td>0</td>\n",
              "      <td>0</td>\n",
              "      <td>0</td>\n",
              "    </tr>\n",
              "    <tr>\n",
              "      <th>3</th>\n",
              "      <td>2014</td>\n",
              "      <td>1</td>\n",
              "      <td>1</td>\n",
              "      <td>4</td>\n",
              "      <td>-1.135668</td>\n",
              "      <td>-0.051353</td>\n",
              "      <td>0</td>\n",
              "      <td>0</td>\n",
              "      <td>1</td>\n",
              "      <td>0</td>\n",
              "      <td>0</td>\n",
              "      <td>0</td>\n",
              "      <td>0</td>\n",
              "    </tr>\n",
              "    <tr>\n",
              "      <th>4</th>\n",
              "      <td>2014</td>\n",
              "      <td>1</td>\n",
              "      <td>1</td>\n",
              "      <td>5</td>\n",
              "      <td>-1.262874</td>\n",
              "      <td>-0.076123</td>\n",
              "      <td>0</td>\n",
              "      <td>0</td>\n",
              "      <td>1</td>\n",
              "      <td>0</td>\n",
              "      <td>0</td>\n",
              "      <td>0</td>\n",
              "      <td>0</td>\n",
              "    </tr>\n",
              "    <tr>\n",
              "      <th>...</th>\n",
              "      <td>...</td>\n",
              "      <td>...</td>\n",
              "      <td>...</td>\n",
              "      <td>...</td>\n",
              "      <td>...</td>\n",
              "      <td>...</td>\n",
              "      <td>...</td>\n",
              "      <td>...</td>\n",
              "      <td>...</td>\n",
              "      <td>...</td>\n",
              "      <td>...</td>\n",
              "      <td>...</td>\n",
              "      <td>...</td>\n",
              "    </tr>\n",
              "    <tr>\n",
              "      <th>61986</th>\n",
              "      <td>2021</td>\n",
              "      <td>1</td>\n",
              "      <td>26</td>\n",
              "      <td>19</td>\n",
              "      <td>1.492486</td>\n",
              "      <td>0.904591</td>\n",
              "      <td>0</td>\n",
              "      <td>1</td>\n",
              "      <td>0</td>\n",
              "      <td>0</td>\n",
              "      <td>0</td>\n",
              "      <td>0</td>\n",
              "      <td>0</td>\n",
              "    </tr>\n",
              "    <tr>\n",
              "      <th>61987</th>\n",
              "      <td>2021</td>\n",
              "      <td>1</td>\n",
              "      <td>26</td>\n",
              "      <td>20</td>\n",
              "      <td>2.005185</td>\n",
              "      <td>0.560583</td>\n",
              "      <td>0</td>\n",
              "      <td>1</td>\n",
              "      <td>0</td>\n",
              "      <td>0</td>\n",
              "      <td>0</td>\n",
              "      <td>0</td>\n",
              "      <td>0</td>\n",
              "    </tr>\n",
              "    <tr>\n",
              "      <th>61988</th>\n",
              "      <td>2021</td>\n",
              "      <td>1</td>\n",
              "      <td>26</td>\n",
              "      <td>21</td>\n",
              "      <td>2.099431</td>\n",
              "      <td>0.477424</td>\n",
              "      <td>0</td>\n",
              "      <td>1</td>\n",
              "      <td>0</td>\n",
              "      <td>0</td>\n",
              "      <td>0</td>\n",
              "      <td>0</td>\n",
              "      <td>0</td>\n",
              "    </tr>\n",
              "    <tr>\n",
              "      <th>61989</th>\n",
              "      <td>2021</td>\n",
              "      <td>1</td>\n",
              "      <td>26</td>\n",
              "      <td>22</td>\n",
              "      <td>2.069180</td>\n",
              "      <td>0.365704</td>\n",
              "      <td>0</td>\n",
              "      <td>1</td>\n",
              "      <td>0</td>\n",
              "      <td>0</td>\n",
              "      <td>0</td>\n",
              "      <td>0</td>\n",
              "      <td>0</td>\n",
              "    </tr>\n",
              "    <tr>\n",
              "      <th>61990</th>\n",
              "      <td>2021</td>\n",
              "      <td>1</td>\n",
              "      <td>26</td>\n",
              "      <td>23</td>\n",
              "      <td>1.814682</td>\n",
              "      <td>0.223652</td>\n",
              "      <td>0</td>\n",
              "      <td>1</td>\n",
              "      <td>0</td>\n",
              "      <td>0</td>\n",
              "      <td>0</td>\n",
              "      <td>0</td>\n",
              "      <td>0</td>\n",
              "    </tr>\n",
              "  </tbody>\n",
              "</table>\n",
              "<p>61985 rows × 13 columns</p>\n",
              "</div>"
            ],
            "text/plain": [
              "       Year  Month  Day  Hora     Carga  ...  Dia_2  Dia_3  Dia_4  Dia_5  Dia_6\n",
              "0      2014      1    1     1 -0.822048  ...      1      0      0      0      0\n",
              "1      2014      1    1     2 -0.857905  ...      1      0      0      0      0\n",
              "2      2014      1    1     3 -0.967523  ...      1      0      0      0      0\n",
              "3      2014      1    1     4 -1.135668  ...      1      0      0      0      0\n",
              "4      2014      1    1     5 -1.262874  ...      1      0      0      0      0\n",
              "...     ...    ...  ...   ...       ...  ...    ...    ...    ...    ...    ...\n",
              "61986  2021      1   26    19  1.492486  ...      0      0      0      0      0\n",
              "61987  2021      1   26    20  2.005185  ...      0      0      0      0      0\n",
              "61988  2021      1   26    21  2.099431  ...      0      0      0      0      0\n",
              "61989  2021      1   26    22  2.069180  ...      0      0      0      0      0\n",
              "61990  2021      1   26    23  1.814682  ...      0      0      0      0      0\n",
              "\n",
              "[61985 rows x 13 columns]"
            ]
          },
          "metadata": {
            "tags": []
          },
          "execution_count": 10
        }
      ]
    },
    {
      "cell_type": "code",
      "metadata": {
        "id": "EeL1PthTzb1m",
        "colab": {
          "base_uri": "https://localhost:8080/",
          "height": 282
        },
        "outputId": "f696a1b2-b10c-4343-a18c-62ab0cab4c17"
      },
      "source": [
        "plt.plot(historico[\"Temperatura\"])"
      ],
      "execution_count": 11,
      "outputs": [
        {
          "output_type": "execute_result",
          "data": {
            "text/plain": [
              "[<matplotlib.lines.Line2D at 0x7f1a328c4b00>]"
            ]
          },
          "metadata": {
            "tags": []
          },
          "execution_count": 11
        },
        {
          "output_type": "display_data",
          "data": {
            "image/png": "[encoded data removed]",
            "text/plain": [
              "<Figure size 432x288 with 1 Axes>"
            ]
          },
          "metadata": {
            "tags": [],
            "needs_background": "light"
          }
        }
      ]
    },
    {
      "cell_type": "code",
      "metadata": {
        "id": "wkMOvAoAsz-q",
        "colab": {
          "base_uri": "https://localhost:8080/"
        },
        "outputId": "29999341-be64-438b-bf40-9ed2193f576a"
      },
      "source": [
        "base = historico.values\r\n",
        "base"
      ],
      "execution_count": 12,
      "outputs": [
        {
          "output_type": "execute_result",
          "data": {
            "text/plain": [
              "array([[2.014e+03, 1.000e+00, 1.000e+00, ..., 0.000e+00, 0.000e+00,\n",
              "        0.000e+00],\n",
              "       [2.014e+03, 1.000e+00, 1.000e+00, ..., 0.000e+00, 0.000e+00,\n",
              "        0.000e+00],\n",
              "       [2.014e+03, 1.000e+00, 1.000e+00, ..., 0.000e+00, 0.000e+00,\n",
              "        0.000e+00],\n",
              "       ...,\n",
              "       [2.021e+03, 1.000e+00, 2.600e+01, ..., 0.000e+00, 0.000e+00,\n",
              "        0.000e+00],\n",
              "       [2.021e+03, 1.000e+00, 2.600e+01, ..., 0.000e+00, 0.000e+00,\n",
              "        0.000e+00],\n",
              "       [2.021e+03, 1.000e+00, 2.600e+01, ..., 0.000e+00, 0.000e+00,\n",
              "        0.000e+00]])"
            ]
          },
          "metadata": {
            "tags": []
          },
          "execution_count": 12
        }
      ]
    },
    {
      "cell_type": "code",
      "metadata": {
        "id": "pfyI3gG8m4T5"
      },
      "source": [
        "diasAnteriores = 30*24"
      ],
      "execution_count": 15,
      "outputs": []
    },
    {
      "cell_type": "code",
      "metadata": {
        "id": "hYD5p1OAnDpS",
        "colab": {
          "base_uri": "https://localhost:8080/"
        },
        "outputId": "0fe63fa3-198b-4b49-c585-385088472df2"
      },
      "source": [
        "carga = []\r\n",
        "temp = []\r\n",
        "vetorDiaSemana = []\r\n",
        "previsores = []\r\n",
        "valorReal = []\r\n",
        "batch = []\r\n",
        "\r\n",
        "for i in range(diasAnteriores,len(base)):\r\n",
        "    carga = base[(i - diasAnteriores):i,5]\r\n",
        "    temp = base[(i+1 - diasAnteriores):i+1,4]\r\n",
        "    vetorDiaSemana = base[(i+1 - diasAnteriores):i+1,6:]\r\n",
        "\r\n",
        "    batch = np.column_stack((carga,temp,vetorDiaSemana))\r\n",
        "\r\n",
        "    previsores.append(batch)    \r\n",
        "    valorReal.append(base[i, 5])\r\n",
        "\r\n",
        "previsores, valorReal = np.array(previsores), np.array(valorReal)\r\n",
        "print(previsores)\r\n",
        "print(previsores.shape)\r\n",
        "valorReal"
      ],
      "execution_count": 16,
      "outputs": [
        {
          "output_type": "stream",
          "text": [
            "[[[ 1.48581631e-01 -8.57905469e-01  0.00000000e+00 ...  0.00000000e+00\n",
            "    0.00000000e+00  0.00000000e+00]\n",
            "  [ 1.18755796e-01 -9.67522502e-01  0.00000000e+00 ...  0.00000000e+00\n",
            "    0.00000000e+00  0.00000000e+00]\n",
            "  [-5.13525672e-02 -1.13566832e+00  0.00000000e+00 ...  0.00000000e+00\n",
            "    0.00000000e+00  0.00000000e+00]\n",
            "  ...\n",
            "  [ 6.61181571e-01  1.76038014e+00  0.00000000e+00 ...  0.00000000e+00\n",
            "    0.00000000e+00  0.00000000e+00]\n",
            "  [ 5.58054956e-01  1.65001207e+00  0.00000000e+00 ...  1.00000000e+00\n",
            "    0.00000000e+00  0.00000000e+00]\n",
            "  [ 4.51642444e-01  9.60696294e-01  0.00000000e+00 ...  1.00000000e+00\n",
            "    0.00000000e+00  0.00000000e+00]]\n",
            "\n",
            " [[ 1.18755796e-01 -9.67522502e-01  0.00000000e+00 ...  0.00000000e+00\n",
            "    0.00000000e+00  0.00000000e+00]\n",
            "  [-5.13525672e-02 -1.13566832e+00  0.00000000e+00 ...  0.00000000e+00\n",
            "    0.00000000e+00  0.00000000e+00]\n",
            "  [-5.13525672e-02 -1.26287368e+00  0.00000000e+00 ...  0.00000000e+00\n",
            "    0.00000000e+00  0.00000000e+00]\n",
            "  ...\n",
            "  [ 5.58054956e-01  1.65001207e+00  0.00000000e+00 ...  1.00000000e+00\n",
            "    0.00000000e+00  0.00000000e+00]\n",
            "  [ 4.51642444e-01  9.60696294e-01  0.00000000e+00 ...  1.00000000e+00\n",
            "    0.00000000e+00  0.00000000e+00]\n",
            "  [ 1.40493269e-01  5.28708075e-01  0.00000000e+00 ...  1.00000000e+00\n",
            "    0.00000000e+00  0.00000000e+00]]\n",
            "\n",
            " [[-5.13525672e-02 -1.13566832e+00  0.00000000e+00 ...  0.00000000e+00\n",
            "    0.00000000e+00  0.00000000e+00]\n",
            "  [-5.13525672e-02 -1.26287368e+00  0.00000000e+00 ...  0.00000000e+00\n",
            "    0.00000000e+00  0.00000000e+00]\n",
            "  [-7.61231758e-02 -1.34178537e+00  0.00000000e+00 ...  0.00000000e+00\n",
            "    0.00000000e+00  0.00000000e+00]\n",
            "  ...\n",
            "  [ 4.51642444e-01  9.60696294e-01  0.00000000e+00 ...  1.00000000e+00\n",
            "    0.00000000e+00  0.00000000e+00]\n",
            "  [ 1.40493269e-01  5.28708075e-01  0.00000000e+00 ...  1.00000000e+00\n",
            "    0.00000000e+00  0.00000000e+00]\n",
            "  [ 9.69024383e-04  2.63625585e-01  0.00000000e+00 ...  1.00000000e+00\n",
            "    0.00000000e+00  0.00000000e+00]]\n",
            "\n",
            " ...\n",
            "\n",
            " [[-3.04366641e-01  3.11901793e-01  0.00000000e+00 ...  0.00000000e+00\n",
            "    0.00000000e+00  1.00000000e+00]\n",
            "  [-3.29137249e-01  6.47394872e-02  0.00000000e+00 ...  0.00000000e+00\n",
            "    0.00000000e+00  1.00000000e+00]\n",
            "  [-3.49358154e-01 -2.70312064e-01  1.00000000e+00 ...  0.00000000e+00\n",
            "    0.00000000e+00  0.00000000e+00]\n",
            "  ...\n",
            "  [ 1.23216938e+00  1.49248562e+00  0.00000000e+00 ...  0.00000000e+00\n",
            "    0.00000000e+00  0.00000000e+00]\n",
            "  [ 9.04590715e-01  2.00518453e+00  0.00000000e+00 ...  0.00000000e+00\n",
            "    0.00000000e+00  0.00000000e+00]\n",
            "  [ 5.60582569e-01  2.09943142e+00  0.00000000e+00 ...  0.00000000e+00\n",
            "    0.00000000e+00  0.00000000e+00]]\n",
            "\n",
            " [[-3.29137249e-01  6.47394872e-02  0.00000000e+00 ...  0.00000000e+00\n",
            "    0.00000000e+00  1.00000000e+00]\n",
            "  [-3.49358154e-01 -2.70312064e-01  1.00000000e+00 ...  0.00000000e+00\n",
            "    0.00000000e+00  0.00000000e+00]\n",
            "  [-4.11031914e-01 -6.35300453e-01  1.00000000e+00 ...  0.00000000e+00\n",
            "    0.00000000e+00  0.00000000e+00]\n",
            "  ...\n",
            "  [ 9.04590715e-01  2.00518453e+00  0.00000000e+00 ...  0.00000000e+00\n",
            "    0.00000000e+00  0.00000000e+00]\n",
            "  [ 5.60582569e-01  2.09943142e+00  0.00000000e+00 ...  0.00000000e+00\n",
            "    0.00000000e+00  0.00000000e+00]\n",
            "  [ 4.77424098e-01  2.06918020e+00  0.00000000e+00 ...  0.00000000e+00\n",
            "    0.00000000e+00  0.00000000e+00]]\n",
            "\n",
            " [[-3.49358154e-01 -2.70312064e-01  1.00000000e+00 ...  0.00000000e+00\n",
            "    0.00000000e+00  0.00000000e+00]\n",
            "  [-4.11031914e-01 -6.35300453e-01  1.00000000e+00 ...  0.00000000e+00\n",
            "    0.00000000e+00  0.00000000e+00]\n",
            "  [-4.11031914e-01 -8.91475249e-01  1.00000000e+00 ...  0.00000000e+00\n",
            "    0.00000000e+00  0.00000000e+00]\n",
            "  ...\n",
            "  [ 5.60582569e-01  2.09943142e+00  0.00000000e+00 ...  0.00000000e+00\n",
            "    0.00000000e+00  0.00000000e+00]\n",
            "  [ 4.77424098e-01  2.06918020e+00  0.00000000e+00 ...  0.00000000e+00\n",
            "    0.00000000e+00  0.00000000e+00]\n",
            "  [ 3.65703598e-01  1.81468214e+00  0.00000000e+00 ...  0.00000000e+00\n",
            "    0.00000000e+00  0.00000000e+00]]]\n",
            "(61265, 720, 9)\n"
          ],
          "name": "stdout"
        },
        {
          "output_type": "execute_result",
          "data": {
            "text/plain": [
              "array([ 0.14049327,  0.00096902, -0.29400343, ...,  0.4774241 ,\n",
              "        0.3657036 ,  0.22365174])"
            ]
          },
          "metadata": {
            "tags": []
          },
          "execution_count": 16
        }
      ]
    },
    {
      "cell_type": "code",
      "metadata": {
        "id": "flVyssR0tUbx"
      },
      "source": [
        "def createModel():\r\n",
        "    model = Sequential()\r\n",
        "\r\n",
        "    model.add(LSTM(units = 100, return_sequences = True,input_shape = (previsores.shape[1],9)))\r\n",
        "    model.add(Dropout(0.5))\r\n",
        "\r\n",
        "    # model.add(LSTM(units = 50, return_sequences = True))\r\n",
        "    # model.add(Dropout(0.3))\r\n",
        "\r\n",
        "    model.add(LSTM(units = 30))\r\n",
        "    model.add(Dropout(0.5))\r\n",
        "\r\n",
        "    model.add(Dense(units = 1, activation= \"linear\"))\r\n",
        "\r\n",
        "    model.compile(optimizer = \"adam\", loss = \"mean_squared_error\", metrics = [\"mean_absolute_error\"])\r\n",
        "\r\n",
        "    return model"
      ],
      "execution_count": 17,
      "outputs": []
    },
    {
      "cell_type": "code",
      "metadata": {
        "id": "pvfTKM54tu9L"
      },
      "source": [
        "es = EarlyStopping(monitor = \"loss\", min_delta = 1e-10, patience = 10, verbose = 1)\r\n",
        "rlr = ReduceLROnPlateau(monitor = \"loss\", factor = 0.2, patience = 5, verbose = 1)\r\n",
        "mcp = ModelCheckpoint(filepath=f\"pesos-{hoje}.h5\", monitor = \"loss\", save_best_only = True, verbose=1)"
      ],
      "execution_count": 18,
      "outputs": []
    },
    {
      "cell_type": "code",
      "metadata": {
        "id": "hsCegQcZIaXA",
        "colab": {
          "base_uri": "https://localhost:8080/"
        },
        "outputId": "be77d6bf-f920-4e9a-ee7f-cad90927efd1"
      },
      "source": [
        "with tpu_strategy.scope(): # creating the model in the TPUStrategy scope means we will train the model on the TPU\r\n",
        "  model = createModel()\r\n",
        "model.summary()"
      ],
      "execution_count": 19,
      "outputs": [
        {
          "output_type": "stream",
          "text": [
            "Model: \"sequential\"\n",
            "_________________________________________________________________\n",
            "Layer (type)                 Output Shape              Param #   \n",
            "=================================================================\n",
            "lstm (LSTM)                  (None, 720, 100)          44000     \n",
            "_________________________________________________________________\n",
            "dropout (Dropout)            (None, 720, 100)          0         \n",
            "_________________________________________________________________\n",
            "lstm_1 (LSTM)                (None, 30)                15720     \n",
            "_________________________________________________________________\n",
            "dropout_1 (Dropout)          (None, 30)                0         \n",
            "_________________________________________________________________\n",
            "dense (Dense)                (None, 1)                 31        \n",
            "=================================================================\n",
            "Total params: 59,751\n",
            "Trainable params: 59,751\n",
            "Non-trainable params: 0\n",
            "_________________________________________________________________\n"
          ],
          "name": "stdout"
        }
      ]
    },
    {
      "cell_type": "code",
      "metadata": {
        "id": "Wln0vX91uweT",
        "colab": {
          "base_uri": "https://localhost:8080/"
        },
        "outputId": "0f8ccd53-fa98-458a-ab78-ed05e3c16d2e"
      },
      "source": [
        "model.fit(previsores, valorReal, epochs = 100, batch_size = 32, callbacks=[es,rlr,mcp])"
      ],
      "execution_count": 20,
      "outputs": [
        {
          "output_type": "stream",
          "text": [
            "Epoch 1/100\n",
            "1915/1915 [==============================] - 80s 39ms/step - loss: 0.1860 - mean_absolute_error: 0.3018\n",
            "\n",
            "Epoch 00001: loss improved from inf to 0.10841, saving model to pesos-2021-02-10.h5\n",
            "Epoch 2/100\n",
            "1915/1915 [==============================] - 74s 39ms/step - loss: 0.0699 - mean_absolute_error: 0.1894\n",
            "\n",
            "Epoch 00002: loss improved from 0.10841 to 0.06736, saving model to pesos-2021-02-10.h5\n",
            "Epoch 3/100\n",
            "1915/1915 [==============================] - 74s 39ms/step - loss: 0.0643 - mean_absolute_error: 0.1777\n",
            "\n",
            "Epoch 00003: loss improved from 0.06736 to 0.06273, saving model to pesos-2021-02-10.h5\n",
            "Epoch 4/100\n",
            "1915/1915 [==============================] - 74s 39ms/step - loss: 0.0608 - mean_absolute_error: 0.1732\n",
            "\n",
            "Epoch 00004: loss improved from 0.06273 to 0.06105, saving model to pesos-2021-02-10.h5\n",
            "Epoch 5/100\n",
            "1915/1915 [==============================] - 74s 39ms/step - loss: 0.0598 - mean_absolute_error: 0.1698\n",
            "\n",
            "Epoch 00005: loss improved from 0.06105 to 0.05907, saving model to pesos-2021-02-10.h5\n",
            "Epoch 6/100\n",
            "1915/1915 [==============================] - 74s 39ms/step - loss: 0.0584 - mean_absolute_error: 0.1694\n",
            "\n",
            "Epoch 00006: loss did not improve from 0.05907\n",
            "Epoch 7/100\n",
            "1915/1915 [==============================] - 74s 39ms/step - loss: 0.0590 - mean_absolute_error: 0.1685\n",
            "\n",
            "Epoch 00007: loss improved from 0.05907 to 0.05815, saving model to pesos-2021-02-10.h5\n",
            "Epoch 8/100\n",
            "1915/1915 [==============================] - 74s 39ms/step - loss: 0.0585 - mean_absolute_error: 0.1677\n",
            "\n",
            "Epoch 00008: loss improved from 0.05815 to 0.05693, saving model to pesos-2021-02-10.h5\n",
            "Epoch 9/100\n",
            "1915/1915 [==============================] - 74s 39ms/step - loss: 0.0584 - mean_absolute_error: 0.1666\n",
            "\n",
            "Epoch 00009: loss improved from 0.05693 to 0.05685, saving model to pesos-2021-02-10.h5\n",
            "Epoch 10/100\n",
            "1915/1915 [==============================] - 74s 39ms/step - loss: 0.0560 - mean_absolute_error: 0.1641\n",
            "\n",
            "Epoch 00010: loss improved from 0.05685 to 0.05622, saving model to pesos-2021-02-10.h5\n",
            "Epoch 11/100\n",
            "1915/1915 [==============================] - 74s 39ms/step - loss: 0.0545 - mean_absolute_error: 0.1640\n",
            "\n",
            "Epoch 00011: loss improved from 0.05622 to 0.05620, saving model to pesos-2021-02-10.h5\n",
            "Epoch 12/100\n",
            "1915/1915 [==============================] - 74s 39ms/step - loss: 0.0537 - mean_absolute_error: 0.1604\n",
            "\n",
            "Epoch 00012: loss improved from 0.05620 to 0.05441, saving model to pesos-2021-02-10.h5\n",
            "Epoch 13/100\n",
            "1915/1915 [==============================] - 74s 39ms/step - loss: 0.0566 - mean_absolute_error: 0.1633\n",
            "\n",
            "Epoch 00013: loss did not improve from 0.05441\n",
            "Epoch 14/100\n",
            "1915/1915 [==============================] - 74s 39ms/step - loss: 0.0550 - mean_absolute_error: 0.1634\n",
            "\n",
            "Epoch 00014: loss did not improve from 0.05441\n",
            "Epoch 15/100\n",
            "1915/1915 [==============================] - 74s 39ms/step - loss: 0.0559 - mean_absolute_error: 0.1622\n",
            "\n",
            "Epoch 00015: loss did not improve from 0.05441\n",
            "Epoch 16/100\n",
            "1915/1915 [==============================] - 74s 39ms/step - loss: 0.0542 - mean_absolute_error: 0.1618\n",
            "\n",
            "Epoch 00016: loss did not improve from 0.05441\n",
            "Epoch 17/100\n",
            "1915/1915 [==============================] - 74s 39ms/step - loss: 0.0543 - mean_absolute_error: 0.1600\n",
            "\n",
            "Epoch 00017: ReduceLROnPlateau reducing learning rate to 0.00020000000949949026.\n",
            "\n",
            "Epoch 00017: loss did not improve from 0.05441\n",
            "Epoch 18/100\n",
            "1915/1915 [==============================] - 74s 39ms/step - loss: 0.0528 - mean_absolute_error: 0.1570\n",
            "\n",
            "Epoch 00018: loss improved from 0.05441 to 0.05176, saving model to pesos-2021-02-10.h5\n",
            "Epoch 19/100\n",
            "1915/1915 [==============================] - 75s 39ms/step - loss: 0.0522 - mean_absolute_error: 0.1567\n",
            "\n",
            "Epoch 00019: loss improved from 0.05176 to 0.05130, saving model to pesos-2021-02-10.h5\n",
            "Epoch 20/100\n",
            "1915/1915 [==============================] - 74s 39ms/step - loss: 0.0511 - mean_absolute_error: 0.1563\n",
            "\n",
            "Epoch 00020: loss did not improve from 0.05130\n",
            "Epoch 21/100\n",
            "1915/1915 [==============================] - 74s 39ms/step - loss: 0.0517 - mean_absolute_error: 0.1556\n",
            "\n",
            "Epoch 00021: loss improved from 0.05130 to 0.05117, saving model to pesos-2021-02-10.h5\n",
            "Epoch 22/100\n",
            "1915/1915 [==============================] - 74s 39ms/step - loss: 0.0510 - mean_absolute_error: 0.1551\n",
            "\n",
            "Epoch 00022: loss improved from 0.05117 to 0.05070, saving model to pesos-2021-02-10.h5\n",
            "Epoch 23/100\n",
            "1915/1915 [==============================] - 74s 39ms/step - loss: 0.0517 - mean_absolute_error: 0.1568\n",
            "\n",
            "Epoch 00023: loss did not improve from 0.05070\n",
            "Epoch 24/100\n",
            "1915/1915 [==============================] - 74s 39ms/step - loss: 0.0523 - mean_absolute_error: 0.1562\n",
            "\n",
            "Epoch 00024: loss did not improve from 0.05070\n",
            "Epoch 25/100\n",
            "1915/1915 [==============================] - 74s 39ms/step - loss: 0.0513 - mean_absolute_error: 0.1561\n",
            "\n",
            "Epoch 00025: loss did not improve from 0.05070\n",
            "Epoch 26/100\n",
            "1915/1915 [==============================] - 74s 39ms/step - loss: 0.0503 - mean_absolute_error: 0.1552\n",
            "\n",
            "Epoch 00026: loss did not improve from 0.05070\n",
            "Epoch 27/100\n",
            "1915/1915 [==============================] - 74s 39ms/step - loss: 0.0500 - mean_absolute_error: 0.1550\n",
            "\n",
            "Epoch 00027: ReduceLROnPlateau reducing learning rate to 4.0000001899898055e-05.\n",
            "\n",
            "Epoch 00027: loss did not improve from 0.05070\n",
            "Epoch 28/100\n",
            "1915/1915 [==============================] - 74s 39ms/step - loss: 0.0507 - mean_absolute_error: 0.1548\n",
            "\n",
            "Epoch 00028: loss improved from 0.05070 to 0.05041, saving model to pesos-2021-02-10.h5\n",
            "Epoch 29/100\n",
            "1915/1915 [==============================] - 74s 39ms/step - loss: 0.0514 - mean_absolute_error: 0.1549\n",
            "\n",
            "Epoch 00029: loss did not improve from 0.05041\n",
            "Epoch 30/100\n",
            "1915/1915 [==============================] - 74s 39ms/step - loss: 0.0496 - mean_absolute_error: 0.1528\n",
            "\n",
            "Epoch 00030: loss improved from 0.05041 to 0.04991, saving model to pesos-2021-02-10.h5\n",
            "Epoch 31/100\n",
            "1915/1915 [==============================] - 74s 39ms/step - loss: 0.0523 - mean_absolute_error: 0.1556\n",
            "\n",
            "Epoch 00031: loss did not improve from 0.04991\n",
            "Epoch 32/100\n",
            "1915/1915 [==============================] - 74s 39ms/step - loss: 0.0529 - mean_absolute_error: 0.1550\n",
            "\n",
            "Epoch 00032: loss did not improve from 0.04991\n",
            "Epoch 33/100\n",
            "1915/1915 [==============================] - 74s 39ms/step - loss: 0.0525 - mean_absolute_error: 0.1558\n",
            "\n",
            "Epoch 00033: loss did not improve from 0.04991\n",
            "Epoch 34/100\n",
            "1915/1915 [==============================] - 74s 39ms/step - loss: 0.0491 - mean_absolute_error: 0.1521\n",
            "\n",
            "Epoch 00034: loss did not improve from 0.04991\n",
            "Epoch 35/100\n",
            "1915/1915 [==============================] - 74s 39ms/step - loss: 0.0513 - mean_absolute_error: 0.1540\n",
            "\n",
            "Epoch 00035: ReduceLROnPlateau reducing learning rate to 8.000000525498762e-06.\n",
            "\n",
            "Epoch 00035: loss did not improve from 0.04991\n",
            "Epoch 36/100\n",
            "1915/1915 [==============================] - 74s 39ms/step - loss: 0.0503 - mean_absolute_error: 0.1544\n",
            "\n",
            "Epoch 00036: loss did not improve from 0.04991\n",
            "Epoch 37/100\n",
            "1915/1915 [==============================] - 74s 39ms/step - loss: 0.0502 - mean_absolute_error: 0.1530\n",
            "\n",
            "Epoch 00037: loss improved from 0.04991 to 0.04976, saving model to pesos-2021-02-10.h5\n",
            "Epoch 38/100\n",
            "1915/1915 [==============================] - 74s 39ms/step - loss: 0.0483 - mean_absolute_error: 0.1536\n",
            "\n",
            "Epoch 00038: loss did not improve from 0.04976\n",
            "Epoch 39/100\n",
            "1915/1915 [==============================] - 75s 39ms/step - loss: 0.0507 - mean_absolute_error: 0.1541\n",
            "\n",
            "Epoch 00039: loss did not improve from 0.04976\n",
            "Epoch 40/100\n",
            "1915/1915 [==============================] - 75s 39ms/step - loss: 0.0494 - mean_absolute_error: 0.1540\n",
            "\n",
            "Epoch 00040: loss did not improve from 0.04976\n",
            "Epoch 41/100\n",
            "1915/1915 [==============================] - 75s 39ms/step - loss: 0.0494 - mean_absolute_error: 0.1538\n",
            "\n",
            "Epoch 00041: loss did not improve from 0.04976\n",
            "Epoch 42/100\n",
            "1915/1915 [==============================] - 75s 39ms/step - loss: 0.0497 - mean_absolute_error: 0.1529\n",
            "\n",
            "Epoch 00042: ReduceLROnPlateau reducing learning rate to 1.6000001778593287e-06.\n",
            "\n",
            "Epoch 00042: loss did not improve from 0.04976\n",
            "Epoch 43/100\n",
            "1915/1915 [==============================] - 75s 39ms/step - loss: 0.0531 - mean_absolute_error: 0.1551\n",
            "\n",
            "Epoch 00043: loss did not improve from 0.04976\n",
            "Epoch 44/100\n",
            "1915/1915 [==============================] - 75s 39ms/step - loss: 0.0509 - mean_absolute_error: 0.1546\n",
            "\n",
            "Epoch 00044: loss did not improve from 0.04976\n",
            "Epoch 45/100\n",
            "1915/1915 [==============================] - 75s 39ms/step - loss: 0.0491 - mean_absolute_error: 0.1527\n",
            "\n",
            "Epoch 00045: loss improved from 0.04976 to 0.04953, saving model to pesos-2021-02-10.h5\n",
            "Epoch 46/100\n",
            "1915/1915 [==============================] - 75s 39ms/step - loss: 0.0507 - mean_absolute_error: 0.1543\n",
            "\n",
            "Epoch 00046: loss did not improve from 0.04953\n",
            "Epoch 47/100\n",
            "1915/1915 [==============================] - 75s 39ms/step - loss: 0.0489 - mean_absolute_error: 0.1532\n",
            "\n",
            "Epoch 00047: loss did not improve from 0.04953\n",
            "Epoch 48/100\n",
            "1915/1915 [==============================] - 75s 39ms/step - loss: 0.0510 - mean_absolute_error: 0.1539\n",
            "\n",
            "Epoch 00048: loss did not improve from 0.04953\n",
            "Epoch 49/100\n",
            "1915/1915 [==============================] - 75s 39ms/step - loss: 0.0505 - mean_absolute_error: 0.1531\n",
            "\n",
            "Epoch 00049: loss did not improve from 0.04953\n",
            "Epoch 50/100\n",
            "1915/1915 [==============================] - 75s 39ms/step - loss: 0.0503 - mean_absolute_error: 0.1530\n",
            "\n",
            "Epoch 00050: ReduceLROnPlateau reducing learning rate to 3.200000264769187e-07.\n",
            "\n",
            "Epoch 00050: loss did not improve from 0.04953\n",
            "Epoch 51/100\n",
            "1915/1915 [==============================] - 75s 39ms/step - loss: 0.0506 - mean_absolute_error: 0.1543\n",
            "\n",
            "Epoch 00051: loss did not improve from 0.04953\n",
            "Epoch 52/100\n",
            "1915/1915 [==============================] - 75s 39ms/step - loss: 0.0507 - mean_absolute_error: 0.1543\n",
            "\n",
            "Epoch 00052: loss did not improve from 0.04953\n",
            "Epoch 53/100\n",
            "1915/1915 [==============================] - 75s 39ms/step - loss: 0.0518 - mean_absolute_error: 0.1545\n",
            "\n",
            "Epoch 00053: loss did not improve from 0.04953\n",
            "Epoch 54/100\n",
            "1915/1915 [==============================] - 75s 39ms/step - loss: 0.0488 - mean_absolute_error: 0.1526\n",
            "\n",
            "Epoch 00054: loss did not improve from 0.04953\n",
            "Epoch 55/100\n",
            "1915/1915 [==============================] - 75s 39ms/step - loss: 0.0513 - mean_absolute_error: 0.1550\n",
            "\n",
            "Epoch 00055: ReduceLROnPlateau reducing learning rate to 6.400000529538374e-08.\n",
            "\n",
            "Epoch 00055: loss did not improve from 0.04953\n",
            "Epoch 00055: early stopping\n"
          ],
          "name": "stdout"
        },
        {
          "output_type": "execute_result",
          "data": {
            "text/plain": [
              "<tensorflow.python.keras.callbacks.History at 0x7f1a32147470>"
            ]
          },
          "metadata": {
            "tags": []
          },
          "execution_count": 20
        }
      ]
    },
    {
      "cell_type": "markdown",
      "metadata": {
        "id": "mIvuOGY_3WNX"
      },
      "source": [
        "# Teste e Validação\r\n"
      ]
    },
    {
      "cell_type": "code",
      "metadata": {
        "id": "yOKfB_bHQqBC"
      },
      "source": [
        "model = keras.models.load_model('/content/pesos-2021-02-10.h5') # carrega modelo pré-treinado (OPCIONAL)"
      ],
      "execution_count": null,
      "outputs": []
    },
    {
      "cell_type": "code",
      "metadata": {
        "id": "7Ug-vt9FR4Jd",
        "colab": {
          "base_uri": "https://localhost:8080/"
        },
        "outputId": "a06f4f77-99be-4823-c6a0-07aad2905f52"
      },
      "source": [
        "model.summary()"
      ],
      "execution_count": 21,
      "outputs": [
        {
          "output_type": "stream",
          "text": [
            "Model: \"sequential\"\n",
            "_________________________________________________________________\n",
            "Layer (type)                 Output Shape              Param #   \n",
            "=================================================================\n",
            "lstm (LSTM)                  (None, 720, 100)          44000     \n",
            "_________________________________________________________________\n",
            "dropout (Dropout)            (None, 720, 100)          0         \n",
            "_________________________________________________________________\n",
            "lstm_1 (LSTM)                (None, 30)                15720     \n",
            "_________________________________________________________________\n",
            "dropout_1 (Dropout)          (None, 30)                0         \n",
            "_________________________________________________________________\n",
            "dense (Dense)                (None, 1)                 31        \n",
            "=================================================================\n",
            "Total params: 59,751\n",
            "Trainable params: 59,751\n",
            "Non-trainable params: 0\n",
            "_________________________________________________________________\n"
          ],
          "name": "stdout"
        }
      ]
    },
    {
      "cell_type": "code",
      "metadata": {
        "id": "zKD7RDzrNfl0"
      },
      "source": [
        "testeDIR = \"/content/drive/MyDrive/TG/TESTE\" "
      ],
      "execution_count": 22,
      "outputs": []
    },
    {
      "cell_type": "code",
      "metadata": {
        "id": "S9rOzJmNNdpZ"
      },
      "source": [
        "historicoCargaTeste = pd.read_csv(os.path.join(testeDIR,'SECO_2021-01-31_CARGAHIST.csv'),sep=\";\",decimal=\",\")\r\n",
        "historicoTemperaturaTeste = pd.read_csv(os.path.join(testeDIR,'SECO_2021-01-31_TEMPHIST.csv'),sep=\";\",decimal=\",\")"
      ],
      "execution_count": 23,
      "outputs": []
    },
    {
      "cell_type": "code",
      "metadata": {
        "colab": {
          "base_uri": "https://localhost:8080/",
          "height": 419
        },
        "id": "fDtpzDwR2gWa",
        "outputId": "f3f7cf6e-bf57-45da-e67b-ba0fb346f068"
      },
      "source": [
        "historicoTeste = basePreprocessing(historicoCargaTeste, historicoTemperaturaTeste)\r\n",
        "\r\n",
        "historicoTeste, _ , _ = baseNormalizer(historicoTeste,\r\n",
        "                                        StandardScaler(),\r\n",
        "                                        normalize_fit=True)\r\n",
        "\r\n",
        "valorRealTeste = historicoTeste.iloc[:, 4].values\r\n",
        "valorRealTeste"
      ],
      "execution_count": 59,
      "outputs": [
        {
          "output_type": "execute_result",
          "data": {
            "text/html": [
              "<div>\n",
              "<style scoped>\n",
              "    .dataframe tbody tr th:only-of-type {\n",
              "        vertical-align: middle;\n",
              "    }\n",
              "\n",
              "    .dataframe tbody tr th {\n",
              "        vertical-align: top;\n",
              "    }\n",
              "\n",
              "    .dataframe thead th {\n",
              "        text-align: right;\n",
              "    }\n",
              "</style>\n",
              "<table border=\"1\" class=\"dataframe\">\n",
              "  <thead>\n",
              "    <tr style=\"text-align: right;\">\n",
              "      <th></th>\n",
              "      <th>Year</th>\n",
              "      <th>Month</th>\n",
              "      <th>Day</th>\n",
              "      <th>Hora</th>\n",
              "      <th>Carga</th>\n",
              "      <th>Temperatura</th>\n",
              "      <th>Dia_0</th>\n",
              "      <th>Dia_1</th>\n",
              "      <th>Dia_2</th>\n",
              "      <th>Dia_3</th>\n",
              "      <th>Dia_4</th>\n",
              "      <th>Dia_5</th>\n",
              "      <th>Dia_6</th>\n",
              "    </tr>\n",
              "  </thead>\n",
              "  <tbody>\n",
              "    <tr>\n",
              "      <th>0</th>\n",
              "      <td>2014</td>\n",
              "      <td>1</td>\n",
              "      <td>1</td>\n",
              "      <td>1</td>\n",
              "      <td>-0.823276</td>\n",
              "      <td>0.147250</td>\n",
              "      <td>0</td>\n",
              "      <td>0</td>\n",
              "      <td>1</td>\n",
              "      <td>0</td>\n",
              "      <td>0</td>\n",
              "      <td>0</td>\n",
              "      <td>0</td>\n",
              "    </tr>\n",
              "    <tr>\n",
              "      <th>1</th>\n",
              "      <td>2014</td>\n",
              "      <td>1</td>\n",
              "      <td>1</td>\n",
              "      <td>2</td>\n",
              "      <td>-0.859091</td>\n",
              "      <td>0.117436</td>\n",
              "      <td>0</td>\n",
              "      <td>0</td>\n",
              "      <td>1</td>\n",
              "      <td>0</td>\n",
              "      <td>0</td>\n",
              "      <td>0</td>\n",
              "      <td>0</td>\n",
              "    </tr>\n",
              "    <tr>\n",
              "      <th>2</th>\n",
              "      <td>2014</td>\n",
              "      <td>1</td>\n",
              "      <td>1</td>\n",
              "      <td>3</td>\n",
              "      <td>-0.968578</td>\n",
              "      <td>-0.052604</td>\n",
              "      <td>0</td>\n",
              "      <td>0</td>\n",
              "      <td>1</td>\n",
              "      <td>0</td>\n",
              "      <td>0</td>\n",
              "      <td>0</td>\n",
              "      <td>0</td>\n",
              "    </tr>\n",
              "    <tr>\n",
              "      <th>3</th>\n",
              "      <td>2014</td>\n",
              "      <td>1</td>\n",
              "      <td>1</td>\n",
              "      <td>4</td>\n",
              "      <td>-1.136523</td>\n",
              "      <td>-0.052604</td>\n",
              "      <td>0</td>\n",
              "      <td>0</td>\n",
              "      <td>1</td>\n",
              "      <td>0</td>\n",
              "      <td>0</td>\n",
              "      <td>0</td>\n",
              "      <td>0</td>\n",
              "    </tr>\n",
              "    <tr>\n",
              "      <th>4</th>\n",
              "      <td>2014</td>\n",
              "      <td>1</td>\n",
              "      <td>1</td>\n",
              "      <td>5</td>\n",
              "      <td>-1.263577</td>\n",
              "      <td>-0.077364</td>\n",
              "      <td>0</td>\n",
              "      <td>0</td>\n",
              "      <td>1</td>\n",
              "      <td>0</td>\n",
              "      <td>0</td>\n",
              "      <td>0</td>\n",
              "      <td>0</td>\n",
              "    </tr>\n",
              "    <tr>\n",
              "      <th>...</th>\n",
              "      <td>...</td>\n",
              "      <td>...</td>\n",
              "      <td>...</td>\n",
              "      <td>...</td>\n",
              "      <td>...</td>\n",
              "      <td>...</td>\n",
              "      <td>...</td>\n",
              "      <td>...</td>\n",
              "      <td>...</td>\n",
              "      <td>...</td>\n",
              "      <td>...</td>\n",
              "      <td>...</td>\n",
              "      <td>...</td>\n",
              "    </tr>\n",
              "    <tr>\n",
              "      <th>62082</th>\n",
              "      <td>2021</td>\n",
              "      <td>1</td>\n",
              "      <td>30</td>\n",
              "      <td>19</td>\n",
              "      <td>1.426467</td>\n",
              "      <td>1.293314</td>\n",
              "      <td>0</td>\n",
              "      <td>0</td>\n",
              "      <td>0</td>\n",
              "      <td>0</td>\n",
              "      <td>0</td>\n",
              "      <td>1</td>\n",
              "      <td>0</td>\n",
              "    </tr>\n",
              "    <tr>\n",
              "      <th>62083</th>\n",
              "      <td>2021</td>\n",
              "      <td>1</td>\n",
              "      <td>30</td>\n",
              "      <td>20</td>\n",
              "      <td>2.033632</td>\n",
              "      <td>1.007303</td>\n",
              "      <td>0</td>\n",
              "      <td>0</td>\n",
              "      <td>0</td>\n",
              "      <td>0</td>\n",
              "      <td>0</td>\n",
              "      <td>1</td>\n",
              "      <td>0</td>\n",
              "    </tr>\n",
              "    <tr>\n",
              "      <th>62084</th>\n",
              "      <td>2021</td>\n",
              "      <td>1</td>\n",
              "      <td>30</td>\n",
              "      <td>21</td>\n",
              "      <td>2.007901</td>\n",
              "      <td>0.652317</td>\n",
              "      <td>0</td>\n",
              "      <td>0</td>\n",
              "      <td>0</td>\n",
              "      <td>0</td>\n",
              "      <td>0</td>\n",
              "      <td>1</td>\n",
              "      <td>0</td>\n",
              "    </tr>\n",
              "    <tr>\n",
              "      <th>62085</th>\n",
              "      <td>2021</td>\n",
              "      <td>1</td>\n",
              "      <td>30</td>\n",
              "      <td>22</td>\n",
              "      <td>1.837635</td>\n",
              "      <td>0.408500</td>\n",
              "      <td>0</td>\n",
              "      <td>0</td>\n",
              "      <td>0</td>\n",
              "      <td>0</td>\n",
              "      <td>0</td>\n",
              "      <td>1</td>\n",
              "      <td>0</td>\n",
              "    </tr>\n",
              "    <tr>\n",
              "      <th>62086</th>\n",
              "      <td>2021</td>\n",
              "      <td>1</td>\n",
              "      <td>30</td>\n",
              "      <td>23</td>\n",
              "      <td>1.614510</td>\n",
              "      <td>0.353926</td>\n",
              "      <td>0</td>\n",
              "      <td>0</td>\n",
              "      <td>0</td>\n",
              "      <td>0</td>\n",
              "      <td>0</td>\n",
              "      <td>1</td>\n",
              "      <td>0</td>\n",
              "    </tr>\n",
              "  </tbody>\n",
              "</table>\n",
              "<p>62081 rows × 13 columns</p>\n",
              "</div>"
            ],
            "text/plain": [
              "       Year  Month  Day  Hora     Carga  ...  Dia_2  Dia_3  Dia_4  Dia_5  Dia_6\n",
              "0      2014      1    1     1 -0.823276  ...      1      0      0      0      0\n",
              "1      2014      1    1     2 -0.859091  ...      1      0      0      0      0\n",
              "2      2014      1    1     3 -0.968578  ...      1      0      0      0      0\n",
              "3      2014      1    1     4 -1.136523  ...      1      0      0      0      0\n",
              "4      2014      1    1     5 -1.263577  ...      1      0      0      0      0\n",
              "...     ...    ...  ...   ...       ...  ...    ...    ...    ...    ...    ...\n",
              "62082  2021      1   30    19  1.426467  ...      0      0      0      1      0\n",
              "62083  2021      1   30    20  2.033632  ...      0      0      0      1      0\n",
              "62084  2021      1   30    21  2.007901  ...      0      0      0      1      0\n",
              "62085  2021      1   30    22  1.837635  ...      0      0      0      1      0\n",
              "62086  2021      1   30    23  1.614510  ...      0      0      0      1      0\n",
              "\n",
              "[62081 rows x 13 columns]"
            ]
          },
          "metadata": {
            "tags": []
          },
          "execution_count": 59
        }
      ]
    },
    {
      "cell_type": "code",
      "metadata": {
        "colab": {
          "base_uri": "https://localhost:8080/",
          "height": 419
        },
        "id": "sC_fdDol_XEs",
        "outputId": "10097229-c189-49b2-ac47-3b199ce040e3"
      },
      "source": [
        "historicoTeste[[\"Carga\"]] = normalizadorCarga.fit_transform(historicoTeste[[\"Carga\"]])\r\n",
        "historicoTeste[[\"Temperatura\"]] = normalizadorTemp.fit_transform(historicoTeste[[\"Temperatura\"]])\r\n",
        "historicoTeste"
      ],
      "execution_count": 60,
      "outputs": [
        {
          "output_type": "execute_result",
          "data": {
            "text/html": [
              "<div>\n",
              "<style scoped>\n",
              "    .dataframe tbody tr th:only-of-type {\n",
              "        vertical-align: middle;\n",
              "    }\n",
              "\n",
              "    .dataframe tbody tr th {\n",
              "        vertical-align: top;\n",
              "    }\n",
              "\n",
              "    .dataframe thead th {\n",
              "        text-align: right;\n",
              "    }\n",
              "</style>\n",
              "<table border=\"1\" class=\"dataframe\">\n",
              "  <thead>\n",
              "    <tr style=\"text-align: right;\">\n",
              "      <th></th>\n",
              "      <th>Year</th>\n",
              "      <th>Month</th>\n",
              "      <th>Day</th>\n",
              "      <th>Hora</th>\n",
              "      <th>Carga</th>\n",
              "      <th>Temperatura</th>\n",
              "      <th>Dia_0</th>\n",
              "      <th>Dia_1</th>\n",
              "      <th>Dia_2</th>\n",
              "      <th>Dia_3</th>\n",
              "      <th>Dia_4</th>\n",
              "      <th>Dia_5</th>\n",
              "      <th>Dia_6</th>\n",
              "    </tr>\n",
              "  </thead>\n",
              "  <tbody>\n",
              "    <tr>\n",
              "      <th>0</th>\n",
              "      <td>2014</td>\n",
              "      <td>1</td>\n",
              "      <td>1</td>\n",
              "      <td>1</td>\n",
              "      <td>-0.823260</td>\n",
              "      <td>0.147255</td>\n",
              "      <td>0</td>\n",
              "      <td>0</td>\n",
              "      <td>1</td>\n",
              "      <td>0</td>\n",
              "      <td>0</td>\n",
              "      <td>0</td>\n",
              "      <td>0</td>\n",
              "    </tr>\n",
              "    <tr>\n",
              "      <th>1</th>\n",
              "      <td>2014</td>\n",
              "      <td>1</td>\n",
              "      <td>1</td>\n",
              "      <td>2</td>\n",
              "      <td>-0.859074</td>\n",
              "      <td>0.117441</td>\n",
              "      <td>0</td>\n",
              "      <td>0</td>\n",
              "      <td>1</td>\n",
              "      <td>0</td>\n",
              "      <td>0</td>\n",
              "      <td>0</td>\n",
              "      <td>0</td>\n",
              "    </tr>\n",
              "    <tr>\n",
              "      <th>2</th>\n",
              "      <td>2014</td>\n",
              "      <td>1</td>\n",
              "      <td>1</td>\n",
              "      <td>3</td>\n",
              "      <td>-0.968556</td>\n",
              "      <td>-0.052597</td>\n",
              "      <td>0</td>\n",
              "      <td>0</td>\n",
              "      <td>1</td>\n",
              "      <td>0</td>\n",
              "      <td>0</td>\n",
              "      <td>0</td>\n",
              "      <td>0</td>\n",
              "    </tr>\n",
              "    <tr>\n",
              "      <th>3</th>\n",
              "      <td>2014</td>\n",
              "      <td>1</td>\n",
              "      <td>1</td>\n",
              "      <td>4</td>\n",
              "      <td>-1.136496</td>\n",
              "      <td>-0.052597</td>\n",
              "      <td>0</td>\n",
              "      <td>0</td>\n",
              "      <td>1</td>\n",
              "      <td>0</td>\n",
              "      <td>0</td>\n",
              "      <td>0</td>\n",
              "      <td>0</td>\n",
              "    </tr>\n",
              "    <tr>\n",
              "      <th>4</th>\n",
              "      <td>2014</td>\n",
              "      <td>1</td>\n",
              "      <td>1</td>\n",
              "      <td>5</td>\n",
              "      <td>-1.263545</td>\n",
              "      <td>-0.077358</td>\n",
              "      <td>0</td>\n",
              "      <td>0</td>\n",
              "      <td>1</td>\n",
              "      <td>0</td>\n",
              "      <td>0</td>\n",
              "      <td>0</td>\n",
              "      <td>0</td>\n",
              "    </tr>\n",
              "    <tr>\n",
              "      <th>...</th>\n",
              "      <td>...</td>\n",
              "      <td>...</td>\n",
              "      <td>...</td>\n",
              "      <td>...</td>\n",
              "      <td>...</td>\n",
              "      <td>...</td>\n",
              "      <td>...</td>\n",
              "      <td>...</td>\n",
              "      <td>...</td>\n",
              "      <td>...</td>\n",
              "      <td>...</td>\n",
              "      <td>...</td>\n",
              "      <td>...</td>\n",
              "    </tr>\n",
              "    <tr>\n",
              "      <th>62082</th>\n",
              "      <td>2021</td>\n",
              "      <td>1</td>\n",
              "      <td>30</td>\n",
              "      <td>19</td>\n",
              "      <td>1.426398</td>\n",
              "      <td>1.293311</td>\n",
              "      <td>0</td>\n",
              "      <td>0</td>\n",
              "      <td>0</td>\n",
              "      <td>0</td>\n",
              "      <td>0</td>\n",
              "      <td>1</td>\n",
              "      <td>0</td>\n",
              "    </tr>\n",
              "    <tr>\n",
              "      <th>62083</th>\n",
              "      <td>2021</td>\n",
              "      <td>1</td>\n",
              "      <td>30</td>\n",
              "      <td>20</td>\n",
              "      <td>2.033541</td>\n",
              "      <td>1.007302</td>\n",
              "      <td>0</td>\n",
              "      <td>0</td>\n",
              "      <td>0</td>\n",
              "      <td>0</td>\n",
              "      <td>0</td>\n",
              "      <td>1</td>\n",
              "      <td>0</td>\n",
              "    </tr>\n",
              "    <tr>\n",
              "      <th>62084</th>\n",
              "      <td>2021</td>\n",
              "      <td>1</td>\n",
              "      <td>30</td>\n",
              "      <td>21</td>\n",
              "      <td>2.007810</td>\n",
              "      <td>0.652318</td>\n",
              "      <td>0</td>\n",
              "      <td>0</td>\n",
              "      <td>0</td>\n",
              "      <td>0</td>\n",
              "      <td>0</td>\n",
              "      <td>1</td>\n",
              "      <td>0</td>\n",
              "    </tr>\n",
              "    <tr>\n",
              "      <th>62085</th>\n",
              "      <td>2021</td>\n",
              "      <td>1</td>\n",
              "      <td>30</td>\n",
              "      <td>22</td>\n",
              "      <td>1.837550</td>\n",
              "      <td>0.408503</td>\n",
              "      <td>0</td>\n",
              "      <td>0</td>\n",
              "      <td>0</td>\n",
              "      <td>0</td>\n",
              "      <td>0</td>\n",
              "      <td>1</td>\n",
              "      <td>0</td>\n",
              "    </tr>\n",
              "    <tr>\n",
              "      <th>62086</th>\n",
              "      <td>2021</td>\n",
              "      <td>1</td>\n",
              "      <td>30</td>\n",
              "      <td>23</td>\n",
              "      <td>1.614434</td>\n",
              "      <td>0.353929</td>\n",
              "      <td>0</td>\n",
              "      <td>0</td>\n",
              "      <td>0</td>\n",
              "      <td>0</td>\n",
              "      <td>0</td>\n",
              "      <td>1</td>\n",
              "      <td>0</td>\n",
              "    </tr>\n",
              "  </tbody>\n",
              "</table>\n",
              "<p>62081 rows × 13 columns</p>\n",
              "</div>"
            ],
            "text/plain": [
              "       Year  Month  Day  Hora     Carga  ...  Dia_2  Dia_3  Dia_4  Dia_5  Dia_6\n",
              "0      2014      1    1     1 -0.823260  ...      1      0      0      0      0\n",
              "1      2014      1    1     2 -0.859074  ...      1      0      0      0      0\n",
              "2      2014      1    1     3 -0.968556  ...      1      0      0      0      0\n",
              "3      2014      1    1     4 -1.136496  ...      1      0      0      0      0\n",
              "4      2014      1    1     5 -1.263545  ...      1      0      0      0      0\n",
              "...     ...    ...  ...   ...       ...  ...    ...    ...    ...    ...    ...\n",
              "62082  2021      1   30    19  1.426398  ...      0      0      0      1      0\n",
              "62083  2021      1   30    20  2.033541  ...      0      0      0      1      0\n",
              "62084  2021      1   30    21  2.007810  ...      0      0      0      1      0\n",
              "62085  2021      1   30    22  1.837550  ...      0      0      0      1      0\n",
              "62086  2021      1   30    23  1.614434  ...      0      0      0      1      0\n",
              "\n",
              "[62081 rows x 13 columns]"
            ]
          },
          "metadata": {
            "tags": []
          },
          "execution_count": 60
        }
      ]
    },
    {
      "cell_type": "code",
      "metadata": {
        "id": "ZYtF1SKjOSq0",
        "colab": {
          "base_uri": "https://localhost:8080/"
        },
        "outputId": "71c4adb7-97be-4c96-cf46-721d557c630d"
      },
      "source": [
        "entradas = historicoTeste.values\r\n",
        "entradas.shape"
      ],
      "execution_count": 61,
      "outputs": [
        {
          "output_type": "execute_result",
          "data": {
            "text/plain": [
              "(62081, 13)"
            ]
          },
          "metadata": {
            "tags": []
          },
          "execution_count": 61
        }
      ]
    },
    {
      "cell_type": "code",
      "metadata": {
        "id": "-RgNTn9YQ2VS",
        "colab": {
          "base_uri": "https://localhost:8080/"
        },
        "outputId": "75c5dd25-e5d3-4f11-9f45-37a9898a3029"
      },
      "source": [
        "X_teste = []\r\n",
        "Y_teste = []\r\n",
        "for i in range(len(entradas) - diasAnteriores,len(entradas)):\r\n",
        "    cargaTeste = entradas[(i - diasAnteriores):i,4]\r\n",
        "    cargaVerificada = entradas[i,4]\r\n",
        "    tempTeste = entradas[(i+1 - diasAnteriores):i+1,5]\r\n",
        "    vetorDiaSemana = entradas[(i+1 - diasAnteriores):i+1,6:]\r\n",
        "    \r\n",
        "    batchTeste = np.column_stack((cargaTeste,tempTeste,vetorDiaSemana))\r\n",
        "\r\n",
        "    X_teste.append(batchTeste)\r\n",
        "    Y_teste.append(cargaVerificada)\r\n",
        "    \r\n",
        "X_teste = np.array(X_teste)\r\n",
        "Y_teste = np.array(Y_teste)\r\n",
        "print(X_teste.shape)\r\n",
        "print(Y_teste.shape)"
      ],
      "execution_count": 89,
      "outputs": [
        {
          "output_type": "stream",
          "text": [
            "(720, 720, 9)\n",
            "(720,)\n"
          ],
          "name": "stdout"
        }
      ]
    },
    {
      "cell_type": "code",
      "metadata": {
        "id": "eSwc4cBnUHeS"
      },
      "source": [
        "previsoes = model.predict(X_teste)"
      ],
      "execution_count": 90,
      "outputs": []
    },
    {
      "cell_type": "code",
      "metadata": {
        "id": "fw4mPYf3VH9N"
      },
      "source": [
        "previsoes = normalizadorCarga.inverse_transform(previsoes)"
      ],
      "execution_count": 91,
      "outputs": []
    },
    {
      "cell_type": "code",
      "metadata": {
        "id": "OR_iuZWcV5ou"
      },
      "source": [
        "tf.keras.losses.MAPE(Y_teste, previsoes)"
      ],
      "execution_count": null,
      "outputs": []
    },
    {
      "cell_type": "code",
      "metadata": {
        "id": "9fYj7Gdyvnpd"
      },
      "source": [
        "previsoes"
      ],
      "execution_count": null,
      "outputs": []
    },
    {
      "cell_type": "code",
      "metadata": {
        "id": "5Hh84rNUVMHI",
        "colab": {
          "base_uri": "https://localhost:8080/",
          "height": 295
        },
        "outputId": "8bb20130-e826-46b0-8a17-83657a1aadba"
      },
      "source": [
        "axes = plt.gca()\r\n",
        "axes.set_xlim([60,200])\r\n",
        "plt.plot(Y_teste[:], color = \"black\", label = \"Carga Real Verificada\")\r\n",
        "plt.plot(previsoes[:], color = \"red\", label = \"Previsão Modelo Rede Neural\")\r\n",
        "plt.title(\"Carga semanal - SUDESTE\")\r\n",
        "plt.xlabel(\"Tempo [Horas]\")\r\n",
        "plt.ylabel(\"\")\r\n",
        "plt.legend()\r\n",
        "plt.show()"
      ],
      "execution_count": 101,
      "outputs": [
        {
          "output_type": "display_data",
          "data": {
            "image/png": "[encoded data removed]",
            "text/plain": [
              "<Figure size 432x288 with 1 Axes>"
            ]
          },
          "metadata": {
            "tags": [],
            "needs_background": "light"
          }
        }
      ]
    }
  ]
}