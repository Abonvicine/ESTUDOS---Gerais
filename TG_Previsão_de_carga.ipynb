{
  "nbformat": 4,
  "nbformat_minor": 0,
  "metadata": {
    "colab": {
      "name": "TG - Previsão de carga.ipynb",
      "provenance": [],
      "collapsed_sections": [],
      "mount_file_id": "1tKdnCBr9Sb-FvQo5-uQIYk_agexd7ngo",
      "authorship_tag": "ABX9TyPSujKq4FI0SfEK/BgxcgMz",
      "include_colab_link": true
    },
    "kernelspec": {
      "name": "python3",
      "display_name": "Python 3"
    }
  },
  "cells": [
    {
      "cell_type": "markdown",
      "metadata": {
        "id": "view-in-github",
        "colab_type": "text"
      },
      "source": [
        "<a href=\"https://colab.research.google.com/github/Abonvicine/ESTUDOS---Gerais/blob/main/TG_Previs%C3%A3o_de_carga.ipynb\" target=\"_parent\"><img src=\"https://colab.research.google.com/assets/colab-badge.svg\" alt=\"Open In Colab\"/></a>"
      ]
    },
    {
      "cell_type": "code",
      "metadata": {
        "id": "q-fX4gB8cJuR"
      },
      "source": [
        "from tensorflow import keras\r\n",
        "from keras.models import Sequential \r\n",
        "from keras.layers import Dense, Dropout, LSTM\r\n",
        "from keras.callbacks import EarlyStopping, ReduceLROnPlateau, ModelCheckpoint\r\n",
        "from sklearn.preprocessing import MinMaxScaler, StandardScaler, OneHotEncoder\r\n",
        "from datetime import date\r\n",
        "\r\n",
        "import tensorflow as tf\r\n",
        "import pandas as pd\r\n",
        "import time\r\n",
        "import numpy as np\r\n",
        "import matplotlib.pyplot as plt\r\n",
        "import os"
      ],
      "execution_count": 1,
      "outputs": []
    },
    {
      "cell_type": "code",
      "metadata": {
        "id": "a4USAxSSBxlH"
      },
      "source": [
        "%tensorflow_version 2.x\r\n",
        "import tensorflow as tf\r\n",
        "print(\"Tensorflow version \" + tf.__version__)\r\n",
        "\r\n",
        "try:\r\n",
        "  tpu = tf.distribute.cluster_resolver.TPUClusterResolver()  # TPU detection\r\n",
        "  print('Running on TPU ', tpu.cluster_spec().as_dict()['worker'])\r\n",
        "except ValueError:\r\n",
        "  raise BaseException('ERROR: Not connected to a TPU runtime; please see the previous cell in this notebook for instructions!')\r\n",
        "\r\n",
        "tf.config.experimental_connect_to_cluster(tpu)\r\n",
        "tf.tpu.experimental.initialize_tpu_system(tpu)\r\n",
        "tpu_strategy = tf.distribute.experimental.TPUStrategy(tpu)"
      ],
      "execution_count": null,
      "outputs": []
    },
    {
      "cell_type": "code",
      "metadata": {
        "id": "RG3u80XzNQ4s"
      },
      "source": [
        "hoje = date.today()\r\n",
        "diaSemana = hoje.weekday()\r\n",
        "hoje = str(hoje)"
      ],
      "execution_count": 2,
      "outputs": []
    },
    {
      "cell_type": "code",
      "metadata": {
        "id": "usANetWmbY9Q"
      },
      "source": [
        "baseDIR = \"/content/drive/MyDrive/TG/DADOS SUDESTE\"\r\n",
        "os.listdir(baseDIR)"
      ],
      "execution_count": null,
      "outputs": []
    },
    {
      "cell_type": "code",
      "metadata": {
        "id": "ML08mQFoccSS"
      },
      "source": [
        "historicoCarga = pd.read_csv(os.path.join(baseDIR,'SECO_2021-01-27_CARGAHIST.csv'),sep=\";\",decimal=\",\")\r\n",
        "historicoTemperatura = pd.read_csv(os.path.join(baseDIR,'SECO_2021-01-27_TEMPHIST.csv'),sep=\";\",decimal=\",\")"
      ],
      "execution_count": 4,
      "outputs": []
    },
    {
      "cell_type": "code",
      "metadata": {
        "id": "l9BIfwnyzIbs"
      },
      "source": [
        "def basePreprocessing(carga,temperatura):\r\n",
        "    dataset = carga.merge(temperatura)\r\n",
        "    dataset = dataset.drop([\"Min\"], axis = 1 )\r\n",
        "    dataset = dataset.rename({'Ano': 'Year', 'Mes': 'Month',\"Dia\":\"Day\"}, axis=1)\r\n",
        "    dataset[\"Date\"] = pd.to_datetime(dataset[[\"Year\",\"Month\",\"Day\"]])\r\n",
        "    dataset[\"Weekday\"] = dataset[\"Date\"].dt.dayofweek\r\n",
        "\r\n",
        "    dataset[\"Carga_Var\"] = dataset[\"Carga\"].pct_change()\r\n",
        "    dataset[\"Temp_Var\"] = dataset[\"Temperatura\"].pct_change()\r\n",
        "\r\n",
        "    dataset[\"Carga D-1\"] = dataset[\"Carga\"].shift(1, axis = 0)\r\n",
        "    dataset = dataset.iloc[1:]\r\n",
        "\r\n",
        "    correlation = dataset[\"Carga\"].corr(dataset[\"Temperatura\"])\r\n",
        "\r\n",
        "    return dataset, correlation\r\n",
        "\r\n",
        "def baseNormalizer(dataset, normalizer, normalize_fit = True):\r\n",
        "    \r\n",
        "    normalizadorCarga = normalizer\r\n",
        "    normalizadorTemp = normalizer\r\n",
        "\r\n",
        "    if normalize_fit:\r\n",
        "        dataset[[\"Carga\"]] = normalizadorCarga.fit_transform(dataset[[\"Carga\"]])\r\n",
        "        dataset[[\"Carga D-1\"]] = normalizadorCarga.transform(dataset[[\"Carga D-1\"]])\r\n",
        "        dataset[[\"Temperatura\"]] = normalizadorTemp.fit_transform(dataset[[\"Temperatura\"]])\r\n",
        "\r\n",
        "    dummies = pd.get_dummies(dataset[\"Weekday\"],prefix=\"Dia\")\r\n",
        "    dataset = dataset.join(dummies)\r\n",
        "    dataset = dataset.drop([\"Date\",\"Weekday\"], axis = 1 )\r\n",
        "    dataset = dataset.dropna()\r\n",
        "\r\n",
        "    return dataset , normalizadorCarga, normalizadorTemp"
      ],
      "execution_count": 67,
      "outputs": []
    },
    {
      "cell_type": "code",
      "metadata": {
        "id": "JnGBf-Qh14KK",
        "colab": {
          "base_uri": "https://localhost:8080/",
          "height": 419
        },
        "outputId": "f5c9aead-eb4b-4f65-8e5d-cf7cd5dc740b"
      },
      "source": [
        "historico, correlation = basePreprocessing(historicoCarga,historicoTemperatura)\r\n",
        "historico, normalizadorCarga, normalizadorTemp = baseNormalizer(historico,StandardScaler())\r\n",
        "historico = historico.dropna()\r\n",
        "\r\n",
        "cols = [  \r\n",
        "    'Year',\r\n",
        "    'Month',\r\n",
        "    'Day',\r\n",
        "    'Hora',\r\n",
        "    'Carga',\r\n",
        "    'Carga D-1',\r\n",
        "    'Temperatura',\r\n",
        "    'Carga_Var',\r\n",
        "    'Temp_Var',\r\n",
        "    'Dia_0',\r\n",
        "    'Dia_1',\r\n",
        "    'Dia_2',\r\n",
        "    'Dia_3',\r\n",
        "    'Dia_4',\r\n",
        "    'Dia_5',\r\n",
        "    'Dia_6']\r\n",
        "\r\n",
        "historico = historico[cols]\r\n",
        "base = historico.values\r\n",
        "historico"
      ],
      "execution_count": 73,
      "outputs": [
        {
          "output_type": "execute_result",
          "data": {
            "text/html": [
              "<div>\n",
              "<style scoped>\n",
              "    .dataframe tbody tr th:only-of-type {\n",
              "        vertical-align: middle;\n",
              "    }\n",
              "\n",
              "    .dataframe tbody tr th {\n",
              "        vertical-align: top;\n",
              "    }\n",
              "\n",
              "    .dataframe thead th {\n",
              "        text-align: right;\n",
              "    }\n",
              "</style>\n",
              "<table border=\"1\" class=\"dataframe\">\n",
              "  <thead>\n",
              "    <tr style=\"text-align: right;\">\n",
              "      <th></th>\n",
              "      <th>Year</th>\n",
              "      <th>Month</th>\n",
              "      <th>Day</th>\n",
              "      <th>Hora</th>\n",
              "      <th>Carga</th>\n",
              "      <th>Carga D-1</th>\n",
              "      <th>Temperatura</th>\n",
              "      <th>Carga_Var</th>\n",
              "      <th>Temp_Var</th>\n",
              "      <th>Dia_0</th>\n",
              "      <th>Dia_1</th>\n",
              "      <th>Dia_2</th>\n",
              "      <th>Dia_3</th>\n",
              "      <th>Dia_4</th>\n",
              "      <th>Dia_5</th>\n",
              "      <th>Dia_6</th>\n",
              "    </tr>\n",
              "  </thead>\n",
              "  <tbody>\n",
              "    <tr>\n",
              "      <th>1</th>\n",
              "      <td>2014</td>\n",
              "      <td>1</td>\n",
              "      <td>1</td>\n",
              "      <td>2</td>\n",
              "      <td>-0.857916</td>\n",
              "      <td>-0.822059</td>\n",
              "      <td>0.118757</td>\n",
              "      <td>-0.006480</td>\n",
              "      <td>-0.004787</td>\n",
              "      <td>0</td>\n",
              "      <td>0</td>\n",
              "      <td>1</td>\n",
              "      <td>0</td>\n",
              "      <td>0</td>\n",
              "      <td>0</td>\n",
              "      <td>0</td>\n",
              "    </tr>\n",
              "    <tr>\n",
              "      <th>2</th>\n",
              "      <td>2014</td>\n",
              "      <td>1</td>\n",
              "      <td>1</td>\n",
              "      <td>3</td>\n",
              "      <td>-0.967533</td>\n",
              "      <td>-0.857916</td>\n",
              "      <td>-0.051350</td>\n",
              "      <td>-0.019939</td>\n",
              "      <td>-0.027436</td>\n",
              "      <td>0</td>\n",
              "      <td>0</td>\n",
              "      <td>1</td>\n",
              "      <td>0</td>\n",
              "      <td>0</td>\n",
              "      <td>0</td>\n",
              "      <td>0</td>\n",
              "    </tr>\n",
              "    <tr>\n",
              "      <th>3</th>\n",
              "      <td>2014</td>\n",
              "      <td>1</td>\n",
              "      <td>1</td>\n",
              "      <td>4</td>\n",
              "      <td>-1.135679</td>\n",
              "      <td>-0.967533</td>\n",
              "      <td>-0.051350</td>\n",
              "      <td>-0.031208</td>\n",
              "      <td>0.000000</td>\n",
              "      <td>0</td>\n",
              "      <td>0</td>\n",
              "      <td>1</td>\n",
              "      <td>0</td>\n",
              "      <td>0</td>\n",
              "      <td>0</td>\n",
              "      <td>0</td>\n",
              "    </tr>\n",
              "    <tr>\n",
              "      <th>4</th>\n",
              "      <td>2014</td>\n",
              "      <td>1</td>\n",
              "      <td>1</td>\n",
              "      <td>5</td>\n",
              "      <td>-1.262884</td>\n",
              "      <td>-1.135679</td>\n",
              "      <td>-0.076120</td>\n",
              "      <td>-0.024370</td>\n",
              "      <td>-0.004108</td>\n",
              "      <td>0</td>\n",
              "      <td>0</td>\n",
              "      <td>1</td>\n",
              "      <td>0</td>\n",
              "      <td>0</td>\n",
              "      <td>0</td>\n",
              "      <td>0</td>\n",
              "    </tr>\n",
              "    <tr>\n",
              "      <th>5</th>\n",
              "      <td>2014</td>\n",
              "      <td>1</td>\n",
              "      <td>1</td>\n",
              "      <td>6</td>\n",
              "      <td>-1.341795</td>\n",
              "      <td>-1.262884</td>\n",
              "      <td>-0.154476</td>\n",
              "      <td>-0.015495</td>\n",
              "      <td>-0.013048</td>\n",
              "      <td>0</td>\n",
              "      <td>0</td>\n",
              "      <td>1</td>\n",
              "      <td>0</td>\n",
              "      <td>0</td>\n",
              "      <td>0</td>\n",
              "      <td>0</td>\n",
              "    </tr>\n",
              "    <tr>\n",
              "      <th>...</th>\n",
              "      <td>...</td>\n",
              "      <td>...</td>\n",
              "      <td>...</td>\n",
              "      <td>...</td>\n",
              "      <td>...</td>\n",
              "      <td>...</td>\n",
              "      <td>...</td>\n",
              "      <td>...</td>\n",
              "      <td>...</td>\n",
              "      <td>...</td>\n",
              "      <td>...</td>\n",
              "      <td>...</td>\n",
              "      <td>...</td>\n",
              "      <td>...</td>\n",
              "      <td>...</td>\n",
              "      <td>...</td>\n",
              "    </tr>\n",
              "    <tr>\n",
              "      <th>61986</th>\n",
              "      <td>2021</td>\n",
              "      <td>1</td>\n",
              "      <td>26</td>\n",
              "      <td>19</td>\n",
              "      <td>1.492468</td>\n",
              "      <td>1.737552</td>\n",
              "      <td>0.904586</td>\n",
              "      <td>-0.030283</td>\n",
              "      <td>-0.044790</td>\n",
              "      <td>0</td>\n",
              "      <td>1</td>\n",
              "      <td>0</td>\n",
              "      <td>0</td>\n",
              "      <td>0</td>\n",
              "      <td>0</td>\n",
              "      <td>0</td>\n",
              "    </tr>\n",
              "    <tr>\n",
              "      <th>61987</th>\n",
              "      <td>2021</td>\n",
              "      <td>1</td>\n",
              "      <td>26</td>\n",
              "      <td>20</td>\n",
              "      <td>2.005166</td>\n",
              "      <td>1.492468</td>\n",
              "      <td>0.560581</td>\n",
              "      <td>0.065329</td>\n",
              "      <td>-0.049242</td>\n",
              "      <td>0</td>\n",
              "      <td>1</td>\n",
              "      <td>0</td>\n",
              "      <td>0</td>\n",
              "      <td>0</td>\n",
              "      <td>0</td>\n",
              "      <td>0</td>\n",
              "    </tr>\n",
              "    <tr>\n",
              "      <th>61988</th>\n",
              "      <td>2021</td>\n",
              "      <td>1</td>\n",
              "      <td>26</td>\n",
              "      <td>21</td>\n",
              "      <td>2.099413</td>\n",
              "      <td>2.005166</td>\n",
              "      <td>0.477423</td>\n",
              "      <td>0.011273</td>\n",
              "      <td>-0.012520</td>\n",
              "      <td>0</td>\n",
              "      <td>1</td>\n",
              "      <td>0</td>\n",
              "      <td>0</td>\n",
              "      <td>0</td>\n",
              "      <td>0</td>\n",
              "      <td>0</td>\n",
              "    </tr>\n",
              "    <tr>\n",
              "      <th>61989</th>\n",
              "      <td>2021</td>\n",
              "      <td>1</td>\n",
              "      <td>26</td>\n",
              "      <td>22</td>\n",
              "      <td>2.069162</td>\n",
              "      <td>2.099413</td>\n",
              "      <td>0.365703</td>\n",
              "      <td>-0.003578</td>\n",
              "      <td>-0.017033</td>\n",
              "      <td>0</td>\n",
              "      <td>1</td>\n",
              "      <td>0</td>\n",
              "      <td>0</td>\n",
              "      <td>0</td>\n",
              "      <td>0</td>\n",
              "      <td>0</td>\n",
              "    </tr>\n",
              "    <tr>\n",
              "      <th>61990</th>\n",
              "      <td>2021</td>\n",
              "      <td>1</td>\n",
              "      <td>26</td>\n",
              "      <td>23</td>\n",
              "      <td>1.814664</td>\n",
              "      <td>2.069162</td>\n",
              "      <td>0.223652</td>\n",
              "      <td>-0.030209</td>\n",
              "      <td>-0.022033</td>\n",
              "      <td>0</td>\n",
              "      <td>1</td>\n",
              "      <td>0</td>\n",
              "      <td>0</td>\n",
              "      <td>0</td>\n",
              "      <td>0</td>\n",
              "      <td>0</td>\n",
              "    </tr>\n",
              "  </tbody>\n",
              "</table>\n",
              "<p>61983 rows × 16 columns</p>\n",
              "</div>"
            ],
            "text/plain": [
              "       Year  Month  Day  Hora     Carga  ...  Dia_2  Dia_3  Dia_4  Dia_5  Dia_6\n",
              "1      2014      1    1     2 -0.857916  ...      1      0      0      0      0\n",
              "2      2014      1    1     3 -0.967533  ...      1      0      0      0      0\n",
              "3      2014      1    1     4 -1.135679  ...      1      0      0      0      0\n",
              "4      2014      1    1     5 -1.262884  ...      1      0      0      0      0\n",
              "5      2014      1    1     6 -1.341795  ...      1      0      0      0      0\n",
              "...     ...    ...  ...   ...       ...  ...    ...    ...    ...    ...    ...\n",
              "61986  2021      1   26    19  1.492468  ...      0      0      0      0      0\n",
              "61987  2021      1   26    20  2.005166  ...      0      0      0      0      0\n",
              "61988  2021      1   26    21  2.099413  ...      0      0      0      0      0\n",
              "61989  2021      1   26    22  2.069162  ...      0      0      0      0      0\n",
              "61990  2021      1   26    23  1.814664  ...      0      0      0      0      0\n",
              "\n",
              "[61983 rows x 16 columns]"
            ]
          },
          "metadata": {
            "tags": []
          },
          "execution_count": 73
        }
      ]
    },
    {
      "cell_type": "code",
      "metadata": {
        "colab": {
          "base_uri": "https://localhost:8080/"
        },
        "id": "4KDHds0xh3JO",
        "outputId": "b3b5909d-9f9f-4db0-c570-f3d5208ae6a7"
      },
      "source": [
        "print(f\"A correlação é {round(correlation,4)}\")"
      ],
      "execution_count": 74,
      "outputs": [
        {
          "output_type": "stream",
          "text": [
            "A correlação é 0.6494\n"
          ],
          "name": "stdout"
        }
      ]
    },
    {
      "cell_type": "code",
      "metadata": {
        "id": "EeL1PthTzb1m"
      },
      "source": [
        "plt.figure(figsize=(15, 8))\r\n",
        "axes = plt.gca()\r\n",
        "axes.set_xlim(0,720)\r\n",
        "\r\n",
        "plt.plot(historico[\"Temperatura\"])\r\n",
        "plt.plot(historico[\"Carga\"])"
      ],
      "execution_count": null,
      "outputs": []
    },
    {
      "cell_type": "code",
      "metadata": {
        "colab": {
          "base_uri": "https://localhost:8080/"
        },
        "id": "z9cNqq6wTNxw",
        "outputId": "1d0d3d48-c5c5-48a1-bc70-e5edc5a6bd50"
      },
      "source": [
        "Xdataset = historico[['Carga D-1','Temperatura','Dia_1','Dia_2','Dia_3','Dia_4','Dia_5','Dia_6']]\r\n",
        "Ydataset = historico[['Carga']]\r\n",
        "base_X = Xdataset.values\r\n",
        "base_Y = Ydataset.values\r\n",
        "\r\n",
        "dias= 30\r\n",
        "\r\n",
        "print(f'Tamanho original da base X = {base_X.shape}, Y = {base_Y.shape}')\r\n",
        "\r\n",
        "split_time = base_X.shape[0] - (24*dias)\r\n",
        "\r\n",
        "x_train = base_X[:split_time]\r\n",
        "y_train = base_Y[:split_time]\r\n",
        "\r\n",
        "x_valid = base_X[split_time:]\r\n",
        "y_valid = base_Y[split_time:]\r\n",
        "\r\n",
        "print(f'formato dados de treino X = {x_train.shape}, Y = {y_train.shape}')\r\n",
        "print(f'formato dados de teste X = {x_valid.shape}, Y = {y_valid.shape}')"
      ],
      "execution_count": 113,
      "outputs": [
        {
          "output_type": "stream",
          "text": [
            "Tamanho original da base X = (61983, 8), Y = (61983, 1)\n",
            "formato dados de treino X = (61263, 8), Y = (61263, 1)\n",
            "formato dados de teste X = (720, 8), Y = (720, 1)\n"
          ],
          "name": "stdout"
        }
      ]
    },
    {
      "cell_type": "code",
      "metadata": {
        "id": "pfyI3gG8m4T5"
      },
      "source": [
        "diasAnteriores = 30*24"
      ],
      "execution_count": 9,
      "outputs": []
    },
    {
      "cell_type": "code",
      "metadata": {
        "id": "W_9U9EVHSPic"
      },
      "source": [
        "def windowed_dataset(series, window_size, batch_size, shuffle_buffer):\r\n",
        "    series = tf.expand_dims(series, axis=-1)\r\n",
        "    ds = tf.data.Dataset.from_tensor_slices(series)\r\n",
        "    ds = ds.window(window_size + 1, shift=1, drop_remainder=True)\r\n",
        "    ds = ds.flat_map(lambda w: w.batch(window_size + 1))\r\n",
        "    ds = ds.shuffle(shuffle_buffer)\r\n",
        "    ds = ds.map(lambda w: (w[:-1], w[1:]))\r\n",
        "    return ds.batch(batch_size).prefetch(1)"
      ],
      "execution_count": 17,
      "outputs": []
    },
    {
      "cell_type": "code",
      "metadata": {
        "id": "RIQQ55brSSOT"
      },
      "source": [
        "def model_forecast(model, series, window_size):\r\n",
        "    ds = tf.data.Dataset.from_tensor_slices(series)\r\n",
        "    ds = ds.window(window_size, shift=1, drop_remainder=True)\r\n",
        "    ds = ds.flat_map(lambda w: w.batch(window_size))\r\n",
        "    ds = ds.batch(32).prefetch(1)\r\n",
        "    forecast = model.predict(ds)\r\n",
        "    return forecast"
      ],
      "execution_count": 18,
      "outputs": []
    },
    {
      "cell_type": "code",
      "metadata": {
        "id": "kqmlzWLvkcbG"
      },
      "source": [
        "window_size = 24*diasAnteriores\r\n",
        "batch_size = 32\r\n",
        "shuffle_buffer_size = 1000"
      ],
      "execution_count": 97,
      "outputs": []
    },
    {
      "cell_type": "code",
      "metadata": {
        "colab": {
          "base_uri": "https://localhost:8080/"
        },
        "id": "GEMuOA5GYzvd",
        "outputId": "9a23736c-938f-44c0-b063-309473525282"
      },
      "source": [
        "train_set = windowed_dataset(x_train, diasAnteriores,batch_size,shuffle_buffer_size)\r\n",
        "print(train_set)"
      ],
      "execution_count": 103,
      "outputs": [
        {
          "output_type": "stream",
          "text": [
            "<PrefetchDataset shapes: ((None, None, 8, 1), (None, None, 8, 1)), types: (tf.float64, tf.float64)>\n"
          ],
          "name": "stdout"
        }
      ]
    },
    {
      "cell_type": "code",
      "metadata": {
        "id": "flVyssR0tUbx"
      },
      "source": [
        "def createModel():\r\n",
        "    model = Sequential()\r\n",
        "\r\n",
        "    model.add(LSTM(units = 100, return_sequences = True,input_shape = (previsores.shape[1],9)))\r\n",
        "    model.add(Dropout(0.5))\r\n",
        "\r\n",
        "    # model.add(LSTM(units = 50, return_sequences = True))\r\n",
        "    # model.add(Dropout(0.3))\r\n",
        "\r\n",
        "    model.add(LSTM(units = 30))\r\n",
        "    model.add(Dropout(0.5))\r\n",
        "\r\n",
        "    model.add(Dense(units = 1, activation= \"linear\"))\r\n",
        "\r\n",
        "    model.compile(optimizer = \"adam\", loss = \"mean_squared_error\", metrics = [\"mean_absolute_error\"])\r\n",
        "\r\n",
        "    return model"
      ],
      "execution_count": null,
      "outputs": []
    },
    {
      "cell_type": "code",
      "metadata": {
        "id": "pvfTKM54tu9L"
      },
      "source": [
        "es = EarlyStopping(monitor = \"loss\", min_delta = 1e-10, patience = 10, verbose = 1)\r\n",
        "rlr = ReduceLROnPlateau(monitor = \"loss\", factor = 0.2, patience = 5, verbose = 1)\r\n",
        "mcp = ModelCheckpoint(filepath=f\"pesos-{hoje}.h5\", monitor = \"loss\", save_best_only = True, verbose=1)"
      ],
      "execution_count": null,
      "outputs": []
    },
    {
      "cell_type": "code",
      "metadata": {
        "id": "hsCegQcZIaXA",
        "colab": {
          "base_uri": "https://localhost:8080/"
        },
        "outputId": "be77d6bf-f920-4e9a-ee7f-cad90927efd1"
      },
      "source": [
        "with tpu_strategy.scope(): # creating the model in the TPUStrategy scope means we will train the model on the TPU\r\n",
        "  model = createModel()\r\n",
        "model.summary()"
      ],
      "execution_count": null,
      "outputs": [
        {
          "output_type": "stream",
          "text": [
            "Model: \"sequential\"\n",
            "_________________________________________________________________\n",
            "Layer (type)                 Output Shape              Param #   \n",
            "=================================================================\n",
            "lstm (LSTM)                  (None, 720, 100)          44000     \n",
            "_________________________________________________________________\n",
            "dropout (Dropout)            (None, 720, 100)          0         \n",
            "_________________________________________________________________\n",
            "lstm_1 (LSTM)                (None, 30)                15720     \n",
            "_________________________________________________________________\n",
            "dropout_1 (Dropout)          (None, 30)                0         \n",
            "_________________________________________________________________\n",
            "dense (Dense)                (None, 1)                 31        \n",
            "=================================================================\n",
            "Total params: 59,751\n",
            "Trainable params: 59,751\n",
            "Non-trainable params: 0\n",
            "_________________________________________________________________\n"
          ],
          "name": "stdout"
        }
      ]
    },
    {
      "cell_type": "code",
      "metadata": {
        "id": "Wln0vX91uweT"
      },
      "source": [
        "model.fit(previsores, valorReal, epochs = 100, batch_size = 32, callbacks=[es,rlr,mcp])"
      ],
      "execution_count": null,
      "outputs": []
    },
    {
      "cell_type": "markdown",
      "metadata": {
        "id": "mIvuOGY_3WNX"
      },
      "source": [
        "# Teste e Validação\r\n"
      ]
    },
    {
      "cell_type": "code",
      "metadata": {
        "id": "yOKfB_bHQqBC"
      },
      "source": [
        "model = keras.models.load_model('/content/pesos-2021-02-10.h5') # carrega modelo pré-treinado (OPCIONAL)"
      ],
      "execution_count": null,
      "outputs": []
    },
    {
      "cell_type": "code",
      "metadata": {
        "id": "7Ug-vt9FR4Jd",
        "colab": {
          "base_uri": "https://localhost:8080/"
        },
        "outputId": "386c82cb-a673-4ea2-a7ed-3d7972d52d3e"
      },
      "source": [
        "model.summary()"
      ],
      "execution_count": null,
      "outputs": [
        {
          "output_type": "stream",
          "text": [
            "Model: \"sequential\"\n",
            "_________________________________________________________________\n",
            "Layer (type)                 Output Shape              Param #   \n",
            "=================================================================\n",
            "lstm (LSTM)                  (None, 720, 100)          44000     \n",
            "_________________________________________________________________\n",
            "dropout (Dropout)            (None, 720, 100)          0         \n",
            "_________________________________________________________________\n",
            "lstm_1 (LSTM)                (None, 30)                15720     \n",
            "_________________________________________________________________\n",
            "dropout_1 (Dropout)          (None, 30)                0         \n",
            "_________________________________________________________________\n",
            "dense (Dense)                (None, 1)                 31        \n",
            "=================================================================\n",
            "Total params: 59,751\n",
            "Trainable params: 59,751\n",
            "Non-trainable params: 0\n",
            "_________________________________________________________________\n"
          ],
          "name": "stdout"
        }
      ]
    },
    {
      "cell_type": "code",
      "metadata": {
        "id": "zKD7RDzrNfl0"
      },
      "source": [
        "testeDIR = \"/content/drive/MyDrive/TG/TESTE\" "
      ],
      "execution_count": null,
      "outputs": []
    },
    {
      "cell_type": "code",
      "metadata": {
        "id": "S9rOzJmNNdpZ"
      },
      "source": [
        "historicoCargaTeste = pd.read_csv(os.path.join(testeDIR,'SECO_2021-02-28_CARGAHIST.csv'),sep=\";\",decimal=\",\")\r\n",
        "historicoTemperaturaTeste = pd.read_csv(os.path.join(testeDIR,'SECO_2021-02-28_TEMPHIST.csv'),sep=\";\",decimal=\",\")"
      ],
      "execution_count": null,
      "outputs": []
    },
    {
      "cell_type": "code",
      "metadata": {
        "id": "fDtpzDwR2gWa"
      },
      "source": [
        "historicoTeste = basePreprocessing(historicoCargaTeste, historicoTemperaturaTeste)\r\n",
        "\r\n",
        "historicoTeste, _ , _ = baseNormalizer(historicoTeste,\r\n",
        "                                        StandardScaler(),\r\n",
        "                                        normalize_fit=True)\r\n",
        "\r\n",
        "valorRealTeste = historicoTeste.iloc[:, 4].values\r\n",
        "valorRealTeste"
      ],
      "execution_count": null,
      "outputs": []
    },
    {
      "cell_type": "code",
      "metadata": {
        "id": "sC_fdDol_XEs"
      },
      "source": [
        "historicoTeste[[\"Carga\"]] = normalizadorCarga.fit_transform(historicoTeste[[\"Carga\"]])\r\n",
        "historicoTeste[[\"Temperatura\"]] = normalizadorTemp.fit_transform(historicoTeste[[\"Temperatura\"]])\r\n",
        "historicoTeste"
      ],
      "execution_count": null,
      "outputs": []
    },
    {
      "cell_type": "code",
      "metadata": {
        "id": "ZYtF1SKjOSq0",
        "colab": {
          "base_uri": "https://localhost:8080/"
        },
        "outputId": "19b16f3a-0094-45ff-e969-5730b77a288f"
      },
      "source": [
        "entradas = historicoTeste.values\r\n",
        "entradas.shape"
      ],
      "execution_count": null,
      "outputs": [
        {
          "output_type": "execute_result",
          "data": {
            "text/plain": [
              "(62753, 13)"
            ]
          },
          "metadata": {
            "tags": []
          },
          "execution_count": 20
        }
      ]
    },
    {
      "cell_type": "code",
      "metadata": {
        "id": "-RgNTn9YQ2VS"
      },
      "source": [
        "X_teste = []\r\n",
        "Y_teste = []\r\n",
        "for i in range(len(entradas) - diasAnteriores,len(entradas)):\r\n",
        "    cargaTeste = entradas[(i - diasAnteriores):i,4]\r\n",
        "    cargaVerificada = entradas[i,4]\r\n",
        "    tempTeste = entradas[(i+1 - diasAnteriores):i+1,5]\r\n",
        "    vetorDiaSemana = entradas[(i+1 - diasAnteriores):i+1,6:]\r\n",
        "    \r\n",
        "    batchTeste = np.column_stack((cargaTeste,tempTeste,vetorDiaSemana))\r\n",
        "\r\n",
        "    X_teste.append(batchTeste)\r\n",
        "    Y_teste.append(cargaVerificada)\r\n",
        "    \r\n",
        "X_teste = np.array(X_teste)\r\n",
        "Y_teste = np.array(Y_teste)\r\n",
        "print(X_teste.shape)\r\n",
        "print(Y_teste.shape)"
      ],
      "execution_count": null,
      "outputs": []
    },
    {
      "cell_type": "code",
      "metadata": {
        "id": "eSwc4cBnUHeS"
      },
      "source": [
        "previsoes = model.predict(X_teste)"
      ],
      "execution_count": null,
      "outputs": []
    },
    {
      "cell_type": "code",
      "metadata": {
        "id": "fw4mPYf3VH9N"
      },
      "source": [
        "previsoes = normalizadorCarga.inverse_transform(previsoes)\r\n",
        "previsores"
      ],
      "execution_count": null,
      "outputs": []
    },
    {
      "cell_type": "code",
      "metadata": {
        "id": "OR_iuZWcV5ou",
        "colab": {
          "base_uri": "https://localhost:8080/"
        },
        "outputId": "ead6292f-353d-42cc-e2d4-87b7b77b9069"
      },
      "source": [
        "loss = tf.keras.losses.mean_absolute_percentage_error(Y_teste, previsoes[:,0]).numpy()\r\n",
        "loss"
      ],
      "execution_count": null,
      "outputs": [
        {
          "output_type": "execute_result",
          "data": {
            "text/plain": [
              "156.34515"
            ]
          },
          "metadata": {
            "tags": []
          },
          "execution_count": 47
        }
      ]
    },
    {
      "cell_type": "code",
      "metadata": {
        "id": "9fYj7Gdyvnpd"
      },
      "source": [
        "previsoes"
      ],
      "execution_count": null,
      "outputs": []
    },
    {
      "cell_type": "code",
      "metadata": {
        "id": "5Hh84rNUVMHI",
        "colab": {
          "base_uri": "https://localhost:8080/",
          "height": 295
        },
        "outputId": "9b205dc2-1a83-4709-fda6-1ba7bf83fc9f"
      },
      "source": [
        "axes = plt.gca()\r\n",
        "axes.set_xlim(696,720)\r\n",
        "plt.plot(Y_teste[:], color = \"black\", label = \"Carga Real Verificada\")\r\n",
        "plt.plot(previsoes[:], color = \"red\", label = \"Previsão Modelo Rede Neural\")\r\n",
        "plt.title(\"Carga semanal - SUDESTE\")\r\n",
        "plt.xlabel(\"Tempo [Horas]\")\r\n",
        "plt.ylabel(\"\")\r\n",
        "plt.legend()\r\n",
        "plt.show()"
      ],
      "execution_count": null,
      "outputs": [
        {
          "output_type": "display_data",
          "data": {
            "image/png": "[encoded data removed]",
            "text/plain": [
              "<Figure size 432x288 with 1 Axes>"
            ]
          },
          "metadata": {
            "tags": [],
            "needs_background": "light"
          }
        }
      ]
    }
  ]
}