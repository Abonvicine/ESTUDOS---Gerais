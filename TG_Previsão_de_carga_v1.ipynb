{
  "nbformat": 4,
  "nbformat_minor": 0,
  "metadata": {
    "colab": {
      "name": "TG - Previsão de carga v1.ipynb",
      "provenance": [],
      "collapsed_sections": [],
      "mount_file_id": "1tKdnCBr9Sb-FvQo5-uQIYk_agexd7ngo",
      "authorship_tag": "ABX9TyMi1bBksnlHMEvGeFtQxHwf",
      "include_colab_link": true
    },
    "kernelspec": {
      "name": "python3",
      "display_name": "Python 3"
    }
  },
  "cells": [
    {
      "cell_type": "markdown",
      "metadata": {
        "id": "view-in-github",
        "colab_type": "text"
      },
      "source": [
        "<a href=\"https://colab.research.google.com/github/Abonvicine/ESTUDOS---Gerais/blob/main/TG_Previs%C3%A3o_de_carga_v1.ipynb\" target=\"_parent\"><img src=\"https://colab.research.google.com/assets/colab-badge.svg\" alt=\"Open In Colab\"/></a>"
      ]
    },
    {
      "cell_type": "code",
      "metadata": {
        "id": "q-fX4gB8cJuR"
      },
      "source": [
        "from tensorflow import keras\n",
        "from keras.models import Sequential, load_model, save_model\n",
        "from keras.layers import Dense, Dropout, LSTM, TimeDistributed\n",
        "from keras.callbacks import EarlyStopping, ReduceLROnPlateau, ModelCheckpoint\n",
        "from sklearn.preprocessing import MinMaxScaler, StandardScaler, OneHotEncoder\n",
        "\n",
        "%load_ext tensorboard\n",
        "import datetime\n",
        "import IPython\n",
        "import tensorflow as tf\n",
        "import tensorflow_probability as tfp\n",
        "import pandas as pd\n",
        "import time\n",
        "import numpy as np\n",
        "import matplotlib.pyplot as plt\n",
        "import seaborn as sns\n",
        "import os"
      ],
      "execution_count": 200,
      "outputs": []
    },
    {
      "cell_type": "code",
      "metadata": {
        "id": "RG3u80XzNQ4s"
      },
      "source": [
        "hoje = datetime.date.today()\n",
        "diaSemana = hoje.weekday()\n",
        "hoje = str(hoje)"
      ],
      "execution_count": 136,
      "outputs": []
    },
    {
      "cell_type": "code",
      "metadata": {
        "id": "ML08mQFoccSS"
      },
      "source": [
        "baseDIR = \"/content/drive/MyDrive/TG/DADOS SUDESTE\"\n",
        "historicoCarga = pd.read_csv(os.path.join(baseDIR,'SECO_2021-03-21_CARGAHIST.csv'),sep=\";\",decimal=\",\")\n",
        "historicoTemperatura = pd.read_csv(os.path.join(baseDIR,'SECO_2021-03-21_TEMPHIST.csv'),sep=\";\",decimal=\",\")"
      ],
      "execution_count": 137,
      "outputs": []
    },
    {
      "cell_type": "code",
      "metadata": {
        "colab": {
          "base_uri": "https://localhost:8080/"
        },
        "id": "EaYQXQ3NxgzT",
        "outputId": "28e5b7b6-52dd-4609-fb27-d436570243ed"
      },
      "source": [
        "print(historicoCarga.shape)\n",
        "print(historicoTemperatura.shape)"
      ],
      "execution_count": 138,
      "outputs": [
        {
          "output_type": "stream",
          "text": [
            "(45740, 6)\n",
            "(45720, 6)\n"
          ],
          "name": "stdout"
        }
      ]
    },
    {
      "cell_type": "code",
      "metadata": {
        "id": "l9BIfwnyzIbs"
      },
      "source": [
        "def basePreprocessing(carga,temperatura):\n",
        "    dataset = carga.merge(temperatura)\n",
        "    dataset = dataset.drop([\"Min\"], axis = 1 )\n",
        "    dataset = dataset.rename({'Ano': 'Year', 'Mes': 'Month',\"Dia\":\"Day\",\"Hora\":\"Hour\"}, axis=1)\n",
        "    dataset[\"Date\"] = pd.to_datetime(dataset[[\"Year\",\"Month\",\"Day\",\"Hour\"]])\n",
        "    dataset[\"Weekday\"] = dataset[\"Date\"].dt.dayofweek\n",
        "\n",
        "    dataset[\"Carga_Var\"] = dataset[\"Carga\"].pct_change()\n",
        "    dataset[\"Temp_Var\"] = dataset[\"Temperatura\"].pct_change()\n",
        "\n",
        "    day = 24*60*60\n",
        "    week = (7)*day\n",
        "    year = (365.2425)*day\n",
        "    \n",
        "    timestamp_s = dataset[\"Date\"].map(datetime.datetime.timestamp)\n",
        "    \n",
        "    dataset['Day sin'] = np.sin(timestamp_s * (2 * np.pi / day))\n",
        "    dataset['Day cos'] = np.cos(timestamp_s * (2 * np.pi / day))\n",
        "\n",
        "    dataset['Week sin'] = np.sin(timestamp_s * (2 * np.pi / week))\n",
        "    dataset['Week cos'] = np.cos(timestamp_s * (2 * np.pi / week))\n",
        "\n",
        "    dataset['Year sin'] = np.sin(timestamp_s * (2 * np.pi / year))\n",
        "    dataset['Year cos'] = np.cos(timestamp_s * (2 * np.pi / year))\n",
        "\n",
        "    return dataset, timestamp_s"
      ],
      "execution_count": 139,
      "outputs": []
    },
    {
      "cell_type": "code",
      "metadata": {
        "id": "JnGBf-Qh14KK",
        "colab": {
          "base_uri": "https://localhost:8080/",
          "height": 419
        },
        "outputId": "605ef0c0-4f93-46cd-b3f8-e11c4562e1c3"
      },
      "source": [
        "historico, timestamp = basePreprocessing(historicoCarga,historicoTemperatura)\n",
        "\n",
        "cols = [  \n",
        "    'Date',\n",
        "    'Day sin',\n",
        "    'Day cos',\n",
        "    'Week sin',\n",
        "    'Week cos',\n",
        "    'Year sin',\n",
        "    'Year cos',\n",
        "    'Carga',\n",
        "    'Temperatura',\n",
        "    ]\n",
        "\n",
        "historico = historico[cols]\n",
        "base = historico.values\n",
        "historico"
      ],
      "execution_count": 140,
      "outputs": [
        {
          "output_type": "execute_result",
          "data": {
            "text/html": [
              "<div>\n",
              "<style scoped>\n",
              "    .dataframe tbody tr th:only-of-type {\n",
              "        vertical-align: middle;\n",
              "    }\n",
              "\n",
              "    .dataframe tbody tr th {\n",
              "        vertical-align: top;\n",
              "    }\n",
              "\n",
              "    .dataframe thead th {\n",
              "        text-align: right;\n",
              "    }\n",
              "</style>\n",
              "<table border=\"1\" class=\"dataframe\">\n",
              "  <thead>\n",
              "    <tr style=\"text-align: right;\">\n",
              "      <th></th>\n",
              "      <th>Date</th>\n",
              "      <th>Day sin</th>\n",
              "      <th>Day cos</th>\n",
              "      <th>Week sin</th>\n",
              "      <th>Week cos</th>\n",
              "      <th>Year sin</th>\n",
              "      <th>Year cos</th>\n",
              "      <th>Carga</th>\n",
              "      <th>Temperatura</th>\n",
              "    </tr>\n",
              "  </thead>\n",
              "  <tbody>\n",
              "    <tr>\n",
              "      <th>0</th>\n",
              "      <td>2016-01-01 01:00:00</td>\n",
              "      <td>2.588190e-01</td>\n",
              "      <td>0.965926</td>\n",
              "      <td>0.804598</td>\n",
              "      <td>0.593820</td>\n",
              "      <td>-0.001950</td>\n",
              "      <td>0.999998</td>\n",
              "      <td>32420.1640</td>\n",
              "      <td>25.393000</td>\n",
              "    </tr>\n",
              "    <tr>\n",
              "      <th>1</th>\n",
              "      <td>2016-01-01 02:00:00</td>\n",
              "      <td>5.000000e-01</td>\n",
              "      <td>0.866025</td>\n",
              "      <td>0.826239</td>\n",
              "      <td>0.563320</td>\n",
              "      <td>-0.001233</td>\n",
              "      <td>0.999999</td>\n",
              "      <td>32259.2245</td>\n",
              "      <td>25.062000</td>\n",
              "    </tr>\n",
              "    <tr>\n",
              "      <th>2</th>\n",
              "      <td>2016-01-01 03:00:00</td>\n",
              "      <td>7.071068e-01</td>\n",
              "      <td>0.707107</td>\n",
              "      <td>0.846724</td>\n",
              "      <td>0.532032</td>\n",
              "      <td>-0.000516</td>\n",
              "      <td>1.000000</td>\n",
              "      <td>31836.5975</td>\n",
              "      <td>24.733000</td>\n",
              "    </tr>\n",
              "    <tr>\n",
              "      <th>3</th>\n",
              "      <td>2016-01-01 04:00:00</td>\n",
              "      <td>8.660254e-01</td>\n",
              "      <td>0.500000</td>\n",
              "      <td>0.866025</td>\n",
              "      <td>0.500000</td>\n",
              "      <td>0.000201</td>\n",
              "      <td>1.000000</td>\n",
              "      <td>31241.3815</td>\n",
              "      <td>24.635000</td>\n",
              "    </tr>\n",
              "    <tr>\n",
              "      <th>4</th>\n",
              "      <td>2016-01-01 05:00:00</td>\n",
              "      <td>9.659258e-01</td>\n",
              "      <td>0.258819</td>\n",
              "      <td>0.884115</td>\n",
              "      <td>0.467269</td>\n",
              "      <td>0.000917</td>\n",
              "      <td>1.000000</td>\n",
              "      <td>30706.5625</td>\n",
              "      <td>24.139999</td>\n",
              "    </tr>\n",
              "    <tr>\n",
              "      <th>...</th>\n",
              "      <td>...</td>\n",
              "      <td>...</td>\n",
              "      <td>...</td>\n",
              "      <td>...</td>\n",
              "      <td>...</td>\n",
              "      <td>...</td>\n",
              "      <td>...</td>\n",
              "      <td>...</td>\n",
              "      <td>...</td>\n",
              "    </tr>\n",
              "    <tr>\n",
              "      <th>45547</th>\n",
              "      <td>2021-03-12 20:00:00</td>\n",
              "      <td>-8.660254e-01</td>\n",
              "      <td>0.500000</td>\n",
              "      <td>0.997204</td>\n",
              "      <td>-0.074730</td>\n",
              "      <td>0.942292</td>\n",
              "      <td>0.334793</td>\n",
              "      <td>47875.6305</td>\n",
              "      <td>25.780000</td>\n",
              "    </tr>\n",
              "    <tr>\n",
              "      <th>45548</th>\n",
              "      <td>2021-03-12 21:00:00</td>\n",
              "      <td>-7.071068e-01</td>\n",
              "      <td>0.707107</td>\n",
              "      <td>0.993712</td>\n",
              "      <td>-0.111964</td>\n",
              "      <td>0.942531</td>\n",
              "      <td>0.334117</td>\n",
              "      <td>47306.1600</td>\n",
              "      <td>24.604000</td>\n",
              "    </tr>\n",
              "    <tr>\n",
              "      <th>45549</th>\n",
              "      <td>2021-03-12 22:00:00</td>\n",
              "      <td>-5.000000e-01</td>\n",
              "      <td>0.866025</td>\n",
              "      <td>0.988831</td>\n",
              "      <td>-0.149042</td>\n",
              "      <td>0.942771</td>\n",
              "      <td>0.333442</td>\n",
              "      <td>46542.8500</td>\n",
              "      <td>24.169000</td>\n",
              "    </tr>\n",
              "    <tr>\n",
              "      <th>45550</th>\n",
              "      <td>2021-03-12 23:00:00</td>\n",
              "      <td>-2.588190e-01</td>\n",
              "      <td>0.965926</td>\n",
              "      <td>0.982566</td>\n",
              "      <td>-0.185912</td>\n",
              "      <td>0.943009</td>\n",
              "      <td>0.332766</td>\n",
              "      <td>44860.6870</td>\n",
              "      <td>23.980000</td>\n",
              "    </tr>\n",
              "    <tr>\n",
              "      <th>45551</th>\n",
              "      <td>2021-03-13 00:00:00</td>\n",
              "      <td>-6.406029e-12</td>\n",
              "      <td>1.000000</td>\n",
              "      <td>0.974928</td>\n",
              "      <td>-0.222521</td>\n",
              "      <td>0.943248</td>\n",
              "      <td>0.332090</td>\n",
              "      <td>43252.8400</td>\n",
              "      <td>23.483000</td>\n",
              "    </tr>\n",
              "  </tbody>\n",
              "</table>\n",
              "<p>45552 rows × 9 columns</p>\n",
              "</div>"
            ],
            "text/plain": [
              "                     Date       Day sin  ...       Carga  Temperatura\n",
              "0     2016-01-01 01:00:00  2.588190e-01  ...  32420.1640    25.393000\n",
              "1     2016-01-01 02:00:00  5.000000e-01  ...  32259.2245    25.062000\n",
              "2     2016-01-01 03:00:00  7.071068e-01  ...  31836.5975    24.733000\n",
              "3     2016-01-01 04:00:00  8.660254e-01  ...  31241.3815    24.635000\n",
              "4     2016-01-01 05:00:00  9.659258e-01  ...  30706.5625    24.139999\n",
              "...                   ...           ...  ...         ...          ...\n",
              "45547 2021-03-12 20:00:00 -8.660254e-01  ...  47875.6305    25.780000\n",
              "45548 2021-03-12 21:00:00 -7.071068e-01  ...  47306.1600    24.604000\n",
              "45549 2021-03-12 22:00:00 -5.000000e-01  ...  46542.8500    24.169000\n",
              "45550 2021-03-12 23:00:00 -2.588190e-01  ...  44860.6870    23.980000\n",
              "45551 2021-03-13 00:00:00 -6.406029e-12  ...  43252.8400    23.483000\n",
              "\n",
              "[45552 rows x 9 columns]"
            ]
          },
          "metadata": {
            "tags": []
          },
          "execution_count": 140
        }
      ]
    },
    {
      "cell_type": "markdown",
      "metadata": {
        "id": "0cuW0WDq2BID"
      },
      "source": [
        "# Explorando Dataset"
      ]
    },
    {
      "cell_type": "code",
      "metadata": {
        "id": "oYOrtA5mzHdM"
      },
      "source": [
        "plot_cols = ['Carga', 'Temperatura']\n",
        "plot_features = historico[plot_cols]\n",
        "plot_features.index = historico[\"Date\"]\n",
        "_ = plot_features.plot(subplots=True)\n",
        "\n",
        "plot_features = historico[plot_cols][25:48]\n",
        "plot_features.index = historico[\"Date\"][25:48]\n",
        "_ = plot_features.plot(subplots=True)"
      ],
      "execution_count": null,
      "outputs": []
    },
    {
      "cell_type": "code",
      "metadata": {
        "id": "yxX_6oUX1etb"
      },
      "source": [
        "plt.plot(np.array(historico['Day sin'])[:24*7])\n",
        "plt.plot(np.array(historico['Day cos'])[:24*7])\n",
        "\n",
        "plt.xlabel('Time [h]')\n",
        "plt.title('Time of day signal')"
      ],
      "execution_count": null,
      "outputs": []
    },
    {
      "cell_type": "code",
      "metadata": {
        "id": "02J-S4PfyWeI",
        "colab": {
          "base_uri": "https://localhost:8080/",
          "height": 300
        },
        "outputId": "7fcb67ef-1ecb-48c3-da13-8853bbbc50a2"
      },
      "source": [
        "plt.hist2d(historico['Carga'], historico['Temperatura'], bins=(50, 50), vmax=400)\n",
        "\n",
        "plt.colorbar()\n",
        "plt.xlabel('Carga [MWm]')\n",
        "plt.ylabel('Temperatura [°C]')"
      ],
      "execution_count": 10,
      "outputs": [
        {
          "output_type": "execute_result",
          "data": {
            "text/plain": [
              "Text(0, 0.5, 'Temperatura [°C]')"
            ]
          },
          "metadata": {
            "tags": []
          },
          "execution_count": 10
        },
        {
          "output_type": "display_data",
          "data": {
            "image/png": "[encoded data removed]",
            "text/plain": [
              "<Figure size 432x288 with 2 Axes>"
            ]
          },
          "metadata": {
            "tags": [],
            "needs_background": "light"
          }
        }
      ]
    },
    {
      "cell_type": "code",
      "metadata": {
        "id": "TNvqiJKY0D7b"
      },
      "source": [
        "fft = tf.signal.rfft(historico['Carga'])\n",
        "f_per_dataset = np.arange(0, len(fft))\n",
        "\n",
        "n_samples_h = len(historico['Carga'])\n",
        "\n",
        "hours_per_year = 24*365.2524\n",
        "\n",
        "years_per_dataset = n_samples_h/(hours_per_year)\n",
        "\n",
        "f_per_year = f_per_dataset/years_per_dataset\n",
        "plt.step(f_per_year, np.abs(fft))\n",
        "\n",
        "plt.xscale('log')\n",
        "plt.ylim(0, 10e7)\n",
        "plt.xlim([0.1, max(plt.xlim())])\n",
        "plt.xticks([1,52, 365.2524], labels=['1/Year',\"1/week\", '1/day'])\n",
        "_ = plt.xlabel('Frequency (log scale)')"
      ],
      "execution_count": null,
      "outputs": []
    },
    {
      "cell_type": "markdown",
      "metadata": {
        "id": "KBFEcLYE2lp7"
      },
      "source": [
        "# Preparando Dados"
      ]
    },
    {
      "cell_type": "code",
      "metadata": {
        "colab": {
          "base_uri": "https://localhost:8080/"
        },
        "id": "z9cNqq6wTNxw",
        "outputId": "e16747f4-00f1-45d4-8e0a-c8e10fb8a18b"
      },
      "source": [
        "Xdataset = historico[[\n",
        "    'Day sin',\n",
        "    'Day cos',\n",
        "    'Week sin',\n",
        "    'Week cos',\n",
        "    'Year sin',\n",
        "    'Year cos',\n",
        "    'Carga',\n",
        "    'Temperatura',]]\n",
        "\n",
        "column_indices = {name: i for i, name in enumerate(Xdataset.columns)}\n",
        "\n",
        "n = len(historico)\n",
        "\n",
        "dias= 30\n",
        "\n",
        "print(f'Tamanho original da base X = {Xdataset.shape}')\n",
        "\n",
        "x_train = Xdataset[0:int(n*0.80)]\n",
        "\n",
        "x_valid = Xdataset[int(n*0.80):int(n*0.90)]\n",
        "\n",
        "x_test = Xdataset[int(n*0.90):]\n",
        "\n",
        "num_features = historico.shape[1]\n",
        "\n",
        "print(f'    formato dados de treino X = {x_train.shape}')\n",
        "print(f'    formato dados de validação X = {x_valid.shape}')\n",
        "print(f'    formato dados de teste X = {x_test.shape}')"
      ],
      "execution_count": 141,
      "outputs": [
        {
          "output_type": "stream",
          "text": [
            "Tamanho original da base X = (45552, 8)\n",
            "    formato dados de treino X = (36441, 8)\n",
            "    formato dados de validação X = (4555, 8)\n",
            "    formato dados de teste X = (4556, 8)\n"
          ],
          "name": "stdout"
        }
      ]
    },
    {
      "cell_type": "code",
      "metadata": {
        "id": "uWgauGi06M6S"
      },
      "source": [
        "train_mean = x_train.mean()\n",
        "train_std = x_train.std()\n",
        "\n",
        "x_train = (x_train - train_mean) / train_std\n",
        "x_valid = (x_valid - train_mean) / train_std\n",
        "x_test = (x_test - train_mean) / train_std"
      ],
      "execution_count": 142,
      "outputs": []
    },
    {
      "cell_type": "code",
      "metadata": {
        "colab": {
          "base_uri": "https://localhost:8080/"
        },
        "id": "fYhvlm2v9d2O",
        "outputId": "32575a84-9574-45dd-9424-d658c618e0cf"
      },
      "source": [
        "train_mean"
      ],
      "execution_count": 143,
      "outputs": [
        {
          "output_type": "execute_result",
          "data": {
            "text/plain": [
              "Day sin            0.000188\n",
              "Day cos            0.000050\n",
              "Week sin          -0.000241\n",
              "Week cos          -0.000327\n",
              "Year sin           0.017125\n",
              "Year cos           0.031994\n",
              "Carga          38642.856993\n",
              "Temperatura       24.110692\n",
              "dtype: float64"
            ]
          },
          "metadata": {
            "tags": []
          },
          "execution_count": 143
        }
      ]
    },
    {
      "cell_type": "code",
      "metadata": {
        "colab": {
          "base_uri": "https://localhost:8080/",
          "height": 441
        },
        "id": "xRIVu_he74ma",
        "outputId": "d7cff8e0-ecad-4875-b593-1a6514affba4"
      },
      "source": [
        "df_std = (Xdataset - train_mean) / train_std\n",
        "df_std = df_std.melt(var_name='Column', value_name='Normalized')\n",
        "plt.figure(figsize=(12, 6))\n",
        "ax = sns.violinplot(x='Column', y='Normalized', data=df_std)\n",
        "_ = ax.set_xticklabels(Xdataset.keys(), rotation=90)"
      ],
      "execution_count": 144,
      "outputs": [
        {
          "output_type": "display_data",
          "data": {
            "image/png": "[encoded data removed]",
            "text/plain": [
              "<Figure size 864x432 with 1 Axes>"
            ]
          },
          "metadata": {
            "tags": [],
            "needs_background": "light"
          }
        }
      ]
    },
    {
      "cell_type": "code",
      "metadata": {
        "id": "Z_vTe8m_96mX"
      },
      "source": [
        "class WindowGenerator():\n",
        "  def __init__(self, input_width, label_width, shift,\n",
        "               train_df = x_train, val_df=x_valid , test_df=x_test,\n",
        "               label_columns=None):\n",
        "    # Store the raw data.\n",
        "    self.train_df = train_df\n",
        "    self.val_df = val_df\n",
        "    self.test_df = test_df\n",
        "\n",
        "    # Work out the label column indices.\n",
        "    self.label_columns = label_columns\n",
        "    if label_columns is not None:\n",
        "      self.label_columns_indices = {name: i for i, name in\n",
        "                                    enumerate(label_columns)}\n",
        "    self.column_indices = {name: i for i, name in\n",
        "                           enumerate(train_df.columns)}\n",
        "\n",
        "    # Work out the window parameters.\n",
        "    self.input_width = input_width\n",
        "    self.label_width = label_width\n",
        "    self.shift = shift\n",
        "\n",
        "    self.total_window_size = input_width + shift\n",
        "\n",
        "    self.input_slice = slice(0, input_width)\n",
        "    self.input_indices = np.arange(self.total_window_size)[self.input_slice]\n",
        "\n",
        "    self.label_start = self.total_window_size - self.label_width\n",
        "    self.labels_slice = slice(self.label_start, None)\n",
        "    self.label_indices = np.arange(self.total_window_size)[self.labels_slice]\n",
        "\n",
        "  def __repr__(self):\n",
        "    return '\\n'.join([\n",
        "        f'Total window size: {self.total_window_size}',\n",
        "        f'Input indices: {self.input_indices}',\n",
        "        f'Label indices: {self.label_indices}',\n",
        "        f'Label column name(s): {self.label_columns}'])"
      ],
      "execution_count": 145,
      "outputs": []
    },
    {
      "cell_type": "code",
      "metadata": {
        "id": "BtUjijzy-7Cs"
      },
      "source": [
        "standard_window = WindowGenerator(input_width=168, label_width=168, shift=24,\n",
        "                     label_columns=['Carga'])"
      ],
      "execution_count": 146,
      "outputs": []
    },
    {
      "cell_type": "code",
      "metadata": {
        "id": "7RPxqXZRBDvo"
      },
      "source": [
        "def split_window(self, features):\n",
        "  inputs = features[:, self.input_slice, :]\n",
        "  labels = features[:, self.labels_slice, :]\n",
        "  if self.label_columns is not None:\n",
        "    labels = tf.stack(\n",
        "        [labels[:, :, self.column_indices[name]] for name in self.label_columns],\n",
        "        axis=-1)\n",
        "\n",
        "  # Slicing doesn't preserve static shape information, so set the shapes\n",
        "  # manually. This way the `tf.data.Datasets` are easier to inspect.\n",
        "  inputs.set_shape([None, self.input_width, None])\n",
        "  labels.set_shape([None, self.label_width, None])\n",
        "\n",
        "  return inputs, labels\n",
        "\n",
        "WindowGenerator.split_window = split_window"
      ],
      "execution_count": 147,
      "outputs": []
    },
    {
      "cell_type": "code",
      "metadata": {
        "id": "v_liK21yBbQA",
        "colab": {
          "base_uri": "https://localhost:8080/"
        },
        "outputId": "7b39166d-76c4-4443-99c6-6b092ba8ce00"
      },
      "source": [
        "# Stack three slices, the length of the total window:\n",
        "example_window = tf.stack([np.array(x_train[:standard_window.total_window_size]),\n",
        "                           np.array(x_train[100:100+standard_window.total_window_size]),\n",
        "                           np.array(x_train[200:200+standard_window.total_window_size])])\n",
        "\n",
        "\n",
        "example_inputs, example_labels = standard_window.split_window(example_window)\n",
        "\n",
        "print('All shapes are: (batch, time, features)')\n",
        "print(f'Window shape: {example_window.shape}')\n",
        "print(f'Inputs shape: {example_inputs.shape}')\n",
        "print(f'labels shape: {example_labels.shape}')"
      ],
      "execution_count": 148,
      "outputs": [
        {
          "output_type": "stream",
          "text": [
            "All shapes are: (batch, time, features)\n",
            "Window shape: (3, 192, 8)\n",
            "Inputs shape: (3, 168, 8)\n",
            "labels shape: (3, 168, 1)\n"
          ],
          "name": "stdout"
        }
      ]
    },
    {
      "cell_type": "code",
      "metadata": {
        "colab": {
          "base_uri": "https://localhost:8080/"
        },
        "id": "-Twzulr4E8Hi",
        "outputId": "b652fca3-6f27-4a33-870e-d884e295e07c"
      },
      "source": [
        "# Stack three slices, the length of the total window:\n",
        "example_window = tf.stack([np.array(x_test[:standard_window.total_window_size]),\n",
        "                           np.array(x_test[100:100+standard_window.total_window_size]),\n",
        "                           np.array(x_test[200:200+standard_window.total_window_size])])\n",
        "\n",
        "\n",
        "example_inputs, example_labels = standard_window.split_window(example_window)\n",
        "\n",
        "print('All shapes are: (batch, time, features)')\n",
        "print(f'Window shape: {example_window.shape}')\n",
        "print(f'Inputs shape: {example_inputs.shape}')\n",
        "print(f'labels shape: {example_labels.shape}')"
      ],
      "execution_count": 149,
      "outputs": [
        {
          "output_type": "stream",
          "text": [
            "All shapes are: (batch, time, features)\n",
            "Window shape: (3, 192, 8)\n",
            "Inputs shape: (3, 168, 8)\n",
            "labels shape: (3, 168, 1)\n"
          ],
          "name": "stdout"
        }
      ]
    },
    {
      "cell_type": "code",
      "metadata": {
        "id": "9Yc_SYC2GaJd"
      },
      "source": [
        "standard_window.example = example_inputs, example_labels"
      ],
      "execution_count": 150,
      "outputs": []
    },
    {
      "cell_type": "code",
      "metadata": {
        "id": "XuHqccbOGboI"
      },
      "source": [
        "def plot(self, model=None, plot_col='Carga', max_subplots=3):\n",
        "  inputs, labels = self.example\n",
        "  plt.figure(figsize=(12, 8))\n",
        "  plot_col_index = self.column_indices[plot_col]\n",
        "  max_n = min(max_subplots, len(inputs))\n",
        "  for n in range(max_n):\n",
        "    plt.subplot(3, 1, n+1)\n",
        "    plt.ylabel(f'{plot_col} [normed]')\n",
        "    plt.plot(self.input_indices, inputs[n, :, plot_col_index],\n",
        "             label='Inputs', marker='.', zorder=-10)\n",
        "\n",
        "    if self.label_columns:\n",
        "      label_col_index = self.label_columns_indices.get(plot_col, None)\n",
        "    else:\n",
        "      label_col_index = plot_col_index\n",
        "\n",
        "    if label_col_index is None:\n",
        "      continue\n",
        "\n",
        "    plt.scatter(self.label_indices, labels[n, :, label_col_index],\n",
        "                edgecolors='k', label='Labels', c='#2ca02c', s=64)\n",
        "    if model is not None:\n",
        "      predictions = model(inputs)\n",
        "      plt.scatter(self.label_indices, predictions[n, :, label_col_index],\n",
        "                  marker='X', edgecolors='k', label='Predictions',\n",
        "                  c='#ff7f0e', s=64)\n",
        "\n",
        "    if n == 0:\n",
        "      plt.legend()\n",
        "\n",
        "  plt.xlabel('Carga')\n",
        "\n",
        "WindowGenerator.plot = plot"
      ],
      "execution_count": 151,
      "outputs": []
    },
    {
      "cell_type": "code",
      "metadata": {
        "id": "-dHx0Ld7G90z"
      },
      "source": [
        "def make_dataset(self, data):\n",
        "  data = np.array(data, dtype=np.float32)\n",
        "  ds = tf.keras.preprocessing.timeseries_dataset_from_array(\n",
        "      data=data,\n",
        "      targets=None,\n",
        "      sequence_length=self.total_window_size,\n",
        "      sequence_stride=1,\n",
        "      shuffle=False,\n",
        "      batch_size=32,)\n",
        "\n",
        "  ds = ds.map(self.split_window)\n",
        "\n",
        "  return ds\n",
        "\n",
        "WindowGenerator.make_dataset = make_dataset"
      ],
      "execution_count": 152,
      "outputs": []
    },
    {
      "cell_type": "code",
      "metadata": {
        "id": "-LAJiyVVMiCu"
      },
      "source": [
        "@property\n",
        "def train(self):\n",
        "  return self.make_dataset(self.train_df)\n",
        "\n",
        "@property\n",
        "def val(self):\n",
        "  return self.make_dataset(self.val_df)\n",
        "\n",
        "@property\n",
        "def test(self):\n",
        "  return self.make_dataset(self.test_df)\n",
        "\n",
        "@property\n",
        "def example(self):\n",
        "  \"\"\"Get and cache an example batch of `inputs, labels` for plotting.\"\"\"\n",
        "  result = getattr(self, '_example', None)\n",
        "  if result is None:\n",
        "    # No example batch was found, so get one from the `.train` dataset\n",
        "    result = next(iter(self.train))\n",
        "    # And cache it for next time\n",
        "    self._example = result\n",
        "  return result\n",
        "\n",
        "WindowGenerator.train = train\n",
        "WindowGenerator.val = val\n",
        "WindowGenerator.test = test\n",
        "WindowGenerator.example = example"
      ],
      "execution_count": 153,
      "outputs": []
    },
    {
      "cell_type": "code",
      "metadata": {
        "colab": {
          "base_uri": "https://localhost:8080/"
        },
        "id": "gVh13EaJM6Nj",
        "outputId": "84be6037-2d2a-4d55-9fa5-a692256bd794"
      },
      "source": [
        "for example_inputs, example_labels in standard_window.train.take(1):\n",
        "  print(f'Inputs shape (batch, time, features): {example_inputs.shape}')\n",
        "  print(f'Labels shape (batch, time, features): {example_labels.shape}')"
      ],
      "execution_count": 157,
      "outputs": [
        {
          "output_type": "stream",
          "text": [
            "Inputs shape (batch, time, features): (32, 168, 8)\n",
            "Labels shape (batch, time, features): (32, 168, 1)\n"
          ],
          "name": "stdout"
        }
      ]
    },
    {
      "cell_type": "code",
      "metadata": {
        "id": "hhCGyvMoUVru"
      },
      "source": [
        "def last_timestep_mse(Y_true, Y_pred):\n",
        "    return keras.metrics.mean_squared_error(Y_true[:,-1],Y_pred[:,-1])"
      ],
      "execution_count": 169,
      "outputs": []
    },
    {
      "cell_type": "code",
      "metadata": {
        "id": "RAi9qVCEP3BE"
      },
      "source": [
        "MAX_EPOCHS = 100\n",
        "\n",
        "val_performance = {}\n",
        "performance = {}\n",
        "\n",
        "def compile_and_fit(model, window, patience = 5):\n",
        "  \n",
        "    es = EarlyStopping(monitor = \"loss\", min_delta = 1e-10, patience = 5, verbose = 1)\n",
        "    rlr = ReduceLROnPlateau(monitor = \"loss\", factor = 0.2, patience = 2, verbose = 1)\n",
        "    mcp = ModelCheckpoint(filepath=f\"pesos-{datetime.date.today()}.h5\", monitor = \"loss\", save_best_only = True, verbose=1)\n",
        "  \n",
        "    model.compile(\n",
        "        optimizer = tf.optimizers.Adam(learning_rate=0.01), \n",
        "        loss = tf.losses.MeanSquaredError(), \n",
        "        metrics = [last_timestep_mse])\n",
        "  \n",
        "    history = model.fit(window.train, epochs = MAX_EPOCHS,\n",
        "                      validation_data=window.val,\n",
        "                      callbacks=[es,rlr,mcp])\n",
        "    return history"
      ],
      "execution_count": 159,
      "outputs": []
    },
    {
      "cell_type": "code",
      "metadata": {
        "id": "w5ZLaFdLAI78"
      },
      "source": [
        "lstm_model = Sequential([\n",
        "    LSTM(units = 128, return_sequences = True, input_shape = [None, 8], dropout=0.2 , recurrent_dropout=0.2),\n",
        "    LSTM(units = 128, return_sequences = True, dropout=0.2 , recurrent_dropout=0.2),\n",
        "    TimeDistributed(Dense(units = 24)) \n",
        "])\n",
        "lstm_model.summary()"
      ],
      "execution_count": null,
      "outputs": []
    },
    {
      "cell_type": "code",
      "metadata": {
        "colab": {
          "base_uri": "https://localhost:8080/"
        },
        "id": "fZSUBDRJV_jX",
        "outputId": "8da42f60-24c2-4f71-cd7e-a3ac4ed071a3"
      },
      "source": [
        "print('Input shape:', standard_window.example[0].shape)\n",
        "print('Output shape:', lstm_model(standard_window.example[0]).shape)"
      ],
      "execution_count": 160,
      "outputs": [
        {
          "output_type": "stream",
          "text": [
            "Input shape: (32, 168, 8)\n",
            "Output shape: (32, 168, 24)\n"
          ],
          "name": "stdout"
        }
      ]
    },
    {
      "cell_type": "code",
      "metadata": {
        "id": "tUsqRx9Otx7i"
      },
      "source": [
        "history = compile_and_fit(lstm_model, standard_window)\n",
        "\n",
        "IPython.display.clear_output()\n",
        "\n",
        "from google.colab import files\n",
        "files.download(f\"pesos-{datetime.date.today()}.h5\")"
      ],
      "execution_count": null,
      "outputs": []
    },
    {
      "cell_type": "code",
      "metadata": {
        "id": "50xbv6P05Lja"
      },
      "source": [
        "val_performance = {}\n",
        "performance = {}"
      ],
      "execution_count": 163,
      "outputs": []
    },
    {
      "cell_type": "code",
      "metadata": {
        "id": "l1z4H-id3s1A"
      },
      "source": [
        "lstm_model = load_model(\"/content/drive/MyDrive/TG/MODELOS/pesos-2021-03-21 (C).h5\", custom_objects={\"last_timestep_mse\":last_timestep_mse})\n",
        "lstm_model.summary()"
      ],
      "execution_count": null,
      "outputs": []
    },
    {
      "cell_type": "code",
      "metadata": {
        "id": "G-vGeXIYbqLy"
      },
      "source": [
        "performance['LSTM'] = lstm_model.evaluate(standard_window.test, verbose = 0)"
      ],
      "execution_count": null,
      "outputs": []
    },
    {
      "cell_type": "code",
      "metadata": {
        "id": "oSTzF8_Rl3Kx"
      },
      "source": [
        "predictions = lstm_model.predict(standard_window.test)"
      ],
      "execution_count": 196,
      "outputs": []
    }
  ]
}