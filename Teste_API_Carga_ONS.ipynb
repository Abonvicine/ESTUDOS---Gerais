{
  "nbformat": 4,
  "nbformat_minor": 0,
  "metadata": {
    "colab": {
      "name": "Teste API Carga ONS.ipynb",
      "provenance": [],
      "authorship_tag": "ABX9TyOMbPtOJZnUGYgtYAOT2Xlh",
      "include_colab_link": true
    },
    "kernelspec": {
      "name": "python3",
      "display_name": "Python 3"
    }
  },
  "cells": [
    {
      "cell_type": "markdown",
      "metadata": {
        "id": "view-in-github",
        "colab_type": "text"
      },
      "source": [
        "<a href=\"https://colab.research.google.com/github/Abonvicine/ESTUDOS---Gerais/blob/main/Teste_API_Carga_ONS.ipynb\" target=\"_parent\"><img src=\"https://colab.research.google.com/assets/colab-badge.svg\" alt=\"Open In Colab\"/></a>"
      ]
    },
    {
      "cell_type": "code",
      "metadata": {
        "id": "pug6XJ25F6Cu"
      },
      "source": [
        "import requests\r\n",
        "import json\r\n",
        "import pandas as pd"
      ],
      "execution_count": 16,
      "outputs": []
    },
    {
      "cell_type": "code",
      "metadata": {
        "colab": {
          "base_uri": "https://localhost:8080/"
        },
        "id": "6OQ66EWyGCHC",
        "outputId": "11ca8313-de85-405c-bd1c-ca9f3c606479"
      },
      "source": [
        "url = \"https://apis.ons.org.br/avaliacaooperacao/v1/autenticar\"\r\n",
        "\r\n",
        "payload = {\"usuario\": \"angeloantonio@cpfl.com.br\",\"senha\": \"Darumakka10!\"}\r\n",
        "\r\n",
        "headers = {\r\n",
        "  'Content-Type': 'application/json'\r\n",
        "}\r\n",
        "\r\n",
        "r = requests.request(\"POST\", url, headers = headers, data = json.dumps(payload))\r\n",
        "data = r.json()\r\n",
        "\r\n",
        "token = data[\"access_token\"]\r\n",
        "tokenType = data[\"token_type\"]\r\n",
        "refreshToken = data[\"refresh_token\"]"
      ],
      "execution_count": 11,
      "outputs": [
        {
          "output_type": "stream",
          "text": [
            "{'access_token': 'eyJhbGciOiJSUzI1NiIsInR5cCI6IkpXVCJ9.eyJodHRwOi8vc2NoZW1hcy5taWNyb3NvZnQuY29tL0xpdmVJRC9GZWRlcmF0aW9uLzIwMDgvMDUvSW1tdXRhYmxlSUQiOiJTLTEtOS0xMDg5MDU5NTAzLTE2Njk2OTc3OTItMTQyOTIyMDM2MSIsImh0dHA6Ly9zY2hlbWFzLnhtbHNvYXAub3JnL3dzLzIwMDUvMDUvaWRlbnRpdHkvY2xhaW1zL2F1dGhvcml6YXRpb25kZWNpc2lvbiI6IkFQSUF2YWxpYWNhb09wZXJhY2FvIiwiaHR0cDovL3NjaGVtYXMueG1sc29hcC5vcmcvd3MvMjAwNS8wNS9pZGVudGl0eS9jbGFpbXMvYXV0aGVudGljYXRpb24iOiJQT1AiLCJpYXQiOjE2MTU5MTY2MTQsImh0dHA6Ly9zY2hlbWFzLnhtbHNvYXAub3JnL3dzLzIwMDUvMDUvaWRlbnRpdHkvY2xhaW1zL25hbWVpZGVudGlmaWVyIjoiYW5nZWxvYW50b25pb0BjcGZsLmNvbS5iciIsImh0dHA6Ly9zY2hlbWFzLnhtbHNvYXAub3JnL3dzLzIwMDUvMDUvaWRlbnRpdHkvY2xhaW1zL25hbWUiOiJhbmdlbG9hbnRvbmlvQGNwZmwuY29tLmJyIiwiaHR0cDovL3NjaGVtYXMueG1sc29hcC5vcmcvd3MvMjAxNS8wNy9pZGVudGl0eS9jbGFpbXMvc2NvcGUiOiJJTlNULzEzNTUiLCJodHRwOi8vc2NoZW1hcy54bWxzb2FwLm9yZy93cy8yMDE1LzA3L2lkZW50aXR5L2NsYWltcy9zY29wZW9wZXJhdGlvbiI6IklOU1QvMTM1NXwjJCVDb25zdWx0YXJIaXN0b3JpY29DYXJnYUdsb2JhbCIsImh0dHA6Ly9zY2hlbWFzLnhtbHNvYXAub3JnL3dzLzIwMTUvMDcvaWRlbnRpdHkvY2xhaW1zL3Njb3Blcm9sZSI6IklOU1QvMTM1NXwjJCVQw7pibGljbyIsImh0dHA6Ly9zY2hlbWFzLnhtbHNvYXAub3JnL3dzLzIwMTUvMDcvaWRlbnRpdHkvY2xhaW1zL29wZXJhdGlvbiI6IkNvbnN1bHRhckhpc3Rvcmljb0NhcmdhR2xvYmFsIiwiaHR0cDovL3NjaGVtYXMubWljcm9zb2Z0LmNvbS93cy8yMDA4LzA2L2lkZW50aXR5L2NsYWltcy9wcmltYXJ5c2lkIjoiUy0xLTktMTA4OTA1OTUwMy0xNjY5Njk3NzkyLTE0MjkyMjAzNjEiLCJodHRwOi8vc2NoZW1hcy54bWxzb2FwLm9yZy93cy8yMDA1LzA1L2lkZW50aXR5L2NsYWltcy9zaWQiOiJTLTEtOS0xMDg5MDU5NTAzLTE2Njk2OTc3OTItMTQyOTIyMDM2MSIsInN1YiI6ImFuZ2Vsb2FudG9uaW9AY3BmbC5jb20uYnIiLCJ1aWQiOiI0NDM5MSIsImh0dHA6Ly9zY2hlbWFzLnhtbHNvYXAub3JnL3dzLzIwMDUvMDUvaWRlbnRpdHkvY2xhaW1zL3VwbiI6ImFuZ2Vsb2FudG9uaW9AY3BmbC5jb20uYnIiLCJuYW1laWQiOiJhbmdlbG9hbnRvbmlvQGNwZmwuY29tLmJyIiwidW5pcXVlX25hbWUiOiJhbmdlbG9hbnRvbmlvQGNwZmwuY29tLmJyIiwiZW1haWwiOiJhbmdlbG9hbnRvbmlvQGNwZmwuY29tLmJyIiwibmJmIjoxNjE1OTE2ODAyLCJleHAiOjE2MTU5MjA0MDIsImlzcyI6Imh0dHBzOi8vcG9wcy5vbnMub3JnLmJyL29ucy5wb3AuZmVkZXJhdGlvbi8iLCJhdWQiOiJBUElBdmFsaWFjYW9PcGVyYWNhbyJ9.hpXcD6woQB2ZZy-ZFcP4imSasKuNaSl74YZyjyBh6vNKWwF8ck3VLe6YDIM8dBhfqqXG8cMAGpR7KNvxsFJYPWQTy6e1PuxDvAMsY56r20CD3WtVVy4diZuwnohFDTPxd6XJWc2fDvKwwJ9obH0XZnCjstSKVnjG4kM06xt7iSSt6_sssDb46wurGCiinYnhE9hGTnp5uIDOA8nkXNtHaG1iNlb6aqxx2iTWSHiOFM6lduZKAmg6CPBl6vb8Bn32pHBQ-kB6G2X97OKm29CzbLgT_saB_dEvEe44Bjns9OttkftVlsSFmTwbK8nrHnG9y9mvyvB4xQ3QhoeDUu9MqQ', 'token_type': 'bearer', 'expires_in': 1199, 'refresh_token': 'vGs5LIbn412QCFse1vgdsHRhkhn88qY0Q+UVcVL8gA0='}\n"
          ],
          "name": "stdout"
        }
      ]
    },
    {
      "cell_type": "code",
      "metadata": {
        "colab": {
          "base_uri": "https://localhost:8080/",
          "height": 403
        },
        "id": "a45tvLU5Jhkz",
        "outputId": "b4d5724f-fb5f-40df-f328-5954f2bbf21b"
      },
      "source": [
        "url = \"https://apis.ons.org.br/avaliacaooperacao/v1/historicoCargaGlobal/Diario?instante=2021-03-13T00%3A00%3A00\"\r\n",
        "\r\n",
        "payload = {\"usuario\": \"angeloantonio@cpfl.com.br\",\"senha\": \"Darumakka10!\"}\r\n",
        "\r\n",
        "headers = {\r\n",
        "    'Authorization': token,\r\n",
        "    'Content-Type': 'application/json'\r\n",
        "}\r\n",
        "\r\n",
        "r = requests.request(\"GET\", url, headers = headers)\r\n",
        "data = r.json()\r\n",
        "df = pd.DataFrame(data['HistoricoCargaOutputmessage']['result'][\"HistoricoCarga\"])\r\n",
        "df.to_excel(\"Carga_Global.xlsx\")\r\n",
        "df"
      ],
      "execution_count": 48,
      "outputs": [
        {
          "output_type": "execute_result",
          "data": {
            "text/html": [
              "<div>\n",
              "<style scoped>\n",
              "    .dataframe tbody tr th:only-of-type {\n",
              "        vertical-align: middle;\n",
              "    }\n",
              "\n",
              "    .dataframe tbody tr th {\n",
              "        vertical-align: top;\n",
              "    }\n",
              "\n",
              "    .dataframe thead th {\n",
              "        text-align: right;\n",
              "    }\n",
              "</style>\n",
              "<table border=\"1\" class=\"dataframe\">\n",
              "  <thead>\n",
              "    <tr style=\"text-align: right;\">\n",
              "      <th></th>\n",
              "      <th>Instante</th>\n",
              "      <th>CargaEnergiaGWh</th>\n",
              "      <th>CargaEnergiaMWMed</th>\n",
              "      <th>IdSubSistema</th>\n",
              "    </tr>\n",
              "  </thead>\n",
              "  <tbody>\n",
              "    <tr>\n",
              "      <th>0</th>\n",
              "      <td>2021-03-13T00:00:00</td>\n",
              "      <td>137.873131</td>\n",
              "      <td>5744.71379167</td>\n",
              "      <td>N</td>\n",
              "    </tr>\n",
              "    <tr>\n",
              "      <th>1</th>\n",
              "      <td>2021-03-13T00:00:00</td>\n",
              "      <td>269.643337</td>\n",
              "      <td>11235.13904167</td>\n",
              "      <td>NE</td>\n",
              "    </tr>\n",
              "    <tr>\n",
              "      <th>2</th>\n",
              "      <td>2021-03-13T00:00:00</td>\n",
              "      <td>291.252185</td>\n",
              "      <td>12135.50770833</td>\n",
              "      <td>S</td>\n",
              "    </tr>\n",
              "    <tr>\n",
              "      <th>3</th>\n",
              "      <td>2021-03-13T00:00:00</td>\n",
              "      <td>961.390738</td>\n",
              "      <td>40057.94741667</td>\n",
              "      <td>SE</td>\n",
              "    </tr>\n",
              "    <tr>\n",
              "      <th>4</th>\n",
              "      <td>2021-03-14T00:00:00</td>\n",
              "      <td>133.030695</td>\n",
              "      <td>5542.945625</td>\n",
              "      <td>N</td>\n",
              "    </tr>\n",
              "    <tr>\n",
              "      <th>5</th>\n",
              "      <td>2021-03-14T00:00:00</td>\n",
              "      <td>254.832008</td>\n",
              "      <td>10618.00033333</td>\n",
              "      <td>NE</td>\n",
              "    </tr>\n",
              "    <tr>\n",
              "      <th>6</th>\n",
              "      <td>2021-03-14T00:00:00</td>\n",
              "      <td>266.07873</td>\n",
              "      <td>11086.61375</td>\n",
              "      <td>S</td>\n",
              "    </tr>\n",
              "    <tr>\n",
              "      <th>7</th>\n",
              "      <td>2021-03-14T00:00:00</td>\n",
              "      <td>889.293299</td>\n",
              "      <td>37053.88745833</td>\n",
              "      <td>SE</td>\n",
              "    </tr>\n",
              "    <tr>\n",
              "      <th>8</th>\n",
              "      <td>2021-03-15T00:00:00</td>\n",
              "      <td>143.578805</td>\n",
              "      <td>5982.45020833</td>\n",
              "      <td>N</td>\n",
              "    </tr>\n",
              "    <tr>\n",
              "      <th>9</th>\n",
              "      <td>2021-03-15T00:00:00</td>\n",
              "      <td>281.328388</td>\n",
              "      <td>11722.01616667</td>\n",
              "      <td>NE</td>\n",
              "    </tr>\n",
              "    <tr>\n",
              "      <th>10</th>\n",
              "      <td>2021-03-15T00:00:00</td>\n",
              "      <td>333.12271</td>\n",
              "      <td>13880.11291667</td>\n",
              "      <td>S</td>\n",
              "    </tr>\n",
              "    <tr>\n",
              "      <th>11</th>\n",
              "      <td>2021-03-15T00:00:00</td>\n",
              "      <td>1021.375807</td>\n",
              "      <td>42557.32529167</td>\n",
              "      <td>SE</td>\n",
              "    </tr>\n",
              "  </tbody>\n",
              "</table>\n",
              "</div>"
            ],
            "text/plain": [
              "               Instante CargaEnergiaGWh CargaEnergiaMWMed IdSubSistema\n",
              "0   2021-03-13T00:00:00      137.873131     5744.71379167          N  \n",
              "1   2021-03-13T00:00:00      269.643337    11235.13904167          NE \n",
              "2   2021-03-13T00:00:00      291.252185    12135.50770833          S  \n",
              "3   2021-03-13T00:00:00      961.390738    40057.94741667          SE \n",
              "4   2021-03-14T00:00:00      133.030695       5542.945625          N  \n",
              "5   2021-03-14T00:00:00      254.832008    10618.00033333          NE \n",
              "6   2021-03-14T00:00:00       266.07873       11086.61375          S  \n",
              "7   2021-03-14T00:00:00      889.293299    37053.88745833          SE \n",
              "8   2021-03-15T00:00:00      143.578805     5982.45020833          N  \n",
              "9   2021-03-15T00:00:00      281.328388    11722.01616667          NE \n",
              "10  2021-03-15T00:00:00       333.12271    13880.11291667          S  \n",
              "11  2021-03-15T00:00:00     1021.375807    42557.32529167          SE "
            ]
          },
          "metadata": {
            "tags": []
          },
          "execution_count": 48
        }
      ]
    }
  ]
}