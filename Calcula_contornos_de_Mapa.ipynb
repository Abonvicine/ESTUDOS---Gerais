{
  "nbformat": 4,
  "nbformat_minor": 0,
  "metadata": {
    "colab": {
      "name": "Calcula contornos de Mapa.ipynb",
      "provenance": [],
      "collapsed_sections": [],
      "authorship_tag": "ABX9TyMk/onjwY2gAKfBE3f6QT93",
      "include_colab_link": true
    },
    "kernelspec": {
      "name": "python3",
      "display_name": "Python 3"
    }
  },
  "cells": [
    {
      "cell_type": "markdown",
      "metadata": {
        "id": "view-in-github",
        "colab_type": "text"
      },
      "source": [
        "<a href=\"https://colab.research.google.com/github/Abonvicine/ESTUDOS---Gerais/blob/main/Calcula_contornos_de_Mapa.ipynb\" target=\"_parent\"><img src=\"https://colab.research.google.com/assets/colab-badge.svg\" alt=\"Open In Colab\"/></a>"
      ]
    },
    {
      "cell_type": "code",
      "metadata": {
        "id": "-LzAwEAN47ZO"
      },
      "source": [
        "!apt-get -qq install python-cartopy python3-cartopy\r\n"
      ],
      "execution_count": 51,
      "outputs": []
    },
    {
      "cell_type": "code",
      "metadata": {
        "id": "MF9bxA0y0tTb",
        "colab": {
          "base_uri": "https://localhost:8080/"
        },
        "outputId": "c6936d74-3f59-471e-8997-c155006d428c"
      },
      "source": [
        "!pip install --upgrade geopandas gspread"
      ],
      "execution_count": 52,
      "outputs": [
        {
          "output_type": "stream",
          "text": [
            "Requirement already up-to-date: geopandas in /usr/local/lib/python3.6/dist-packages (0.8.2)\n",
            "Requirement already up-to-date: gspread in /usr/local/lib/python3.6/dist-packages (3.6.0)\n",
            "Requirement already satisfied, skipping upgrade: pandas>=0.23.0 in /usr/local/lib/python3.6/dist-packages (from geopandas) (1.1.5)\n",
            "Requirement already satisfied, skipping upgrade: fiona in /usr/local/lib/python3.6/dist-packages (from geopandas) (1.8.18)\n",
            "Requirement already satisfied, skipping upgrade: pyproj>=2.2.0 in /usr/local/lib/python3.6/dist-packages (from geopandas) (3.0.0.post1)\n",
            "Requirement already satisfied, skipping upgrade: shapely in /usr/local/lib/python3.6/dist-packages (from geopandas) (1.7.1)\n",
            "Requirement already satisfied, skipping upgrade: google-auth>=1.12.0 in /usr/local/lib/python3.6/dist-packages (from gspread) (1.17.2)\n",
            "Requirement already satisfied, skipping upgrade: requests>=2.2.1 in /usr/local/lib/python3.6/dist-packages (from gspread) (2.23.0)\n",
            "Requirement already satisfied, skipping upgrade: google-auth-oauthlib>=0.4.1 in /usr/local/lib/python3.6/dist-packages (from gspread) (0.4.2)\n",
            "Requirement already satisfied, skipping upgrade: numpy>=1.15.4 in /usr/local/lib/python3.6/dist-packages (from pandas>=0.23.0->geopandas) (1.19.5)\n",
            "Requirement already satisfied, skipping upgrade: pytz>=2017.2 in /usr/local/lib/python3.6/dist-packages (from pandas>=0.23.0->geopandas) (2018.9)\n",
            "Requirement already satisfied, skipping upgrade: python-dateutil>=2.7.3 in /usr/local/lib/python3.6/dist-packages (from pandas>=0.23.0->geopandas) (2.8.1)\n",
            "Requirement already satisfied, skipping upgrade: click-plugins>=1.0 in /usr/local/lib/python3.6/dist-packages (from fiona->geopandas) (1.1.1)\n",
            "Requirement already satisfied, skipping upgrade: certifi in /usr/local/lib/python3.6/dist-packages (from fiona->geopandas) (2020.12.5)\n",
            "Requirement already satisfied, skipping upgrade: attrs>=17 in /usr/local/lib/python3.6/dist-packages (from fiona->geopandas) (20.3.0)\n",
            "Requirement already satisfied, skipping upgrade: cligj>=0.5 in /usr/local/lib/python3.6/dist-packages (from fiona->geopandas) (0.7.1)\n",
            "Requirement already satisfied, skipping upgrade: six>=1.7 in /usr/local/lib/python3.6/dist-packages (from fiona->geopandas) (1.15.0)\n",
            "Requirement already satisfied, skipping upgrade: munch in /usr/local/lib/python3.6/dist-packages (from fiona->geopandas) (2.5.0)\n",
            "Requirement already satisfied, skipping upgrade: click<8,>=4.0 in /usr/local/lib/python3.6/dist-packages (from fiona->geopandas) (7.1.2)\n",
            "Requirement already satisfied, skipping upgrade: cachetools<5.0,>=2.0.0 in /usr/local/lib/python3.6/dist-packages (from google-auth>=1.12.0->gspread) (4.2.1)\n",
            "Requirement already satisfied, skipping upgrade: pyasn1-modules>=0.2.1 in /usr/local/lib/python3.6/dist-packages (from google-auth>=1.12.0->gspread) (0.2.8)\n",
            "Requirement already satisfied, skipping upgrade: rsa<5,>=3.1.4; python_version >= \"3\" in /usr/local/lib/python3.6/dist-packages (from google-auth>=1.12.0->gspread) (4.7)\n",
            "Requirement already satisfied, skipping upgrade: setuptools>=40.3.0 in /usr/local/lib/python3.6/dist-packages (from google-auth>=1.12.0->gspread) (51.3.3)\n",
            "Requirement already satisfied, skipping upgrade: urllib3!=1.25.0,!=1.25.1,<1.26,>=1.21.1 in /usr/local/lib/python3.6/dist-packages (from requests>=2.2.1->gspread) (1.24.3)\n",
            "Requirement already satisfied, skipping upgrade: chardet<4,>=3.0.2 in /usr/local/lib/python3.6/dist-packages (from requests>=2.2.1->gspread) (3.0.4)\n",
            "Requirement already satisfied, skipping upgrade: idna<3,>=2.5 in /usr/local/lib/python3.6/dist-packages (from requests>=2.2.1->gspread) (2.10)\n",
            "Requirement already satisfied, skipping upgrade: requests-oauthlib>=0.7.0 in /usr/local/lib/python3.6/dist-packages (from google-auth-oauthlib>=0.4.1->gspread) (1.3.0)\n",
            "Requirement already satisfied, skipping upgrade: pyasn1<0.5.0,>=0.4.6 in /usr/local/lib/python3.6/dist-packages (from pyasn1-modules>=0.2.1->google-auth>=1.12.0->gspread) (0.4.8)\n",
            "Requirement already satisfied, skipping upgrade: oauthlib>=3.0.0 in /usr/local/lib/python3.6/dist-packages (from requests-oauthlib>=0.7.0->google-auth-oauthlib>=0.4.1->gspread) (3.1.0)\n"
          ],
          "name": "stdout"
        }
      ]
    },
    {
      "cell_type": "code",
      "metadata": {
        "id": "jnXtVM2lBh2G"
      },
      "source": [
        "import matplotlib.pyplot as plt\r\n",
        "from cartopy import crs as ccrs\r\n",
        "import gspread\r\n",
        "from shapely.geometry import Point, Polygon"
      ],
      "execution_count": 53,
      "outputs": []
    },
    {
      "cell_type": "code",
      "metadata": {
        "id": "4t9vUtc11E0P"
      },
      "source": [
        "import pandas as pd\r\n",
        "import geopandas as gpd\r\n",
        "import os"
      ],
      "execution_count": 54,
      "outputs": []
    },
    {
      "cell_type": "code",
      "metadata": {
        "id": "oN9rq10F4-5L"
      },
      "source": [
        "from google.colab import auth\r\n",
        "from oauth2client.client import GoogleCredentials\r\n",
        "\r\n",
        "auth.authenticate_user()\r\n",
        "\r\n",
        "gc = gspread.authorize(GoogleCredentials.get_application_default())\r\n",
        "\r\n",
        "workbook = gc.open(\"Dados de mapa\")\r\n",
        "wsRESUMO = workbook.worksheet(\"Resumo INMET\")\r\n",
        "wsVALORES = workbook.worksheet(\"Valores INMET\")"
      ],
      "execution_count": 55,
      "outputs": []
    },
    {
      "cell_type": "code",
      "metadata": {
        "id": "R7louhHo7SA8"
      },
      "source": [
        "dados = pd.DataFrame(wsRESUMO.get_all_records())"
      ],
      "execution_count": 56,
      "outputs": []
    },
    {
      "cell_type": "code",
      "metadata": {
        "colab": {
          "base_uri": "https://localhost:8080/",
          "height": 412
        },
        "id": "KNFZT7fUAsPK",
        "outputId": "cdd80b9a-b7ee-4019-9aec-a37d5a2e1455"
      },
      "source": [
        "dados"
      ],
      "execution_count": 57,
      "outputs": [
        {
          "output_type": "execute_result",
          "data": {
            "text/html": [
              "<div>\n",
              "<style scoped>\n",
              "    .dataframe tbody tr th:only-of-type {\n",
              "        vertical-align: middle;\n",
              "    }\n",
              "\n",
              "    .dataframe tbody tr th {\n",
              "        vertical-align: top;\n",
              "    }\n",
              "\n",
              "    .dataframe thead th {\n",
              "        text-align: right;\n",
              "    }\n",
              "</style>\n",
              "<table border=\"1\" class=\"dataframe\">\n",
              "  <thead>\n",
              "    <tr style=\"text-align: right;\">\n",
              "      <th></th>\n",
              "      <th>lat</th>\n",
              "      <th>lng</th>\n",
              "      <th>Acc</th>\n",
              "      <th>Reservatório</th>\n",
              "      <th>Bacia</th>\n",
              "    </tr>\n",
              "  </thead>\n",
              "  <tbody>\n",
              "    <tr>\n",
              "      <th>0</th>\n",
              "      <td>-15.79</td>\n",
              "      <td>-47.93</td>\n",
              "      <td>0.0</td>\n",
              "      <td></td>\n",
              "      <td></td>\n",
              "    </tr>\n",
              "    <tr>\n",
              "      <th>1</th>\n",
              "      <td>-16.64</td>\n",
              "      <td>-49.22</td>\n",
              "      <td>0.0</td>\n",
              "      <td></td>\n",
              "      <td></td>\n",
              "    </tr>\n",
              "    <tr>\n",
              "      <th>2</th>\n",
              "      <td>-17.75</td>\n",
              "      <td>-49.10</td>\n",
              "      <td>0.0</td>\n",
              "      <td></td>\n",
              "      <td></td>\n",
              "    </tr>\n",
              "    <tr>\n",
              "      <th>3</th>\n",
              "      <td>-10.19</td>\n",
              "      <td>-48.30</td>\n",
              "      <td>0.0</td>\n",
              "      <td></td>\n",
              "      <td></td>\n",
              "    </tr>\n",
              "    <tr>\n",
              "      <th>4</th>\n",
              "      <td>-12.62</td>\n",
              "      <td>-47.87</td>\n",
              "      <td>0.4</td>\n",
              "      <td></td>\n",
              "      <td></td>\n",
              "    </tr>\n",
              "    <tr>\n",
              "      <th>...</th>\n",
              "      <td>...</td>\n",
              "      <td>...</td>\n",
              "      <td>...</td>\n",
              "      <td>...</td>\n",
              "      <td>...</td>\n",
              "    </tr>\n",
              "    <tr>\n",
              "      <th>405</th>\n",
              "      <td>-22.58</td>\n",
              "      <td>-55.16</td>\n",
              "      <td>0.4</td>\n",
              "      <td></td>\n",
              "      <td></td>\n",
              "    </tr>\n",
              "    <tr>\n",
              "      <th>406</th>\n",
              "      <td>-21.45</td>\n",
              "      <td>-54.34</td>\n",
              "      <td>0.0</td>\n",
              "      <td></td>\n",
              "      <td></td>\n",
              "    </tr>\n",
              "    <tr>\n",
              "      <th>407</th>\n",
              "      <td>-18.07</td>\n",
              "      <td>-54.55</td>\n",
              "      <td>1.4</td>\n",
              "      <td></td>\n",
              "      <td></td>\n",
              "    </tr>\n",
              "    <tr>\n",
              "      <th>408</th>\n",
              "      <td>-20.47</td>\n",
              "      <td>-53.76</td>\n",
              "      <td>0.8</td>\n",
              "      <td></td>\n",
              "      <td></td>\n",
              "    </tr>\n",
              "    <tr>\n",
              "      <th>409</th>\n",
              "      <td>-21.31</td>\n",
              "      <td>-52.82</td>\n",
              "      <td>2.4</td>\n",
              "      <td></td>\n",
              "      <td></td>\n",
              "    </tr>\n",
              "  </tbody>\n",
              "</table>\n",
              "<p>410 rows × 5 columns</p>\n",
              "</div>"
            ],
            "text/plain": [
              "       lat    lng  Acc Reservatório Bacia\n",
              "0   -15.79 -47.93  0.0                   \n",
              "1   -16.64 -49.22  0.0                   \n",
              "2   -17.75 -49.10  0.0                   \n",
              "3   -10.19 -48.30  0.0                   \n",
              "4   -12.62 -47.87  0.4                   \n",
              "..     ...    ...  ...          ...   ...\n",
              "405 -22.58 -55.16  0.4                   \n",
              "406 -21.45 -54.34  0.0                   \n",
              "407 -18.07 -54.55  1.4                   \n",
              "408 -20.47 -53.76  0.8                   \n",
              "409 -21.31 -52.82  2.4                   \n",
              "\n",
              "[410 rows x 5 columns]"
            ]
          },
          "metadata": {
            "tags": []
          },
          "execution_count": 57
        }
      ]
    },
    {
      "cell_type": "code",
      "metadata": {
        "id": "to4Tck4JBCh5"
      },
      "source": [
        "INMET = {\"lat\":[],\"lng\":[],\"bacia\":[]}"
      ],
      "execution_count": 58,
      "outputs": []
    },
    {
      "cell_type": "code",
      "metadata": {
        "colab": {
          "base_uri": "https://localhost:8080/"
        },
        "id": "gvOYp8U4L84s",
        "outputId": "5cbd4874-77b2-4e0f-f7ac-ca10ca1a01f1"
      },
      "source": [
        "os.listdir(\"/content/Bacias\")"
      ],
      "execution_count": 59,
      "outputs": [
        {
          "output_type": "execute_result",
          "data": {
            "text/plain": [
              "['Paranapanema',\n",
              " 'São Francisco',\n",
              " 'Outras Sul',\n",
              " 'Uruguai',\n",
              " 'Paranaiba',\n",
              " 'Tocantins',\n",
              " '.ipynb_checkpoints',\n",
              " 'Parana',\n",
              " 'Tiete',\n",
              " 'Itaipu',\n",
              " 'Grande',\n",
              " 'Madeira',\n",
              " 'Iguacu']"
            ]
          },
          "metadata": {
            "tags": []
          },
          "execution_count": 59
        }
      ]
    },
    {
      "cell_type": "code",
      "metadata": {
        "id": "tdI0AYooBcIs"
      },
      "source": [
        "bacia = \"Grande\""
      ],
      "execution_count": 60,
      "outputs": []
    },
    {
      "cell_type": "code",
      "metadata": {
        "colab": {
          "base_uri": "https://localhost:8080/"
        },
        "id": "1iaHidw2Gf9c",
        "outputId": "a3672939-cb40-4c05-fdbd-167ef29abad4"
      },
      "source": [
        "for bacia in os.listdir(\"/content/Bacias\"):\r\n",
        "    try:\r\n",
        "        baseDir = f\"/content/Bacias/{bacia}\"\r\n",
        "        print(f\"####Analisando pontos para a bacia do {bacia}####\")\r\n",
        "    except ValueError:\r\n",
        "        print(f\"Não foi possível abrir arquivo da, continuando processo de leitura.\")\r\n",
        "        continue\r\n",
        "\r\n",
        "    for Arquivo in os.listdir(baseDir):\r\n",
        "        print(f\"Conferindo pontos pertencentes a {Arquivo}\")\r\n",
        "        \r\n",
        "        try:    \r\n",
        "            df = pd.read_csv(os.path.join(baseDir,Arquivo))\r\n",
        "        except ValueError:\r\n",
        "            print(f\"Não foi possível abrir arquivo da, continuando processo de leitura.\")\r\n",
        "        continue\r\n",
        "\r\n",
        "        polyBacia = Polygon(df.values.tolist())\r\n",
        "\r\n",
        "        for index, row in dados.iterrows():\r\n",
        "\r\n",
        "            p = Point(row[\"lng\"],row[\"lat\"])\r\n",
        "\r\n",
        "            if polyBacia.contains(p):           \r\n",
        "                print(f\"ponto {p} pertence a bacia {bacia}\")\r\n",
        "                INMET[\"lat\"].append(row[\"lat\"])\r\n",
        "                INMET[\"lng\"].append(row[\"lng\"])\r\n",
        "                INMET[\"bacia\"].append(bacia)\r\n",
        "            else:\r\n",
        "                continue\r\n",
        "print(\"Arquivos Classificados com sucesso!\")"
      ],
      "execution_count": 63,
      "outputs": [
        {
          "output_type": "stream",
          "text": [
            "####Analisando pontos para a bacia do Paranapanema####\n",
            "Conferindo pontos pertencentes a Rosana_SMAP2.0.bln\n",
            "Conferindo pontos pertencentes a Maua.bln\n",
            "Conferindo pontos pertencentes a Capivara_SMAP2.0.bln\n",
            "Conferindo pontos pertencentes a Chavantes_SMAP2.0.bln\n",
            "Conferindo pontos pertencentes a Jurumirim_SMAP2.0.bln\n",
            "Conferindo pontos pertencentes a CanoasI_SMAP2.0.bln\n",
            "####Analisando pontos para a bacia do São Francisco####\n",
            "Conferindo pontos pertencentes a RetiroBaixo.bln\n",
            "Conferindo pontos pertencentes a Queimado.bln\n",
            "Conferindo pontos pertencentes a Inc_SaoFrancisco_SaoRomao.bln\n",
            "Conferindo pontos pertencentes a IncrementalTresMarias.bln\n",
            "Conferindo pontos pertencentes a Boqueirao.bln\n",
            "Conferindo pontos pertencentes a SaoRomao.bln\n",
            "####Analisando pontos para a bacia do Outras Sul####\n",
            "Conferindo pontos pertencentes a UHE_14_Julho_INC.bln\n",
            "Conferindo pontos pertencentes a UHE_Ernestina_ajust.bln\n",
            "Conferindo pontos pertencentes a UHE_D_Francisca_INC.bln\n",
            "Conferindo pontos pertencentes a GPSouza_ajust.bln\n",
            "Conferindo pontos pertencentes a UHE_Castro_Alves.bln\n",
            "Conferindo pontos pertencentes a SaltoPilao.bln\n",
            "Conferindo pontos pertencentes a UHE_Passo_Real_INC.bln\n",
            "####Analisando pontos para a bacia do Uruguai####\n",
            "Conferindo pontos pertencentes a Campos_Novos.bln\n",
            "Conferindo pontos pertencentes a Monjolinho.bln\n",
            "Conferindo pontos pertencentes a Passo_Sao_Joao.bln\n",
            "Conferindo pontos pertencentes a Quebra_Queixo.bln\n",
            "Conferindo pontos pertencentes a Ita.bln\n",
            "Conferindo pontos pertencentes a Barra_Grande.bln\n",
            "Conferindo pontos pertencentes a Foz_do_Chapeco.bln\n",
            "Conferindo pontos pertencentes a Machadinho.bln\n",
            "####Analisando pontos para a bacia do Paranaiba####\n",
            "Conferindo pontos pertencentes a serra_do_facao.bln\n",
            "Conferindo pontos pertencentes a Sao_Simao.bln\n",
            "Conferindo pontos pertencentes a itumbiara.bln\n",
            "Conferindo pontos pertencentes a Abaixo_da_Barra_do_Rio_Verde.bln\n",
            "Conferindo pontos pertencentes a nova_ponte.bln\n",
            "Conferindo pontos pertencentes a corumba4.bln\n",
            "Conferindo pontos pertencentes a emborcacao.bln\n",
            "Conferindo pontos pertencentes a corumba1.bln\n",
            "####Analisando pontos para a bacia do Tocantins####\n",
            "Conferindo pontos pertencentes a Tucurui.bln\n",
            "Conferindo pontos pertencentes a Lajeado.bln\n",
            "Conferindo pontos pertencentes a Estreito.bln\n",
            "Conferindo pontos pertencentes a Porto_Real.bln\n",
            "Conferindo pontos pertencentes a Conceicao_do_Araguaia.bln\n",
            "Conferindo pontos pertencentes a Barra_do_Palma.bln\n",
            "Conferindo pontos pertencentes a Conceição_do_Araguaia.bln\n",
            "Conferindo pontos pertencentes a Serra_da_Mesa.bln\n",
            "Conferindo pontos pertencentes a bandeirantes.bln\n",
            "Conferindo pontos pertencentes a Trecho_Médio.bln\n",
            "####Analisando pontos para a bacia do .ipynb_checkpoints####\n",
            "####Analisando pontos para a bacia do Parana####\n",
            "Conferindo pontos pertencentes a Ilha_Solteira_Tres_Irmaos.bln\n",
            "Conferindo pontos pertencentes a Sao_Domingos.bln\n",
            "Conferindo pontos pertencentes a Jupia.bln\n",
            "Conferindo pontos pertencentes a Fazenda_Buriti.bln\n",
            "Conferindo pontos pertencentes a Foz_do_Rio_Claro.bln\n",
            "Conferindo pontos pertencentes a Salto_Verdinho.bln\n",
            "Conferindo pontos pertencentes a Espora.bln\n",
            "Conferindo pontos pertencentes a Porto_Primavera.bln\n",
            "####Analisando pontos para a bacia do Tiete####\n",
            "Conferindo pontos pertencentes a Nova_Avanhandava.bln\n",
            "Conferindo pontos pertencentes a Barra_Bonita.bln\n",
            "Conferindo pontos pertencentes a Edgard_Souza.bln\n",
            "Conferindo pontos pertencentes a Ibitinga.bln\n",
            "####Analisando pontos para a bacia do Itaipu####\n",
            "Conferindo pontos pertencentes a ivinhema.bln\n",
            "Conferindo pontos pertencentes a balsa_santa_maria.bln\n",
            "Conferindo pontos pertencentes a florida_estrada.bln\n",
            "Conferindo pontos pertencentes a itaipu.bln\n",
            "Conferindo pontos pertencentes a .ipynb_checkpoints\n",
            "Não foi possível abrir arquivo da, continuando processo de leitura.\n",
            "Conferindo pontos pertencentes a porto_taquara.bln\n",
            "####Analisando pontos para a bacia do Grande####\n",
            "Conferindo pontos pertencentes a Camargos.bln\n",
            "Conferindo pontos pertencentes a Passagem.bln\n",
            "Conferindo pontos pertencentes a Porto_Colombia.bln\n",
            "Conferindo pontos pertencentes a Porto_dos_Buenos.bln\n",
            "Conferindo pontos pertencentes a Funil.bln\n",
            "Conferindo pontos pertencentes a E_cunha.bln\n",
            "Conferindo pontos pertencentes a Fazenda_Capao_Escuro.bln\n",
            "Conferindo pontos pertencentes a Marimbondo.bln\n",
            "Conferindo pontos pertencentes a Furnas.bln\n",
            "Conferindo pontos pertencentes a Paraguacu.bln\n",
            "Conferindo pontos pertencentes a Inc_AV_Marimbondo.bln\n",
            "####Analisando pontos para a bacia do Madeira####\n",
            "Conferindo pontos pertencentes a Sto_Antonio.bln\n",
            "Conferindo pontos pertencentes a UHE_Jirau_com_AM.bln\n",
            "Conferindo pontos pertencentes a UHE_Guapore.bln\n",
            "Conferindo pontos pertencentes a UHE_Dardanelos.bln\n",
            "Conferindo pontos pertencentes a UHE_Jirau.bln\n",
            "Conferindo pontos pertencentes a Principe_da_Beira.bln\n",
            "Conferindo pontos pertencentes a UHE_Samuel.bln\n",
            "Conferindo pontos pertencentes a Amaru_Mayu.bln\n",
            "Conferindo pontos pertencentes a UHE_Rondon_II.bln\n",
            "Conferindo pontos pertencentes a Guajara_Mirim.bln\n",
            "####Analisando pontos para a bacia do Iguacu####\n",
            "Conferindo pontos pertencentes a uniao_da_vitoria.bln\n",
            "Conferindo pontos pertencentes a salto_caxias.bln\n",
            "Conferindo pontos pertencentes a jordao_segredo.bln\n",
            "Conferindo pontos pertencentes a sta_clara.bln\n",
            "Conferindo pontos pertencentes a foz_do_areia.bln\n",
            "Arquivos Classificados com sucesso!\n"
          ],
          "name": "stdout"
        }
      ]
    },
    {
      "cell_type": "code",
      "metadata": {
        "colab": {
          "base_uri": "https://localhost:8080/"
        },
        "id": "nSHTMkR6QzmT",
        "outputId": "41415cfc-130c-4fe0-808b-c747f714791a"
      },
      "source": [
        "INMET"
      ],
      "execution_count": 65,
      "outputs": [
        {
          "output_type": "execute_result",
          "data": {
            "text/plain": [
              "{'bacia': [], 'lat': [], 'lng': []}"
            ]
          },
          "metadata": {
            "tags": []
          },
          "execution_count": 65
        }
      ]
    },
    {
      "cell_type": "code",
      "metadata": {
        "colab": {
          "base_uri": "https://localhost:8080/"
        },
        "id": "Eb00ZRpPB_az",
        "outputId": "8c52823d-8c94-41eb-ca3b-8cf91dcc59b6"
      },
      "source": [
        "dfINMET = pd.DataFrame.from_dict(INMET)\r\n",
        "copyRange = \"A1:C\" + str(dfINMET[\"lat\"].count() + 2)\r\n",
        "print(\"copiando dados para \" + copyRange)\r\n",
        "wsVALORES.update(copyRange, [dfINMET.columns.values.tolist()]+dfINMET.values.tolist())"
      ],
      "execution_count": 64,
      "outputs": [
        {
          "output_type": "stream",
          "text": [
            "copiando dados para A1:C2\n"
          ],
          "name": "stdout"
        },
        {
          "output_type": "execute_result",
          "data": {
            "text/plain": [
              "{'spreadsheetId': '1Safllrjdbdl09jtsvK3-1gqY7KnMoVeMxOk0hKBXWr0',\n",
              " 'updatedCells': 3,\n",
              " 'updatedColumns': 3,\n",
              " 'updatedRange': \"'Valores INMET'!A1:C1\",\n",
              " 'updatedRows': 1}"
            ]
          },
          "metadata": {
            "tags": []
          },
          "execution_count": 64
        }
      ]
    }
  ]
}