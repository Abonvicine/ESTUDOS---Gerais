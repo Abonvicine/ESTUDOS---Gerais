{
  "nbformat": 4,
  "nbformat_minor": 0,
  "metadata": {
    "colab": {
      "name": "Teste extraindo dados do MERGE.ipynb",
      "provenance": [],
      "authorship_tag": "ABX9TyOGBtZ4i3PbubvUv1CNPSpW",
      "include_colab_link": true
    },
    "kernelspec": {
      "name": "python3",
      "display_name": "Python 3"
    }
  },
  "cells": [
    {
      "cell_type": "markdown",
      "metadata": {
        "id": "view-in-github",
        "colab_type": "text"
      },
      "source": [
        "<a href=\"https://colab.research.google.com/github/Abonvicine/ESTUDOS---Gerais/blob/main/Teste_extraindo_dados_do_MERGE.ipynb\" target=\"_parent\"><img src=\"https://colab.research.google.com/assets/colab-badge.svg\" alt=\"Open In Colab\"/></a>"
      ]
    },
    {
      "cell_type": "markdown",
      "metadata": {
        "id": "TbJqz2m7Pwbl"
      },
      "source": [
        "# Instalando CONDA e IRIS (opcional)"
      ]
    },
    {
      "cell_type": "code",
      "metadata": {
        "colab": {
          "base_uri": "https://localhost:8080/"
        },
        "id": "hEpRazrjNm53",
        "outputId": "4d44dda0-89a9-45bd-be87-9986814d750d"
      },
      "source": [
        "!python --version # now returns Python 3.6.10 :: Anaconda, Inc."
      ],
      "execution_count": null,
      "outputs": [
        {
          "output_type": "stream",
          "text": [
            "Python 3.7.10\n"
          ],
          "name": "stdout"
        }
      ]
    },
    {
      "cell_type": "code",
      "metadata": {
        "colab": {
          "base_uri": "https://localhost:8080/"
        },
        "id": "66TrbeNLOBGU",
        "outputId": "890d3dd4-8605-4c4e-d5fc-d54b3bf9c071"
      },
      "source": [
        "%%bash\r\n",
        "MINICONDA_INSTALLER_SCRIPT=Miniconda3-4.5.4-Linux-x86_64.sh\r\n",
        "MINICONDA_PREFIX=/usr/local\r\n",
        "wget https://repo.continuum.io/miniconda/$MINICONDA_INSTALLER_SCRIPT\r\n",
        "chmod +x $MINICONDA_INSTALLER_SCRIPT\r\n",
        "./$MINICONDA_INSTALLER_SCRIPT -b -f -p $MINICONDA_PREFIX"
      ],
      "execution_count": null,
      "outputs": [
        {
          "output_type": "stream",
          "text": [
            "Process is interrupted.\n"
          ],
          "name": "stdout"
        }
      ]
    },
    {
      "cell_type": "code",
      "metadata": {
        "colab": {
          "base_uri": "https://localhost:8080/"
        },
        "id": "cq2ybfB5Ouif",
        "outputId": "a1083ef8-c2f9-457d-874b-c6143f9f6a8e"
      },
      "source": [
        "%%bash\r\n",
        "conda install --channel defaults conda python=3.6 --yes\r\n",
        "conda update --channel defaults --all --yes"
      ],
      "execution_count": null,
      "outputs": [
        {
          "output_type": "stream",
          "text": [
            "bash: line 1: conda: command not found\n",
            "bash: line 2: conda: command not found\n"
          ],
          "name": "stderr"
        }
      ]
    },
    {
      "cell_type": "code",
      "metadata": {
        "colab": {
          "base_uri": "https://localhost:8080/"
        },
        "id": "L3E7lxNpPJq_",
        "outputId": "e38548b3-4d71-466c-c118-150d55f0de62"
      },
      "source": [
        "import sys\r\n",
        "sys.path"
      ],
      "execution_count": null,
      "outputs": [
        {
          "output_type": "execute_result",
          "data": {
            "text/plain": [
              "['',\n",
              " '/content',\n",
              " '/env/python',\n",
              " '/usr/lib/python37.zip',\n",
              " '/usr/lib/python3.7',\n",
              " '/usr/lib/python3.7/lib-dynload',\n",
              " '/usr/local/lib/python3.7/dist-packages',\n",
              " '/usr/lib/python3/dist-packages',\n",
              " '/usr/local/lib/python3.7/dist-packages/IPython/extensions',\n",
              " '/root/.ipython']"
            ]
          },
          "metadata": {
            "tags": []
          },
          "execution_count": 7
        }
      ]
    },
    {
      "cell_type": "code",
      "metadata": {
        "id": "PP_zP5acPVB4"
      },
      "source": [
        "import sys\r\n",
        "_ = (sys.path\r\n",
        "        .append(\"/usr/local/lib/python3.6/site-packages\"))"
      ],
      "execution_count": null,
      "outputs": []
    },
    {
      "cell_type": "markdown",
      "metadata": {
        "id": "5Gt8NADPPqdn"
      },
      "source": [
        "# Dependencias iniciais"
      ]
    },
    {
      "cell_type": "code",
      "metadata": {
        "id": "1IygxAmkSfjk",
        "colab": {
          "base_uri": "https://localhost:8080/"
        },
        "outputId": "c460507c-00a4-4238-c0a2-4511976d0b38"
      },
      "source": [
        "!apt-get install -q libgeos-3.5.0\r\n",
        "!apt-get install -q libgeos-dev\r\n",
        "!pip install -q https://github.com/matplotlib/basemap/archive/master.zip\r\n",
        "!pip install -q pyproj==1.9.6\r\n",
        "!pip install pygrib\r\n",
        "!pip install geojsoncontour\r\n",
        "!pip install idx2numpy"
      ],
      "execution_count": null,
      "outputs": [
        {
          "output_type": "stream",
          "text": [
            "Reading package lists...\n",
            "Building dependency tree...\n",
            "Reading state information...\n",
            "E: Unable to locate package libgeos-3.5.0\n",
            "E: Couldn't find any package by glob 'libgeos-3.5.0'\n",
            "E: Couldn't find any package by regex 'libgeos-3.5.0'\n",
            "Reading package lists...\n",
            "Building dependency tree...\n",
            "Reading state information...\n",
            "libgeos-dev is already the newest version (3.6.2-1build2).\n",
            "libgeos-dev set to manually installed.\n",
            "0 upgraded, 0 newly installed, 0 to remove and 13 not upgraded.\n",
            "\u001b[K     \\ 148.5MB 87.2MB/s\n",
            "\u001b[K     |████████████████████████████████| 6.5MB 7.2MB/s \n",
            "\u001b[K     |████████████████████████████████| 225kB 26.3MB/s \n",
            "\u001b[?25h  Building wheel for basemap (setup.py) ... \u001b[?25l\u001b[?25hdone\n",
            "  Building wheel for pyshp (setup.py) ... \u001b[?25l\u001b[?25hdone\n",
            "\u001b[K     |████████████████████████████████| 2.8MB 7.8MB/s \n",
            "\u001b[?25h  Building wheel for pyproj (setup.py) ... \u001b[?25l\u001b[?25hdone\n",
            "Collecting pygrib\n",
            "\u001b[?25l  Downloading https://files.pythonhosted.org/packages/4b/11/96231dd0e372940d2b70d1f45626b7e54c2aeb20e0866883bf4c1d906cdb/pygrib-2.1.3-cp37-cp37m-manylinux2014_x86_64.whl (15.3MB)\n",
            "\u001b[K     |████████████████████████████████| 15.3MB 332kB/s \n",
            "\u001b[?25hRequirement already satisfied: pyproj in /usr/local/lib/python3.7/dist-packages (from pygrib) (1.9.6)\n",
            "Requirement already satisfied: numpy in /usr/local/lib/python3.7/dist-packages (from pygrib) (1.19.5)\n",
            "Installing collected packages: pygrib\n",
            "Successfully installed pygrib-2.1.3\n",
            "Collecting geojsoncontour\n",
            "  Downloading https://files.pythonhosted.org/packages/fe/b3/cd285ad768b56c1ef6f574f90c3d658616221a1f8bce88cf202558d91cf5/geojsoncontour-0.4.0-py3-none-any.whl\n",
            "Requirement already satisfied: numpy in /usr/local/lib/python3.7/dist-packages (from geojsoncontour) (1.19.5)\n",
            "Requirement already satisfied: xarray in /usr/local/lib/python3.7/dist-packages (from geojsoncontour) (0.15.1)\n",
            "Requirement already satisfied: matplotlib in /usr/local/lib/python3.7/dist-packages (from geojsoncontour) (3.2.2)\n",
            "Collecting geojson\n",
            "  Downloading https://files.pythonhosted.org/packages/e4/8d/9e28e9af95739e6d2d2f8d4bef0b3432da40b7c3588fbad4298c1be09e48/geojson-2.5.0-py2.py3-none-any.whl\n",
            "Requirement already satisfied: pandas>=0.25 in /usr/local/lib/python3.7/dist-packages (from xarray->geojsoncontour) (1.1.5)\n",
            "Requirement already satisfied: setuptools>=41.2 in /usr/local/lib/python3.7/dist-packages (from xarray->geojsoncontour) (53.0.0)\n",
            "Requirement already satisfied: python-dateutil>=2.1 in /usr/local/lib/python3.7/dist-packages (from matplotlib->geojsoncontour) (2.8.1)\n",
            "Requirement already satisfied: pyparsing!=2.0.4,!=2.1.2,!=2.1.6,>=2.0.1 in /usr/local/lib/python3.7/dist-packages (from matplotlib->geojsoncontour) (2.4.7)\n",
            "Requirement already satisfied: cycler>=0.10 in /usr/local/lib/python3.7/dist-packages (from matplotlib->geojsoncontour) (0.10.0)\n",
            "Requirement already satisfied: kiwisolver>=1.0.1 in /usr/local/lib/python3.7/dist-packages (from matplotlib->geojsoncontour) (1.3.1)\n",
            "Requirement already satisfied: pytz>=2017.2 in /usr/local/lib/python3.7/dist-packages (from pandas>=0.25->xarray->geojsoncontour) (2018.9)\n",
            "Requirement already satisfied: six>=1.5 in /usr/local/lib/python3.7/dist-packages (from python-dateutil>=2.1->matplotlib->geojsoncontour) (1.15.0)\n",
            "Installing collected packages: geojson, geojsoncontour\n",
            "Successfully installed geojson-2.5.0 geojsoncontour-0.4.0\n",
            "Collecting idx2numpy\n",
            "  Downloading https://files.pythonhosted.org/packages/7e/6b/80628f6cc2f44d80b27f1ef7b57b257ed4c73766113b77d13ad110c091b4/idx2numpy-1.2.3.tar.gz\n",
            "Requirement already satisfied: numpy in /usr/local/lib/python3.7/dist-packages (from idx2numpy) (1.19.5)\n",
            "Requirement already satisfied: six in /usr/local/lib/python3.7/dist-packages (from idx2numpy) (1.15.0)\n",
            "Building wheels for collected packages: idx2numpy\n",
            "  Building wheel for idx2numpy (setup.py) ... \u001b[?25l\u001b[?25hdone\n",
            "  Created wheel for idx2numpy: filename=idx2numpy-1.2.3-cp37-none-any.whl size=7907 sha256=a2fe488069b4e6600758236b4c5e654ef5857a2e915ceea3d62e03c4139bca30\n",
            "  Stored in directory: /root/.cache/pip/wheels/7a/c1/da/284ce80a748fab898b8d1fa95468a386e7cf3b81da18511f9d\n",
            "Successfully built idx2numpy\n",
            "Installing collected packages: idx2numpy\n",
            "Successfully installed idx2numpy-1.2.3\n"
          ],
          "name": "stdout"
        }
      ]
    },
    {
      "cell_type": "code",
      "metadata": {
        "id": "85UoOLVZTPHu"
      },
      "source": [
        "from mpl_toolkits.basemap import Basemap\r\n",
        "import matplotlib.pyplot as plt\r\n",
        "%matplotlib inline"
      ],
      "execution_count": null,
      "outputs": []
    },
    {
      "cell_type": "code",
      "metadata": {
        "id": "iP9qWFQvKalx"
      },
      "source": [
        "import urllib.request as req\r\n",
        "import geojsoncontour\r\n",
        "import pygrib\r\n",
        "import idx2numpy\r\n",
        "import matplotlib.pyplot as plt\r\n",
        "import numpy as np\r\n",
        "import pandas as pd\r\n",
        "import os\r\n",
        "import xarray as xr"
      ],
      "execution_count": null,
      "outputs": []
    },
    {
      "cell_type": "code",
      "metadata": {
        "id": "1r0odX7JLSvd"
      },
      "source": [
        "if not(os.path.isdir(\"/content/MERGE\")):\r\n",
        "    os.mkdir(\"/content/MERGE\")\r\n",
        "\r\n",
        "arquivos = [\r\n",
        "            \"MERGE_CPTEC_20210224.ctl\",\r\n",
        "            \"MERGE_CPTEC_20210224.grib2\",\r\n",
        "            \"MERGE_CPTEC_20210224.idx\"\r\n",
        "            ]\r\n",
        "\r\n",
        "for i in arquivos:\r\n",
        "    url = f'http://ftp.cptec.inpe.br/modelos/tempo/MERGE/GPM/DAILY/2021/02/{i}'\r\n",
        "    req.urlretrieve(url, f'/content/MERGE/{i}')\r\n",
        "\r\n",
        "gr = pygrib.open(f\"/content/MERGE/{arquivos[1]}\")  "
      ],
      "execution_count": null,
      "outputs": []
    },
    {
      "cell_type": "markdown",
      "metadata": {
        "id": "AkqbLHY2Uj7L"
      },
      "source": [
        "# Arquivo GRIB2"
      ]
    },
    {
      "cell_type": "code",
      "metadata": {
        "id": "UDz281GPRak3"
      },
      "source": [
        "dado = gr[1]\r\n",
        "temp_vals = dado.values  \r\n",
        "x = pd.DataFrame(temp_vals[:])"
      ],
      "execution_count": null,
      "outputs": []
    },
    {
      "cell_type": "code",
      "metadata": {
        "colab": {
          "base_uri": "https://localhost:8080/"
        },
        "id": "sGPIp5iESPql",
        "outputId": "ecbbc60d-f710-448c-ae94-25ca89f003a9"
      },
      "source": [
        "grb = gr.select(name='Precipitation')[0]\r\n",
        "grb.values"
      ],
      "execution_count": null,
      "outputs": [
        {
          "output_type": "execute_result",
          "data": {
            "text/plain": [
              "array([[ 0.   ,  0.125,  0.125, ..., 18.   , 18.5  , 15.5  ],\n",
              "       [ 0.   ,  0.   ,  0.   , ..., 15.875, 15.75 , 15.125],\n",
              "       [ 0.25 ,  0.   ,  0.   , ..., 13.   , 13.25 , 15.25 ],\n",
              "       ...,\n",
              "       [ 0.   ,  0.   ,  0.   , ...,  1.25 ,  1.875,  1.25 ],\n",
              "       [ 0.   ,  0.   ,  0.   , ...,  1.25 ,  1.625,  1.125],\n",
              "       [ 0.   ,  0.   ,  0.   , ...,  1.25 ,  1.125,  0.625]])"
            ]
          },
          "metadata": {
            "tags": []
          },
          "execution_count": 8
        }
      ]
    },
    {
      "cell_type": "code",
      "metadata": {
        "id": "eoOiYXHjTehq"
      },
      "source": [
        "lat1 = -40\r\n",
        "lat2 =  10\r\n",
        "lon1 = 280\r\n",
        "lon2 = 350"
      ],
      "execution_count": null,
      "outputs": []
    },
    {
      "cell_type": "code",
      "metadata": {
        "colab": {
          "base_uri": "https://localhost:8080/"
        },
        "id": "q_gX-aPoRpu1",
        "outputId": "6abe6981-aa4f-43bd-e3a5-f6ac791afaf8"
      },
      "source": [
        "data, lats, lons = grb.data(lat1=lat1,lat2=lat2,lon1=lon1,lon2=lon2)\r\n",
        "print(grb)"
      ],
      "execution_count": null,
      "outputs": [
        {
          "output_type": "stream",
          "text": [
            "1:Precipitation:kg m**-2 (instant):regular_ll:surface:level 0:fcst time 0 hrs:from 202102241200\n"
          ],
          "name": "stdout"
        }
      ]
    },
    {
      "cell_type": "code",
      "metadata": {
        "colab": {
          "base_uri": "https://localhost:8080/"
        },
        "id": "RCAFyU7rCfWW",
        "outputId": "11f33b76-7928-4d42-a04a-7d9512577a24"
      },
      "source": [
        "flatten_lons = lons.flatten()\r\n",
        "flatten_lats = lats.flatten()\r\n",
        "flatten_data = data.flatten()\r\n",
        "flatten_data.shape"
      ],
      "execution_count": null,
      "outputs": [
        {
          "output_type": "execute_result",
          "data": {
            "text/plain": [
              "(300000,)"
            ]
          },
          "metadata": {
            "tags": []
          },
          "execution_count": 14
        }
      ]
    },
    {
      "cell_type": "code",
      "metadata": {
        "id": "qvi2xk4QDl34"
      },
      "source": [
        "dataList = []\r\n",
        "for i in range(flatten_data.shape[0]):\r\n",
        "\r\n",
        "    lat = round(flatten_lats[i],2)\r\n",
        "    lon = round(flatten_lons[i],2)\r\n",
        "\r\n",
        "    lon = ((lon + 180) % 360) - 180 #transforma longitude de 0/360 para -180/180\r\n",
        "\r\n",
        "    data = round(flatten_data[i],2)\r\n",
        "\r\n",
        "    dataList.append([lat,lon,data])"
      ],
      "execution_count": null,
      "outputs": []
    },
    {
      "cell_type": "code",
      "metadata": {
        "id": "UBYX9QpAEMfR"
      },
      "source": [
        "df = pd.DataFrame(dataList,columns=['LAT','LNG',\"PRECIPITAÇÃO\"])"
      ],
      "execution_count": null,
      "outputs": []
    },
    {
      "cell_type": "code",
      "metadata": {
        "colab": {
          "base_uri": "https://localhost:8080/",
          "height": 402
        },
        "id": "2oaIbwIfKb13",
        "outputId": "3d667575-5508-4d60-f2f4-6d0bb1ac0e13"
      },
      "source": [
        "df"
      ],
      "execution_count": null,
      "outputs": [
        {
          "output_type": "execute_result",
          "data": {
            "text/html": [
              "<div>\n",
              "<style scoped>\n",
              "    .dataframe tbody tr th:only-of-type {\n",
              "        vertical-align: middle;\n",
              "    }\n",
              "\n",
              "    .dataframe tbody tr th {\n",
              "        vertical-align: top;\n",
              "    }\n",
              "\n",
              "    .dataframe thead th {\n",
              "        text-align: right;\n",
              "    }\n",
              "</style>\n",
              "<table border=\"1\" class=\"dataframe\">\n",
              "  <thead>\n",
              "    <tr style=\"text-align: right;\">\n",
              "      <th></th>\n",
              "      <th>LAT</th>\n",
              "      <th>LNG</th>\n",
              "      <th>PRECIPITAÇÃO</th>\n",
              "    </tr>\n",
              "  </thead>\n",
              "  <tbody>\n",
              "    <tr>\n",
              "      <th>0</th>\n",
              "      <td>-39.95</td>\n",
              "      <td>-79.95</td>\n",
              "      <td>0.0</td>\n",
              "    </tr>\n",
              "    <tr>\n",
              "      <th>1</th>\n",
              "      <td>-39.95</td>\n",
              "      <td>-79.85</td>\n",
              "      <td>0.0</td>\n",
              "    </tr>\n",
              "    <tr>\n",
              "      <th>2</th>\n",
              "      <td>-39.95</td>\n",
              "      <td>-79.75</td>\n",
              "      <td>0.0</td>\n",
              "    </tr>\n",
              "    <tr>\n",
              "      <th>3</th>\n",
              "      <td>-39.95</td>\n",
              "      <td>-79.65</td>\n",
              "      <td>0.0</td>\n",
              "    </tr>\n",
              "    <tr>\n",
              "      <th>4</th>\n",
              "      <td>-39.95</td>\n",
              "      <td>-79.55</td>\n",
              "      <td>0.0</td>\n",
              "    </tr>\n",
              "    <tr>\n",
              "      <th>...</th>\n",
              "      <td>...</td>\n",
              "      <td>...</td>\n",
              "      <td>...</td>\n",
              "    </tr>\n",
              "    <tr>\n",
              "      <th>299995</th>\n",
              "      <td>9.95</td>\n",
              "      <td>-20.45</td>\n",
              "      <td>0.0</td>\n",
              "    </tr>\n",
              "    <tr>\n",
              "      <th>299996</th>\n",
              "      <td>9.95</td>\n",
              "      <td>-20.35</td>\n",
              "      <td>0.0</td>\n",
              "    </tr>\n",
              "    <tr>\n",
              "      <th>299997</th>\n",
              "      <td>9.95</td>\n",
              "      <td>-20.25</td>\n",
              "      <td>0.0</td>\n",
              "    </tr>\n",
              "    <tr>\n",
              "      <th>299998</th>\n",
              "      <td>9.95</td>\n",
              "      <td>-20.15</td>\n",
              "      <td>0.0</td>\n",
              "    </tr>\n",
              "    <tr>\n",
              "      <th>299999</th>\n",
              "      <td>9.95</td>\n",
              "      <td>-20.05</td>\n",
              "      <td>0.0</td>\n",
              "    </tr>\n",
              "  </tbody>\n",
              "</table>\n",
              "<p>300000 rows × 3 columns</p>\n",
              "</div>"
            ],
            "text/plain": [
              "          LAT    LNG  PRECIPITAÇÃO\n",
              "0      -39.95 -79.95           0.0\n",
              "1      -39.95 -79.85           0.0\n",
              "2      -39.95 -79.75           0.0\n",
              "3      -39.95 -79.65           0.0\n",
              "4      -39.95 -79.55           0.0\n",
              "...       ...    ...           ...\n",
              "299995   9.95 -20.45           0.0\n",
              "299996   9.95 -20.35           0.0\n",
              "299997   9.95 -20.25           0.0\n",
              "299998   9.95 -20.15           0.0\n",
              "299999   9.95 -20.05           0.0\n",
              "\n",
              "[300000 rows x 3 columns]"
            ]
          },
          "metadata": {
            "tags": []
          },
          "execution_count": 18
        }
      ]
    },
    {
      "cell_type": "code",
      "metadata": {
        "id": "ByiOeBrcFP6x"
      },
      "source": [
        "from google.colab import files\r\n",
        "fileName = '25022021_MERGE.dat'\r\n",
        "df.to_csv(fileName, index=False)\r\n",
        "files.download(fileName)  "
      ],
      "execution_count": null,
      "outputs": []
    },
    {
      "cell_type": "code",
      "metadata": {
        "id": "mr3oBjlH_5Qx"
      },
      "source": [
        "print(type(lons))\r\n",
        "print(lats.shape)\r\n",
        "print(data.shape)"
      ],
      "execution_count": null,
      "outputs": []
    },
    {
      "cell_type": "code",
      "metadata": {
        "id": "KOKowH5nBWlS"
      },
      "source": [
        ""
      ],
      "execution_count": null,
      "outputs": []
    },
    {
      "cell_type": "code",
      "metadata": {
        "id": "vE30EUMGWdVn",
        "colab": {
          "base_uri": "https://localhost:8080/",
          "height": 740
        },
        "outputId": "aef7a659-3382-4539-c129-84dd99f7534b"
      },
      "source": [
        "# Função Basemap, plotar a projeção, o recorte das latitude e longitude e definir a resolução da imagem.\r\n",
        "m = Basemap(projection='mill',llcrnrlat=lat1,urcrnrlat=lat2,\\\r\n",
        "            llcrnrlon=lon1,urcrnrlon=lon2,resolution='i')\r\n",
        "\r\n",
        "# Função Matplotlib para definir o tamanho da figura.\r\n",
        "plt.figure(figsize=(8,10))\r\n",
        "\r\n",
        "#Inserindo os lat e lon a figura criada pelo Basemap e vinculando às variavéis  x e y\r\n",
        "x, y = m(lons, lats)\r\n",
        "\r\n",
        "#Função do Basemap para iserir ao mapa continentes, países e estados.\r\n",
        "m.drawcoastlines()\r\n",
        "m.drawcountries()\r\n",
        "m.drawstates()\r\n",
        "\r\n",
        "#Função do Basemap para realizar a interpolação e criação de polígonos\r\n",
        "contourf = m.contourf(x, y, np.squeeze(data),cmap='GnBu')\r\n",
        "\r\n",
        "print(contourf)\r\n",
        "m.colorbar(contourf, location='right', pad=\"10%\")\r\n",
        "\r\n",
        "#Inserir titulo a imagem \r\n",
        "plt.title(\"Precipitação — 17-Fev-2021 às 01:40 am\")\r\n",
        "\r\n",
        "#Convertendo para o formato Geojson\r\n",
        "geojson = geojsoncontour.contourf_to_geojson(\r\n",
        "    contourf=contourf,\r\n",
        "    min_angle_deg=3.0,\r\n",
        "    ndigits=3,\r\n",
        "    stroke_width=2,\r\n",
        ")\r\n",
        "\r\n",
        "#Plotar imagem\r\n",
        "plt.show()\r\n",
        "print(geojson)"
      ],
      "execution_count": null,
      "outputs": [
        {
          "output_type": "error",
          "ename": "MaskError",
          "evalue": "ignored",
          "traceback": [
            "\u001b[0;31m---------------------------------------------------------------------------\u001b[0m",
            "\u001b[0;31mMaskError\u001b[0m                                 Traceback (most recent call last)",
            "\u001b[0;32m<ipython-input-25-0e6efc00b2ff>\u001b[0m in \u001b[0;36m<module>\u001b[0;34m()\u001b[0m\n\u001b[1;32m     14\u001b[0m \u001b[0;34m\u001b[0m\u001b[0m\n\u001b[1;32m     15\u001b[0m \u001b[0;31m#Função do Basemap para realizar a interpolação e criação de polígonos\u001b[0m\u001b[0;34m\u001b[0m\u001b[0;34m\u001b[0m\u001b[0;34m\u001b[0m\u001b[0m\n\u001b[0;32m---> 16\u001b[0;31m \u001b[0mcontourf\u001b[0m \u001b[0;34m=\u001b[0m \u001b[0mm\u001b[0m\u001b[0;34m.\u001b[0m\u001b[0mcontourf\u001b[0m\u001b[0;34m(\u001b[0m\u001b[0mx\u001b[0m\u001b[0;34m,\u001b[0m \u001b[0my\u001b[0m\u001b[0;34m,\u001b[0m \u001b[0mnp\u001b[0m\u001b[0;34m.\u001b[0m\u001b[0msqueeze\u001b[0m\u001b[0;34m(\u001b[0m\u001b[0mdata\u001b[0m\u001b[0;34m)\u001b[0m\u001b[0;34m,\u001b[0m\u001b[0mcmap\u001b[0m\u001b[0;34m=\u001b[0m\u001b[0;34m'GnBu'\u001b[0m\u001b[0;34m)\u001b[0m\u001b[0;34m\u001b[0m\u001b[0;34m\u001b[0m\u001b[0m\n\u001b[0m\u001b[1;32m     17\u001b[0m \u001b[0;34m\u001b[0m\u001b[0m\n\u001b[1;32m     18\u001b[0m \u001b[0mprint\u001b[0m\u001b[0;34m(\u001b[0m\u001b[0mcontourf\u001b[0m\u001b[0;34m)\u001b[0m\u001b[0;34m\u001b[0m\u001b[0;34m\u001b[0m\u001b[0m\n",
            "\u001b[0;32m/usr/local/lib/python3.7/dist-packages/mpl_toolkits/basemap/__init__.py\u001b[0m in \u001b[0;36mwith_transform\u001b[0;34m(self, x, y, data, *args, **kwargs)\u001b[0m\n\u001b[1;32m    546\u001b[0m             \u001b[0;31m# convert lat/lon coords to map projection coords.\u001b[0m\u001b[0;34m\u001b[0m\u001b[0;34m\u001b[0m\u001b[0;34m\u001b[0m\u001b[0m\n\u001b[1;32m    547\u001b[0m             \u001b[0mx\u001b[0m\u001b[0;34m,\u001b[0m \u001b[0my\u001b[0m \u001b[0;34m=\u001b[0m \u001b[0mself\u001b[0m\u001b[0;34m(\u001b[0m\u001b[0mx\u001b[0m\u001b[0;34m,\u001b[0m\u001b[0my\u001b[0m\u001b[0;34m)\u001b[0m\u001b[0;34m\u001b[0m\u001b[0;34m\u001b[0m\u001b[0m\n\u001b[0;32m--> 548\u001b[0;31m         \u001b[0;32mreturn\u001b[0m \u001b[0mplotfunc\u001b[0m\u001b[0;34m(\u001b[0m\u001b[0mself\u001b[0m\u001b[0;34m,\u001b[0m\u001b[0mx\u001b[0m\u001b[0;34m,\u001b[0m\u001b[0my\u001b[0m\u001b[0;34m,\u001b[0m\u001b[0mdata\u001b[0m\u001b[0;34m,\u001b[0m\u001b[0;34m*\u001b[0m\u001b[0margs\u001b[0m\u001b[0;34m,\u001b[0m\u001b[0;34m**\u001b[0m\u001b[0mkwargs\u001b[0m\u001b[0;34m)\u001b[0m\u001b[0;34m\u001b[0m\u001b[0;34m\u001b[0m\u001b[0m\n\u001b[0m\u001b[1;32m    549\u001b[0m     \u001b[0;32mreturn\u001b[0m \u001b[0mwith_transform\u001b[0m\u001b[0;34m\u001b[0m\u001b[0;34m\u001b[0m\u001b[0m\n\u001b[1;32m    550\u001b[0m \u001b[0;34m\u001b[0m\u001b[0m\n",
            "\u001b[0;32m/usr/local/lib/python3.7/dist-packages/mpl_toolkits/basemap/__init__.py\u001b[0m in \u001b[0;36mcontourf\u001b[0;34m(self, x, y, data, *args, **kwargs)\u001b[0m\n\u001b[1;32m   3691\u001b[0m                 \u001b[0;31m# combine with data mask.\u001b[0m\u001b[0;34m\u001b[0m\u001b[0;34m\u001b[0m\u001b[0;34m\u001b[0m\u001b[0m\n\u001b[1;32m   3692\u001b[0m                 \u001b[0mmask\u001b[0m \u001b[0;34m=\u001b[0m \u001b[0mnp\u001b[0m\u001b[0;34m.\u001b[0m\u001b[0mlogical_or\u001b[0m\u001b[0;34m(\u001b[0m\u001b[0mma\u001b[0m\u001b[0;34m.\u001b[0m\u001b[0mgetmaskarray\u001b[0m\u001b[0;34m(\u001b[0m\u001b[0mdata\u001b[0m\u001b[0;34m)\u001b[0m\u001b[0;34m,\u001b[0m\u001b[0mxymask\u001b[0m\u001b[0;34m)\u001b[0m\u001b[0;34m\u001b[0m\u001b[0;34m\u001b[0m\u001b[0m\n\u001b[0;32m-> 3693\u001b[0;31m                 \u001b[0mdata\u001b[0m \u001b[0;34m=\u001b[0m \u001b[0mma\u001b[0m\u001b[0;34m.\u001b[0m\u001b[0mmasked_array\u001b[0m\u001b[0;34m(\u001b[0m\u001b[0mdata\u001b[0m\u001b[0;34m,\u001b[0m\u001b[0mmask\u001b[0m\u001b[0;34m=\u001b[0m\u001b[0mmask\u001b[0m\u001b[0;34m)\u001b[0m\u001b[0;34m\u001b[0m\u001b[0;34m\u001b[0m\u001b[0m\n\u001b[0m\u001b[1;32m   3694\u001b[0m                 \u001b[0mCS\u001b[0m \u001b[0;34m=\u001b[0m \u001b[0max\u001b[0m\u001b[0;34m.\u001b[0m\u001b[0mcontourf\u001b[0m\u001b[0;34m(\u001b[0m\u001b[0mx\u001b[0m\u001b[0;34m,\u001b[0m\u001b[0my\u001b[0m\u001b[0;34m,\u001b[0m\u001b[0mdata\u001b[0m\u001b[0;34m,\u001b[0m\u001b[0;34m*\u001b[0m\u001b[0margs\u001b[0m\u001b[0;34m,\u001b[0m\u001b[0;34m**\u001b[0m\u001b[0mkwargs\u001b[0m\u001b[0;34m)\u001b[0m\u001b[0;34m\u001b[0m\u001b[0;34m\u001b[0m\u001b[0m\n\u001b[1;32m   3695\u001b[0m         \u001b[0;32mfinally\u001b[0m\u001b[0;34m:\u001b[0m\u001b[0;34m\u001b[0m\u001b[0;34m\u001b[0m\u001b[0m\n",
            "\u001b[0;32m/usr/local/lib/python3.7/dist-packages/numpy/ma/core.py\u001b[0m in \u001b[0;36m__new__\u001b[0;34m(cls, data, mask, dtype, copy, subok, ndmin, fill_value, keep_mask, hard_mask, shrink, order, **options)\u001b[0m\n\u001b[1;32m   2907\u001b[0m                     \u001b[0mmsg\u001b[0m \u001b[0;34m=\u001b[0m \u001b[0;34m\"Mask and data not compatible: data size is %i, \"\u001b[0m \u001b[0;34m+\u001b[0m\u001b[0;31m \u001b[0m\u001b[0;31m\\\u001b[0m\u001b[0;34m\u001b[0m\u001b[0;34m\u001b[0m\u001b[0m\n\u001b[1;32m   2908\u001b[0m                           \u001b[0;34m\"mask size is %i.\"\u001b[0m\u001b[0;34m\u001b[0m\u001b[0;34m\u001b[0m\u001b[0m\n\u001b[0;32m-> 2909\u001b[0;31m                     \u001b[0;32mraise\u001b[0m \u001b[0mMaskError\u001b[0m\u001b[0;34m(\u001b[0m\u001b[0mmsg\u001b[0m \u001b[0;34m%\u001b[0m \u001b[0;34m(\u001b[0m\u001b[0mnd\u001b[0m\u001b[0;34m,\u001b[0m \u001b[0mnm\u001b[0m\u001b[0;34m)\u001b[0m\u001b[0;34m)\u001b[0m\u001b[0;34m\u001b[0m\u001b[0;34m\u001b[0m\u001b[0m\n\u001b[0m\u001b[1;32m   2910\u001b[0m                 \u001b[0mcopy\u001b[0m \u001b[0;34m=\u001b[0m \u001b[0;32mTrue\u001b[0m\u001b[0;34m\u001b[0m\u001b[0;34m\u001b[0m\u001b[0m\n\u001b[1;32m   2911\u001b[0m             \u001b[0;31m# Set the mask to the new value\u001b[0m\u001b[0;34m\u001b[0m\u001b[0;34m\u001b[0m\u001b[0;34m\u001b[0m\u001b[0m\n",
            "\u001b[0;31mMaskError\u001b[0m: Mask and data not compatible: data size is 1, mask size is 300000."
          ]
        },
        {
          "output_type": "display_data",
          "data": {
            "image/png": "[encoded data removed]",
            "text/plain": [
              "<Figure size 576x720 with 1 Axes>"
            ]
          },
          "metadata": {
            "tags": []
          }
        }
      ]
    },
    {
      "cell_type": "markdown",
      "metadata": {
        "id": "DqLVA0QpUopL"
      },
      "source": [
        "# Arquivo IDX"
      ]
    },
    {
      "cell_type": "code",
      "metadata": {
        "id": "SK4qAtIEU38B"
      },
      "source": [
        ""
      ],
      "execution_count": null,
      "outputs": []
    }
  ]
}