{
  "nbformat": 4,
  "nbformat_minor": 0,
  "metadata": {
    "colab": {
      "name": "Teste extraindo dados do MERGE.ipynb",
      "provenance": [],
      "mount_file_id": "1ZL-NcUweQiPuszddIVcDCaBzAvYF5lth",
      "authorship_tag": "ABX9TyPxN5WVtBsHvBz2fIJNnqRA",
      "include_colab_link": true
    },
    "kernelspec": {
      "name": "python3",
      "display_name": "Python 3"
    }
  },
  "cells": [
    {
      "cell_type": "markdown",
      "metadata": {
        "id": "view-in-github",
        "colab_type": "text"
      },
      "source": [
        "<a href=\"https://colab.research.google.com/github/Abonvicine/ESTUDOS---Gerais/blob/main/Teste_extraindo_dados_do_MERGE.ipynb\" target=\"_parent\"><img src=\"https://colab.research.google.com/assets/colab-badge.svg\" alt=\"Open In Colab\"/></a>"
      ]
    },
    {
      "cell_type": "markdown",
      "metadata": {
        "id": "TbJqz2m7Pwbl"
      },
      "source": [
        "# Instalando CONDA e IRIS (opcional)"
      ]
    },
    {
      "cell_type": "code",
      "metadata": {
        "colab": {
          "base_uri": "https://localhost:8080/"
        },
        "id": "hEpRazrjNm53",
        "outputId": "4d44dda0-89a9-45bd-be87-9986814d750d"
      },
      "source": [
        "!python --version # now returns Python 3.6.10 :: Anaconda, Inc."
      ],
      "execution_count": null,
      "outputs": [
        {
          "output_type": "stream",
          "text": [
            "Python 3.7.10\n"
          ],
          "name": "stdout"
        }
      ]
    },
    {
      "cell_type": "code",
      "metadata": {
        "colab": {
          "base_uri": "https://localhost:8080/"
        },
        "id": "66TrbeNLOBGU",
        "outputId": "890d3dd4-8605-4c4e-d5fc-d54b3bf9c071"
      },
      "source": [
        "%%bash\n",
        "MINICONDA_INSTALLER_SCRIPT=Miniconda3-4.5.4-Linux-x86_64.sh\n",
        "MINICONDA_PREFIX=/usr/local\n",
        "wget https://repo.continuum.io/miniconda/$MINICONDA_INSTALLER_SCRIPT\n",
        "chmod +x $MINICONDA_INSTALLER_SCRIPT\n",
        "./$MINICONDA_INSTALLER_SCRIPT -b -f -p $MINICONDA_PREFIX"
      ],
      "execution_count": null,
      "outputs": [
        {
          "output_type": "stream",
          "text": [
            "Process is interrupted.\n"
          ],
          "name": "stdout"
        }
      ]
    },
    {
      "cell_type": "code",
      "metadata": {
        "colab": {
          "base_uri": "https://localhost:8080/"
        },
        "id": "cq2ybfB5Ouif",
        "outputId": "a1083ef8-c2f9-457d-874b-c6143f9f6a8e"
      },
      "source": [
        "%%bash\n",
        "conda install --channel defaults conda python=3.6 --yes\n",
        "conda update --channel defaults --all --yes"
      ],
      "execution_count": null,
      "outputs": [
        {
          "output_type": "stream",
          "text": [
            "bash: line 1: conda: command not found\n",
            "bash: line 2: conda: command not found\n"
          ],
          "name": "stderr"
        }
      ]
    },
    {
      "cell_type": "code",
      "metadata": {
        "colab": {
          "base_uri": "https://localhost:8080/"
        },
        "id": "L3E7lxNpPJq_",
        "outputId": "e38548b3-4d71-466c-c118-150d55f0de62"
      },
      "source": [
        "import sys\n",
        "sys.path"
      ],
      "execution_count": null,
      "outputs": [
        {
          "output_type": "execute_result",
          "data": {
            "text/plain": [
              "['',\n",
              " '/content',\n",
              " '/env/python',\n",
              " '/usr/lib/python37.zip',\n",
              " '/usr/lib/python3.7',\n",
              " '/usr/lib/python3.7/lib-dynload',\n",
              " '/usr/local/lib/python3.7/dist-packages',\n",
              " '/usr/lib/python3/dist-packages',\n",
              " '/usr/local/lib/python3.7/dist-packages/IPython/extensions',\n",
              " '/root/.ipython']"
            ]
          },
          "metadata": {
            "tags": []
          },
          "execution_count": 7
        }
      ]
    },
    {
      "cell_type": "code",
      "metadata": {
        "id": "PP_zP5acPVB4"
      },
      "source": [
        "import sys\n",
        "_ = (sys.path\n",
        "        .append(\"/usr/local/lib/python3.6/site-packages\"))"
      ],
      "execution_count": null,
      "outputs": []
    },
    {
      "cell_type": "markdown",
      "metadata": {
        "id": "5Gt8NADPPqdn"
      },
      "source": [
        "# Dependencias iniciais"
      ]
    },
    {
      "cell_type": "code",
      "metadata": {
        "id": "1IygxAmkSfjk"
      },
      "source": [
        "!apt-get install -q libgeos-3.5.0\n",
        "!apt-get install -q libgeos-dev\n",
        "!pip install -q https://github.com/matplotlib/basemap/archive/master.zip\n",
        "!pip install -q pyproj==1.9.6"
      ],
      "execution_count": null,
      "outputs": []
    },
    {
      "cell_type": "code",
      "metadata": {
        "id": "ekRnh3Y9Vudk"
      },
      "source": [
        "!pip install pygrib\n",
        "!pip install geojsoncontour\n",
        "!pip install cmocean"
      ],
      "execution_count": null,
      "outputs": []
    },
    {
      "cell_type": "code",
      "metadata": {
        "id": "85UoOLVZTPHu"
      },
      "source": [
        "from mpl_toolkits.basemap import Basemap\n",
        "import matplotlib.pyplot as plt\n",
        "%matplotlib inline"
      ],
      "execution_count": null,
      "outputs": []
    },
    {
      "cell_type": "code",
      "metadata": {
        "id": "iP9qWFQvKalx"
      },
      "source": [
        "import urllib.request as req\n",
        "from datetime import datetime\n",
        "import geojsoncontour\n",
        "import cmocean\n",
        "import pygrib\n",
        "import shapely as shp\n",
        "import numpy as np\n",
        "import pandas as pd\n",
        "import os"
      ],
      "execution_count": null,
      "outputs": []
    },
    {
      "cell_type": "code",
      "metadata": {
        "id": "lT5O9i7ETwMu"
      },
      "source": [
        "#@title Inserir data do arquivo\n",
        "\n",
        "DataStr = '2021-04-29' #@param {type:\"date\"}\n",
        "Data = datetime.strptime(DataStr, '%Y-%m-%d')"
      ],
      "execution_count": null,
      "outputs": []
    },
    {
      "cell_type": "code",
      "metadata": {
        "id": "1r0odX7JLSvd"
      },
      "source": [
        "dia = str(Data.day).zfill(2)\n",
        "mes = str(Data.month).zfill(2)\n",
        "ano = str(Data.year)\n",
        "\n",
        "if not(os.path.isdir(\"/content/MERGE\")):\n",
        "    os.mkdir(\"/content/MERGE\")\n",
        "\n",
        "arquivos = [\n",
        "            f\"MERGE_CPTEC_{ano}{mes}{dia}.ctl\",\n",
        "            f\"MERGE_CPTEC_{ano}{mes}{dia}.grib2\",\n",
        "            f\"MERGE_CPTEC_{ano}{mes}{dia}.idx\"\n",
        "            ]\n",
        "\n",
        "for i in arquivos:\n",
        "    url = f'http://ftp.cptec.inpe.br/modelos/tempo/MERGE/GPM/DAILY/2021/{mes}/{i}'\n",
        "    req.urlretrieve(url, f'/content/MERGE/{i}')\n",
        "\n",
        "gr = pygrib.open(f\"/content/MERGE/{arquivos[1]}\")  "
      ],
      "execution_count": null,
      "outputs": []
    },
    {
      "cell_type": "code",
      "metadata": {
        "id": "Yhi7ojWKbQJU"
      },
      "source": [
        "gr = pygrib.open(\"/content/MERGE_CPTEC_2021042608.grib2\")  "
      ],
      "execution_count": null,
      "outputs": []
    },
    {
      "cell_type": "markdown",
      "metadata": {
        "id": "0A-oPLtMck-n"
      },
      "source": [
        "# Extraindo Dados do Arquivo .GRIB2"
      ]
    },
    {
      "cell_type": "markdown",
      "metadata": {
        "id": "AkqbLHY2Uj7L"
      },
      "source": [
        "## Arquivo GRIB2"
      ]
    },
    {
      "cell_type": "code",
      "metadata": {
        "id": "eoOiYXHjTehq",
        "colab": {
          "base_uri": "https://localhost:8080/"
        },
        "outputId": "1960d552-d012-41b9-fbcb-3da0aac5c976"
      },
      "source": [
        "grb = gr.select(name='Precipitation')[0]\n",
        "lat1 = -40\n",
        "lat2 =  20\n",
        "lon1 = 280\n",
        "lon2 = 330\n",
        "data, lats, lons = grb.data(lat1=lat1,lat2=lat2,lon1=lon1,lon2=lon2)\n",
        "print(grb)"
      ],
      "execution_count": null,
      "outputs": [
        {
          "output_type": "stream",
          "text": [
            "1:Precipitation:kg m**-2 (instant):regular_ll:surface:level 0:fcst time 0 hrs:from 202104291200\n"
          ],
          "name": "stdout"
        }
      ]
    },
    {
      "cell_type": "code",
      "metadata": {
        "id": "OjlSq3dkWmKu",
        "colab": {
          "base_uri": "https://localhost:8080/"
        },
        "outputId": "aa2d3a9d-f71d-4ff0-8cc5-4874bc1a9d72"
      },
      "source": [
        "##testando pontos obtidos\n",
        "print(f\"({lats[0,0]},{lons[0,0]}) -> precipitação:{data[0,0]}\")"
      ],
      "execution_count": null,
      "outputs": [
        {
          "output_type": "stream",
          "text": [
            "(-39.94999999999971,280.05000000000456) -> precipitação:4.8125\n"
          ],
          "name": "stdout"
        }
      ]
    },
    {
      "cell_type": "code",
      "metadata": {
        "id": "qvi2xk4QDl34"
      },
      "source": [
        "dataList = []\n",
        "\n",
        "flatten_lons = lons.flatten()\n",
        "flatten_lats = lats.flatten()\n",
        "flatten_data = data.flatten()\n",
        "\n",
        "for i in range(flatten_data.shape[0]):\n",
        "\n",
        "    lat = round(flatten_lats[i],2)\n",
        "    lon = round(flatten_lons[i],2)\n",
        "\n",
        "    lon = round(((lon + 180) % 360) - 180,2) #transforma longitude de 0/360 para -180/180\n",
        "\n",
        "    precipitation = round(flatten_data[i],2)\n",
        "\n",
        "    dataList.append([lat,lon,precipitation])"
      ],
      "execution_count": null,
      "outputs": []
    },
    {
      "cell_type": "code",
      "metadata": {
        "id": "ByiOeBrcFP6x",
        "colab": {
          "base_uri": "https://localhost:8080/",
          "height": 17
        },
        "outputId": "798dda2a-7463-44c9-ab42-48986678466e"
      },
      "source": [
        "from google.colab import files\n",
        "\n",
        "fileName = f'{dia}{mes}{ano}_MERGE.txt'\n",
        "filePath = f\"/content/drive/MyDrive/CPFL/ARQUIVOS ONS/PRECIPITAÇÃO/Modelo MERGE/{fileName}\"\n",
        "pd.DataFrame.from_dict(dataList).to_csv(filePath, index=False)\n",
        "files.download(filePath)  "
      ],
      "execution_count": null,
      "outputs": [
        {
          "output_type": "display_data",
          "data": {
            "application/javascript": [
              "\n",
              "    async function download(id, filename, size) {\n",
              "      if (!google.colab.kernel.accessAllowed) {\n",
              "        return;\n",
              "      }\n",
              "      const div = document.createElement('div');\n",
              "      const label = document.createElement('label');\n",
              "      label.textContent = `Downloading \"${filename}\": `;\n",
              "      div.appendChild(label);\n",
              "      const progress = document.createElement('progress');\n",
              "      progress.max = size;\n",
              "      div.appendChild(progress);\n",
              "      document.body.appendChild(div);\n",
              "\n",
              "      const buffers = [];\n",
              "      let downloaded = 0;\n",
              "\n",
              "      const channel = await google.colab.kernel.comms.open(id);\n",
              "      // Send a message to notify the kernel that we're ready.\n",
              "      channel.send({})\n",
              "\n",
              "      for await (const message of channel.messages) {\n",
              "        // Send a message to notify the kernel that we're ready.\n",
              "        channel.send({})\n",
              "        if (message.buffers) {\n",
              "          for (const buffer of message.buffers) {\n",
              "            buffers.push(buffer);\n",
              "            downloaded += buffer.byteLength;\n",
              "            progress.value = downloaded;\n",
              "          }\n",
              "        }\n",
              "      }\n",
              "      const blob = new Blob(buffers, {type: 'application/binary'});\n",
              "      const a = document.createElement('a');\n",
              "      a.href = window.URL.createObjectURL(blob);\n",
              "      a.download = filename;\n",
              "      div.appendChild(a);\n",
              "      a.click();\n",
              "      div.remove();\n",
              "    }\n",
              "  "
            ],
            "text/plain": [
              "<IPython.core.display.Javascript object>"
            ]
          },
          "metadata": {
            "tags": []
          }
        },
        {
          "output_type": "display_data",
          "data": {
            "application/javascript": [
              "download(\"download_c1a4ea03-8492-43d1-a4be-473a35a1884d\", \"26042021_MERGE.txt\", 5374017)"
            ],
            "text/plain": [
              "<IPython.core.display.Javascript object>"
            ]
          },
          "metadata": {
            "tags": []
          }
        }
      ]
    },
    {
      "cell_type": "code",
      "metadata": {
        "id": "S2iSPx95QtlP"
      },
      "source": [
        "MERGE_path = \"/content/drive/MyDrive/CPFL/ARQUIVOS ONS/PRECIPITAÇÃO/Modelo MERGE/MERGE_interpolado.csv\""
      ],
      "execution_count": null,
      "outputs": []
    },
    {
      "cell_type": "code",
      "metadata": {
        "id": "qXxqBiD9QxK8",
        "colab": {
          "base_uri": "https://localhost:8080/",
          "height": 419
        },
        "outputId": "01c5631b-f243-45fc-8801-7430af66b79f"
      },
      "source": [
        "model = pd.read_csv(MERGE_path, encoding=\"UTF-8\")\n",
        "model.drop(columns=[\"Unnamed: 0\"])"
      ],
      "execution_count": null,
      "outputs": [
        {
          "output_type": "execute_result",
          "data": {
            "text/html": [
              "<div>\n",
              "<style scoped>\n",
              "    .dataframe tbody tr th:only-of-type {\n",
              "        vertical-align: middle;\n",
              "    }\n",
              "\n",
              "    .dataframe tbody tr th {\n",
              "        vertical-align: top;\n",
              "    }\n",
              "\n",
              "    .dataframe thead th {\n",
              "        text-align: right;\n",
              "    }\n",
              "</style>\n",
              "<table border=\"1\" class=\"dataframe\">\n",
              "  <thead>\n",
              "    <tr style=\"text-align: right;\">\n",
              "      <th></th>\n",
              "      <th>LAT</th>\n",
              "      <th>LNG</th>\n",
              "      <th>ARQUIVO</th>\n",
              "      <th>BACIA</th>\n",
              "    </tr>\n",
              "  </thead>\n",
              "  <tbody>\n",
              "    <tr>\n",
              "      <th>0</th>\n",
              "      <td>-28.25</td>\n",
              "      <td>-52.25</td>\n",
              "      <td>Ita.bln</td>\n",
              "      <td>Uruguai</td>\n",
              "    </tr>\n",
              "    <tr>\n",
              "      <th>1</th>\n",
              "      <td>-28.25</td>\n",
              "      <td>-52.15</td>\n",
              "      <td>Ita.bln</td>\n",
              "      <td>Uruguai</td>\n",
              "    </tr>\n",
              "    <tr>\n",
              "      <th>2</th>\n",
              "      <td>-28.25</td>\n",
              "      <td>-52.05</td>\n",
              "      <td>Ita.bln</td>\n",
              "      <td>Uruguai</td>\n",
              "    </tr>\n",
              "    <tr>\n",
              "      <th>3</th>\n",
              "      <td>-28.25</td>\n",
              "      <td>-51.95</td>\n",
              "      <td>Ita.bln</td>\n",
              "      <td>Uruguai</td>\n",
              "    </tr>\n",
              "    <tr>\n",
              "      <th>4</th>\n",
              "      <td>-28.25</td>\n",
              "      <td>-51.85</td>\n",
              "      <td>Ita.bln</td>\n",
              "      <td>Uruguai</td>\n",
              "    </tr>\n",
              "    <tr>\n",
              "      <th>...</th>\n",
              "      <td>...</td>\n",
              "      <td>...</td>\n",
              "      <td>...</td>\n",
              "      <td>...</td>\n",
              "    </tr>\n",
              "    <tr>\n",
              "      <th>30840</th>\n",
              "      <td>-20.95</td>\n",
              "      <td>-43.85</td>\n",
              "      <td>Funil.bln</td>\n",
              "      <td>Grande</td>\n",
              "    </tr>\n",
              "    <tr>\n",
              "      <th>30841</th>\n",
              "      <td>-20.95</td>\n",
              "      <td>-43.75</td>\n",
              "      <td>Funil.bln</td>\n",
              "      <td>Grande</td>\n",
              "    </tr>\n",
              "    <tr>\n",
              "      <th>30842</th>\n",
              "      <td>-20.85</td>\n",
              "      <td>-44.75</td>\n",
              "      <td>Funil.bln</td>\n",
              "      <td>Grande</td>\n",
              "    </tr>\n",
              "    <tr>\n",
              "      <th>30843</th>\n",
              "      <td>-20.85</td>\n",
              "      <td>-44.45</td>\n",
              "      <td>Funil.bln</td>\n",
              "      <td>Grande</td>\n",
              "    </tr>\n",
              "    <tr>\n",
              "      <th>30844</th>\n",
              "      <td>-20.85</td>\n",
              "      <td>-44.35</td>\n",
              "      <td>Funil.bln</td>\n",
              "      <td>Grande</td>\n",
              "    </tr>\n",
              "  </tbody>\n",
              "</table>\n",
              "<p>30845 rows × 4 columns</p>\n",
              "</div>"
            ],
            "text/plain": [
              "         LAT    LNG    ARQUIVO    BACIA\n",
              "0     -28.25 -52.25    Ita.bln  Uruguai\n",
              "1     -28.25 -52.15    Ita.bln  Uruguai\n",
              "2     -28.25 -52.05    Ita.bln  Uruguai\n",
              "3     -28.25 -51.95    Ita.bln  Uruguai\n",
              "4     -28.25 -51.85    Ita.bln  Uruguai\n",
              "...      ...    ...        ...      ...\n",
              "30840 -20.95 -43.85  Funil.bln   Grande\n",
              "30841 -20.95 -43.75  Funil.bln   Grande\n",
              "30842 -20.85 -44.75  Funil.bln   Grande\n",
              "30843 -20.85 -44.45  Funil.bln   Grande\n",
              "30844 -20.85 -44.35  Funil.bln   Grande\n",
              "\n",
              "[30845 rows x 4 columns]"
            ]
          },
          "metadata": {
            "tags": []
          },
          "execution_count": 10
        }
      ]
    },
    {
      "cell_type": "code",
      "metadata": {
        "id": "WswLdmsGRBrS"
      },
      "source": [
        "observed = model.merge(df)\n",
        "fileName = f'{dia}{mes}{ano}_MERGE.dat'\n",
        "observed.to_csv(fileName, index=False)\n",
        "files.download(fileName)  "
      ],
      "execution_count": null,
      "outputs": []
    },
    {
      "cell_type": "markdown",
      "metadata": {
        "id": "UfhM7UFLceGX"
      },
      "source": [
        "## Plotando MAPA"
      ]
    },
    {
      "cell_type": "code",
      "metadata": {
        "id": "vE30EUMGWdVn"
      },
      "source": [
        "# Função Basemap, plotar a projeção, o recorte das latitude e longitude e definir a resolução da imagem.\n",
        "m = Basemap(projection='mill',llcrnrlat=lat1,urcrnrlat=lat2,\\\n",
        "            llcrnrlon=lon1,urcrnrlon=lon2,resolution='i')\n",
        "\n",
        "# Função Matplotlib para definir o tamanho da figura.\n",
        "plt.figure(figsize=(20,30))\n",
        "\n",
        "#Inserindo os lat e lon a figura criada pelo Basemap e vinculando às variavéis  x e y.\n",
        "x, y = m(lons, lats)\n",
        "#Função do Basemap para iserir ao mapa continentes, países e estados.\n",
        "m.drawcoastlines()\n",
        "m.drawcountries(linewidth=2.0)\n",
        "m.drawstates(linewidth=1.0)\n",
        "m.drawrivers(color = \"#0009b3\")\n",
        "\n",
        "#Função do Basemap para realizar a interpolação e criação de polígonos\n",
        "levels = np.linspace(0, 200, 51)\n",
        "#colorSchema = cmocean.cm.dense\n",
        "contourf = m.contourf(x, y, np.squeeze(data), levels = [0,1,5,10,20,50,100,200], colors=[\"#ffffff\",\"#d5eb34\",'#fccf03',\"#baa60b\", '#03fc2c', '#0380fc',\"#ba0b0b\"])\n",
        "cbar = m.colorbar(location='right', pad=\"10%\")\n",
        "\n",
        "for t in cbar.ax.get_yticklabels():\n",
        "     t.set_fontsize(20)\n",
        "     \n",
        "#Inserir titulo a imagem \n",
        "plt.title(f\"MERGE (precipitação Observada) — {dia}-{mes}-{ano} - Acumulado 24h\",fontsize= 30)\n",
        "#Convertendo para o formato Geojson\n",
        "geojson = geojsoncontour.contourf_to_geojson(\n",
        "    contourf=contourf,\n",
        "    min_angle_deg=3.0,\n",
        "    ndigits=3,\n",
        "    stroke_width=3,\n",
        ")\n",
        "\n",
        "#Plotar imagem\n",
        "plt.show()"
      ],
      "execution_count": null,
      "outputs": []
    },
    {
      "cell_type": "markdown",
      "metadata": {
        "id": "EXNVjdIIcRof"
      },
      "source": [
        "## Interpolando o Arquivo "
      ]
    },
    {
      "cell_type": "code",
      "metadata": {
        "id": "RO9956aAa4hn"
      },
      "source": [
        "def mergeCoord(lat,lon):\n",
        "    return f\"{str(lat)}:{str(lon)}\""
      ],
      "execution_count": null,
      "outputs": []
    },
    {
      "cell_type": "code",
      "metadata": {
        "id": "UBYX9QpAEMfR"
      },
      "source": [
        "previsao = pd.DataFrame(dataList,columns=['LAT','LNG',\"PRECIPITAÇÃO\"])\n",
        "previsao[\"COORD\"] = previsao.apply(lambda x: mergeCoord(x.LAT,x.LNG), axis =1 )\n",
        "previsao = previsao[[\"COORD\",\"PRECIPITAÇÃO\"]]\n",
        "\n",
        "fileName = f'/content/drive/MyDrive/CPFL/ARQUIVOS ONS/PRECIPITAÇÃO/Contornos/25042021_MERGE_interpolado.csv'\n",
        "pontos_de_grade = pd.read_csv(fileName)\n",
        "pontos_de_grade[\"COORD\"] = pontos_de_grade.apply(lambda x: mergeCoord(x.LAT,x.LNG), axis =1 )\n",
        "pontos_de_grade = pontos_de_grade[[\"COORD\",\"ARQUIVO\",\"BACIA\"]]\n",
        "\n",
        "df = pd.merge(pontos_de_grade, previsao, on='COORD', how=\"inner\")"
      ],
      "execution_count": null,
      "outputs": []
    },
    {
      "cell_type": "code",
      "metadata": {
        "colab": {
          "base_uri": "https://localhost:8080/"
        },
        "id": "H13Fa-XJyPsf",
        "outputId": "5f3042e3-360a-4f43-bdf8-8645b0ca7185"
      },
      "source": [
        "print(previsao.shape)\n",
        "print(pontos_de_grade.shape)\n",
        "print(df.shape)"
      ],
      "execution_count": null,
      "outputs": [
        {
          "output_type": "stream",
          "text": [
            "(300000, 2)\n",
            "(30846, 3)\n",
            "(30846, 4)\n"
          ],
          "name": "stdout"
        }
      ]
    },
    {
      "cell_type": "code",
      "metadata": {
        "id": "fD_MduQBvA3Y"
      },
      "source": [
        "filtro = df[df[\"BACIA\"] =='Tocantins']\n",
        "print(filtro.mean()[\"PRECIPITAÇÃO\"])\n",
        "filtro"
      ],
      "execution_count": null,
      "outputs": []
    },
    {
      "cell_type": "code",
      "metadata": {
        "id": "VFMgC6yefl4C"
      },
      "source": [
        "reservatorios = df[\"ARQUIVO\"].unique()\n",
        "\n",
        "pMEDIA_res = {\"RESERVATORIO\":[],\"PRECIPITAÇÃO\":[]}\n",
        "for res in reservatorios:\n",
        "    filtro = df[df[\"ARQUIVO\"] == res]\n",
        "    media = filtro.mean()[\"PRECIPITAÇÃO\"]\n",
        "    pMEDIA_res[\"RESERVATORIO\"].append(res)\n",
        "    pMEDIA_res[\"PRECIPITAÇÃO\"].append(media)"
      ],
      "execution_count": null,
      "outputs": []
    },
    {
      "cell_type": "code",
      "metadata": {
        "id": "NXCcpHy-1rh0"
      },
      "source": [
        "bacias = df[\"BACIA\"].unique()\n",
        "\n",
        "pMEDIA_bac = {\"RESERVATORIO\":[],\"PRECIPITAÇÃO\":[]}\n",
        "for bac in bacias:\n",
        "    filtro = df[df[\"BACIA\"] == bac]\n",
        "    media = filtro.mean()[\"PRECIPITAÇÃO\"]\n",
        "    pMEDIA_bac[\"RESERVATORIO\"].append(bac)\n",
        "    pMEDIA_bac[\"PRECIPITAÇÃO\"].append(media)"
      ],
      "execution_count": null,
      "outputs": []
    },
    {
      "cell_type": "code",
      "metadata": {
        "id": "q3pBnQD50OYz"
      },
      "source": [
        "pMEDIA = pd.DataFrame.from_dict(pMEDIA_bac)\n",
        "pMEDIA.to_excel(\"MERGE_PMEDIA.xlsx\")\n",
        "pMEDIA.to_csv(\"MERGE_PMEDIA.csv\")"
      ],
      "execution_count": null,
      "outputs": []
    }
  ]
}